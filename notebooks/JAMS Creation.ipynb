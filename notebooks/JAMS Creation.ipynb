{
 "cells": [
  {
   "cell_type": "markdown",
   "metadata": {},
   "source": [
    "# JAMS Creation #\n",
    "\n",
    "This notebook creates the JAMS data given the mp3 files (containing metadata in their ID3 tags) and the actual raw annotations."
   ]
  },
  {
   "cell_type": "code",
   "execution_count": 5,
   "metadata": {
    "collapsed": false
   },
   "outputs": [],
   "source": [
    "import eyed3\n",
    "import glob\n",
    "import jams\n",
    "import os\n",
    "from tqdm import tqdm_notebook as tqdm\n",
    "\n",
    "DATASET_PATH = \"/Users/onieto/dev/harmonix-dataset-ismir-2019/dataset/\"\n",
    "BEAT_DOWNBEAT_RAW_ANN_PATH = DATASET_PATH + \"beats/\"\n",
    "SEGMENT_RAW_ANN_PATH = DATASET_PATH + \"segments/\"\n",
    "MP3_FILES = glob.glob(\"/Users/onieto/Desktop/Harmonix/final_audio/*.mp3\")\n",
    "JAMS_OUTPUT = DATASET_PATH + \"jams/\"\n",
    "ROUND_PRECISION = 3"
   ]
  },
  {
   "cell_type": "code",
   "execution_count": 6,
   "metadata": {
    "collapsed": true
   },
   "outputs": [],
   "source": [
    "def add_metadata(jam, mp3_info):\n",
    "    \"\"\"Add metadata to the JAMS object.\"\"\"\n",
    "    jam.file_metadata.duration = round(mp3_info.info.time_secs, ROUND_PRECISION)\n",
    "    jam.file_metadata.artist = mp3_info.tag.artist\n",
    "    jam.file_metadata.release = mp3_info.tag.album\n",
    "    jam.file_metadata.title = mp3_info.tag.title\n",
    "    \n",
    "    jam.file_metadata.identifiers = {\n",
    "        \"Acoustid Id\": mp3_info.tag.user_text_frames.get(u\"Acoustid Id\").text,\n",
    "        \"MusicBrainz Id\": mp3_info.tag.unique_file_ids.get(\"http://musicbrainz.org\").uniq_id.decode('ascii')}\n",
    "    try:\n",
    "        # Not all of the tracks have an associated release\n",
    "        jam.file_metadata.identifiers[\"MusicBrainz Release Track Id\"] = \\\n",
    "            mp3_info.tag.user_text_frames.get(u\"MusicBrainz Release Track Id\").text\n",
    "    except AttributeError:\n",
    "        pass\n",
    "    \n",
    "def add_beats_and_downbeats(jam, beat_dnbeat_txt):\n",
    "    \"\"\"Add beat and downbeat annotations to the JAMS object.\"\"\"\n",
    "    with open(beat_dnbeat_txt, \"r\") as f:\n",
    "        beat_dnbeat_data = f.readlines()\n",
    "    \n",
    "    # Create annotation\n",
    "    ann = jams.Annotation(namespace='beat', time=0, \n",
    "                          duration=jam.file_metadata.duration)\n",
    "    \n",
    "    # Add annotations\n",
    "    for beat_row in beat_dnbeat_data:\n",
    "        time, beat_pos, bar_num = beat_row.split('\\t')\n",
    "        ann.append(time=round(float(time), ROUND_PRECISION), \n",
    "                   duration=0.0, \n",
    "                   confidence=1, \n",
    "                   value=int(beat_pos))\n",
    "    \n",
    "    # TODO: Add Annotation Metadata\n",
    "    \n",
    "    # Add annotation to \n",
    "    jam.annotations.append(ann)\n",
    "    \n",
    "    \n",
    "def add_segmentation(jam, segmentation_txt):\n",
    "    \"\"\"Add segmentation annotations to the JAMS object.\"\"\"\n",
    "    with open(segmentation_txt, \"r\") as f:\n",
    "        segment_data = f.readlines()\n",
    "    \n",
    "    # Create annotation\n",
    "    ann = jams.Annotation(namespace='segment_open', time=0, \n",
    "                          duration=jam.file_metadata.duration)\n",
    "    \n",
    "    # Add annotations\n",
    "    for start, end in zip(segment_data[:-1], segment_data[1:]):\n",
    "        start_time, start_label = start.replace('\\n', '').split(' ')\n",
    "        end_time, _ = end.replace('\\n', '').split(' ')\n",
    "        ann.append(time=round(float(start_time), ROUND_PRECISION), \n",
    "                   duration=round(float(end_time) - float(start_time), ROUND_PRECISION), \n",
    "                   confidence=1, \n",
    "                   value=start_label)\n",
    "    \n",
    "    # TODO: Add Annotation Metadata\n",
    "    \n",
    "    # Add annotation to \n",
    "    jam.annotations.append(ann)\n",
    "\n",
    "def create_jams(mp3_file):\n",
    "    \"\"\"Creates the JAMS object\"\"\"\n",
    "    beat_dnbeat_txt = \"{}{}\".format(\n",
    "        BEAT_DOWNBEAT_RAW_ANN_PATH, \n",
    "        os.path.basename(mp3_file).replace(\".mp3\", \".txt\"))\n",
    "    segment_txt = \"{}{}\".format(\n",
    "        SEGMENT_RAW_ANN_PATH, \n",
    "        os.path.basename(mp3_file).replace(\".mp3\", \".txt\"))\n",
    "    \n",
    "    # Read ID3 tags\n",
    "    mp3_info = eyed3.load(mp3_file)\n",
    "    \n",
    "    # Create empty JAMS object and add file metadata\n",
    "    jam = jams.JAMS()\n",
    "    add_metadata(jam, mp3_info)\n",
    "    \n",
    "    # Add annotations\n",
    "    add_beats_and_downbeats(jam, beat_dnbeat_txt)\n",
    "    add_segmentation(jam, segment_txt)\n",
    "    \n",
    "    # Add the beats info\n",
    "    return jam"
   ]
  },
  {
   "cell_type": "code",
   "execution_count": 7,
   "metadata": {
    "collapsed": false
   },
   "outputs": [
    {
     "name": "stdout",
     "output_type": "stream",
     "text": [
      "\n"
     ]
    }
   ],
   "source": [
    "for mp3_file in tqdm(MP3_FILES):\n",
    "    out_file = \"{}{}\".format(JAMS_OUTPUT, os.path.basename(mp3_file).replace(\".mp3\", \".jams\"))\n",
    "    if os.path.exists(out_file):\n",
    "        continue\n",
    "    jam = create_jams(mp3_file)\n",
    "    jam.save(out_file)"
   ]
  },
  {
   "cell_type": "code",
   "execution_count": null,
   "metadata": {
    "collapsed": true
   },
   "outputs": [],
   "source": []
  }
 ],
 "metadata": {
  "kernelspec": {
   "display_name": "Python 2",
   "language": "python",
   "name": "python2"
  },
  "language_info": {
   "codemirror_mode": {
    "name": "ipython",
    "version": 2
   },
   "file_extension": ".py",
   "mimetype": "text/x-python",
   "name": "python",
   "nbconvert_exporter": "python",
   "pygments_lexer": "ipython2",
   "version": "2.7.13"
  },
  "widgets": {
   "state": {
    "92bc10f28c164e73a6c5947671357711": {
     "views": [
      {
       "cell_index": 3
      }
     ]
    }
   },
   "version": "1.2.0"
  }
 },
 "nbformat": 4,
 "nbformat_minor": 2
}
