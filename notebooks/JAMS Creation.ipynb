{
 "cells": [
  {
   "cell_type": "markdown",
   "metadata": {},
   "source": [
    "# JAMS Creation #\n",
    "\n",
    "This notebook creates the JAMS data given the mp3 files (containing metadata in their ID3 tags) and the actual raw annotations."
   ]
  },
  {
   "cell_type": "code",
   "execution_count": 28,
   "metadata": {},
   "outputs": [],
   "source": [
    "import eyed3\n",
    "import glob\n",
    "import jams\n",
    "import os\n",
    "import pandas as pd\n",
    "from tqdm import tqdm_notebook as tqdm\n",
    "import pickle\n",
    "import librosa\n",
    "\n",
    "DATASET_PATH = \"../dataset/\"\n",
    "BEAT_DOWNBEAT_RAW_ANN_PATH = DATASET_PATH + \"beats/\"\n",
    "SEGMENT_RAW_ANN_PATH = DATASET_PATH + \"segments/\"\n",
    "MP3_FILES = glob.glob(\"/Users/onieto/Desktop/Harmonix/final_audio/*.mp3\")\n",
    "MBIDS_TSV = \"../dataset/new_mbid_mappings.tsv\"\n",
    "JAMS_OUTPUT = \"./jams/\"\n",
    "ROUND_PRECISION = 3\n",
    "DUR_ONSETS = 30\n",
    "\n",
    "if not os.path.exists(JAMS_OUTPUT):\n",
    "    os.makedirs(JAMS_OUTPUT)\n",
    "MBIDS_DF = pd.read_csv(MBIDS_TSV, sep=\"\\t\")"
   ]
  },
  {
   "cell_type": "code",
   "execution_count": 72,
   "metadata": {},
   "outputs": [
    {
     "name": "stdout",
     "output_type": "stream",
     "text": [
      "83347ae2-5def-378a-a3f5-96ec56c25ab7\n"
     ]
    },
    {
     "data": {
      "text/html": [
       "<div>\n",
       "<style scoped>\n",
       "    .dataframe tbody tr th:only-of-type {\n",
       "        vertical-align: middle;\n",
       "    }\n",
       "\n",
       "    .dataframe tbody tr th {\n",
       "        vertical-align: top;\n",
       "    }\n",
       "\n",
       "    .dataframe thead th {\n",
       "        text-align: right;\n",
       "    }\n",
       "</style>\n",
       "<table border=\"1\" class=\"dataframe\">\n",
       "  <thead>\n",
       "    <tr style=\"text-align: right;\">\n",
       "      <th></th>\n",
       "      <th>Unnamed: 0</th>\n",
       "      <th>trackname</th>\n",
       "      <th>mbid</th>\n",
       "    </tr>\n",
       "  </thead>\n",
       "  <tbody>\n",
       "    <tr>\n",
       "      <th>0</th>\n",
       "      <td>0</td>\n",
       "      <td>0001_12step</td>\n",
       "      <td>0408655f-189f-371b-9c41-ec861e1a7810</td>\n",
       "    </tr>\n",
       "    <tr>\n",
       "      <th>1</th>\n",
       "      <td>1</td>\n",
       "      <td>0003_6foot7foot</td>\n",
       "      <td>83347ae2-5def-378a-a3f5-96ec56c25ab7</td>\n",
       "    </tr>\n",
       "    <tr>\n",
       "      <th>2</th>\n",
       "      <td>2</td>\n",
       "      <td>0004_abc</td>\n",
       "      <td>1068e183-db62-4f47-8f7d-15c9ce56e79a</td>\n",
       "    </tr>\n",
       "    <tr>\n",
       "      <th>3</th>\n",
       "      <td>3</td>\n",
       "      <td>0005_again</td>\n",
       "      <td>09aed1ac-4094-3337-86ef-8303531d57f1</td>\n",
       "    </tr>\n",
       "    <tr>\n",
       "      <th>4</th>\n",
       "      <td>4</td>\n",
       "      <td>0006_aint2proud2beg</td>\n",
       "      <td>09723bc0-b3e9-4f86-a563-c80d25df049e</td>\n",
       "    </tr>\n",
       "  </tbody>\n",
       "</table>\n",
       "</div>"
      ],
      "text/plain": [
       "   Unnamed: 0            trackname                                  mbid\n",
       "0           0          0001_12step  0408655f-189f-371b-9c41-ec861e1a7810\n",
       "1           1      0003_6foot7foot  83347ae2-5def-378a-a3f5-96ec56c25ab7\n",
       "2           2             0004_abc  1068e183-db62-4f47-8f7d-15c9ce56e79a\n",
       "3           3           0005_again  09aed1ac-4094-3337-86ef-8303531d57f1\n",
       "4           4  0006_aint2proud2beg  09723bc0-b3e9-4f86-a563-c80d25df049e"
      ]
     },
     "execution_count": 72,
     "metadata": {},
     "output_type": "execute_result"
    }
   ],
   "source": [
    "print(MBIDS_DF[MBIDS_DF[\"trackname\"] == \"0003_6foot7foot\"][\"mbid\"].iloc[0])\n",
    "MBIDS_DF.head()"
   ]
  },
  {
   "cell_type": "code",
   "execution_count": 106,
   "metadata": {},
   "outputs": [],
   "source": [
    "import musicbrainzngs\n",
    "import requests\n",
    "\n",
    "musicbrainzngs.set_useragent(\"ISMIR_HARMONIX_DATASET\", \"0.1\", contact=\"oriol.nieto@gmail.com\")\n",
    "def get_track(track_mbid):\n",
    "    \"\"\"\n",
    "    \"\"\"\n",
    "    includes = [\"artists\", \"releases\"] # <= Modify this to get the info you need\n",
    "    data = requests.get(\"https://www.musicbrainz.org/track/{}\".format(track_mbid))\n",
    "    webpage = data.content.decode('utf-8')\n",
    "    element_idx = webpage.find('id=\"{}\"'.format(track_mbid))\n",
    "    closer_idx = webpage.find('href=\"/recording', element_idx)\n",
    "    recording_id = webpage[closer_idx+17:closer_idx+17+36]\n",
    "    return musicbrainzngs.get_recording_by_id(recording_id, includes=includes)"
   ]
  },
  {
   "cell_type": "code",
   "execution_count": 112,
   "metadata": {},
   "outputs": [],
   "source": [
    "def add_ann_metadata(ann):\n",
    "    \"\"\"Adds annotation metadata\"\"\"\n",
    "    ann.annotation_metadata.curator.name = \"Oriol Nieto\"\n",
    "    ann.annotation_metadata.curator.email = \"onieto@pandora.com\"\n",
    "    ann.annotation_metadata.version = \"1.0\"\n",
    "    ann.annotation_metadata.corpus = \"DATASET\"  # TODO: FINAL NAME!\n",
    "    \n",
    "def add_metadata(jam, mp3_info, file_name):\n",
    "    \"\"\"Add metadata to the JAMS object.\"\"\"\n",
    "    id_name = os.path.basename(file_name).replace(\".mp3\", \"\")\n",
    "    jam.file_metadata.duration = round(mp3_info.info.time_secs, ROUND_PRECISION)\n",
    "    if mp3_info.tag.artist and mp3_info.tag.album and mp3_info.tag.title:\n",
    "        jam.file_metadata.artist = mp3_info.tag.artist\n",
    "        jam.file_metadata.release = mp3_info.tag.album\n",
    "        jam.file_metadata.title = mp3_info.tag.title\n",
    "    else:\n",
    "        # Look up in MusicBrainz\n",
    "        mbid = MBIDS_DF[MBIDS_DF[\"trackname\"] == id_name][\"mbid\"].iloc[0]\n",
    "        try:\n",
    "            mbrainzdata = get_track(mbid)\n",
    "            # TODO: Which artist / release to get? So far, getting the first one, which should be the most relevant\n",
    "            jam.file_metadata.artist = recording_data[\"recording\"][\"artist-credit\"][0][\"artist\"][\"name\"]\n",
    "            jam.file_metadata.release = recording_data[\"recording\"][\"release-list\"][0][\"title\"]\n",
    "            jam.file_metadata.title = recording_data[\"recording\"][\"release-list\"][0][\"title\"]\n",
    "        except musicbrainzngs.ResponseError:\n",
    "            jam.file_metadata.artist = \"\"\n",
    "            jam.file_metadata.release = \"\"\n",
    "            jam.file_metadata.title = \"\"\n",
    "    \n",
    "    jam.file_metadata.identifiers = {}\n",
    "    try:\n",
    "        jam.file_metadata.identifiers[\"Acoustid Id\"] = \\\n",
    "            mp3_info.tag.user_text_frames.get(u\"Acoustid Id\").text\n",
    "    except AttributeError:\n",
    "        # TODO: Use pyacoustid?\n",
    "        pass\n",
    "    \n",
    "    try:\n",
    "        jam.file_metadata.identifiers[\"MusicBrainz Id\"] = \\\n",
    "            mp3_info.tag.unique_file_ids.get(\"http://musicbrainz.org\").uniq_id.decode('ascii')\n",
    "    except AttributeError:\n",
    "        jam.file_metadata.identifiers[\"MusicBrainz Id\"] = \\\n",
    "            MBIDS_DF[MBIDS_DF[\"trackname\"] == id_name][\"mbid\"].iloc[0]\n",
    "        pass\n",
    "    \n",
    "    try:\n",
    "        # Not all of the tracks have an associated release\n",
    "        jam.file_metadata.identifiers[\"MusicBrainz Release Track Id\"] = \\\n",
    "            mp3_info.tag.user_text_frames.get(u\"MusicBrainz Release Track Id\").text\n",
    "    except AttributeError:\n",
    "        pass\n",
    "    \n",
    "def add_beats_and_downbeats(jam, beat_dnbeat_txt):\n",
    "    \"\"\"Add beat and downbeat annotations to the JAMS object.\"\"\"\n",
    "    with open(beat_dnbeat_txt, \"r\") as f:\n",
    "        beat_dnbeat_data = f.readlines()\n",
    "    \n",
    "    # Create annotation\n",
    "    ann = jams.Annotation(namespace='beat', time=0, \n",
    "                          duration=jam.file_metadata.duration)\n",
    "    \n",
    "    # Add annotations\n",
    "    for beat_row in beat_dnbeat_data:\n",
    "        time, beat_pos, bar_num = beat_row.split('\\t')\n",
    "        ann.append(time=round(float(time), ROUND_PRECISION), \n",
    "                   duration=0.0, \n",
    "                   confidence=1, \n",
    "                   value=int(beat_pos))\n",
    "    \n",
    "    # TODO: Add Annotation Metadata\n",
    "    add_ann_metadata(ann)\n",
    "    \n",
    "    # Add annotation to \n",
    "    jam.annotations.append(ann)\n",
    "    \n",
    "    \n",
    "def add_segmentation(jam, segmentation_txt):\n",
    "    \"\"\"Add segmentation annotations to the JAMS object.\"\"\"\n",
    "    with open(segmentation_txt, \"r\") as f:\n",
    "        segment_data = f.readlines()\n",
    "    \n",
    "    # Create annotation\n",
    "    ann = jams.Annotation(namespace='segment_open', time=0, \n",
    "                          duration=jam.file_metadata.duration)\n",
    "    \n",
    "    # Add annotations\n",
    "    for start, end in zip(segment_data[:-1], segment_data[1:]):\n",
    "        start_time, start_label = start.replace('\\n', '').split(' ')\n",
    "        end_time, _ = end.replace('\\n', '').split(' ')\n",
    "        ann.append(time=round(float(start_time), ROUND_PRECISION), \n",
    "                   duration=round(float(end_time) - float(start_time), ROUND_PRECISION), \n",
    "                   confidence=1, \n",
    "                   value=start_label)\n",
    "    \n",
    "    # TODO: Add Annotation Metadata\n",
    "    add_ann_metadata(ann)\n",
    "    \n",
    "    # Add annotation to \n",
    "    jam.annotations.append(ann)\n",
    "    \n",
    "def add_onsets(jam, mp3_file, dur=DUR_ONSETS):\n",
    "    \"\"\"Add onsets estimations to the JAMS object.\"\"\"\n",
    "    # Estimate onsets\n",
    "    hop = 512\n",
    "    y, sr = librosa.load(mp3_file, duration=dur)\n",
    "    onset_frames = librosa.onset.onset_detect(y, sr=sr, hop_length=hop)\n",
    "    onset_times = librosa.frames_to_time(onset_frames, sr=sr, hop_length=hop)\n",
    "    \n",
    "    # Create annotation\n",
    "    ann = jams.Annotation(namespace='onset', time=0, \n",
    "                          duration=jam.file_metadata.duration)\n",
    "    \n",
    "    # Add annotations\n",
    "    for onset_time in onset_times:\n",
    "        ann.append(time=round(float(onset_time), ROUND_PRECISION), \n",
    "                   duration=0, \n",
    "                   confidence=1, \n",
    "                   value=0)\n",
    "    \n",
    "    # Add Annotation Metadata\n",
    "    add_ann_metadata(ann)\n",
    "    ann.annotation_metadata.annotation_tools = \"librosa {}\".format(librosa.version.version)\n",
    "    \n",
    "    # Add annotation to \n",
    "    jam.annotations.append(ann)\n",
    "\n",
    "def create_jams(mp3_file):\n",
    "    \"\"\"Creates the JAMS object\"\"\"\n",
    "    beat_dnbeat_txt = \"{}{}\".format(\n",
    "        BEAT_DOWNBEAT_RAW_ANN_PATH, \n",
    "        os.path.basename(mp3_file).replace(\".mp3\", \".txt\"))\n",
    "    segment_txt = \"{}{}\".format(\n",
    "        SEGMENT_RAW_ANN_PATH, \n",
    "        os.path.basename(mp3_file).replace(\".mp3\", \".txt\"))\n",
    "    \n",
    "    # Read ID3 tags\n",
    "    mp3_info = eyed3.load(mp3_file)\n",
    "    \n",
    "    # Create empty JAMS object and add file metadata\n",
    "    jam = jams.JAMS()\n",
    "    add_metadata(jam, mp3_info, mp3_file)\n",
    "    \n",
    "    # Add annotations\n",
    "    add_beats_and_downbeats(jam, beat_dnbeat_txt)\n",
    "    add_segmentation(jam, segment_txt)\n",
    "    add_onsets(jam, mp3_file)\n",
    "    \n",
    "    # Add the beats info\n",
    "    return jam"
   ]
  },
  {
   "cell_type": "code",
   "execution_count": 113,
   "metadata": {},
   "outputs": [
    {
     "data": {
      "application/vnd.jupyter.widget-view+json": {
       "model_id": "abdeebb2a86d41bdac9e525e0acea2d8",
       "version_major": 2,
       "version_minor": 0
      },
      "text/plain": [
       "HBox(children=(IntProgress(value=0, max=912), HTML(value='')))"
      ]
     },
     "metadata": {},
     "output_type": "display_data"
    },
    {
     "name": "stderr",
     "output_type": "stream",
     "text": [
      "GEOB frame does not contain a mime type\n",
      "GEOB frame does not contain a valid mime type\n"
     ]
    },
    {
     "name": "stdout",
     "output_type": "stream",
     "text": [
      "/Users/onieto/Desktop/Harmonix/final_audio/0001_12step.mp3\n"
     ]
    },
    {
     "name": "stderr",
     "output_type": "stream",
     "text": [
      "GEOB frame does not contain a mime type\n",
      "GEOB frame does not contain a valid mime type\n"
     ]
    },
    {
     "name": "stdout",
     "output_type": "stream",
     "text": [
      "/Users/onieto/Desktop/Harmonix/final_audio/0003_6foot7foot.mp3\n"
     ]
    },
    {
     "name": "stderr",
     "output_type": "stream",
     "text": [
      "GEOB frame does not contain a mime type\n",
      "GEOB frame does not contain a valid mime type\n"
     ]
    },
    {
     "name": "stdout",
     "output_type": "stream",
     "text": [
      "/Users/onieto/Desktop/Harmonix/final_audio/0004_abc.mp3\n"
     ]
    },
    {
     "name": "stderr",
     "output_type": "stream",
     "text": [
      "GEOB frame does not contain a mime type\n",
      "GEOB frame does not contain a valid mime type\n"
     ]
    },
    {
     "name": "stdout",
     "output_type": "stream",
     "text": [
      "/Users/onieto/Desktop/Harmonix/final_audio/0005_again.mp3\n"
     ]
    },
    {
     "name": "stderr",
     "output_type": "stream",
     "text": [
      "GEOB frame does not contain a mime type\n",
      "GEOB frame does not contain a valid mime type\n"
     ]
    },
    {
     "name": "stdout",
     "output_type": "stream",
     "text": [
      "/Users/onieto/Desktop/Harmonix/final_audio/0006_aint2proud2beg.mp3\n"
     ]
    },
    {
     "name": "stderr",
     "output_type": "stream",
     "text": [
      "GEOB frame does not contain a mime type\n",
      "GEOB frame does not contain a valid mime type\n"
     ]
    },
    {
     "name": "stdout",
     "output_type": "stream",
     "text": [
      "/Users/onieto/Desktop/Harmonix/final_audio/0008_america.mp3\n"
     ]
    },
    {
     "name": "stderr",
     "output_type": "stream",
     "text": [
      "GEOB frame does not contain a mime type\n",
      "GEOB frame does not contain a valid mime type\n"
     ]
    },
    {
     "name": "stdout",
     "output_type": "stream",
     "text": [
      "/Users/onieto/Desktop/Harmonix/final_audio/0009_americanmusic.mp3\n"
     ]
    },
    {
     "name": "stderr",
     "output_type": "stream",
     "text": [
      "GEOB frame does not contain a mime type\n",
      "GEOB frame does not contain a valid mime type\n"
     ]
    },
    {
     "name": "stdout",
     "output_type": "stream",
     "text": [
      "/Users/onieto/Desktop/Harmonix/final_audio/0010_andjusticeforall.mp3\n"
     ]
    },
    {
     "name": "stderr",
     "output_type": "stream",
     "text": [
      "GEOB frame does not contain a mime type\n",
      "GEOB frame does not contain a valid mime type\n"
     ]
    },
    {
     "name": "stdout",
     "output_type": "stream",
     "text": [
      "/Users/onieto/Desktop/Harmonix/final_audio/0011_areyouexperienced.mp3\n"
     ]
    },
    {
     "name": "stderr",
     "output_type": "stream",
     "text": [
      "GEOB frame does not contain a mime type\n",
      "GEOB frame does not contain a valid mime type\n"
     ]
    },
    {
     "name": "stdout",
     "output_type": "stream",
     "text": [
      "/Users/onieto/Desktop/Harmonix/final_audio/0012_aroundtheworld.mp3\n"
     ]
    },
    {
     "name": "stderr",
     "output_type": "stream",
     "text": [
      "GEOB frame does not contain a mime type\n",
      "GEOB frame does not contain a valid mime type\n"
     ]
    },
    {
     "name": "stdout",
     "output_type": "stream",
     "text": [
      "/Users/onieto/Desktop/Harmonix/final_audio/0013_athingaboutyou.mp3\n"
     ]
    },
    {
     "name": "stderr",
     "output_type": "stream",
     "text": [
      "GEOB frame does not contain a mime type\n",
      "GEOB frame does not contain a valid mime type\n"
     ]
    },
    {
     "name": "stdout",
     "output_type": "stream",
     "text": [
      "/Users/onieto/Desktop/Harmonix/final_audio/0014_babaoriley.mp3\n"
     ]
    },
    {
     "name": "stderr",
     "output_type": "stream",
     "text": [
      "GEOB frame does not contain a mime type\n",
      "GEOB frame does not contain a valid mime type\n"
     ]
    },
    {
     "name": "stdout",
     "output_type": "stream",
     "text": [
      "/Users/onieto/Desktop/Harmonix/final_audio/0015_babygotback.mp3\n"
     ]
    },
    {
     "name": "stderr",
     "output_type": "stream",
     "text": [
      "GEOB frame does not contain a mime type\n",
      "GEOB frame does not contain a valid mime type\n"
     ]
    },
    {
     "name": "stdout",
     "output_type": "stream",
     "text": [
      "/Users/onieto/Desktop/Harmonix/final_audio/0017_badromance.mp3\n"
     ]
    },
    {
     "name": "stderr",
     "output_type": "stream",
     "text": [
      "GEOB frame does not contain a mime type\n",
      "GEOB frame does not contain a valid mime type\n"
     ]
    },
    {
     "name": "stdout",
     "output_type": "stream",
     "text": [
      "/Users/onieto/Desktop/Harmonix/final_audio/0018_bassdownlow.mp3\n"
     ]
    },
    {
     "name": "stderr",
     "output_type": "stream",
     "text": [
      "GEOB frame does not contain a mime type\n",
      "GEOB frame does not contain a valid mime type\n"
     ]
    },
    {
     "name": "stdout",
     "output_type": "stream",
     "text": [
      "/Users/onieto/Desktop/Harmonix/final_audio/0020_becauseofyou.mp3\n"
     ]
    },
    {
     "name": "stderr",
     "output_type": "stream",
     "text": [
      "GEOB frame does not contain a mime type\n",
      "GEOB frame does not contain a valid mime type\n"
     ]
    },
    {
     "name": "stdout",
     "output_type": "stream",
     "text": [
      "/Users/onieto/Desktop/Harmonix/final_audio/0021_better.mp3\n"
     ]
    },
    {
     "name": "stderr",
     "output_type": "stream",
     "text": [
      "GEOB frame does not contain a mime type\n",
      "GEOB frame does not contain a valid mime type\n"
     ]
    },
    {
     "name": "stdout",
     "output_type": "stream",
     "text": [
      "/Users/onieto/Desktop/Harmonix/final_audio/0022_betteroffalone.mp3\n"
     ]
    },
    {
     "name": "stderr",
     "output_type": "stream",
     "text": [
      "GEOB frame does not contain a mime type\n",
      "GEOB frame does not contain a valid mime type\n"
     ]
    },
    {
     "name": "stdout",
     "output_type": "stream",
     "text": [
      "/Users/onieto/Desktop/Harmonix/final_audio/0023_bewareoftheboys.mp3\n"
     ]
    },
    {
     "name": "stderr",
     "output_type": "stream",
     "text": [
      "GEOB frame does not contain a mime type\n",
      "GEOB frame does not contain a valid mime type\n"
     ]
    },
    {
     "name": "stdout",
     "output_type": "stream",
     "text": [
      "/Users/onieto/Desktop/Harmonix/final_audio/0024_billionaire.mp3\n"
     ]
    },
    {
     "name": "stderr",
     "output_type": "stream",
     "text": [
      "GEOB frame does not contain a mime type\n",
      "GEOB frame does not contain a valid mime type\n"
     ]
    },
    {
     "name": "stdout",
     "output_type": "stream",
     "text": [
      "/Users/onieto/Desktop/Harmonix/final_audio/0026_blackandyellow.mp3\n"
     ]
    },
    {
     "name": "stderr",
     "output_type": "stream",
     "text": [
      "Invalid date: 0401\n",
      "GEOB frame does not contain a mime type\n",
      "GEOB frame does not contain a valid mime type\n"
     ]
    },
    {
     "name": "stdout",
     "output_type": "stream",
     "text": [
      "/Users/onieto/Desktop/Harmonix/final_audio/0027_blackened.mp3\n"
     ]
    },
    {
     "name": "stderr",
     "output_type": "stream",
     "text": [
      "GEOB frame does not contain a mime type\n",
      "GEOB frame does not contain a valid mime type\n"
     ]
    },
    {
     "name": "stdout",
     "output_type": "stream",
     "text": [
      "/Users/onieto/Desktop/Harmonix/final_audio/0028_blackmagic.mp3\n"
     ]
    },
    {
     "name": "stderr",
     "output_type": "stream",
     "text": [
      "GEOB frame does not contain a mime type\n",
      "GEOB frame does not contain a valid mime type\n"
     ]
    },
    {
     "name": "stdout",
     "output_type": "stream",
     "text": [
      "/Users/onieto/Desktop/Harmonix/final_audio/0030_bodymovin.mp3\n"
     ]
    },
    {
     "name": "stderr",
     "output_type": "stream",
     "text": [
      "GEOB frame does not contain a mime type\n",
      "GEOB frame does not contain a valid mime type\n"
     ]
    },
    {
     "name": "stdout",
     "output_type": "stream",
     "text": [
      "/Users/onieto/Desktop/Harmonix/final_audio/0032_boomboompow.mp3\n"
     ]
    },
    {
     "name": "stderr",
     "output_type": "stream",
     "text": [
      "GEOB frame does not contain a mime type\n",
      "GEOB frame does not contain a valid mime type\n"
     ]
    },
    {
     "name": "stdout",
     "output_type": "stream",
     "text": [
      "/Users/onieto/Desktop/Harmonix/final_audio/0035_boyfriend.mp3\n"
     ]
    },
    {
     "name": "stderr",
     "output_type": "stream",
     "text": [
      "GEOB frame does not contain a mime type\n",
      "GEOB frame does not contain a valid mime type\n"
     ]
    },
    {
     "name": "stdout",
     "output_type": "stream",
     "text": [
      "/Users/onieto/Desktop/Harmonix/final_audio/0036_breakingthegirl.mp3\n"
     ]
    },
    {
     "name": "stderr",
     "output_type": "stream",
     "text": [
      "GEOB frame does not contain a mime type\n",
      "GEOB frame does not contain a valid mime type\n"
     ]
    },
    {
     "name": "stdout",
     "output_type": "stream",
     "text": [
      "/Users/onieto/Desktop/Harmonix/final_audio/0037_breakyourheart.mp3\n"
     ]
    },
    {
     "name": "stderr",
     "output_type": "stream",
     "text": [
      "GEOB frame does not contain a mime type\n",
      "GEOB frame does not contain a valid mime type\n"
     ]
    },
    {
     "name": "stdout",
     "output_type": "stream",
     "text": [
      "/Users/onieto/Desktop/Harmonix/final_audio/0038_bringmetolife.mp3\n"
     ]
    },
    {
     "name": "stderr",
     "output_type": "stream",
     "text": [
      "GEOB frame does not contain a mime type\n",
      "GEOB frame does not contain a valid mime type\n"
     ]
    },
    {
     "name": "stdout",
     "output_type": "stream",
     "text": [
      "/Users/onieto/Desktop/Harmonix/final_audio/0039_bulletproof.mp3\n"
     ]
    },
    {
     "name": "stderr",
     "output_type": "stream",
     "text": [
      "GEOB frame does not contain a mime type\n",
      "GEOB frame does not contain a valid mime type\n"
     ]
    },
    {
     "name": "stdout",
     "output_type": "stream",
     "text": [
      "/Users/onieto/Desktop/Harmonix/final_audio/0040_bustamove.mp3\n"
     ]
    },
    {
     "name": "stderr",
     "output_type": "stream",
     "text": [
      "GEOB frame does not contain a mime type\n",
      "GEOB frame does not contain a valid mime type\n"
     ]
    },
    {
     "name": "stdout",
     "output_type": "stream",
     "text": [
      "/Users/onieto/Desktop/Harmonix/final_audio/0041_calabria.mp3\n"
     ]
    },
    {
     "name": "stderr",
     "output_type": "stream",
     "text": [
      "GEOB frame does not contain a mime type\n",
      "GEOB frame does not contain a valid mime type\n"
     ]
    },
    {
     "name": "stdout",
     "output_type": "stream",
     "text": [
      "/Users/onieto/Desktop/Harmonix/final_audio/0042_callme.mp3\n"
     ]
    },
    {
     "name": "stderr",
     "output_type": "stream",
     "text": [
      "GEOB frame does not contain a mime type\n",
      "GEOB frame does not contain a valid mime type\n"
     ]
    },
    {
     "name": "stdout",
     "output_type": "stream",
     "text": [
      "/Users/onieto/Desktop/Harmonix/final_audio/0043_callmemaybe.mp3\n"
     ]
    },
    {
     "name": "stderr",
     "output_type": "stream",
     "text": [
      "GEOB frame does not contain a mime type\n",
      "GEOB frame does not contain a valid mime type\n"
     ]
    },
    {
     "name": "stdout",
     "output_type": "stream",
     "text": [
      "/Users/onieto/Desktop/Harmonix/final_audio/0044_cameraeye.mp3\n"
     ]
    },
    {
     "name": "stderr",
     "output_type": "stream",
     "text": [
      "GEOB frame does not contain a mime type\n",
      "GEOB frame does not contain a valid mime type\n",
      "Frame 'IPLS' is not yet supported, using raw Frame to parse\n"
     ]
    },
    {
     "name": "stdout",
     "output_type": "stream",
     "text": [
      "/Users/onieto/Desktop/Harmonix/final_audio/0045_cantgetyou.mp3\n"
     ]
    },
    {
     "name": "stderr",
     "output_type": "stream",
     "text": [
      "GEOB frame does not contain a mime type\n",
      "GEOB frame does not contain a valid mime type\n"
     ]
    },
    {
     "name": "stdout",
     "output_type": "stream",
     "text": [
      "/Users/onieto/Desktop/Harmonix/final_audio/0046_castlesmadeofsand.mp3\n"
     ]
    },
    {
     "name": "stderr",
     "output_type": "stream",
     "text": [
      "GEOB frame does not contain a mime type\n",
      "GEOB frame does not contain a valid mime type\n"
     ]
    },
    {
     "name": "stdout",
     "output_type": "stream",
     "text": [
      "/Users/onieto/Desktop/Harmonix/final_audio/0047_chinacatsunflower.mp3\n"
     ]
    },
    {
     "name": "stderr",
     "output_type": "stream",
     "text": [
      "GEOB frame does not contain a mime type\n",
      "GEOB frame does not contain a valid mime type\n"
     ]
    },
    {
     "name": "stdout",
     "output_type": "stream",
     "text": [
      "/Users/onieto/Desktop/Harmonix/final_audio/0048_chingaling.mp3\n"
     ]
    },
    {
     "name": "stderr",
     "output_type": "stream",
     "text": [
      "GEOB frame does not contain a mime type\n",
      "GEOB frame does not contain a valid mime type\n"
     ]
    },
    {
     "name": "stdout",
     "output_type": "stream",
     "text": [
      "/Users/onieto/Desktop/Harmonix/final_audio/0049_closer.mp3\n"
     ]
    },
    {
     "name": "stderr",
     "output_type": "stream",
     "text": [
      "GEOB frame does not contain a mime type\n",
      "GEOB frame does not contain a valid mime type\n"
     ]
    },
    {
     "name": "stdout",
     "output_type": "stream",
     "text": [
      "/Users/onieto/Desktop/Harmonix/final_audio/0050_clubcanthandleme.mp3\n"
     ]
    },
    {
     "name": "stderr",
     "output_type": "stream",
     "text": [
      "GEOB frame does not contain a mime type\n",
      "GEOB frame does not contain a valid mime type\n",
      "Frame 'IPLS' is not yet supported, using raw Frame to parse\n"
     ]
    },
    {
     "name": "stdout",
     "output_type": "stream",
     "text": [
      "/Users/onieto/Desktop/Harmonix/final_audio/0052_collector.mp3\n"
     ]
    },
    {
     "name": "stderr",
     "output_type": "stream",
     "text": [
      "GEOB frame does not contain a mime type\n",
      "GEOB frame does not contain a valid mime type\n"
     ]
    },
    {
     "name": "stdout",
     "output_type": "stream",
     "text": [
      "/Users/onieto/Desktop/Harmonix/final_audio/0053_commander.mp3\n"
     ]
    },
    {
     "name": "stderr",
     "output_type": "stream",
     "text": [
      "GEOB frame does not contain a mime type\n",
      "GEOB frame does not contain a valid mime type\n"
     ]
    },
    {
     "name": "stdout",
     "output_type": "stream",
     "text": [
      "/Users/onieto/Desktop/Harmonix/final_audio/0054_conceited.mp3\n"
     ]
    },
    {
     "name": "stderr",
     "output_type": "stream",
     "text": [
      "GEOB frame does not contain a mime type\n",
      "GEOB frame does not contain a valid mime type\n"
     ]
    },
    {
     "name": "stdout",
     "output_type": "stream",
     "text": [
      "/Users/onieto/Desktop/Harmonix/final_audio/0055_constantmotion.mp3\n"
     ]
    },
    {
     "name": "stderr",
     "output_type": "stream",
     "text": [
      "GEOB frame does not contain a mime type\n",
      "GEOB frame does not contain a valid mime type\n"
     ]
    },
    {
     "name": "stdout",
     "output_type": "stream",
     "text": [
      "/Users/onieto/Desktop/Harmonix/final_audio/0056_control.mp3\n"
     ]
    },
    {
     "name": "stderr",
     "output_type": "stream",
     "text": [
      "GEOB frame does not contain a mime type\n",
      "GEOB frame does not contain a valid mime type\n"
     ]
    },
    {
     "name": "stdout",
     "output_type": "stream",
     "text": [
      "/Users/onieto/Desktop/Harmonix/final_audio/0057_crankthat.mp3\n"
     ]
    },
    {
     "name": "stderr",
     "output_type": "stream",
     "text": [
      "GEOB frame does not contain a mime type\n",
      "GEOB frame does not contain a valid mime type\n",
      "Frame 'IPLS' is not yet supported, using raw Frame to parse\n"
     ]
    },
    {
     "name": "stdout",
     "output_type": "stream",
     "text": [
      "/Users/onieto/Desktop/Harmonix/final_audio/0058_criticalacclaim.mp3\n"
     ]
    },
    {
     "name": "stderr",
     "output_type": "stream",
     "text": [
      "GEOB frame does not contain a mime type\n",
      "GEOB frame does not contain a valid mime type\n"
     ]
    },
    {
     "name": "stdout",
     "output_type": "stream",
     "text": [
      "/Users/onieto/Desktop/Harmonix/final_audio/0059_cupidshuffle.mp3\n"
     ]
    },
    {
     "name": "stderr",
     "output_type": "stream",
     "text": [
      "GEOB frame does not contain a mime type\n",
      "GEOB frame does not contain a valid mime type\n"
     ]
    },
    {
     "name": "stdout",
     "output_type": "stream",
     "text": [
      "/Users/onieto/Desktop/Harmonix/final_audio/0061_dabutt.mp3\n"
     ]
    },
    {
     "name": "stderr",
     "output_type": "stream",
     "text": [
      "GEOB frame does not contain a mime type\n",
      "GEOB frame does not contain a valid mime type\n"
     ]
    },
    {
     "name": "stdout",
     "output_type": "stream",
     "text": [
      "/Users/onieto/Desktop/Harmonix/final_audio/0062_dance.mp3\n"
     ]
    },
    {
     "name": "stderr",
     "output_type": "stream",
     "text": [
      "GEOB frame does not contain a mime type\n",
      "GEOB frame does not contain a valid mime type\n"
     ]
    },
    {
     "name": "stdout",
     "output_type": "stream",
     "text": [
      "/Users/onieto/Desktop/Harmonix/final_audio/0063_daysgoby.mp3\n"
     ]
    },
    {
     "name": "stderr",
     "output_type": "stream",
     "text": [
      "GEOB frame does not contain a mime type\n",
      "GEOB frame does not contain a valid mime type\n",
      "Frame 'IPLS' is not yet supported, using raw Frame to parse\n"
     ]
    },
    {
     "name": "stdout",
     "output_type": "stream",
     "text": [
      "/Users/onieto/Desktop/Harmonix/final_audio/0065_deadandbloated.mp3\n"
     ]
    },
    {
     "name": "stderr",
     "output_type": "stream",
     "text": [
      "GEOB frame does not contain a mime type\n",
      "GEOB frame does not contain a valid mime type\n"
     ]
    },
    {
     "name": "stdout",
     "output_type": "stream",
     "text": [
      "/Users/onieto/Desktop/Harmonix/final_audio/0066_decentdaysandnights.mp3\n"
     ]
    },
    {
     "name": "stderr",
     "output_type": "stream",
     "text": [
      "GEOB frame does not contain a mime type\n",
      "GEOB frame does not contain a valid mime type\n"
     ]
    },
    {
     "name": "stdout",
     "output_type": "stream",
     "text": [
      "/Users/onieto/Desktop/Harmonix/final_audio/0067_deep.mp3\n"
     ]
    },
    {
     "name": "stderr",
     "output_type": "stream",
     "text": [
      "GEOB frame does not contain a mime type\n",
      "GEOB frame does not contain a valid mime type\n"
     ]
    },
    {
     "name": "stdout",
     "output_type": "stream",
     "text": [
      "/Users/onieto/Desktop/Harmonix/final_audio/0068_devilsisland.mp3\n"
     ]
    },
    {
     "name": "stderr",
     "output_type": "stream",
     "text": [
      "GEOB frame does not contain a mime type\n",
      "GEOB frame does not contain a valid mime type\n"
     ]
    },
    {
     "name": "stdout",
     "output_type": "stream",
     "text": [
      "/Users/onieto/Desktop/Harmonix/final_audio/0069_digginmedown.mp3\n"
     ]
    },
    {
     "name": "stderr",
     "output_type": "stream",
     "text": [
      "GEOB frame does not contain a mime type\n",
      "GEOB frame does not contain a valid mime type\n"
     ]
    },
    {
     "name": "stdout",
     "output_type": "stream",
     "text": [
      "/Users/onieto/Desktop/Harmonix/final_audio/0070_dipitlow.mp3\n"
     ]
    },
    {
     "name": "stderr",
     "output_type": "stream",
     "text": [
      "GEOB frame does not contain a mime type\n",
      "GEOB frame does not contain a valid mime type\n"
     ]
    },
    {
     "name": "stdout",
     "output_type": "stream",
     "text": [
      "/Users/onieto/Desktop/Harmonix/final_audio/0071_dirtypool.mp3\n"
     ]
    },
    {
     "name": "stderr",
     "output_type": "stream",
     "text": [
      "GEOB frame does not contain a mime type\n",
      "GEOB frame does not contain a valid mime type\n"
     ]
    },
    {
     "name": "stdout",
     "output_type": "stream",
     "text": [
      "/Users/onieto/Desktop/Harmonix/final_audio/0072_discoinferno.mp3\n"
     ]
    },
    {
     "name": "stderr",
     "output_type": "stream",
     "text": [
      "GEOB frame does not contain a mime type\n",
      "GEOB frame does not contain a valid mime type\n"
     ]
    },
    {
     "name": "stdout",
     "output_type": "stream",
     "text": [
      "/Users/onieto/Desktop/Harmonix/final_audio/0073_disturbia.mp3\n"
     ]
    },
    {
     "name": "stderr",
     "output_type": "stream",
     "text": [
      "GEOB frame does not contain a mime type\n",
      "GEOB frame does not contain a valid mime type\n"
     ]
    },
    {
     "name": "stdout",
     "output_type": "stream",
     "text": [
      "/Users/onieto/Desktop/Harmonix/final_audio/0074_djgotusfallininlove.mp3\n"
     ]
    },
    {
     "name": "stderr",
     "output_type": "stream",
     "text": [
      "GEOB frame does not contain a mime type\n",
      "GEOB frame does not contain a valid mime type\n"
     ]
    },
    {
     "name": "stdout",
     "output_type": "stream",
     "text": [
      "/Users/onieto/Desktop/Harmonix/final_audio/0075_dontcha.mp3\n"
     ]
    },
    {
     "name": "stderr",
     "output_type": "stream",
     "text": [
      "GEOB frame does not contain a mime type\n",
      "GEOB frame does not contain a valid mime type\n"
     ]
    },
    {
     "name": "stdout",
     "output_type": "stream",
     "text": [
      "/Users/onieto/Desktop/Harmonix/final_audio/0077_dontsweat.mp3\n"
     ]
    },
    {
     "name": "stderr",
     "output_type": "stream",
     "text": [
      "GEOB frame does not contain a mime type\n",
      "GEOB frame does not contain a valid mime type\n"
     ]
    },
    {
     "name": "stdout",
     "output_type": "stream",
     "text": [
      "/Users/onieto/Desktop/Harmonix/final_audio/0078_donttouchme.mp3\n"
     ]
    },
    {
     "name": "stderr",
     "output_type": "stream",
     "text": [
      "GEOB frame does not contain a mime type\n",
      "GEOB frame does not contain a valid mime type\n"
     ]
    },
    {
     "name": "stdout",
     "output_type": "stream",
     "text": [
      "/Users/onieto/Desktop/Harmonix/final_audio/0079_dontyouwantme.mp3\n"
     ]
    },
    {
     "name": "stderr",
     "output_type": "stream",
     "text": [
      "GEOB frame does not contain a mime type\n",
      "GEOB frame does not contain a valid mime type\n"
     ]
    },
    {
     "name": "stdout",
     "output_type": "stream",
     "text": [
      "/Users/onieto/Desktop/Harmonix/final_audio/0080_down.mp3\n"
     ]
    },
    {
     "name": "stderr",
     "output_type": "stream",
     "text": [
      "GEOB frame does not contain a mime type\n",
      "GEOB frame does not contain a valid mime type\n"
     ]
    },
    {
     "name": "stdout",
     "output_type": "stream",
     "text": [
      "/Users/onieto/Desktop/Harmonix/final_audio/0081_downonme.mp3\n"
     ]
    },
    {
     "name": "stderr",
     "output_type": "stream",
     "text": [
      "GEOB frame does not contain a mime type\n",
      "GEOB frame does not contain a valid mime type\n"
     ]
    },
    {
     "name": "stdout",
     "output_type": "stream",
     "text": [
      "/Users/onieto/Desktop/Harmonix/final_audio/0082_dragosteadintei.mp3\n"
     ]
    },
    {
     "name": "stderr",
     "output_type": "stream",
     "text": [
      "GEOB frame does not contain a mime type\n",
      "GEOB frame does not contain a valid mime type\n"
     ]
    },
    {
     "name": "stdout",
     "output_type": "stream",
     "text": [
      "/Users/onieto/Desktop/Harmonix/final_audio/0083_dragthewaters.mp3\n"
     ]
    },
    {
     "name": "stderr",
     "output_type": "stream",
     "text": [
      "GEOB frame does not contain a mime type\n",
      "GEOB frame does not contain a valid mime type\n"
     ]
    },
    {
     "name": "stdout",
     "output_type": "stream",
     "text": [
      "/Users/onieto/Desktop/Harmonix/final_audio/0084_dropitlikeitshot.mp3\n"
     ]
    },
    {
     "name": "stderr",
     "output_type": "stream",
     "text": [
      "GEOB frame does not contain a mime type\n",
      "GEOB frame does not contain a valid mime type\n"
     ]
    },
    {
     "name": "stdout",
     "output_type": "stream",
     "text": [
      "/Users/onieto/Desktop/Harmonix/final_audio/0085_electricboogie.mp3\n"
     ]
    },
    {
     "name": "stderr",
     "output_type": "stream",
     "text": [
      "GEOB frame does not contain a mime type\n",
      "GEOB frame does not contain a valid mime type\n"
     ]
    },
    {
     "name": "stdout",
     "output_type": "stream",
     "text": [
      "/Users/onieto/Desktop/Harmonix/final_audio/0086_escapade.mp3\n"
     ]
    },
    {
     "name": "stderr",
     "output_type": "stream",
     "text": [
      "GEOB frame does not contain a mime type\n",
      "GEOB frame does not contain a valid mime type\n"
     ]
    },
    {
     "name": "stdout",
     "output_type": "stream",
     "text": [
      "/Users/onieto/Desktop/Harmonix/final_audio/0087_evacuate.mp3\n"
     ]
    },
    {
     "name": "stderr",
     "output_type": "stream",
     "text": [
      "GEOB frame does not contain a mime type\n",
      "GEOB frame does not contain a valid mime type\n"
     ]
    },
    {
     "name": "stdout",
     "output_type": "stream",
     "text": [
      "/Users/onieto/Desktop/Harmonix/final_audio/0088_everybody.mp3\n"
     ]
    },
    {
     "name": "stderr",
     "output_type": "stream",
     "text": [
      "Invalid date: 0906\n",
      "GEOB frame does not contain a mime type\n",
      "GEOB frame does not contain a valid mime type\n"
     ]
    },
    {
     "name": "stdout",
     "output_type": "stream",
     "text": [
      "/Users/onieto/Desktop/Harmonix/final_audio/0090_fearofthedarklive.mp3\n"
     ]
    },
    {
     "name": "stderr",
     "output_type": "stream",
     "text": [
      "GEOB frame does not contain a mime type\n",
      "GEOB frame does not contain a valid mime type\n"
     ]
    },
    {
     "name": "stdout",
     "output_type": "stream",
     "text": [
      "/Users/onieto/Desktop/Harmonix/final_audio/0091_fellonblackdays.mp3\n"
     ]
    },
    {
     "name": "stderr",
     "output_type": "stream",
     "text": [
      "GEOB frame does not contain a mime type\n",
      "GEOB frame does not contain a valid mime type\n"
     ]
    },
    {
     "name": "stdout",
     "output_type": "stream",
     "text": [
      "/Users/onieto/Desktop/Harmonix/final_audio/0092_fergalicious.mp3\n"
     ]
    },
    {
     "name": "stderr",
     "output_type": "stream",
     "text": [
      "GEOB frame does not contain a mime type\n",
      "GEOB frame does not contain a valid mime type\n"
     ]
    },
    {
     "name": "stdout",
     "output_type": "stream",
     "text": [
      "/Users/onieto/Desktop/Harmonix/final_audio/0093_fireburning.mp3\n"
     ]
    },
    {
     "name": "stderr",
     "output_type": "stream",
     "text": [
      "GEOB frame does not contain a mime type\n",
      "GEOB frame does not contain a valid mime type\n"
     ]
    },
    {
     "name": "stdout",
     "output_type": "stream",
     "text": [
      "/Users/onieto/Desktop/Harmonix/final_audio/0094_fireflies.mp3\n"
     ]
    },
    {
     "name": "stderr",
     "output_type": "stream",
     "text": [
      "GEOB frame does not contain a mime type\n",
      "GEOB frame does not contain a valid mime type\n"
     ]
    },
    {
     "name": "stdout",
     "output_type": "stream",
     "text": [
      "/Users/onieto/Desktop/Harmonix/final_audio/0095_firework.mp3\n"
     ]
    },
    {
     "name": "stderr",
     "output_type": "stream",
     "text": [
      "GEOB frame does not contain a mime type\n",
      "GEOB frame does not contain a valid mime type\n"
     ]
    },
    {
     "name": "stdout",
     "output_type": "stream",
     "text": [
      "/Users/onieto/Desktop/Harmonix/final_audio/0096_fivemagics.mp3\n"
     ]
    },
    {
     "name": "stderr",
     "output_type": "stream",
     "text": [
      "GEOB frame does not contain a mime type\n",
      "GEOB frame does not contain a valid mime type\n"
     ]
    },
    {
     "name": "stdout",
     "output_type": "stream",
     "text": [
      "/Users/onieto/Desktop/Harmonix/final_audio/0098_floods.mp3\n"
     ]
    },
    {
     "name": "stderr",
     "output_type": "stream",
     "text": [
      "GEOB frame does not contain a mime type\n",
      "GEOB frame does not contain a valid mime type\n"
     ]
    },
    {
     "name": "stdout",
     "output_type": "stream",
     "text": [
      "/Users/onieto/Desktop/Harmonix/final_audio/0099_forgetyou.mp3\n"
     ]
    },
    {
     "name": "stderr",
     "output_type": "stream",
     "text": [
      "GEOB frame does not contain a mime type\n",
      "GEOB frame does not contain a valid mime type\n"
     ]
    },
    {
     "name": "stdout",
     "output_type": "stream",
     "text": [
      "/Users/onieto/Desktop/Harmonix/final_audio/0100_futureperfecttense.mp3\n"
     ]
    },
    {
     "name": "stderr",
     "output_type": "stream",
     "text": [
      "GEOB frame does not contain a mime type\n",
      "GEOB frame does not contain a valid mime type\n"
     ]
    },
    {
     "name": "stdout",
     "output_type": "stream",
     "text": [
      "/Users/onieto/Desktop/Harmonix/final_audio/0101_galang.mp3\n"
     ]
    },
    {
     "name": "stderr",
     "output_type": "stream",
     "text": [
      "Invalid date: 0912\n",
      "GEOB frame does not contain a mime type\n",
      "GEOB frame does not contain a valid mime type\n"
     ]
    },
    {
     "name": "stdout",
     "output_type": "stream",
     "text": [
      "/Users/onieto/Desktop/Harmonix/final_audio/0102_gangstaluv.mp3\n"
     ]
    },
    {
     "name": "stderr",
     "output_type": "stream",
     "text": [
      "GEOB frame does not contain a mime type\n",
      "GEOB frame does not contain a valid mime type\n"
     ]
    },
    {
     "name": "stdout",
     "output_type": "stream",
     "text": [
      "/Users/onieto/Desktop/Harmonix/final_audio/0104_getbusy.mp3\n"
     ]
    },
    {
     "name": "stderr",
     "output_type": "stream",
     "text": [
      "GEOB frame does not contain a mime type\n",
      "GEOB frame does not contain a valid mime type\n"
     ]
    },
    {
     "name": "stdout",
     "output_type": "stream",
     "text": [
      "/Users/onieto/Desktop/Harmonix/final_audio/0105_getdownonit.mp3\n"
     ]
    },
    {
     "name": "stderr",
     "output_type": "stream",
     "text": [
      "GEOB frame does not contain a mime type\n",
      "GEOB frame does not contain a valid mime type\n"
     ]
    },
    {
     "name": "stdout",
     "output_type": "stream",
     "text": [
      "/Users/onieto/Desktop/Harmonix/final_audio/0106_getitshawty.mp3\n"
     ]
    },
    {
     "name": "stderr",
     "output_type": "stream",
     "text": [
      "GEOB frame does not contain a mime type\n",
      "GEOB frame does not contain a valid mime type\n"
     ]
    },
    {
     "name": "stdout",
     "output_type": "stream",
     "text": [
      "/Users/onieto/Desktop/Harmonix/final_audio/0107_getlow.mp3\n"
     ]
    },
    {
     "name": "stderr",
     "output_type": "stream",
     "text": [
      "GEOB frame does not contain a mime type\n",
      "GEOB frame does not contain a valid mime type\n"
     ]
    },
    {
     "name": "stdout",
     "output_type": "stream",
     "text": [
      "/Users/onieto/Desktop/Harmonix/final_audio/0108_getup.mp3\n"
     ]
    },
    {
     "name": "stderr",
     "output_type": "stream",
     "text": [
      "GEOB frame does not contain a mime type\n",
      "GEOB frame does not contain a valid mime type\n"
     ]
    },
    {
     "name": "stdout",
     "output_type": "stream",
     "text": [
      "/Users/onieto/Desktop/Harmonix/final_audio/0109_geturfreakon.mp3\n"
     ]
    },
    {
     "name": "stderr",
     "output_type": "stream",
     "text": [
      "GEOB frame does not contain a mime type\n",
      "GEOB frame does not contain a valid mime type\n"
     ]
    },
    {
     "name": "stdout",
     "output_type": "stream",
     "text": [
      "/Users/onieto/Desktop/Harmonix/final_audio/0110_girlsandboys.mp3\n"
     ]
    },
    {
     "name": "stderr",
     "output_type": "stream",
     "text": [
      "GEOB frame does not contain a mime type\n",
      "GEOB frame does not contain a valid mime type\n"
     ]
    },
    {
     "name": "stdout",
     "output_type": "stream",
     "text": [
      "/Users/onieto/Desktop/Harmonix/final_audio/0111_girlsonfilm.mp3\n"
     ]
    },
    {
     "name": "stderr",
     "output_type": "stream",
     "text": [
      "GEOB frame does not contain a mime type\n",
      "GEOB frame does not contain a valid mime type\n"
     ]
    },
    {
     "name": "stdout",
     "output_type": "stream",
     "text": [
      "/Users/onieto/Desktop/Harmonix/final_audio/0112_giveitup.mp3\n"
     ]
    },
    {
     "name": "stderr",
     "output_type": "stream",
     "text": [
      "GEOB frame does not contain a mime type\n",
      "GEOB frame does not contain a valid mime type\n"
     ]
    },
    {
     "name": "stdout",
     "output_type": "stream",
     "text": [
      "/Users/onieto/Desktop/Harmonix/final_audio/0113_giveituptome.mp3\n"
     ]
    },
    {
     "name": "stderr",
     "output_type": "stream",
     "text": [
      "GEOB frame does not contain a mime type\n",
      "GEOB frame does not contain a valid mime type\n"
     ]
    },
    {
     "name": "stdout",
     "output_type": "stream",
     "text": [
      "/Users/onieto/Desktop/Harmonix/final_audio/0114_givemeeverything.mp3\n"
     ]
    },
    {
     "name": "stderr",
     "output_type": "stream",
     "text": [
      "GEOB frame does not contain a mime type\n",
      "GEOB frame does not contain a valid mime type\n"
     ]
    },
    {
     "name": "stdout",
     "output_type": "stream",
     "text": [
      "/Users/onieto/Desktop/Harmonix/final_audio/0115_gonnamakeyousweat.mp3\n"
     ]
    },
    {
     "name": "stderr",
     "output_type": "stream",
     "text": [
      "GEOB frame does not contain a mime type\n",
      "GEOB frame does not contain a valid mime type\n"
     ]
    },
    {
     "name": "stdout",
     "output_type": "stream",
     "text": [
      "/Users/onieto/Desktop/Harmonix/final_audio/0116_goodies.mp3\n"
     ]
    },
    {
     "name": "stderr",
     "output_type": "stream",
     "text": [
      "GEOB frame does not contain a mime type\n",
      "GEOB frame does not contain a valid mime type\n"
     ]
    },
    {
     "name": "stdout",
     "output_type": "stream",
     "text": [
      "/Users/onieto/Desktop/Harmonix/final_audio/0117_goodmorningblackfriday.mp3\n"
     ]
    },
    {
     "name": "stderr",
     "output_type": "stream",
     "text": [
      "GEOB frame does not contain a mime type\n",
      "GEOB frame does not contain a valid mime type\n"
     ]
    },
    {
     "name": "stdout",
     "output_type": "stream",
     "text": [
      "/Users/onieto/Desktop/Harmonix/final_audio/0118_grenade.mp3\n"
     ]
    },
    {
     "name": "stderr",
     "output_type": "stream",
     "text": [
      "Invalid date: 0105\n",
      "GEOB frame does not contain a mime type\n",
      "GEOB frame does not contain a valid mime type\n",
      "Frame 'IPLS' is not yet supported, using raw Frame to parse\n"
     ]
    },
    {
     "name": "stdout",
     "output_type": "stream",
     "text": [
      "/Users/onieto/Desktop/Harmonix/final_audio/0119_gunpowderandlead.mp3\n"
     ]
    },
    {
     "name": "stderr",
     "output_type": "stream",
     "text": [
      "GEOB frame does not contain a mime type\n",
      "GEOB frame does not contain a valid mime type\n"
     ]
    },
    {
     "name": "stdout",
     "output_type": "stream",
     "text": [
      "/Users/onieto/Desktop/Harmonix/final_audio/0120_hallowedbethyname.mp3\n"
     ]
    },
    {
     "name": "stderr",
     "output_type": "stream",
     "text": [
      "GEOB frame does not contain a mime type\n",
      "GEOB frame does not contain a valid mime type\n"
     ]
    },
    {
     "name": "stdout",
     "output_type": "stream",
     "text": [
      "/Users/onieto/Desktop/Harmonix/final_audio/0122_heardemall.mp3\n"
     ]
    },
    {
     "name": "stderr",
     "output_type": "stream",
     "text": [
      "GEOB frame does not contain a mime type\n",
      "GEOB frame does not contain a valid mime type\n"
     ]
    },
    {
     "name": "stdout",
     "output_type": "stream",
     "text": [
      "/Users/onieto/Desktop/Harmonix/final_audio/0123_heavyduty.mp3\n"
     ]
    },
    {
     "name": "stderr",
     "output_type": "stream",
     "text": [
      "Invalid date: 0503\n",
      "GEOB frame does not contain a mime type\n",
      "GEOB frame does not contain a valid mime type\n"
     ]
    },
    {
     "name": "stdout",
     "output_type": "stream",
     "text": [
      "/Users/onieto/Desktop/Harmonix/final_audio/0124_hello.mp3\n"
     ]
    },
    {
     "name": "stderr",
     "output_type": "stream",
     "text": [
      "GEOB frame does not contain a mime type\n",
      "GEOB frame does not contain a valid mime type\n"
     ]
    },
    {
     "name": "stdout",
     "output_type": "stream",
     "text": [
      "/Users/onieto/Desktop/Harmonix/final_audio/0125_hellogoodmorning.mp3\n"
     ]
    },
    {
     "name": "stderr",
     "output_type": "stream",
     "text": [
      "GEOB frame does not contain a mime type\n",
      "GEOB frame does not contain a valid mime type\n"
     ]
    },
    {
     "name": "stdout",
     "output_type": "stream",
     "text": [
      "/Users/onieto/Desktop/Harmonix/final_audio/0126_heymami.mp3\n"
     ]
    },
    {
     "name": "stderr",
     "output_type": "stream",
     "text": [
      "GEOB frame does not contain a mime type\n",
      "GEOB frame does not contain a valid mime type\n"
     ]
    },
    {
     "name": "stdout",
     "output_type": "stream",
     "text": [
      "/Users/onieto/Desktop/Harmonix/final_audio/0127_hollabackgirl.mp3\n"
     ]
    },
    {
     "name": "stderr",
     "output_type": "stream",
     "text": [
      "GEOB frame does not contain a mime type\n",
      "GEOB frame does not contain a valid mime type\n"
     ]
    },
    {
     "name": "stdout",
     "output_type": "stream",
     "text": [
      "/Users/onieto/Desktop/Harmonix/final_audio/0128_homecoming.mp3\n"
     ]
    },
    {
     "name": "stderr",
     "output_type": "stream",
     "text": [
      "GEOB frame does not contain a mime type\n",
      "GEOB frame does not contain a valid mime type\n"
     ]
    },
    {
     "name": "stdout",
     "output_type": "stream",
     "text": [
      "/Users/onieto/Desktop/Harmonix/final_audio/0129_hotinherre.mp3\n"
     ]
    },
    {
     "name": "stderr",
     "output_type": "stream",
     "text": [
      "GEOB frame does not contain a mime type\n",
      "GEOB frame does not contain a valid mime type\n"
     ]
    },
    {
     "name": "stdout",
     "output_type": "stream",
     "text": [
      "/Users/onieto/Desktop/Harmonix/final_audio/0130_hotstuff.mp3\n"
     ]
    },
    {
     "name": "stderr",
     "output_type": "stream",
     "text": [
      "GEOB frame does not contain a mime type\n",
      "GEOB frame does not contain a valid mime type\n"
     ]
    },
    {
     "name": "stdout",
     "output_type": "stream",
     "text": [
      "/Users/onieto/Desktop/Harmonix/final_audio/0131_iamthebest.mp3\n"
     ]
    },
    {
     "name": "stderr",
     "output_type": "stream",
     "text": [
      "GEOB frame does not contain a mime type\n",
      "GEOB frame does not contain a valid mime type\n"
     ]
    },
    {
     "name": "stdout",
     "output_type": "stream",
     "text": [
      "/Users/onieto/Desktop/Harmonix/final_audio/0132_iceicebaby.mp3\n"
     ]
    },
    {
     "name": "stderr",
     "output_type": "stream",
     "text": [
      "GEOB frame does not contain a mime type\n",
      "GEOB frame does not contain a valid mime type\n"
     ]
    },
    {
     "name": "stdout",
     "output_type": "stream",
     "text": [
      "/Users/onieto/Desktop/Harmonix/final_audio/0133_ifeellove.mp3\n"
     ]
    },
    {
     "name": "stderr",
     "output_type": "stream",
     "text": [
      "GEOB frame does not contain a mime type\n",
      "GEOB frame does not contain a valid mime type\n"
     ]
    },
    {
     "name": "stdout",
     "output_type": "stream",
     "text": [
      "/Users/onieto/Desktop/Harmonix/final_audio/0134_igotmine.mp3\n"
     ]
    },
    {
     "name": "stderr",
     "output_type": "stream",
     "text": [
      "GEOB frame does not contain a mime type\n",
      "GEOB frame does not contain a valid mime type\n"
     ]
    },
    {
     "name": "stdout",
     "output_type": "stream",
     "text": [
      "/Users/onieto/Desktop/Harmonix/final_audio/0135_igottafeeling.mp3\n"
     ]
    },
    {
     "name": "stderr",
     "output_type": "stream",
     "text": [
      "GEOB frame does not contain a mime type\n",
      "GEOB frame does not contain a valid mime type\n"
     ]
    },
    {
     "name": "stdout",
     "output_type": "stream",
     "text": [
      "/Users/onieto/Desktop/Harmonix/final_audio/0136_igotyoudancing.mp3\n"
     ]
    },
    {
     "name": "stderr",
     "output_type": "stream",
     "text": [
      "GEOB frame does not contain a mime type\n",
      "GEOB frame does not contain a valid mime type\n"
     ]
    },
    {
     "name": "stdout",
     "output_type": "stream",
     "text": [
      "/Users/onieto/Desktop/Harmonix/final_audio/0137_iknowyouwantme.mp3\n"
     ]
    },
    {
     "name": "stderr",
     "output_type": "stream",
     "text": [
      "GEOB frame does not contain a mime type\n",
      "GEOB frame does not contain a valid mime type\n"
     ]
    },
    {
     "name": "stdout",
     "output_type": "stream",
     "text": [
      "/Users/onieto/Desktop/Harmonix/final_audio/0138_ilikeit.mp3\n"
     ]
    },
    {
     "name": "stderr",
     "output_type": "stream",
     "text": [
      "GEOB frame does not contain a mime type\n",
      "GEOB frame does not contain a valid mime type\n"
     ]
    },
    {
     "name": "stdout",
     "output_type": "stream",
     "text": [
      "/Users/onieto/Desktop/Harmonix/final_audio/0139_imcomingout.mp3\n"
     ]
    },
    {
     "name": "stderr",
     "output_type": "stream",
     "text": [
      "GEOB frame does not contain a mime type\n",
      "GEOB frame does not contain a valid mime type\n"
     ]
    },
    {
     "name": "stdout",
     "output_type": "stream",
     "text": [
      "/Users/onieto/Desktop/Harmonix/final_audio/0140_impacto.mp3\n"
     ]
    },
    {
     "name": "stderr",
     "output_type": "stream",
     "text": [
      "GEOB frame does not contain a mime type\n",
      "GEOB frame does not contain a valid mime type\n"
     ]
    },
    {
     "name": "stdout",
     "output_type": "stream",
     "text": [
      "/Users/onieto/Desktop/Harmonix/final_audio/0141_indaclub.mp3\n"
     ]
    },
    {
     "name": "stderr",
     "output_type": "stream",
     "text": [
      "Invalid date: 0605\n",
      "GEOB frame does not contain a mime type\n",
      "GEOB frame does not contain a valid mime type\n"
     ]
    },
    {
     "name": "stdout",
     "output_type": "stream",
     "text": [
      "/Users/onieto/Desktop/Harmonix/final_audio/0142_indestructible.mp3\n"
     ]
    },
    {
     "name": "stderr",
     "output_type": "stream",
     "text": [
      "GEOB frame does not contain a mime type\n",
      "GEOB frame does not contain a valid mime type\n"
     ]
    },
    {
     "name": "stdout",
     "output_type": "stream",
     "text": [
      "/Users/onieto/Desktop/Harmonix/final_audio/0143_informer.mp3\n"
     ]
    },
    {
     "name": "stderr",
     "output_type": "stream",
     "text": [
      "Invalid date: 0711\n",
      "GEOB frame does not contain a mime type\n",
      "GEOB frame does not contain a valid mime type\n"
     ]
    },
    {
     "name": "stdout",
     "output_type": "stream",
     "text": [
      "/Users/onieto/Desktop/Harmonix/final_audio/0144_ishotthesheriff.mp3\n"
     ]
    },
    {
     "name": "stderr",
     "output_type": "stream",
     "text": [
      "GEOB frame does not contain a mime type\n",
      "GEOB frame does not contain a valid mime type\n"
     ]
    },
    {
     "name": "stdout",
     "output_type": "stream",
     "text": [
      "/Users/onieto/Desktop/Harmonix/final_audio/0145_iwantyouback.mp3\n"
     ]
    },
    {
     "name": "stderr",
     "output_type": "stream",
     "text": [
      "GEOB frame does not contain a mime type\n",
      "GEOB frame does not contain a valid mime type\n"
     ]
    },
    {
     "name": "stdout",
     "output_type": "stream",
     "text": [
      "/Users/onieto/Desktop/Harmonix/final_audio/0148_jesusofsuburbia.mp3\n"
     ]
    },
    {
     "name": "stderr",
     "output_type": "stream",
     "text": [
      "GEOB frame does not contain a mime type\n",
      "GEOB frame does not contain a valid mime type\n"
     ]
    },
    {
     "name": "stdout",
     "output_type": "stream",
     "text": [
      "/Users/onieto/Desktop/Harmonix/final_audio/0149_johnnyguitar.mp3\n"
     ]
    },
    {
     "name": "stderr",
     "output_type": "stream",
     "text": [
      "GEOB frame does not contain a mime type\n",
      "GEOB frame does not contain a valid mime type\n"
     ]
    },
    {
     "name": "stdout",
     "output_type": "stream",
     "text": [
      "/Users/onieto/Desktop/Harmonix/final_audio/0150_justdance.mp3\n"
     ]
    },
    {
     "name": "stderr",
     "output_type": "stream",
     "text": [
      "GEOB frame does not contain a mime type\n",
      "GEOB frame does not contain a valid mime type\n"
     ]
    },
    {
     "name": "stdout",
     "output_type": "stream",
     "text": [
      "/Users/onieto/Desktop/Harmonix/final_audio/0151_kingofdancehall.mp3\n"
     ]
    },
    {
     "name": "stderr",
     "output_type": "stream",
     "text": [
      "GEOB frame does not contain a mime type\n",
      "GEOB frame does not contain a valid mime type\n"
     ]
    },
    {
     "name": "stdout",
     "output_type": "stream",
     "text": [
      "/Users/onieto/Desktop/Harmonix/final_audio/0152_kingofrock.mp3\n"
     ]
    },
    {
     "name": "stderr",
     "output_type": "stream",
     "text": [
      "GEOB frame does not contain a mime type\n",
      "GEOB frame does not contain a valid mime type\n"
     ]
    },
    {
     "name": "stdout",
     "output_type": "stream",
     "text": [
      "/Users/onieto/Desktop/Harmonix/final_audio/0153_lalaland.mp3\n"
     ]
    },
    {
     "name": "stderr",
     "output_type": "stream",
     "text": [
      "GEOB frame does not contain a mime type\n",
      "GEOB frame does not contain a valid mime type\n"
     ]
    },
    {
     "name": "stdout",
     "output_type": "stream",
     "text": [
      "/Users/onieto/Desktop/Harmonix/final_audio/0155_lapdance.mp3\n"
     ]
    },
    {
     "name": "stderr",
     "output_type": "stream",
     "text": [
      "GEOB frame does not contain a mime type\n",
      "GEOB frame does not contain a valid mime type\n"
     ]
    },
    {
     "name": "stdout",
     "output_type": "stream",
     "text": [
      "/Users/onieto/Desktop/Harmonix/final_audio/0156_lastnight.mp3\n"
     ]
    },
    {
     "name": "stderr",
     "output_type": "stream",
     "text": [
      "GEOB frame does not contain a mime type\n",
      "GEOB frame does not contain a valid mime type\n"
     ]
    },
    {
     "name": "stdout",
     "output_type": "stream",
     "text": [
      "/Users/onieto/Desktop/Harmonix/final_audio/0157_leanwitit.mp3\n"
     ]
    },
    {
     "name": "stderr",
     "output_type": "stream",
     "text": [
      "GEOB frame does not contain a mime type\n",
      "GEOB frame does not contain a valid mime type\n"
     ]
    },
    {
     "name": "stdout",
     "output_type": "stream",
     "text": [
      "/Users/onieto/Desktop/Harmonix/final_audio/0158_letitrock.mp3\n"
     ]
    },
    {
     "name": "stderr",
     "output_type": "stream",
     "text": [
      "GEOB frame does not contain a mime type\n",
      "GEOB frame does not contain a valid mime type\n"
     ]
    },
    {
     "name": "stdout",
     "output_type": "stream",
     "text": [
      "/Users/onieto/Desktop/Harmonix/final_audio/0159_letthemusicplay.mp3\n"
     ]
    },
    {
     "name": "stderr",
     "output_type": "stream",
     "text": [
      "GEOB frame does not contain a mime type\n",
      "GEOB frame does not contain a valid mime type\n"
     ]
    },
    {
     "name": "stdout",
     "output_type": "stream",
     "text": [
      "/Users/onieto/Desktop/Harmonix/final_audio/0160_likeag6.mp3\n"
     ]
    },
    {
     "name": "stderr",
     "output_type": "stream",
     "text": [
      "GEOB frame does not contain a mime type\n",
      "GEOB frame does not contain a valid mime type\n"
     ]
    },
    {
     "name": "stdout",
     "output_type": "stream",
     "text": [
      "/Users/onieto/Desktop/Harmonix/final_audio/0161_limelight.mp3\n"
     ]
    },
    {
     "name": "stderr",
     "output_type": "stream",
     "text": [
      "GEOB frame does not contain a mime type\n",
      "GEOB frame does not contain a valid mime type\n"
     ]
    },
    {
     "name": "stdout",
     "output_type": "stream",
     "text": [
      "/Users/onieto/Desktop/Harmonix/final_audio/0162_lobotomy.mp3\n"
     ]
    },
    {
     "name": "stderr",
     "output_type": "stream",
     "text": [
      "GEOB frame does not contain a mime type\n",
      "GEOB frame does not contain a valid mime type\n"
     ]
    },
    {
     "name": "stdout",
     "output_type": "stream",
     "text": [
      "/Users/onieto/Desktop/Harmonix/final_audio/0164_low.mp3\n"
     ]
    },
    {
     "name": "stderr",
     "output_type": "stream",
     "text": [
      "GEOB frame does not contain a mime type\n",
      "GEOB frame does not contain a valid mime type\n"
     ]
    },
    {
     "name": "stdout",
     "output_type": "stream",
     "text": [
      "/Users/onieto/Desktop/Harmonix/final_audio/0165_lucretia.mp3\n"
     ]
    },
    {
     "name": "stderr",
     "output_type": "stream",
     "text": [
      "GEOB frame does not contain a mime type\n",
      "GEOB frame does not contain a valid mime type\n"
     ]
    },
    {
     "name": "stdout",
     "output_type": "stream",
     "text": [
      "/Users/onieto/Desktop/Harmonix/final_audio/0166_macarena.mp3\n"
     ]
    },
    {
     "name": "stderr",
     "output_type": "stream",
     "text": [
      "GEOB frame does not contain a mime type\n",
      "GEOB frame does not contain a valid mime type\n"
     ]
    },
    {
     "name": "stdout",
     "output_type": "stream",
     "text": [
      "/Users/onieto/Desktop/Harmonix/final_audio/0167_makesomenoise.mp3\n"
     ]
    },
    {
     "name": "stderr",
     "output_type": "stream",
     "text": [
      "GEOB frame does not contain a mime type\n",
      "GEOB frame does not contain a valid mime type\n"
     ]
    },
    {
     "name": "stdout",
     "output_type": "stream",
     "text": [
      "/Users/onieto/Desktop/Harmonix/final_audio/0168_maneater.mp3\n"
     ]
    },
    {
     "name": "stderr",
     "output_type": "stream",
     "text": [
      "GEOB frame does not contain a mime type\n",
      "GEOB frame does not contain a valid mime type\n"
     ]
    },
    {
     "name": "stdout",
     "output_type": "stream",
     "text": [
      "/Users/onieto/Desktop/Harmonix/final_audio/0169_manicdepression.mp3\n"
     ]
    },
    {
     "name": "stderr",
     "output_type": "stream",
     "text": [
      "GEOB frame does not contain a mime type\n",
      "GEOB frame does not contain a valid mime type\n"
     ]
    },
    {
     "name": "stdout",
     "output_type": "stream",
     "text": [
      "/Users/onieto/Desktop/Harmonix/final_audio/0170_manyshadesofblack.mp3\n"
     ]
    },
    {
     "name": "stderr",
     "output_type": "stream",
     "text": [
      "GEOB frame does not contain a mime type\n",
      "GEOB frame does not contain a valid mime type\n",
      "Frame 'IPLS' is not yet supported, using raw Frame to parse\n"
     ]
    },
    {
     "name": "stdout",
     "output_type": "stream",
     "text": [
      "/Users/onieto/Desktop/Harmonix/final_audio/0171_marchofthepigs.mp3\n"
     ]
    },
    {
     "name": "stderr",
     "output_type": "stream",
     "text": [
      "GEOB frame does not contain a mime type\n",
      "GEOB frame does not contain a valid mime type\n"
     ]
    },
    {
     "name": "stdout",
     "output_type": "stream",
     "text": [
      "/Users/onieto/Desktop/Harmonix/final_audio/0172_marrythenight.mp3\n"
     ]
    },
    {
     "name": "stderr",
     "output_type": "stream",
     "text": [
      "GEOB frame does not contain a mime type\n",
      "GEOB frame does not contain a valid mime type\n"
     ]
    },
    {
     "name": "stdout",
     "output_type": "stream",
     "text": [
      "/Users/onieto/Desktop/Harmonix/final_audio/0173_massiveattack.mp3\n"
     ]
    },
    {
     "name": "stderr",
     "output_type": "stream",
     "text": [
      "GEOB frame does not contain a mime type\n",
      "GEOB frame does not contain a valid mime type\n"
     ]
    },
    {
     "name": "stdout",
     "output_type": "stream",
     "text": [
      "/Users/onieto/Desktop/Harmonix/final_audio/0174_maythisbelove.mp3\n"
     ]
    },
    {
     "name": "stderr",
     "output_type": "stream",
     "text": [
      "GEOB frame does not contain a mime type\n",
      "GEOB frame does not contain a valid mime type\n"
     ]
    },
    {
     "name": "stdout",
     "output_type": "stream",
     "text": [
      "/Users/onieto/Desktop/Harmonix/final_audio/0175_meddle.mp3\n"
     ]
    },
    {
     "name": "stderr",
     "output_type": "stream",
     "text": [
      "GEOB frame does not contain a mime type\n",
      "GEOB frame does not contain a valid mime type\n"
     ]
    },
    {
     "name": "stdout",
     "output_type": "stream",
     "text": [
      "/Users/onieto/Desktop/Harmonix/final_audio/0176_megasus.mp3\n"
     ]
    },
    {
     "name": "stderr",
     "output_type": "stream",
     "text": [
      "GEOB frame does not contain a mime type\n",
      "GEOB frame does not contain a valid mime type\n"
     ]
    },
    {
     "name": "stdout",
     "output_type": "stream",
     "text": [
      "/Users/onieto/Desktop/Harmonix/final_audio/0177_milkshake.mp3\n"
     ]
    },
    {
     "name": "stderr",
     "output_type": "stream",
     "text": [
      "GEOB frame does not contain a mime type\n",
      "GEOB frame does not contain a valid mime type\n"
     ]
    },
    {
     "name": "stdout",
     "output_type": "stream",
     "text": [
      "/Users/onieto/Desktop/Harmonix/final_audio/0178_mountainman.mp3\n"
     ]
    },
    {
     "name": "stderr",
     "output_type": "stream",
     "text": [
      "GEOB frame does not contain a mime type\n",
      "GEOB frame does not contain a valid mime type\n"
     ]
    },
    {
     "name": "stdout",
     "output_type": "stream",
     "text": [
      "/Users/onieto/Desktop/Harmonix/final_audio/0179_moveslikejagger.mp3\n"
     ]
    },
    {
     "name": "stderr",
     "output_type": "stream",
     "text": [
      "GEOB frame does not contain a mime type\n",
      "GEOB frame does not contain a valid mime type\n"
     ]
    },
    {
     "name": "stdout",
     "output_type": "stream",
     "text": [
      "/Users/onieto/Desktop/Harmonix/final_audio/0181_mrsaxobeat.mp3\n"
     ]
    },
    {
     "name": "stderr",
     "output_type": "stream",
     "text": [
      "GEOB frame does not contain a mime type\n",
      "GEOB frame does not contain a valid mime type\n"
     ]
    },
    {
     "name": "stdout",
     "output_type": "stream",
     "text": [
      "/Users/onieto/Desktop/Harmonix/final_audio/0182_mycurse.mp3\n"
     ]
    },
    {
     "name": "stderr",
     "output_type": "stream",
     "text": [
      "GEOB frame does not contain a mime type\n",
      "GEOB frame does not contain a valid mime type\n"
     ]
    },
    {
     "name": "stdout",
     "output_type": "stream",
     "text": [
      "/Users/onieto/Desktop/Harmonix/final_audio/0183_mynameisjonas.mp3\n"
     ]
    },
    {
     "name": "stderr",
     "output_type": "stream",
     "text": [
      "GEOB frame does not contain a mime type\n",
      "GEOB frame does not contain a valid mime type\n"
     ]
    },
    {
     "name": "stdout",
     "output_type": "stream",
     "text": [
      "/Users/onieto/Desktop/Harmonix/final_audio/0184_myprerogative.mp3\n"
     ]
    },
    {
     "name": "stderr",
     "output_type": "stream",
     "text": [
      "GEOB frame does not contain a mime type\n",
      "GEOB frame does not contain a valid mime type\n"
     ]
    },
    {
     "name": "stdout",
     "output_type": "stream",
     "text": [
      "/Users/onieto/Desktop/Harmonix/final_audio/0185_nasty.mp3\n"
     ]
    },
    {
     "name": "stderr",
     "output_type": "stream",
     "text": [
      "GEOB frame does not contain a mime type\n",
      "GEOB frame does not contain a valid mime type\n"
     ]
    },
    {
     "name": "stdout",
     "output_type": "stream",
     "text": [
      "/Users/onieto/Desktop/Harmonix/final_audio/0186_nearlylostyou.mp3\n"
     ]
    },
    {
     "name": "stderr",
     "output_type": "stream",
     "text": [
      "GEOB frame does not contain a mime type\n",
      "GEOB frame does not contain a valid mime type\n"
     ]
    },
    {
     "name": "stdout",
     "output_type": "stream",
     "text": [
      "/Users/onieto/Desktop/Harmonix/final_audio/0189_neversaynever.mp3\n"
     ]
    },
    {
     "name": "stderr",
     "output_type": "stream",
     "text": [
      "GEOB frame does not contain a mime type\n",
      "GEOB frame does not contain a valid mime type\n",
      "Frame 'IPLS' is not yet supported, using raw Frame to parse\n"
     ]
    },
    {
     "name": "stdout",
     "output_type": "stream",
     "text": [
      "/Users/onieto/Desktop/Harmonix/final_audio/0190_newfang.mp3\n"
     ]
    },
    {
     "name": "stderr",
     "output_type": "stream",
     "text": [
      "GEOB frame does not contain a mime type\n",
      "GEOB frame does not contain a valid mime type\n"
     ]
    },
    {
     "name": "stdout",
     "output_type": "stream",
     "text": [
      "/Users/onieto/Desktop/Harmonix/final_audio/0191_newslang.mp3\n"
     ]
    },
    {
     "name": "stderr",
     "output_type": "stream",
     "text": [
      "GEOB frame does not contain a mime type\n",
      "GEOB frame does not contain a valid mime type\n"
     ]
    },
    {
     "name": "stdout",
     "output_type": "stream",
     "text": [
      "/Users/onieto/Desktop/Harmonix/final_audio/0194_nomoretears.mp3\n"
     ]
    },
    {
     "name": "stderr",
     "output_type": "stream",
     "text": [
      "GEOB frame does not contain a mime type\n",
      "GEOB frame does not contain a valid mime type\n"
     ]
    },
    {
     "name": "stdout",
     "output_type": "stream",
     "text": [
      "/Users/onieto/Desktop/Harmonix/final_audio/0195_nookie.mp3\n"
     ]
    },
    {
     "name": "stderr",
     "output_type": "stream",
     "text": [
      "GEOB frame does not contain a mime type\n",
      "GEOB frame does not contain a valid mime type\n"
     ]
    },
    {
     "name": "stdout",
     "output_type": "stream",
     "text": [
      "/Users/onieto/Desktop/Harmonix/final_audio/0197_nothinonyou.mp3\n"
     ]
    },
    {
     "name": "stderr",
     "output_type": "stream",
     "text": [
      "GEOB frame does not contain a mime type\n",
      "GEOB frame does not contain a valid mime type\n"
     ]
    },
    {
     "name": "stdout",
     "output_type": "stream",
     "text": [
      "/Users/onieto/Desktop/Harmonix/final_audio/0198_nowthatwefoundlove.mp3\n"
     ]
    },
    {
     "name": "stderr",
     "output_type": "stream",
     "text": [
      "GEOB frame does not contain a mime type\n",
      "GEOB frame does not contain a valid mime type\n"
     ]
    },
    {
     "name": "stdout",
     "output_type": "stream",
     "text": [
      "/Users/onieto/Desktop/Harmonix/final_audio/0199_numberofthebeast2.mp3\n"
     ]
    },
    {
     "name": "stderr",
     "output_type": "stream",
     "text": [
      "GEOB frame does not contain a mime type\n",
      "GEOB frame does not contain a valid mime type\n"
     ]
    },
    {
     "name": "stdout",
     "output_type": "stream",
     "text": [
      "/Users/onieto/Desktop/Harmonix/final_audio/0200_oceansize.mp3\n"
     ]
    },
    {
     "name": "stderr",
     "output_type": "stream",
     "text": [
      "GEOB frame does not contain a mime type\n",
      "GEOB frame does not contain a valid mime type\n"
     ]
    },
    {
     "name": "stdout",
     "output_type": "stream",
     "text": [
      "/Users/onieto/Desktop/Harmonix/final_audio/0201_oh.mp3\n"
     ]
    },
    {
     "name": "stderr",
     "output_type": "stream",
     "text": [
      "GEOB frame does not contain a mime type\n",
      "GEOB frame does not contain a valid mime type\n"
     ]
    },
    {
     "name": "stdout",
     "output_type": "stream",
     "text": [
      "/Users/onieto/Desktop/Harmonix/final_audio/0204_onlyamemory.mp3\n"
     ]
    },
    {
     "name": "stderr",
     "output_type": "stream",
     "text": [
      "GEOB frame does not contain a mime type\n",
      "GEOB frame does not contain a valid mime type\n"
     ]
    },
    {
     "name": "stdout",
     "output_type": "stream",
     "text": [
      "/Users/onieto/Desktop/Harmonix/final_audio/0207_oopsohmy.mp3\n"
     ]
    },
    {
     "name": "stderr",
     "output_type": "stream",
     "text": [
      "GEOB frame does not contain a mime type\n",
      "GEOB frame does not contain a valid mime type\n"
     ]
    },
    {
     "name": "stdout",
     "output_type": "stream",
     "text": [
      "/Users/onieto/Desktop/Harmonix/final_audio/0208_opp.mp3\n"
     ]
    },
    {
     "name": "stderr",
     "output_type": "stream",
     "text": [
      "GEOB frame does not contain a mime type\n",
      "GEOB frame does not contain a valid mime type\n"
     ]
    },
    {
     "name": "stdout",
     "output_type": "stream",
     "text": [
      "/Users/onieto/Desktop/Harmonix/final_audio/0209_paparazzi.mp3\n"
     ]
    },
    {
     "name": "stderr",
     "output_type": "stream",
     "text": [
      "GEOB frame does not contain a mime type\n",
      "GEOB frame does not contain a valid mime type\n"
     ]
    },
    {
     "name": "stdout",
     "output_type": "stream",
     "text": [
      "/Users/onieto/Desktop/Harmonix/final_audio/0212_peoplegotalotofnerve.mp3\n"
     ]
    },
    {
     "name": "stderr",
     "output_type": "stream",
     "text": [
      "GEOB frame does not contain a mime type\n",
      "GEOB frame does not contain a valid mime type\n"
     ]
    },
    {
     "name": "stdout",
     "output_type": "stream",
     "text": [
      "/Users/onieto/Desktop/Harmonix/final_audio/0214_planetrock.mp3\n"
     ]
    },
    {
     "name": "stderr",
     "output_type": "stream",
     "text": [
      "GEOB frame does not contain a mime type\n",
      "GEOB frame does not contain a valid mime type\n"
     ]
    },
    {
     "name": "stdout",
     "output_type": "stream",
     "text": [
      "/Users/onieto/Desktop/Harmonix/final_audio/0215_pointofknowreturn.mp3\n"
     ]
    },
    {
     "name": "stderr",
     "output_type": "stream",
     "text": [
      "GEOB frame does not contain a mime type\n",
      "GEOB frame does not contain a valid mime type\n"
     ]
    },
    {
     "name": "stdout",
     "output_type": "stream",
     "text": [
      "/Users/onieto/Desktop/Harmonix/final_audio/0216_poison.mp3\n"
     ]
    },
    {
     "name": "stderr",
     "output_type": "stream",
     "text": [
      "GEOB frame does not contain a mime type\n",
      "GEOB frame does not contain a valid mime type\n"
     ]
    },
    {
     "name": "stdout",
     "output_type": "stream",
     "text": [
      "/Users/onieto/Desktop/Harmonix/final_audio/0217_pokerface.mp3\n"
     ]
    },
    {
     "name": "stderr",
     "output_type": "stream",
     "text": [
      "GEOB frame does not contain a mime type\n",
      "GEOB frame does not contain a valid mime type\n"
     ]
    },
    {
     "name": "stdout",
     "output_type": "stream",
     "text": [
      "/Users/onieto/Desktop/Harmonix/final_audio/0218_policyoftruth.mp3\n"
     ]
    },
    {
     "name": "stderr",
     "output_type": "stream",
     "text": [
      "GEOB frame does not contain a mime type\n",
      "GEOB frame does not contain a valid mime type\n"
     ]
    },
    {
     "name": "stdout",
     "output_type": "stream",
     "text": [
      "/Users/onieto/Desktop/Harmonix/final_audio/0219_pondereplay.mp3\n"
     ]
    },
    {
     "name": "stderr",
     "output_type": "stream",
     "text": [
      "GEOB frame does not contain a mime type\n",
      "GEOB frame does not contain a valid mime type\n"
     ]
    },
    {
     "name": "stdout",
     "output_type": "stream",
     "text": [
      "/Users/onieto/Desktop/Harmonix/final_audio/0220_promiscuous.mp3\n"
     ]
    },
    {
     "name": "stderr",
     "output_type": "stream",
     "text": [
      "Invalid date: 0305\n",
      "GEOB frame does not contain a mime type\n",
      "GEOB frame does not contain a valid mime type\n"
     ]
    },
    {
     "name": "stdout",
     "output_type": "stream",
     "text": [
      "/Users/onieto/Desktop/Harmonix/final_audio/0222_realgoodlooking.mp3\n"
     ]
    },
    {
     "name": "stderr",
     "output_type": "stream",
     "text": [
      "GEOB frame does not contain a mime type\n",
      "GEOB frame does not contain a valid mime type\n"
     ]
    },
    {
     "name": "stdout",
     "output_type": "stream",
     "text": [
      "/Users/onieto/Desktop/Harmonix/final_audio/0223_reallove.mp3\n"
     ]
    },
    {
     "name": "stderr",
     "output_type": "stream",
     "text": [
      "GEOB frame does not contain a mime type\n",
      "GEOB frame does not contain a valid mime type\n"
     ]
    },
    {
     "name": "stdout",
     "output_type": "stream",
     "text": [
      "/Users/onieto/Desktop/Harmonix/final_audio/0226_rendezvu.mp3\n"
     ]
    },
    {
     "name": "stderr",
     "output_type": "stream",
     "text": [
      "GEOB frame does not contain a mime type\n",
      "GEOB frame does not contain a valid mime type\n"
     ]
    },
    {
     "name": "stdout",
     "output_type": "stream",
     "text": [
      "/Users/onieto/Desktop/Harmonix/final_audio/0227_replay.mp3\n"
     ]
    },
    {
     "name": "stderr",
     "output_type": "stream",
     "text": [
      "GEOB frame does not contain a mime type\n",
      "GEOB frame does not contain a valid mime type\n"
     ]
    },
    {
     "name": "stdout",
     "output_type": "stream",
     "text": [
      "/Users/onieto/Desktop/Harmonix/final_audio/0229_ridingonthewind.mp3\n"
     ]
    },
    {
     "name": "stderr",
     "output_type": "stream",
     "text": [
      "GEOB frame does not contain a mime type\n",
      "GEOB frame does not contain a valid mime type\n"
     ]
    },
    {
     "name": "stdout",
     "output_type": "stream",
     "text": [
      "/Users/onieto/Desktop/Harmonix/final_audio/0231_rightthurr.mp3\n"
     ]
    },
    {
     "name": "stderr",
     "output_type": "stream",
     "text": [
      "GEOB frame does not contain a mime type\n",
      "GEOB frame does not contain a valid mime type\n"
     ]
    },
    {
     "name": "stdout",
     "output_type": "stream",
     "text": [
      "/Users/onieto/Desktop/Harmonix/final_audio/0233_rocknrollnightmare.mp3\n"
     ]
    },
    {
     "name": "stderr",
     "output_type": "stream",
     "text": [
      "GEOB frame does not contain a mime type\n",
      "GEOB frame does not contain a valid mime type\n"
     ]
    },
    {
     "name": "stdout",
     "output_type": "stream",
     "text": [
      "/Users/onieto/Desktop/Harmonix/final_audio/0234_roundandround.mp3\n"
     ]
    },
    {
     "name": "stderr",
     "output_type": "stream",
     "text": [
      "GEOB frame does not contain a mime type\n",
      "GEOB frame does not contain a valid mime type\n"
     ]
    },
    {
     "name": "stdout",
     "output_type": "stream",
     "text": [
      "/Users/onieto/Desktop/Harmonix/final_audio/0235_rudeboy.mp3\n"
     ]
    },
    {
     "name": "stderr",
     "output_type": "stream",
     "text": [
      "GEOB frame does not contain a mime type\n",
      "GEOB frame does not contain a valid mime type\n"
     ]
    },
    {
     "name": "stdout",
     "output_type": "stream",
     "text": [
      "/Users/onieto/Desktop/Harmonix/final_audio/0236_rumpshaker.mp3\n"
     ]
    },
    {
     "name": "stderr",
     "output_type": "stream",
     "text": [
      "GEOB frame does not contain a mime type\n",
      "GEOB frame does not contain a valid mime type\n",
      "Frame 'IPLS' is not yet supported, using raw Frame to parse\n"
     ]
    },
    {
     "name": "stdout",
     "output_type": "stream",
     "text": [
      "/Users/onieto/Desktop/Harmonix/final_audio/0237_run.mp3\n"
     ]
    },
    {
     "name": "stderr",
     "output_type": "stream",
     "text": [
      "GEOB frame does not contain a mime type\n",
      "GEOB frame does not contain a valid mime type\n"
     ]
    },
    {
     "name": "stdout",
     "output_type": "stream",
     "text": [
      "/Users/onieto/Desktop/Harmonix/final_audio/0238_sambadejaneiro.mp3\n"
     ]
    },
    {
     "name": "stderr",
     "output_type": "stream",
     "text": [
      "GEOB frame does not contain a mime type\n",
      "GEOB frame does not contain a valid mime type\n"
     ]
    },
    {
     "name": "stdout",
     "output_type": "stream",
     "text": [
      "/Users/onieto/Desktop/Harmonix/final_audio/0239_sandm.mp3\n"
     ]
    },
    {
     "name": "stderr",
     "output_type": "stream",
     "text": [
      "GEOB frame does not contain a mime type\n",
      "GEOB frame does not contain a valid mime type\n"
     ]
    },
    {
     "name": "stdout",
     "output_type": "stream",
     "text": [
      "/Users/onieto/Desktop/Harmonix/final_audio/0240_sandstorm.mp3\n"
     ]
    },
    {
     "name": "stderr",
     "output_type": "stream",
     "text": [
      "GEOB frame does not contain a mime type\n",
      "GEOB frame does not contain a valid mime type\n"
     ]
    },
    {
     "name": "stdout",
     "output_type": "stream",
     "text": [
      "/Users/onieto/Desktop/Harmonix/final_audio/0241_satellite.mp3\n"
     ]
    },
    {
     "name": "stderr",
     "output_type": "stream",
     "text": [
      "GEOB frame does not contain a mime type\n",
      "GEOB frame does not contain a valid mime type\n"
     ]
    },
    {
     "name": "stdout",
     "output_type": "stream",
     "text": [
      "/Users/onieto/Desktop/Harmonix/final_audio/0242_satisfaction.mp3\n"
     ]
    },
    {
     "name": "stderr",
     "output_type": "stream",
     "text": [
      "GEOB frame does not contain a mime type\n",
      "GEOB frame does not contain a valid mime type\n"
     ]
    },
    {
     "name": "stdout",
     "output_type": "stream",
     "text": [
      "/Users/onieto/Desktop/Harmonix/final_audio/0243_saucyjack.mp3\n"
     ]
    },
    {
     "name": "stderr",
     "output_type": "stream",
     "text": [
      "GEOB frame does not contain a mime type\n",
      "GEOB frame does not contain a valid mime type\n"
     ]
    },
    {
     "name": "stdout",
     "output_type": "stream",
     "text": [
      "/Users/onieto/Desktop/Harmonix/final_audio/0244_sayaah.mp3\n"
     ]
    },
    {
     "name": "stderr",
     "output_type": "stream",
     "text": [
      "GEOB frame does not contain a mime type\n",
      "GEOB frame does not contain a valid mime type\n"
     ]
    },
    {
     "name": "stdout",
     "output_type": "stream",
     "text": [
      "/Users/onieto/Desktop/Harmonix/final_audio/0245_sayhey.mp3\n"
     ]
    },
    {
     "name": "stderr",
     "output_type": "stream",
     "text": [
      "GEOB frame does not contain a mime type\n",
      "GEOB frame does not contain a valid mime type\n"
     ]
    },
    {
     "name": "stdout",
     "output_type": "stream",
     "text": [
      "/Users/onieto/Desktop/Harmonix/final_audio/0246_scenario.mp3\n"
     ]
    },
    {
     "name": "stderr",
     "output_type": "stream",
     "text": [
      "GEOB frame does not contain a mime type\n",
      "GEOB frame does not contain a valid mime type\n"
     ]
    },
    {
     "name": "stdout",
     "output_type": "stream",
     "text": [
      "/Users/onieto/Desktop/Harmonix/final_audio/0247_scream.mp3\n"
     ]
    },
    {
     "name": "stderr",
     "output_type": "stream",
     "text": [
      "GEOB frame does not contain a mime type\n",
      "GEOB frame does not contain a valid mime type\n"
     ]
    },
    {
     "name": "stdout",
     "output_type": "stream",
     "text": [
      "/Users/onieto/Desktop/Harmonix/final_audio/0248_screamingfor.mp3\n"
     ]
    },
    {
     "name": "stderr",
     "output_type": "stream",
     "text": [
      "GEOB frame does not contain a mime type\n",
      "GEOB frame does not contain a valid mime type\n"
     ]
    },
    {
     "name": "stdout",
     "output_type": "stream",
     "text": [
      "/Users/onieto/Desktop/Harmonix/final_audio/0249_sensualseduction.mp3\n"
     ]
    },
    {
     "name": "stderr",
     "output_type": "stream",
     "text": [
      "GEOB frame does not contain a mime type\n",
      "GEOB frame does not contain a valid mime type\n"
     ]
    },
    {
     "name": "stdout",
     "output_type": "stream",
     "text": [
      "/Users/onieto/Desktop/Harmonix/final_audio/0250_sexyandiknowit.mp3\n"
     ]
    },
    {
     "name": "stderr",
     "output_type": "stream",
     "text": [
      "GEOB frame does not contain a mime type\n",
      "GEOB frame does not contain a valid mime type\n"
     ]
    },
    {
     "name": "stdout",
     "output_type": "stream",
     "text": [
      "/Users/onieto/Desktop/Harmonix/final_audio/0251_sexychick.mp3\n"
     ]
    },
    {
     "name": "stderr",
     "output_type": "stream",
     "text": [
      "GEOB frame does not contain a mime type\n",
      "GEOB frame does not contain a valid mime type\n"
     ]
    },
    {
     "name": "stdout",
     "output_type": "stream",
     "text": [
      "/Users/onieto/Desktop/Harmonix/final_audio/0254_sixsixsix.mp3\n"
     ]
    },
    {
     "name": "stderr",
     "output_type": "stream",
     "text": [
      "GEOB frame does not contain a mime type\n",
      "GEOB frame does not contain a valid mime type\n"
     ]
    },
    {
     "name": "stdout",
     "output_type": "stream",
     "text": [
      "/Users/onieto/Desktop/Harmonix/final_audio/0255_sleepwalker.mp3\n"
     ]
    },
    {
     "name": "stderr",
     "output_type": "stream",
     "text": [
      "GEOB frame does not contain a mime type\n",
      "GEOB frame does not contain a valid mime type\n"
     ]
    },
    {
     "name": "stdout",
     "output_type": "stream",
     "text": [
      "/Users/onieto/Desktop/Harmonix/final_audio/0257_somebodytolove.mp3\n"
     ]
    },
    {
     "name": "stderr",
     "output_type": "stream",
     "text": [
      "GEOB frame does not contain a mime type\n",
      "GEOB frame does not contain a valid mime type\n"
     ]
    },
    {
     "name": "stdout",
     "output_type": "stream",
     "text": [
      "/Users/onieto/Desktop/Harmonix/final_audio/0258_sorry.mp3\n"
     ]
    },
    {
     "name": "stderr",
     "output_type": "stream",
     "text": [
      "GEOB frame does not contain a mime type\n",
      "GEOB frame does not contain a valid mime type\n"
     ]
    },
    {
     "name": "stdout",
     "output_type": "stream",
     "text": [
      "/Users/onieto/Desktop/Harmonix/final_audio/0259_spiceupyourlife.mp3\n"
     ]
    },
    {
     "name": "stderr",
     "output_type": "stream",
     "text": [
      "GEOB frame does not contain a mime type\n",
      "GEOB frame does not contain a valid mime type\n"
     ]
    },
    {
     "name": "stdout",
     "output_type": "stream",
     "text": [
      "/Users/onieto/Desktop/Harmonix/final_audio/0261_starships.mp3\n"
     ]
    },
    {
     "name": "stderr",
     "output_type": "stream",
     "text": [
      "GEOB frame does not contain a mime type\n",
      "GEOB frame does not contain a valid mime type\n",
      "Frame 'IPLS' is not yet supported, using raw Frame to parse\n"
     ]
    },
    {
     "name": "stdout",
     "output_type": "stream",
     "text": [
      "/Users/onieto/Desktop/Harmonix/final_audio/0262_stash.mp3\n"
     ]
    },
    {
     "name": "stderr",
     "output_type": "stream",
     "text": [
      "GEOB frame does not contain a mime type\n",
      "GEOB frame does not contain a valid mime type\n"
     ]
    },
    {
     "name": "stdout",
     "output_type": "stream",
     "text": [
      "/Users/onieto/Desktop/Harmonix/final_audio/0264_stereolove.mp3\n"
     ]
    },
    {
     "name": "stderr",
     "output_type": "stream",
     "text": [
      "GEOB frame does not contain a mime type\n",
      "GEOB frame does not contain a valid mime type\n",
      "Frame 'IPLS' is not yet supported, using raw Frame to parse\n"
     ]
    },
    {
     "name": "stdout",
     "output_type": "stream",
     "text": [
      "/Users/onieto/Desktop/Harmonix/final_audio/0265_straightlines.mp3\n"
     ]
    },
    {
     "name": "stderr",
     "output_type": "stream",
     "text": [
      "GEOB frame does not contain a mime type\n",
      "GEOB frame does not contain a valid mime type\n"
     ]
    },
    {
     "name": "stdout",
     "output_type": "stream",
     "text": [
      "/Users/onieto/Desktop/Harmonix/final_audio/0266_straightup.mp3\n"
     ]
    },
    {
     "name": "stderr",
     "output_type": "stream",
     "text": [
      "GEOB frame does not contain a mime type\n",
      "GEOB frame does not contain a valid mime type\n"
     ]
    },
    {
     "name": "stdout",
     "output_type": "stream",
     "text": [
      "/Users/onieto/Desktop/Harmonix/final_audio/0267_superfreak.mp3\n"
     ]
    },
    {
     "name": "stderr",
     "output_type": "stream",
     "text": [
      "GEOB frame does not contain a mime type\n",
      "GEOB frame does not contain a valid mime type\n"
     ]
    },
    {
     "name": "stdout",
     "output_type": "stream",
     "text": [
      "/Users/onieto/Desktop/Harmonix/final_audio/0268_supersonic.mp3\n"
     ]
    },
    {
     "name": "stderr",
     "output_type": "stream",
     "text": [
      "GEOB frame does not contain a mime type\n",
      "GEOB frame does not contain a valid mime type\n"
     ]
    },
    {
     "name": "stdout",
     "output_type": "stream",
     "text": [
      "/Users/onieto/Desktop/Harmonix/final_audio/0269_sweettalk.mp3\n"
     ]
    },
    {
     "name": "stderr",
     "output_type": "stream",
     "text": [
      "GEOB frame does not contain a mime type\n",
      "GEOB frame does not contain a valid mime type\n"
     ]
    },
    {
     "name": "stdout",
     "output_type": "stream",
     "text": [
      "/Users/onieto/Desktop/Harmonix/final_audio/0270_takeovercontrol.mp3\n"
     ]
    },
    {
     "name": "stderr",
     "output_type": "stream",
     "text": [
      "GEOB frame does not contain a mime type\n",
      "GEOB frame does not contain a valid mime type\n"
     ]
    },
    {
     "name": "stdout",
     "output_type": "stream",
     "text": [
      "/Users/onieto/Desktop/Harmonix/final_audio/0271_teachmehowtodougie.mp3\n"
     ]
    },
    {
     "name": "stderr",
     "output_type": "stream",
     "text": [
      "GEOB frame does not contain a mime type\n",
      "GEOB frame does not contain a valid mime type\n"
     ]
    },
    {
     "name": "stdout",
     "output_type": "stream",
     "text": [
      "/Users/onieto/Desktop/Harmonix/final_audio/0272_teachmehowtojerk.mp3\n"
     ]
    },
    {
     "name": "stderr",
     "output_type": "stream",
     "text": [
      "GEOB frame does not contain a mime type\n",
      "GEOB frame does not contain a valid mime type\n"
     ]
    },
    {
     "name": "stdout",
     "output_type": "stream",
     "text": [
      "/Users/onieto/Desktop/Harmonix/final_audio/0273_technologic.mp3\n"
     ]
    },
    {
     "name": "stderr",
     "output_type": "stream",
     "text": [
      "GEOB frame does not contain a mime type\n",
      "GEOB frame does not contain a valid mime type\n"
     ]
    },
    {
     "name": "stdout",
     "output_type": "stream",
     "text": [
      "/Users/onieto/Desktop/Harmonix/final_audio/0274_temperature.mp3\n"
     ]
    },
    {
     "name": "stderr",
     "output_type": "stream",
     "text": [
      "GEOB frame does not contain a mime type\n",
      "GEOB frame does not contain a valid mime type\n"
     ]
    },
    {
     "name": "stdout",
     "output_type": "stream",
     "text": [
      "/Users/onieto/Desktop/Harmonix/final_audio/0276_texasflood.mp3\n"
     ]
    },
    {
     "name": "stderr",
     "output_type": "stream",
     "text": [
      "GEOB frame does not contain a mime type\n",
      "GEOB frame does not contain a valid mime type\n"
     ]
    },
    {
     "name": "stdout",
     "output_type": "stream",
     "text": [
      "/Users/onieto/Desktop/Harmonix/final_audio/0277_thashiznit.mp3\n"
     ]
    },
    {
     "name": "stderr",
     "output_type": "stream",
     "text": [
      "Invalid date: 0812\n",
      "GEOB frame does not contain a mime type\n",
      "GEOB frame does not contain a valid mime type\n"
     ]
    },
    {
     "name": "stdout",
     "output_type": "stream",
     "text": [
      "/Users/onieto/Desktop/Harmonix/final_audio/0278_thatsthahomie.mp3\n"
     ]
    },
    {
     "name": "stderr",
     "output_type": "stream",
     "text": [
      "GEOB frame does not contain a mime type\n",
      "GEOB frame does not contain a valid mime type\n"
     ]
    },
    {
     "name": "stdout",
     "output_type": "stream",
     "text": [
      "/Users/onieto/Desktop/Harmonix/final_audio/0279_thebreaks.mp3\n"
     ]
    },
    {
     "name": "stderr",
     "output_type": "stream",
     "text": [
      "GEOB frame does not contain a mime type\n",
      "GEOB frame does not contain a valid mime type\n"
     ]
    },
    {
     "name": "stdout",
     "output_type": "stream",
     "text": [
      "/Users/onieto/Desktop/Harmonix/final_audio/0280_thedayitriedtolive.mp3\n"
     ]
    },
    {
     "name": "stderr",
     "output_type": "stream",
     "text": [
      "GEOB frame does not contain a mime type\n",
      "GEOB frame does not contain a valid mime type\n"
     ]
    },
    {
     "name": "stdout",
     "output_type": "stream",
     "text": [
      "/Users/onieto/Desktop/Harmonix/final_audio/0281_theedgeofglory.mp3\n"
     ]
    },
    {
     "name": "stderr",
     "output_type": "stream",
     "text": [
      "GEOB frame does not contain a mime type\n",
      "GEOB frame does not contain a valid mime type\n"
     ]
    },
    {
     "name": "stdout",
     "output_type": "stream",
     "text": [
      "/Users/onieto/Desktop/Harmonix/final_audio/0282_thegreatsatan.mp3\n"
     ]
    },
    {
     "name": "stderr",
     "output_type": "stream",
     "text": [
      "GEOB frame does not contain a mime type\n",
      "GEOB frame does not contain a valid mime type\n"
     ]
    },
    {
     "name": "stdout",
     "output_type": "stream",
     "text": [
      "/Users/onieto/Desktop/Harmonix/final_audio/0283_thehumptydance.mp3\n"
     ]
    },
    {
     "name": "stderr",
     "output_type": "stream",
     "text": [
      "GEOB frame does not contain a mime type\n",
      "GEOB frame does not contain a valid mime type\n"
     ]
    },
    {
     "name": "stdout",
     "output_type": "stream",
     "text": [
      "/Users/onieto/Desktop/Harmonix/final_audio/0284_thehustle.mp3\n"
     ]
    },
    {
     "name": "stderr",
     "output_type": "stream",
     "text": [
      "GEOB frame does not contain a mime type\n",
      "GEOB frame does not contain a valid mime type\n"
     ]
    },
    {
     "name": "stdout",
     "output_type": "stream",
     "text": [
      "/Users/onieto/Desktop/Harmonix/final_audio/0285_thekill.mp3\n"
     ]
    },
    {
     "name": "stderr",
     "output_type": "stream",
     "text": [
      "GEOB frame does not contain a mime type\n",
      "GEOB frame does not contain a valid mime type\n"
     ]
    },
    {
     "name": "stdout",
     "output_type": "stream",
     "text": [
      "/Users/onieto/Desktop/Harmonix/final_audio/0286_theragelive.mp3\n"
     ]
    },
    {
     "name": "stderr",
     "output_type": "stream",
     "text": [
      "GEOB frame does not contain a mime type\n",
      "GEOB frame does not contain a valid mime type\n"
     ]
    },
    {
     "name": "stdout",
     "output_type": "stream",
     "text": [
      "/Users/onieto/Desktop/Harmonix/final_audio/0287_therewasatime.mp3\n"
     ]
    },
    {
     "name": "stderr",
     "output_type": "stream",
     "text": [
      "GEOB frame does not contain a mime type\n",
      "GEOB frame does not contain a valid mime type\n"
     ]
    },
    {
     "name": "stdout",
     "output_type": "stream",
     "text": [
      "/Users/onieto/Desktop/Harmonix/final_audio/0288_thewayiare.mp3\n"
     ]
    },
    {
     "name": "stderr",
     "output_type": "stream",
     "text": [
      "GEOB frame does not contain a mime type\n",
      "GEOB frame does not contain a valid mime type\n"
     ]
    },
    {
     "name": "stdout",
     "output_type": "stream",
     "text": [
      "/Users/onieto/Desktop/Harmonix/final_audio/0289_thisisexile.mp3\n"
     ]
    },
    {
     "name": "stderr",
     "output_type": "stream",
     "text": [
      "GEOB frame does not contain a mime type\n",
      "GEOB frame does not contain a valid mime type\n"
     ]
    },
    {
     "name": "stdout",
     "output_type": "stream",
     "text": [
      "/Users/onieto/Desktop/Harmonix/final_audio/0290_thisishowwedoit.mp3\n"
     ]
    },
    {
     "name": "stderr",
     "output_type": "stream",
     "text": [
      "GEOB frame does not contain a mime type\n",
      "GEOB frame does not contain a valid mime type\n"
     ]
    },
    {
     "name": "stdout",
     "output_type": "stream",
     "text": [
      "/Users/onieto/Desktop/Harmonix/final_audio/0291_thrasher.mp3\n"
     ]
    },
    {
     "name": "stderr",
     "output_type": "stream",
     "text": [
      "Invalid date: 0701\n",
      "GEOB frame does not contain a mime type\n",
      "GEOB frame does not contain a valid mime type\n"
     ]
    },
    {
     "name": "stdout",
     "output_type": "stream",
     "text": [
      "/Users/onieto/Desktop/Harmonix/final_audio/0292_timeslikethese.mp3\n"
     ]
    },
    {
     "name": "stderr",
     "output_type": "stream",
     "text": [
      "GEOB frame does not contain a mime type\n",
      "GEOB frame does not contain a valid mime type\n"
     ]
    },
    {
     "name": "stdout",
     "output_type": "stream",
     "text": [
      "/Users/onieto/Desktop/Harmonix/final_audio/0293_tomsawyer2.mp3\n"
     ]
    },
    {
     "name": "stderr",
     "output_type": "stream",
     "text": [
      "GEOB frame does not contain a mime type\n",
      "GEOB frame does not contain a valid mime type\n"
     ]
    },
    {
     "name": "stdout",
     "output_type": "stream",
     "text": [
      "/Users/onieto/Desktop/Harmonix/final_audio/0294_tonighttonight.mp3\n"
     ]
    },
    {
     "name": "stderr",
     "output_type": "stream",
     "text": [
      "GEOB frame does not contain a mime type\n",
      "GEOB frame does not contain a valid mime type\n"
     ]
    },
    {
     "name": "stdout",
     "output_type": "stream",
     "text": [
      "/Users/onieto/Desktop/Harmonix/final_audio/0295_toxic.mp3\n"
     ]
    },
    {
     "name": "stderr",
     "output_type": "stream",
     "text": [
      "Invalid date: 0611\n",
      "GEOB frame does not contain a mime type\n",
      "GEOB frame does not contain a valid mime type\n"
     ]
    },
    {
     "name": "stdout",
     "output_type": "stream",
     "text": [
      "/Users/onieto/Desktop/Harmonix/final_audio/0296_transmaniaconmc.mp3\n"
     ]
    },
    {
     "name": "stderr",
     "output_type": "stream",
     "text": [
      "GEOB frame does not contain a mime type\n",
      "GEOB frame does not contain a valid mime type\n"
     ]
    },
    {
     "name": "stdout",
     "output_type": "stream",
     "text": [
      "/Users/onieto/Desktop/Harmonix/final_audio/0297_troublecomesrunning.mp3\n"
     ]
    },
    {
     "name": "stderr",
     "output_type": "stream",
     "text": [
      "GEOB frame does not contain a mime type\n",
      "GEOB frame does not contain a valid mime type\n"
     ]
    },
    {
     "name": "stdout",
     "output_type": "stream",
     "text": [
      "/Users/onieto/Desktop/Harmonix/final_audio/0298_turnmeon.mp3\n"
     ]
    },
    {
     "name": "stderr",
     "output_type": "stream",
     "text": [
      "GEOB frame does not contain a mime type\n",
      "GEOB frame does not contain a valid mime type\n"
     ]
    },
    {
     "name": "stdout",
     "output_type": "stream",
     "text": [
      "/Users/onieto/Desktop/Harmonix/final_audio/0299_turnthebeataround.mp3\n"
     ]
    },
    {
     "name": "stderr",
     "output_type": "stream",
     "text": [
      "GEOB frame does not contain a mime type\n",
      "GEOB frame does not contain a valid mime type\n"
     ]
    },
    {
     "name": "stdout",
     "output_type": "stream",
     "text": [
      "/Users/onieto/Desktop/Harmonix/final_audio/0301_unclejohnsband.mp3\n"
     ]
    },
    {
     "name": "stderr",
     "output_type": "stream",
     "text": [
      "GEOB frame does not contain a mime type\n",
      "GEOB frame does not contain a valid mime type\n"
     ]
    },
    {
     "name": "stdout",
     "output_type": "stream",
     "text": [
      "/Users/onieto/Desktop/Harmonix/final_audio/0302_venus.mp3\n"
     ]
    },
    {
     "name": "stderr",
     "output_type": "stream",
     "text": [
      "GEOB frame does not contain a mime type\n",
      "GEOB frame does not contain a valid mime type\n"
     ]
    },
    {
     "name": "stdout",
     "output_type": "stream",
     "text": [
      "/Users/onieto/Desktop/Harmonix/final_audio/0303_wakeupdead.mp3\n"
     ]
    },
    {
     "name": "stderr",
     "output_type": "stream",
     "text": [
      "GEOB frame does not contain a mime type\n",
      "GEOB frame does not contain a valid mime type\n"
     ]
    },
    {
     "name": "stdout",
     "output_type": "stream",
     "text": [
      "/Users/onieto/Desktop/Harmonix/final_audio/0304_weaponofchoice.mp3\n"
     ]
    },
    {
     "name": "stderr",
     "output_type": "stream",
     "text": [
      "GEOB frame does not contain a mime type\n",
      "GEOB frame does not contain a valid mime type\n"
     ]
    },
    {
     "name": "stdout",
     "output_type": "stream",
     "text": [
      "/Users/onieto/Desktop/Harmonix/final_audio/0305_wenospeakamericano.mp3\n"
     ]
    },
    {
     "name": "stderr",
     "output_type": "stream",
     "text": [
      "GEOB frame does not contain a mime type\n",
      "GEOB frame does not contain a valid mime type\n"
     ]
    },
    {
     "name": "stdout",
     "output_type": "stream",
     "text": [
      "/Users/onieto/Desktop/Harmonix/final_audio/0306_werunthis.mp3\n"
     ]
    },
    {
     "name": "stderr",
     "output_type": "stream",
     "text": [
      "GEOB frame does not contain a mime type\n",
      "GEOB frame does not contain a valid mime type\n"
     ]
    },
    {
     "name": "stdout",
     "output_type": "stream",
     "text": [
      "/Users/onieto/Desktop/Harmonix/final_audio/0307_whatdoesntkillyou.mp3\n"
     ]
    },
    {
     "name": "stderr",
     "output_type": "stream",
     "text": [
      "GEOB frame does not contain a mime type\n",
      "GEOB frame does not contain a valid mime type\n"
     ]
    },
    {
     "name": "stdout",
     "output_type": "stream",
     "text": [
      "/Users/onieto/Desktop/Harmonix/final_audio/0308_whatislove.mp3\n"
     ]
    },
    {
     "name": "stderr",
     "output_type": "stream",
     "text": [
      "GEOB frame does not contain a mime type\n",
      "GEOB frame does not contain a valid mime type\n"
     ]
    },
    {
     "name": "stdout",
     "output_type": "stream",
     "text": [
      "/Users/onieto/Desktop/Harmonix/final_audio/0309_whatsmyname.mp3\n"
     ]
    },
    {
     "name": "stderr",
     "output_type": "stream",
     "text": [
      "GEOB frame does not contain a mime type\n",
      "GEOB frame does not contain a valid mime type\n"
     ]
    },
    {
     "name": "stdout",
     "output_type": "stream",
     "text": [
      "/Users/onieto/Desktop/Harmonix/final_audio/0310_whineup.mp3\n"
     ]
    },
    {
     "name": "stderr",
     "output_type": "stream",
     "text": [
      "GEOB frame does not contain a mime type\n",
      "GEOB frame does not contain a valid mime type\n"
     ]
    },
    {
     "name": "stdout",
     "output_type": "stream",
     "text": [
      "/Users/onieto/Desktop/Harmonix/final_audio/0311_whipmyhair.mp3\n"
     ]
    },
    {
     "name": "stderr",
     "output_type": "stream",
     "text": [
      "GEOB frame does not contain a mime type\n",
      "GEOB frame does not contain a valid mime type\n"
     ]
    },
    {
     "name": "stdout",
     "output_type": "stream",
     "text": [
      "/Users/onieto/Desktop/Harmonix/final_audio/0312_whitefalconfuzz.mp3\n"
     ]
    },
    {
     "name": "stderr",
     "output_type": "stream",
     "text": [
      "GEOB frame does not contain a mime type\n",
      "GEOB frame does not contain a valid mime type\n"
     ]
    },
    {
     "name": "stdout",
     "output_type": "stream",
     "text": [
      "/Users/onieto/Desktop/Harmonix/final_audio/0314_whoomp.mp3\n"
     ]
    },
    {
     "name": "stderr",
     "output_type": "stream",
     "text": [
      "GEOB frame does not contain a mime type\n",
      "GEOB frame does not contain a valid mime type\n"
     ]
    },
    {
     "name": "stdout",
     "output_type": "stream",
     "text": [
      "/Users/onieto/Desktop/Harmonix/final_audio/0315_whygo.mp3\n"
     ]
    },
    {
     "name": "stderr",
     "output_type": "stream",
     "text": [
      "GEOB frame does not contain a mime type\n",
      "GEOB frame does not contain a valid mime type\n"
     ]
    },
    {
     "name": "stdout",
     "output_type": "stream",
     "text": [
      "/Users/onieto/Desktop/Harmonix/final_audio/0316_wildones.mp3\n"
     ]
    },
    {
     "name": "stderr",
     "output_type": "stream",
     "text": [
      "GEOB frame does not contain a mime type\n",
      "GEOB frame does not contain a valid mime type\n"
     ]
    },
    {
     "name": "stdout",
     "output_type": "stream",
     "text": [
      "/Users/onieto/Desktop/Harmonix/final_audio/0318_windup.mp3\n"
     ]
    },
    {
     "name": "stderr",
     "output_type": "stream",
     "text": [
      "GEOB frame does not contain a mime type\n",
      "GEOB frame does not contain a valid mime type\n"
     ]
    },
    {
     "name": "stdout",
     "output_type": "stream",
     "text": [
      "/Users/onieto/Desktop/Harmonix/final_audio/0319_withoutyou.mp3\n"
     ]
    },
    {
     "name": "stderr",
     "output_type": "stream",
     "text": [
      "GEOB frame does not contain a mime type\n",
      "GEOB frame does not contain a valid mime type\n"
     ]
    },
    {
     "name": "stdout",
     "output_type": "stream",
     "text": [
      "/Users/onieto/Desktop/Harmonix/final_audio/0320_wolflikeme.mp3\n"
     ]
    },
    {
     "name": "stderr",
     "output_type": "stream",
     "text": [
      "GEOB frame does not contain a mime type\n",
      "GEOB frame does not contain a valid mime type\n"
     ]
    },
    {
     "name": "stdout",
     "output_type": "stream",
     "text": [
      "/Users/onieto/Desktop/Harmonix/final_audio/0321_wonderwall.mp3\n"
     ]
    },
    {
     "name": "stderr",
     "output_type": "stream",
     "text": [
      "GEOB frame does not contain a mime type\n",
      "GEOB frame does not contain a valid mime type\n"
     ]
    },
    {
     "name": "stdout",
     "output_type": "stream",
     "text": [
      "/Users/onieto/Desktop/Harmonix/final_audio/0322_wordup.mp3\n"
     ]
    },
    {
     "name": "stderr",
     "output_type": "stream",
     "text": [
      "GEOB frame does not contain a mime type\n",
      "GEOB frame does not contain a valid mime type\n"
     ]
    },
    {
     "name": "stdout",
     "output_type": "stream",
     "text": [
      "/Users/onieto/Desktop/Harmonix/final_audio/0323_yeah.mp3\n"
     ]
    },
    {
     "name": "stderr",
     "output_type": "stream",
     "text": [
      "GEOB frame does not contain a mime type\n",
      "GEOB frame does not contain a valid mime type\n"
     ]
    },
    {
     "name": "stdout",
     "output_type": "stream",
     "text": [
      "/Users/onieto/Desktop/Harmonix/final_audio/0324_yeah3x.mp3\n"
     ]
    },
    {
     "name": "stderr",
     "output_type": "stream",
     "text": [
      "GEOB frame does not contain a mime type\n",
      "GEOB frame does not contain a valid mime type\n"
     ]
    },
    {
     "name": "stdout",
     "output_type": "stream",
     "text": [
      "/Users/onieto/Desktop/Harmonix/final_audio/0325_ymca.mp3\n"
     ]
    },
    {
     "name": "stderr",
     "output_type": "stream",
     "text": [
      "GEOB frame does not contain a mime type\n",
      "GEOB frame does not contain a valid mime type\n"
     ]
    },
    {
     "name": "stdout",
     "output_type": "stream",
     "text": [
      "/Users/onieto/Desktop/Harmonix/final_audio/0326_yougotittherightstuff.mp3\n"
     ]
    },
    {
     "name": "stderr",
     "output_type": "stream",
     "text": [
      "Invalid date: 0302\n",
      "GEOB frame does not contain a mime type\n",
      "GEOB frame does not contain a valid mime type\n"
     ]
    },
    {
     "name": "stdout",
     "output_type": "stream",
     "text": [
      "/Users/onieto/Desktop/Harmonix/final_audio/0327_youmakemefeel.mp3\n"
     ]
    },
    {
     "name": "stderr",
     "output_type": "stream",
     "text": [
      "GEOB frame does not contain a mime type\n",
      "GEOB frame does not contain a valid mime type\n"
     ]
    },
    {
     "name": "stdout",
     "output_type": "stream",
     "text": [
      "/Users/onieto/Desktop/Harmonix/final_audio/0328_youmakemefeeldc.mp3\n"
     ]
    },
    {
     "name": "stderr",
     "output_type": "stream",
     "text": [
      "GEOB frame does not contain a mime type\n",
      "GEOB frame does not contain a valid mime type\n"
     ]
    },
    {
     "name": "stdout",
     "output_type": "stream",
     "text": [
      "/Users/onieto/Desktop/Harmonix/final_audio/0329_youreajerk.mp3\n"
     ]
    },
    {
     "name": "stderr",
     "output_type": "stream",
     "text": [
      "Invalid date: 0611\n",
      "GEOB frame does not contain a mime type\n",
      "GEOB frame does not contain a valid mime type\n"
     ]
    },
    {
     "name": "stdout",
     "output_type": "stream",
     "text": [
      "/Users/onieto/Desktop/Harmonix/final_audio/0330_50waystosaygoodbye.mp3\n"
     ]
    },
    {
     "name": "stderr",
     "output_type": "stream",
     "text": [
      "Invalid date: 0305\n",
      "GEOB frame does not contain a mime type\n",
      "GEOB frame does not contain a valid mime type\n"
     ]
    },
    {
     "name": "stdout",
     "output_type": "stream",
     "text": [
      "/Users/onieto/Desktop/Harmonix/final_audio/0331_againstallodds.mp3\n"
     ]
    },
    {
     "name": "stderr",
     "output_type": "stream",
     "text": [
      "GEOB frame does not contain a mime type\n",
      "GEOB frame does not contain a valid mime type\n"
     ]
    },
    {
     "name": "stdout",
     "output_type": "stream",
     "text": [
      "/Users/onieto/Desktop/Harmonix/final_audio/0332_alejandro.mp3\n"
     ]
    },
    {
     "name": "stderr",
     "output_type": "stream",
     "text": [
      "Invalid date: 0305\n",
      "GEOB frame does not contain a mime type\n",
      "GEOB frame does not contain a valid mime type\n"
     ]
    },
    {
     "name": "stdout",
     "output_type": "stream",
     "text": [
      "/Users/onieto/Desktop/Harmonix/final_audio/0333_allday.mp3\n"
     ]
    },
    {
     "name": "stderr",
     "output_type": "stream",
     "text": [
      "Invalid date: 0105\n",
      "GEOB frame does not contain a mime type\n",
      "GEOB frame does not contain a valid mime type\n"
     ]
    },
    {
     "name": "stdout",
     "output_type": "stream",
     "text": [
      "/Users/onieto/Desktop/Harmonix/final_audio/0334_alltherightplaces.mp3\n"
     ]
    },
    {
     "name": "stderr",
     "output_type": "stream",
     "text": [
      "Invalid date: 0102\n",
      "GEOB frame does not contain a mime type\n",
      "GEOB frame does not contain a valid mime type\n"
     ]
    },
    {
     "name": "stdout",
     "output_type": "stream",
     "text": [
      "/Users/onieto/Desktop/Harmonix/final_audio/0335_allyourlife.mp3\n"
     ]
    },
    {
     "name": "stderr",
     "output_type": "stream",
     "text": [
      "GEOB frame does not contain a mime type\n",
      "GEOB frame does not contain a valid mime type\n"
     ]
    },
    {
     "name": "stdout",
     "output_type": "stream",
     "text": [
      "/Users/onieto/Desktop/Harmonix/final_audio/0336_alonewithyou.mp3\n"
     ]
    },
    {
     "name": "stderr",
     "output_type": "stream",
     "text": [
      "Invalid date: 0305\n",
      "GEOB frame does not contain a mime type\n",
      "GEOB frame does not contain a valid mime type\n"
     ]
    },
    {
     "name": "stdout",
     "output_type": "stream",
     "text": [
      "/Users/onieto/Desktop/Harmonix/final_audio/0337_alwayssomethingthere.mp3\n"
     ]
    },
    {
     "name": "stderr",
     "output_type": "stream",
     "text": [
      "Invalid date: 0911\n",
      "GEOB frame does not contain a mime type\n",
      "GEOB frame does not contain a valid mime type\n"
     ]
    },
    {
     "name": "stdout",
     "output_type": "stream",
     "text": [
      "/Users/onieto/Desktop/Harmonix/final_audio/0338_animal.mp3\n"
     ]
    },
    {
     "name": "stderr",
     "output_type": "stream",
     "text": [
      "Invalid date: 0611\n",
      "GEOB frame does not contain a mime type\n",
      "GEOB frame does not contain a valid mime type\n"
     ]
    },
    {
     "name": "stdout",
     "output_type": "stream",
     "text": [
      "/Users/onieto/Desktop/Harmonix/final_audio/0339_aslongasyouloveme.mp3\n"
     ]
    },
    {
     "name": "stderr",
     "output_type": "stream",
     "text": [
      "Invalid date: 0708\n",
      "GEOB frame does not contain a mime type\n",
      "GEOB frame does not contain a valid mime type\n"
     ]
    },
    {
     "name": "stdout",
     "output_type": "stream",
     "text": [
      "/Users/onieto/Desktop/Harmonix/final_audio/0340_backintime.mp3\n"
     ]
    },
    {
     "name": "stderr",
     "output_type": "stream",
     "text": [
      "Invalid date: 0111\n",
      "GEOB frame does not contain a mime type\n",
      "GEOB frame does not contain a valid mime type\n"
     ]
    },
    {
     "name": "stdout",
     "output_type": "stream",
     "text": [
      "/Users/onieto/Desktop/Harmonix/final_audio/0341_baggageclaim.mp3\n"
     ]
    },
    {
     "name": "stderr",
     "output_type": "stream",
     "text": [
      "Invalid date: 0911\n",
      "GEOB frame does not contain a mime type\n",
      "GEOB frame does not contain a valid mime type\n"
     ]
    },
    {
     "name": "stdout",
     "output_type": "stream",
     "text": [
      "/Users/onieto/Desktop/Harmonix/final_audio/0342_bangpop.mp3\n"
     ]
    },
    {
     "name": "stderr",
     "output_type": "stream",
     "text": [
      "GEOB frame does not contain a mime type\n",
      "GEOB frame does not contain a valid mime type\n"
     ]
    },
    {
     "name": "stdout",
     "output_type": "stream",
     "text": [
      "/Users/onieto/Desktop/Harmonix/final_audio/0343_banjo.mp3\n"
     ]
    },
    {
     "name": "stderr",
     "output_type": "stream",
     "text": [
      "GEOB frame does not contain a mime type\n",
      "GEOB frame does not contain a valid mime type\n"
     ]
    },
    {
     "name": "stdout",
     "output_type": "stream",
     "text": [
      "/Users/onieto/Desktop/Harmonix/final_audio/0344_beautifullife.mp3\n"
     ]
    },
    {
     "name": "stderr",
     "output_type": "stream",
     "text": [
      "Invalid date: 0611\n",
      "GEOB frame does not contain a mime type\n",
      "GEOB frame does not contain a valid mime type\n"
     ]
    },
    {
     "name": "stdout",
     "output_type": "stream",
     "text": [
      "/Users/onieto/Desktop/Harmonix/final_audio/0345_beinlovetonight.mp3\n"
     ]
    },
    {
     "name": "stderr",
     "output_type": "stream",
     "text": [
      "Invalid date: 0811\n",
      "GEOB frame does not contain a mime type\n",
      "GEOB frame does not contain a valid mime type\n"
     ]
    },
    {
     "name": "stdout",
     "output_type": "stream",
     "text": [
      "/Users/onieto/Desktop/Harmonix/final_audio/0346_birthdaydress.mp3\n"
     ]
    },
    {
     "name": "stderr",
     "output_type": "stream",
     "text": [
      "GEOB frame does not contain a mime type\n",
      "GEOB frame does not contain a valid mime type\n"
     ]
    },
    {
     "name": "stdout",
     "output_type": "stream",
     "text": [
      "/Users/onieto/Desktop/Harmonix/final_audio/0347_bitch.mp3\n"
     ]
    },
    {
     "name": "stderr",
     "output_type": "stream",
     "text": [
      "Invalid date: 0702\n",
      "GEOB frame does not contain a mime type\n",
      "GEOB frame does not contain a valid mime type\n"
     ]
    },
    {
     "name": "stdout",
     "output_type": "stream",
     "text": [
      "/Users/onieto/Desktop/Harmonix/final_audio/0348_blackout.mp3\n"
     ]
    },
    {
     "name": "stderr",
     "output_type": "stream",
     "text": [
      "Invalid date: 0305\n",
      "GEOB frame does not contain a mime type\n",
      "GEOB frame does not contain a valid mime type\n"
     ]
    },
    {
     "name": "stdout",
     "output_type": "stream",
     "text": [
      "/Users/onieto/Desktop/Harmonix/final_audio/0349_blow.mp3\n"
     ]
    },
    {
     "name": "stderr",
     "output_type": "stream",
     "text": [
      "Invalid date: 0611\n",
      "GEOB frame does not contain a mime type\n",
      "GEOB frame does not contain a valid mime type\n"
     ]
    },
    {
     "name": "stdout",
     "output_type": "stream",
     "text": [
      "/Users/onieto/Desktop/Harmonix/final_audio/0350_blowme.mp3\n"
     ]
    },
    {
     "name": "stderr",
     "output_type": "stream",
     "text": [
      "Invalid date: 0702\n",
      "GEOB frame does not contain a mime type\n",
      "GEOB frame does not contain a valid mime type\n"
     ]
    },
    {
     "name": "stdout",
     "output_type": "stream",
     "text": [
      "/Users/onieto/Desktop/Harmonix/final_audio/0351_blowup.mp3\n"
     ]
    },
    {
     "name": "stderr",
     "output_type": "stream",
     "text": [
      "GEOB frame does not contain a mime type\n",
      "GEOB frame does not contain a valid mime type\n"
     ]
    },
    {
     "name": "stdout",
     "output_type": "stream",
     "text": [
      "/Users/onieto/Desktop/Harmonix/final_audio/0352_boogiewonderland.mp3\n"
     ]
    },
    {
     "name": "stderr",
     "output_type": "stream",
     "text": [
      "Invalid date: 0802\n",
      "GEOB frame does not contain a mime type\n",
      "GEOB frame does not contain a valid mime type\n"
     ]
    },
    {
     "name": "stdout",
     "output_type": "stream",
     "text": [
      "/Users/onieto/Desktop/Harmonix/final_audio/0353_bottomsup.mp3\n"
     ]
    },
    {
     "name": "stderr",
     "output_type": "stream",
     "text": [
      "GEOB frame does not contain a mime type\n",
      "GEOB frame does not contain a valid mime type\n"
     ]
    },
    {
     "name": "stdout",
     "output_type": "stream",
     "text": [
      "/Users/onieto/Desktop/Harmonix/final_audio/0354_brandnewday.mp3\n"
     ]
    },
    {
     "name": "stderr",
     "output_type": "stream",
     "text": [
      "Invalid date: 0105\n",
      "GEOB frame does not contain a mime type\n",
      "GEOB frame does not contain a valid mime type\n"
     ]
    },
    {
     "name": "stdout",
     "output_type": "stream",
     "text": [
      "/Users/onieto/Desktop/Harmonix/final_audio/0355_brokenhearted.mp3\n"
     ]
    },
    {
     "name": "stderr",
     "output_type": "stream",
     "text": [
      "GEOB frame does not contain a mime type\n",
      "GEOB frame does not contain a valid mime type\n"
     ]
    },
    {
     "name": "stdout",
     "output_type": "stream",
     "text": [
      "/Users/onieto/Desktop/Harmonix/final_audio/0356_californiagurls.mp3\n"
     ]
    },
    {
     "name": "stderr",
     "output_type": "stream",
     "text": [
      "Invalid date: 0811\n",
      "GEOB frame does not contain a mime type\n",
      "GEOB frame does not contain a valid mime type\n"
     ]
    },
    {
     "name": "stdout",
     "output_type": "stream",
     "text": [
      "/Users/onieto/Desktop/Harmonix/final_audio/0357_cheers.mp3\n"
     ]
    },
    {
     "name": "stderr",
     "output_type": "stream",
     "text": [
      "Invalid date: 0811\n",
      "GEOB frame does not contain a mime type\n",
      "GEOB frame does not contain a valid mime type\n"
     ]
    },
    {
     "name": "stdout",
     "output_type": "stream",
     "text": [
      "/Users/onieto/Desktop/Harmonix/final_audio/0358_children.mp3\n"
     ]
    },
    {
     "name": "stderr",
     "output_type": "stream",
     "text": [
      "Invalid date: 0305\n",
      "GEOB frame does not contain a mime type\n",
      "GEOB frame does not contain a valid mime type\n"
     ]
    },
    {
     "name": "stdout",
     "output_type": "stream",
     "text": [
      "/Users/onieto/Desktop/Harmonix/final_audio/0359_cominghome.mp3\n"
     ]
    },
    {
     "name": "stderr",
     "output_type": "stream",
     "text": [
      "GEOB frame does not contain a mime type\n",
      "GEOB frame does not contain a valid mime type\n"
     ]
    },
    {
     "name": "stdout",
     "output_type": "stream",
     "text": [
      "/Users/onieto/Desktop/Harmonix/final_audio/0360_coolerthanme.mp3\n"
     ]
    },
    {
     "name": "stderr",
     "output_type": "stream",
     "text": [
      "GEOB frame does not contain a mime type\n",
      "GEOB frame does not contain a valid mime type\n"
     ]
    },
    {
     "name": "stdout",
     "output_type": "stream",
     "text": [
      "/Users/onieto/Desktop/Harmonix/final_audio/0361_countrymustbecountrywide.mp3\n"
     ]
    },
    {
     "name": "stderr",
     "output_type": "stream",
     "text": [
      "GEOB frame does not contain a mime type\n",
      "GEOB frame does not contain a valid mime type\n"
     ]
    },
    {
     "name": "stdout",
     "output_type": "stream",
     "text": [
      "/Users/onieto/Desktop/Harmonix/final_audio/0362_crazygirl.mp3\n"
     ]
    },
    {
     "name": "stderr",
     "output_type": "stream",
     "text": [
      "Invalid date: 0611\n",
      "GEOB frame does not contain a mime type\n",
      "GEOB frame does not contain a valid mime type\n"
     ]
    },
    {
     "name": "stdout",
     "output_type": "stream",
     "text": [
      "/Users/onieto/Desktop/Harmonix/final_audio/0363_darkside.mp3\n"
     ]
    },
    {
     "name": "stderr",
     "output_type": "stream",
     "text": [
      "Invalid date: 0911\n",
      "GEOB frame does not contain a mime type\n",
      "GEOB frame does not contain a valid mime type\n"
     ]
    },
    {
     "name": "stdout",
     "output_type": "stream",
     "text": [
      "/Users/onieto/Desktop/Harmonix/final_audio/0364_deuces.mp3\n"
     ]
    },
    {
     "name": "stderr",
     "output_type": "stream",
     "text": [
      "Invalid date: 0211\n",
      "GEOB frame does not contain a mime type\n",
      "GEOB frame does not contain a valid mime type\n"
     ]
    },
    {
     "name": "stdout",
     "output_type": "stream",
     "text": [
      "/Users/onieto/Desktop/Harmonix/final_audio/0365_dirtroadanthem.mp3\n"
     ]
    },
    {
     "name": "stderr",
     "output_type": "stream",
     "text": [
      "Invalid date: 0702\n",
      "GEOB frame does not contain a mime type\n",
      "GEOB frame does not contain a valid mime type\n"
     ]
    },
    {
     "name": "stdout",
     "output_type": "stream",
     "text": [
      "/Users/onieto/Desktop/Harmonix/final_audio/0366_domino.mp3\n"
     ]
    },
    {
     "name": "stderr",
     "output_type": "stream",
     "text": [
      "Invalid date: 0305\n",
      "GEOB frame does not contain a mime type\n",
      "GEOB frame does not contain a valid mime type\n"
     ]
    },
    {
     "name": "stdout",
     "output_type": "stream",
     "text": [
      "/Users/onieto/Desktop/Harmonix/final_audio/0367_dontdreamitsover.mp3\n"
     ]
    },
    {
     "name": "stderr",
     "output_type": "stream",
     "text": [
      "Invalid date: 0611\n",
      "GEOB frame does not contain a mime type\n",
      "GEOB frame does not contain a valid mime type\n"
     ]
    },
    {
     "name": "stdout",
     "output_type": "stream",
     "text": [
      "/Users/onieto/Desktop/Harmonix/final_audio/0368_dontwakemeup.mp3\n"
     ]
    },
    {
     "name": "stderr",
     "output_type": "stream",
     "text": [
      "Invalid date: 0611\n",
      "GEOB frame does not contain a mime type\n",
      "GEOB frame does not contain a valid mime type\n"
     ]
    },
    {
     "name": "stdout",
     "output_type": "stream",
     "text": [
      "/Users/onieto/Desktop/Harmonix/final_audio/0369_dontyouworrychild.mp3\n"
     ]
    },
    {
     "name": "stderr",
     "output_type": "stream",
     "text": [
      "Invalid date: 0305\n",
      "GEOB frame does not contain a mime type\n",
      "GEOB frame does not contain a valid mime type\n"
     ]
    },
    {
     "name": "stdout",
     "output_type": "stream",
     "text": [
      "/Users/onieto/Desktop/Harmonix/final_audio/0370_downonme.mp3\n"
     ]
    },
    {
     "name": "stderr",
     "output_type": "stream",
     "text": [
      "Invalid date: 0305\n",
      "GEOB frame does not contain a mime type\n",
      "GEOB frame does not contain a valid mime type\n"
     ]
    },
    {
     "name": "stdout",
     "output_type": "stream",
     "text": [
      "/Users/onieto/Desktop/Harmonix/final_audio/0371_downunder.mp3\n"
     ]
    },
    {
     "name": "stderr",
     "output_type": "stream",
     "text": [
      "GEOB frame does not contain a mime type\n",
      "GEOB frame does not contain a valid mime type\n"
     ]
    },
    {
     "name": "stdout",
     "output_type": "stream",
     "text": [
      "/Users/onieto/Desktop/Harmonix/final_audio/0372_drinkinmyhand.mp3\n"
     ]
    },
    {
     "name": "stderr",
     "output_type": "stream",
     "text": [
      "Invalid date: 0105\n",
      "GEOB frame does not contain a mime type\n",
      "GEOB frame does not contain a valid mime type\n"
     ]
    },
    {
     "name": "stdout",
     "output_type": "stream",
     "text": [
      "/Users/onieto/Desktop/Harmonix/final_audio/0373_driveby.mp3\n"
     ]
    },
    {
     "name": "stderr",
     "output_type": "stream",
     "text": [
      "Invalid date: 0708\n",
      "GEOB frame does not contain a mime type\n",
      "GEOB frame does not contain a valid mime type\n"
     ]
    },
    {
     "name": "stdout",
     "output_type": "stream",
     "text": [
      "/Users/onieto/Desktop/Harmonix/final_audio/0374_drunkonyou.mp3\n"
     ]
    },
    {
     "name": "stderr",
     "output_type": "stream",
     "text": [
      "GEOB frame does not contain a mime type\n",
      "GEOB frame does not contain a valid mime type\n"
     ]
    },
    {
     "name": "stdout",
     "output_type": "stream",
     "text": [
      "/Users/onieto/Desktop/Harmonix/final_audio/0375_dynamite.mp3\n"
     ]
    },
    {
     "name": "stderr",
     "output_type": "stream",
     "text": [
      "Invalid date: 0105\n",
      "GEOB frame does not contain a mime type\n",
      "GEOB frame does not contain a valid mime type\n"
     ]
    },
    {
     "name": "stdout",
     "output_type": "stream",
     "text": [
      "/Users/onieto/Desktop/Harmonix/final_audio/0376_earthquake.mp3\n"
     ]
    },
    {
     "name": "stderr",
     "output_type": "stream",
     "text": [
      "Invalid date: 0702\n",
      "GEOB frame does not contain a mime type\n",
      "GEOB frame does not contain a valid mime type\n"
     ]
    },
    {
     "name": "stdout",
     "output_type": "stream",
     "text": [
      "/Users/onieto/Desktop/Harmonix/final_audio/0377_eatdirt.mp3\n"
     ]
    },
    {
     "name": "stderr",
     "output_type": "stream",
     "text": [
      "GEOB frame does not contain a mime type\n",
      "GEOB frame does not contain a valid mime type\n"
     ]
    },
    {
     "name": "stdout",
     "output_type": "stream",
     "text": [
      "/Users/onieto/Desktop/Harmonix/final_audio/0378_effinperfect.mp3\n"
     ]
    },
    {
     "name": "stderr",
     "output_type": "stream",
     "text": [
      "Invalid date: 0305\n",
      "GEOB frame does not contain a mime type\n",
      "GEOB frame does not contain a valid mime type\n"
     ]
    },
    {
     "name": "stdout",
     "output_type": "stream",
     "text": [
      "/Users/onieto/Desktop/Harmonix/final_audio/0379_et.mp3\n"
     ]
    },
    {
     "name": "stderr",
     "output_type": "stream",
     "text": [
      "Invalid date: 0708\n",
      "GEOB frame does not contain a mime type\n",
      "GEOB frame does not contain a valid mime type\n"
     ]
    },
    {
     "name": "stdout",
     "output_type": "stream",
     "text": [
      "/Users/onieto/Desktop/Harmonix/final_audio/0380_everybodytalks.mp3\n"
     ]
    },
    {
     "name": "stderr",
     "output_type": "stream",
     "text": [
      "GEOB frame does not contain a mime type\n",
      "GEOB frame does not contain a valid mime type\n"
     ]
    },
    {
     "name": "stdout",
     "output_type": "stream",
     "text": [
      "/Users/onieto/Desktop/Harmonix/final_audio/0381_everythingyouwant.mp3\n"
     ]
    },
    {
     "name": "stderr",
     "output_type": "stream",
     "text": [
      "GEOB frame does not contain a mime type\n",
      "GEOB frame does not contain a valid mime type\n"
     ]
    },
    {
     "name": "stdout",
     "output_type": "stream",
     "text": [
      "/Users/onieto/Desktop/Harmonix/final_audio/0382_fatherofmine.mp3\n"
     ]
    },
    {
     "name": "stderr",
     "output_type": "stream",
     "text": [
      "GEOB frame does not contain a mime type\n",
      "GEOB frame does not contain a valid mime type\n"
     ]
    },
    {
     "name": "stdout",
     "output_type": "stream",
     "text": [
      "/Users/onieto/Desktop/Harmonix/final_audio/0383_feelsoclose.mp3\n"
     ]
    },
    {
     "name": "stderr",
     "output_type": "stream",
     "text": [
      "GEOB frame does not contain a mime type\n",
      "GEOB frame does not contain a valid mime type\n"
     ]
    },
    {
     "name": "stdout",
     "output_type": "stream",
     "text": [
      "/Users/onieto/Desktop/Harmonix/final_audio/0384_finally.mp3\n"
     ]
    },
    {
     "name": "stderr",
     "output_type": "stream",
     "text": [
      "Invalid date: 0702\n",
      "GEOB frame does not contain a mime type\n",
      "GEOB frame does not contain a valid mime type\n"
     ]
    },
    {
     "name": "stdout",
     "output_type": "stream",
     "text": [
      "/Users/onieto/Desktop/Harmonix/final_audio/0385_fiveoclock.mp3\n"
     ]
    },
    {
     "name": "stderr",
     "output_type": "stream",
     "text": [
      "Invalid date: 0503\n",
      "GEOB frame does not contain a mime type\n",
      "GEOB frame does not contain a valid mime type\n"
     ]
    },
    {
     "name": "stdout",
     "output_type": "stream",
     "text": [
      "/Users/onieto/Desktop/Harmonix/final_audio/0386_footloose.mp3\n"
     ]
    },
    {
     "name": "stderr",
     "output_type": "stream",
     "text": [
      "Invalid date: 0105\n",
      "GEOB frame does not contain a mime type\n",
      "GEOB frame does not contain a valid mime type\n"
     ]
    },
    {
     "name": "stdout",
     "output_type": "stream",
     "text": [
      "/Users/onieto/Desktop/Harmonix/final_audio/0387_free.mp3\n"
     ]
    },
    {
     "name": "stderr",
     "output_type": "stream",
     "text": [
      "Invalid date: 0611\n",
      "GEOB frame does not contain a mime type\n",
      "GEOB frame does not contain a valid mime type\n"
     ]
    },
    {
     "name": "stdout",
     "output_type": "stream",
     "text": [
      "/Users/onieto/Desktop/Harmonix/final_audio/0388_gangnamstyle.mp3\n"
     ]
    },
    {
     "name": "stderr",
     "output_type": "stream",
     "text": [
      "GEOB frame does not contain a mime type\n",
      "GEOB frame does not contain a valid mime type\n"
     ]
    },
    {
     "name": "stdout",
     "output_type": "stream",
     "text": [
      "/Users/onieto/Desktop/Harmonix/final_audio/0389_gettinoveryou.mp3\n"
     ]
    },
    {
     "name": "stderr",
     "output_type": "stream",
     "text": [
      "Invalid date: 0105\n",
      "GEOB frame does not contain a mime type\n",
      "GEOB frame does not contain a valid mime type\n"
     ]
    },
    {
     "name": "stdout",
     "output_type": "stream",
     "text": [
      "/Users/onieto/Desktop/Harmonix/final_audio/0390_getyourselfbackhome.mp3\n"
     ]
    },
    {
     "name": "stderr",
     "output_type": "stream",
     "text": [
      "GEOB frame does not contain a mime type\n",
      "GEOB frame does not contain a valid mime type\n"
     ]
    },
    {
     "name": "stdout",
     "output_type": "stream",
     "text": [
      "/Users/onieto/Desktop/Harmonix/final_audio/0391_givemeallyourluvin.mp3\n"
     ]
    },
    {
     "name": "stderr",
     "output_type": "stream",
     "text": [
      "Invalid date: 0611\n",
      "GEOB frame does not contain a mime type\n",
      "GEOB frame does not contain a valid mime type\n"
     ]
    },
    {
     "name": "stdout",
     "output_type": "stream",
     "text": [
      "/Users/onieto/Desktop/Harmonix/final_audio/0392_givemeyourhand.mp3\n"
     ]
    },
    {
     "name": "stderr",
     "output_type": "stream",
     "text": [
      "Invalid date: 0708\n",
      "GEOB frame does not contain a mime type\n",
      "GEOB frame does not contain a valid mime type\n"
     ]
    },
    {
     "name": "stdout",
     "output_type": "stream",
     "text": [
      "/Users/onieto/Desktop/Harmonix/final_audio/0393_giveyourheartabreak.mp3\n"
     ]
    },
    {
     "name": "stderr",
     "output_type": "stream",
     "text": [
      "GEOB frame does not contain a mime type\n",
      "GEOB frame does not contain a valid mime type\n"
     ]
    },
    {
     "name": "stdout",
     "output_type": "stream",
     "text": [
      "/Users/onieto/Desktop/Harmonix/final_audio/0394_godgavemetoyou.mp3\n"
     ]
    },
    {
     "name": "stderr",
     "output_type": "stream",
     "text": [
      "Invalid date: 0611\n",
      "GEOB frame does not contain a mime type\n",
      "GEOB frame does not contain a valid mime type\n"
     ]
    },
    {
     "name": "stdout",
     "output_type": "stream",
     "text": [
      "/Users/onieto/Desktop/Harmonix/final_audio/0395_gold.mp3\n"
     ]
    },
    {
     "name": "stderr",
     "output_type": "stream",
     "text": [
      "Invalid date: 0105\n",
      "GEOB frame does not contain a mime type\n",
      "GEOB frame does not contain a valid mime type\n"
     ]
    },
    {
     "name": "stdout",
     "output_type": "stream",
     "text": [
      "/Users/onieto/Desktop/Harmonix/final_audio/0396_goodfeeling.mp3\n"
     ]
    },
    {
     "name": "stderr",
     "output_type": "stream",
     "text": [
      "GEOB frame does not contain a mime type\n",
      "GEOB frame does not contain a valid mime type\n"
     ]
    },
    {
     "name": "stdout",
     "output_type": "stream",
     "text": [
      "/Users/onieto/Desktop/Harmonix/final_audio/0397_goodlife.mp3\n"
     ]
    },
    {
     "name": "stderr",
     "output_type": "stream",
     "text": [
      "Invalid date: 0511\n",
      "GEOB frame does not contain a mime type\n",
      "GEOB frame does not contain a valid mime type\n"
     ]
    },
    {
     "name": "stdout",
     "output_type": "stream",
     "text": [
      "/Users/onieto/Desktop/Harmonix/final_audio/0398_goodtime.mp3\n"
     ]
    },
    {
     "name": "stderr",
     "output_type": "stream",
     "text": [
      "GEOB frame does not contain a mime type\n",
      "GEOB frame does not contain a valid mime type\n"
     ]
    },
    {
     "name": "stdout",
     "output_type": "stream",
     "text": [
      "/Users/onieto/Desktop/Harmonix/final_audio/0399_gotmygirls.mp3\n"
     ]
    },
    {
     "name": "stderr",
     "output_type": "stream",
     "text": [
      "Invalid date: 0305\n",
      "GEOB frame does not contain a mime type\n",
      "GEOB frame does not contain a valid mime type\n"
     ]
    },
    {
     "name": "stdout",
     "output_type": "stream",
     "text": [
      "/Users/onieto/Desktop/Harmonix/final_audio/0400_heatofthemoment.mp3\n"
     ]
    },
    {
     "name": "stderr",
     "output_type": "stream",
     "text": [
      "GEOB frame does not contain a mime type\n",
      "GEOB frame does not contain a valid mime type\n"
     ]
    },
    {
     "name": "stdout",
     "output_type": "stream",
     "text": [
      "/Users/onieto/Desktop/Harmonix/final_audio/0401_hello.mp3\n"
     ]
    },
    {
     "name": "stderr",
     "output_type": "stream",
     "text": [
      "GEOB frame does not contain a mime type\n",
      "GEOB frame does not contain a valid mime type\n",
      "Frame 'IPLS' is not yet supported, using raw Frame to parse\n"
     ]
    },
    {
     "name": "stdout",
     "output_type": "stream",
     "text": [
      "/Users/onieto/Desktop/Harmonix/final_audio/0402_herestous.mp3\n"
     ]
    },
    {
     "name": "stderr",
     "output_type": "stream",
     "text": [
      "Invalid date: 0802\n",
      "GEOB frame does not contain a mime type\n",
      "GEOB frame does not contain a valid mime type\n"
     ]
    },
    {
     "name": "stdout",
     "output_type": "stream",
     "text": [
      "/Users/onieto/Desktop/Harmonix/final_audio/0403_heybaby.mp3\n"
     ]
    },
    {
     "name": "stderr",
     "output_type": "stream",
     "text": [
      "GEOB frame does not contain a mime type\n",
      "GEOB frame does not contain a valid mime type\n"
     ]
    },
    {
     "name": "stdout",
     "output_type": "stream",
     "text": [
      "/Users/onieto/Desktop/Harmonix/final_audio/0404_holditagainstme.mp3\n"
     ]
    },
    {
     "name": "stderr",
     "output_type": "stream",
     "text": [
      "GEOB frame does not contain a mime type\n",
      "GEOB frame does not contain a valid mime type\n"
     ]
    },
    {
     "name": "stdout",
     "output_type": "stream",
     "text": [
      "/Users/onieto/Desktop/Harmonix/final_audio/0405_home.mp3\n"
     ]
    },
    {
     "name": "stderr",
     "output_type": "stream",
     "text": [
      "Invalid date: 0908\n",
      "GEOB frame does not contain a mime type\n",
      "GEOB frame does not contain a valid mime type\n"
     ]
    },
    {
     "name": "stdout",
     "output_type": "stream",
     "text": [
      "/Users/onieto/Desktop/Harmonix/final_audio/0406_honeybee.mp3\n"
     ]
    },
    {
     "name": "stderr",
     "output_type": "stream",
     "text": [
      "GEOB frame does not contain a mime type\n",
      "GEOB frame does not contain a valid mime type\n"
     ]
    },
    {
     "name": "stdout",
     "output_type": "stream",
     "text": [
      "/Users/onieto/Desktop/Harmonix/final_audio/0407_humpinaround.mp3\n"
     ]
    },
    {
     "name": "stderr",
     "output_type": "stream",
     "text": [
      "Invalid date: 0611\n",
      "GEOB frame does not contain a mime type\n",
      "GEOB frame does not contain a valid mime type\n"
     ]
    },
    {
     "name": "stdout",
     "output_type": "stream",
     "text": [
      "/Users/onieto/Desktop/Harmonix/final_audio/0408_icanonlyimagine.mp3\n"
     ]
    },
    {
     "name": "stderr",
     "output_type": "stream",
     "text": [
      "Invalid date: 0708\n",
      "GEOB frame does not contain a mime type\n",
      "GEOB frame does not contain a valid mime type\n"
     ]
    },
    {
     "name": "stdout",
     "output_type": "stream",
     "text": [
      "/Users/onieto/Desktop/Harmonix/final_audio/0409_idontlikeyou.mp3\n"
     ]
    },
    {
     "name": "stderr",
     "output_type": "stream",
     "text": [
      "Invalid date: 0712\n",
      "GEOB frame does not contain a mime type\n",
      "GEOB frame does not contain a valid mime type\n"
     ]
    },
    {
     "name": "stdout",
     "output_type": "stream",
     "text": [
      "/Users/onieto/Desktop/Harmonix/final_audio/0410_idontwantthisnighttoend.mp3\n"
     ]
    },
    {
     "name": "stderr",
     "output_type": "stream",
     "text": [
      "Invalid date: 0911\n",
      "GEOB frame does not contain a mime type\n",
      "GEOB frame does not contain a valid mime type\n"
     ]
    },
    {
     "name": "stdout",
     "output_type": "stream",
     "text": [
      "/Users/onieto/Desktop/Harmonix/final_audio/0411_ifihadyou.mp3\n"
     ]
    },
    {
     "name": "stderr",
     "output_type": "stream",
     "text": [
      "Invalid date: 0109\n",
      "GEOB frame does not contain a mime type\n",
      "GEOB frame does not contain a valid mime type\n"
     ]
    },
    {
     "name": "stdout",
     "output_type": "stream",
     "text": [
      "/Users/onieto/Desktop/Harmonix/final_audio/0412_ifitmakesyouhappy.mp3\n"
     ]
    },
    {
     "name": "stderr",
     "output_type": "stream",
     "text": [
      "GEOB frame does not contain a mime type\n",
      "GEOB frame does not contain a valid mime type\n"
     ]
    },
    {
     "name": "stdout",
     "output_type": "stream",
     "text": [
      "/Users/onieto/Desktop/Harmonix/final_audio/0413_ifyoucouldonlysee.mp3\n"
     ]
    },
    {
     "name": "stderr",
     "output_type": "stream",
     "text": [
      "GEOB frame does not contain a mime type\n",
      "GEOB frame does not contain a valid mime type\n"
     ]
    },
    {
     "name": "stdout",
     "output_type": "stream",
     "text": [
      "/Users/onieto/Desktop/Harmonix/final_audio/0414_illbe.mp3\n"
     ]
    },
    {
     "name": "stderr",
     "output_type": "stream",
     "text": [
      "Invalid date: 0305\n",
      "GEOB frame does not contain a mime type\n",
      "GEOB frame does not contain a valid mime type\n"
     ]
    },
    {
     "name": "stdout",
     "output_type": "stream",
     "text": [
      "/Users/onieto/Desktop/Harmonix/final_audio/0415_illbewaiting.mp3\n"
     ]
    },
    {
     "name": "stderr",
     "output_type": "stream",
     "text": [
      "GEOB frame does not contain a mime type\n",
      "GEOB frame does not contain a valid mime type\n"
     ]
    },
    {
     "name": "stdout",
     "output_type": "stream",
     "text": [
      "/Users/onieto/Desktop/Harmonix/final_audio/0416_impossible.mp3\n"
     ]
    },
    {
     "name": "stderr",
     "output_type": "stream",
     "text": [
      "GEOB frame does not contain a mime type\n",
      "GEOB frame does not contain a valid mime type\n"
     ]
    },
    {
     "name": "stdout",
     "output_type": "stream",
     "text": [
      "/Users/onieto/Desktop/Harmonix/final_audio/0417_imtoosexy.mp3\n"
     ]
    },
    {
     "name": "stderr",
     "output_type": "stream",
     "text": [
      "Invalid date: 0509\n",
      "GEOB frame does not contain a mime type\n",
      "GEOB frame does not contain a valid mime type\n"
     ]
    },
    {
     "name": "stdout",
     "output_type": "stream",
     "text": [
      "/Users/onieto/Desktop/Harmonix/final_audio/0418_inthedark.mp3\n"
     ]
    },
    {
     "name": "stderr",
     "output_type": "stream",
     "text": [
      "GEOB frame does not contain a mime type\n",
      "GEOB frame does not contain a valid mime type\n"
     ]
    },
    {
     "name": "stdout",
     "output_type": "stream",
     "text": [
      "/Users/onieto/Desktop/Harmonix/final_audio/0419_itgirl.mp3\n"
     ]
    },
    {
     "name": "stderr",
     "output_type": "stream",
     "text": [
      "GEOB frame does not contain a mime type\n",
      "GEOB frame does not contain a valid mime type\n"
     ]
    },
    {
     "name": "stdout",
     "output_type": "stream",
     "text": [
      "/Users/onieto/Desktop/Harmonix/final_audio/0420_itsrainingmen.mp3\n"
     ]
    },
    {
     "name": "stderr",
     "output_type": "stream",
     "text": [
      "GEOB frame does not contain a mime type\n",
      "GEOB frame does not contain a valid mime type\n"
     ]
    },
    {
     "name": "stdout",
     "output_type": "stream",
     "text": [
      "/Users/onieto/Desktop/Harmonix/final_audio/0421_ittakestwo.mp3\n"
     ]
    },
    {
     "name": "stderr",
     "output_type": "stream",
     "text": [
      "Invalid date: 0105\n",
      "GEOB frame does not contain a mime type\n",
      "GEOB frame does not contain a valid mime type\n"
     ]
    },
    {
     "name": "stdout",
     "output_type": "stream",
     "text": [
      "/Users/onieto/Desktop/Harmonix/final_audio/0422_itwillrain.mp3\n"
     ]
    },
    {
     "name": "stderr",
     "output_type": "stream",
     "text": [
      "GEOB frame does not contain a mime type\n",
      "GEOB frame does not contain a valid mime type\n"
     ]
    },
    {
     "name": "stdout",
     "output_type": "stream",
     "text": [
      "/Users/onieto/Desktop/Harmonix/final_audio/0423_iwannago.mp3\n"
     ]
    },
    {
     "name": "stderr",
     "output_type": "stream",
     "text": [
      "Invalid date: 0911\n",
      "GEOB frame does not contain a mime type\n",
      "GEOB frame does not contain a valid mime type\n"
     ]
    },
    {
     "name": "stdout",
     "output_type": "stream",
     "text": [
      "/Users/onieto/Desktop/Harmonix/final_audio/0424_justadream.mp3\n"
     ]
    },
    {
     "name": "stderr",
     "output_type": "stream",
     "text": [
      "GEOB frame does not contain a mime type\n",
      "GEOB frame does not contain a valid mime type\n"
     ]
    },
    {
     "name": "stdout",
     "output_type": "stream",
     "text": [
      "/Users/onieto/Desktop/Harmonix/final_audio/0425_justakiss.mp3\n"
     ]
    },
    {
     "name": "stderr",
     "output_type": "stream",
     "text": [
      "GEOB frame does not contain a mime type\n",
      "GEOB frame does not contain a valid mime type\n"
     ]
    },
    {
     "name": "stdout",
     "output_type": "stream",
     "text": [
      "/Users/onieto/Desktop/Harmonix/final_audio/0426_justcantgetenough.mp3\n"
     ]
    },
    {
     "name": "stderr",
     "output_type": "stream",
     "text": [
      "Invalid date: 0802\n",
      "GEOB frame does not contain a mime type\n",
      "GEOB frame does not contain a valid mime type\n"
     ]
    },
    {
     "name": "stdout",
     "output_type": "stream",
     "text": [
      "/Users/onieto/Desktop/Harmonix/final_audio/0427_justthewayyouare.mp3\n"
     ]
    },
    {
     "name": "stderr",
     "output_type": "stream",
     "text": [
      "Invalid date: 0911\n",
      "GEOB frame does not contain a mime type\n",
      "GEOB frame does not contain a valid mime type\n"
     ]
    },
    {
     "name": "stdout",
     "output_type": "stream",
     "text": [
      "/Users/onieto/Desktop/Harmonix/final_audio/0428_kingofanything.mp3\n"
     ]
    },
    {
     "name": "stderr",
     "output_type": "stream",
     "text": [
      "GEOB frame does not contain a mime type\n",
      "GEOB frame does not contain a valid mime type\n"
     ]
    },
    {
     "name": "stdout",
     "output_type": "stream",
     "text": [
      "/Users/onieto/Desktop/Harmonix/final_audio/0429_kissinu.mp3\n"
     ]
    },
    {
     "name": "stderr",
     "output_type": "stream",
     "text": [
      "GEOB frame does not contain a mime type\n",
      "GEOB frame does not contain a valid mime type\n"
     ]
    },
    {
     "name": "stdout",
     "output_type": "stream",
     "text": [
      "/Users/onieto/Desktop/Harmonix/final_audio/0430_lastfridaynight.mp3\n"
     ]
    },
    {
     "name": "stderr",
     "output_type": "stream",
     "text": [
      "GEOB frame does not contain a mime type\n",
      "GEOB frame does not contain a valid mime type\n"
     ]
    },
    {
     "name": "stdout",
     "output_type": "stream",
     "text": [
      "/Users/onieto/Desktop/Harmonix/final_audio/0431_letitrain.mp3\n"
     ]
    },
    {
     "name": "stderr",
     "output_type": "stream",
     "text": [
      "Invalid date: 0708\n",
      "GEOB frame does not contain a mime type\n",
      "GEOB frame does not contain a valid mime type\n"
     ]
    },
    {
     "name": "stdout",
     "output_type": "stream",
     "text": [
      "/Users/onieto/Desktop/Harmonix/final_audio/0432_letsgo.mp3\n"
     ]
    },
    {
     "name": "stderr",
     "output_type": "stream",
     "text": [
      "Invalid date: 0811\n",
      "GEOB frame does not contain a mime type\n",
      "GEOB frame does not contain a valid mime type\n"
     ]
    },
    {
     "name": "stdout",
     "output_type": "stream",
     "text": [
      "/Users/onieto/Desktop/Harmonix/final_audio/0433_lighters.mp3\n"
     ]
    },
    {
     "name": "stderr",
     "output_type": "stream",
     "text": [
      "Invalid date: 0708\n",
      "GEOB frame does not contain a mime type\n",
      "GEOB frame does not contain a valid mime type\n"
     ]
    },
    {
     "name": "stdout",
     "output_type": "stream",
     "text": [
      "/Users/onieto/Desktop/Harmonix/final_audio/0434_lights.mp3\n"
     ]
    },
    {
     "name": "stderr",
     "output_type": "stream",
     "text": [
      "Invalid date: 0604\n",
      "GEOB frame does not contain a mime type\n",
      "GEOB frame does not contain a valid mime type\n"
     ]
    },
    {
     "name": "stdout",
     "output_type": "stream",
     "text": [
      "/Users/onieto/Desktop/Harmonix/final_audio/0435_lookatmenow.mp3\n"
     ]
    },
    {
     "name": "stderr",
     "output_type": "stream",
     "text": [
      "Invalid date: 0708\n",
      "GEOB frame does not contain a mime type\n",
      "GEOB frame does not contain a valid mime type\n"
     ]
    },
    {
     "name": "stdout",
     "output_type": "stream",
     "text": [
      "/Users/onieto/Desktop/Harmonix/final_audio/0436_loveactually.mp3\n"
     ]
    },
    {
     "name": "stderr",
     "output_type": "stream",
     "text": [
      "GEOB frame does not contain a mime type\n",
      "GEOB frame does not contain a valid mime type\n"
     ]
    },
    {
     "name": "stdout",
     "output_type": "stream",
     "text": [
      "/Users/onieto/Desktop/Harmonix/final_audio/0437_lovelikewoe.mp3\n"
     ]
    },
    {
     "name": "stderr",
     "output_type": "stream",
     "text": [
      "GEOB frame does not contain a mime type\n",
      "GEOB frame does not contain a valid mime type\n"
     ]
    },
    {
     "name": "stdout",
     "output_type": "stream",
     "text": [
      "/Users/onieto/Desktop/Harmonix/final_audio/0438_loverlover.mp3\n"
     ]
    },
    {
     "name": "stderr",
     "output_type": "stream",
     "text": [
      "Invalid date: 0802\n",
      "GEOB frame does not contain a mime type\n",
      "GEOB frame does not contain a valid mime type\n"
     ]
    },
    {
     "name": "stdout",
     "output_type": "stream",
     "text": [
      "/Users/onieto/Desktop/Harmonix/final_audio/0439_lovethewayyoulie.mp3\n"
     ]
    },
    {
     "name": "stderr",
     "output_type": "stream",
     "text": [
      "Invalid date: 0702\n",
      "GEOB frame does not contain a mime type\n",
      "GEOB frame does not contain a valid mime type\n"
     ]
    },
    {
     "name": "stdout",
     "output_type": "stream",
     "text": [
      "/Users/onieto/Desktop/Harmonix/final_audio/0440_loveyoulikealovesong.mp3\n"
     ]
    },
    {
     "name": "stderr",
     "output_type": "stream",
     "text": [
      "Invalid date: 0802\n",
      "GEOB frame does not contain a mime type\n",
      "GEOB frame does not contain a valid mime type\n"
     ]
    },
    {
     "name": "stdout",
     "output_type": "stream",
     "text": [
      "/Users/onieto/Desktop/Harmonix/final_audio/0441_lovingyoutonight.mp3\n"
     ]
    },
    {
     "name": "stderr",
     "output_type": "stream",
     "text": [
      "GEOB frame does not contain a mime type\n",
      "GEOB frame does not contain a valid mime type\n"
     ]
    },
    {
     "name": "stdout",
     "output_type": "stream",
     "text": [
      "/Users/onieto/Desktop/Harmonix/final_audio/0442_lullaby.mp3\n"
     ]
    },
    {
     "name": "stderr",
     "output_type": "stream",
     "text": [
      "Invalid date: 0911\n",
      "GEOB frame does not contain a mime type\n",
      "GEOB frame does not contain a valid mime type\n"
     ]
    },
    {
     "name": "stdout",
     "output_type": "stream",
     "text": [
      "/Users/onieto/Desktop/Harmonix/final_audio/0443_magic.mp3\n"
     ]
    },
    {
     "name": "stderr",
     "output_type": "stream",
     "text": [
      "GEOB frame does not contain a mime type\n",
      "GEOB frame does not contain a valid mime type\n"
     ]
    },
    {
     "name": "stdout",
     "output_type": "stream",
     "text": [
      "/Users/onieto/Desktop/Harmonix/final_audio/0444_maybe.mp3\n"
     ]
    },
    {
     "name": "stderr",
     "output_type": "stream",
     "text": [
      "Invalid date: 0911\n",
      "GEOB frame does not contain a mime type\n",
      "GEOB frame does not contain a valid mime type\n"
     ]
    },
    {
     "name": "stdout",
     "output_type": "stream",
     "text": [
      "/Users/onieto/Desktop/Harmonix/final_audio/0445_memories.mp3\n"
     ]
    },
    {
     "name": "stderr",
     "output_type": "stream",
     "text": [
      "GEOB frame does not contain a mime type\n",
      "GEOB frame does not contain a valid mime type\n"
     ]
    },
    {
     "name": "stdout",
     "output_type": "stream",
     "text": [
      "/Users/onieto/Desktop/Harmonix/final_audio/0446_midnightcity.mp3\n"
     ]
    },
    {
     "name": "stderr",
     "output_type": "stream",
     "text": [
      "Invalid date: 0908\n",
      "GEOB frame does not contain a mime type\n",
      "GEOB frame does not contain a valid mime type\n"
     ]
    },
    {
     "name": "stdout",
     "output_type": "stream",
     "text": [
      "/Users/onieto/Desktop/Harmonix/final_audio/0447_mindyourmanners.mp3\n"
     ]
    },
    {
     "name": "stderr",
     "output_type": "stream",
     "text": [
      "Invalid date: 0802\n",
      "GEOB frame does not contain a mime type\n",
      "GEOB frame does not contain a valid mime type\n"
     ]
    },
    {
     "name": "stdout",
     "output_type": "stream",
     "text": [
      "/Users/onieto/Desktop/Harmonix/final_audio/0448_mine.mp3\n"
     ]
    },
    {
     "name": "stderr",
     "output_type": "stream",
     "text": [
      "Invalid date: 0911\n",
      "GEOB frame does not contain a mime type\n",
      "GEOB frame does not contain a valid mime type\n"
     ]
    },
    {
     "name": "stdout",
     "output_type": "stream",
     "text": [
      "/Users/onieto/Desktop/Harmonix/final_audio/0449_misery.mp3\n"
     ]
    },
    {
     "name": "stderr",
     "output_type": "stream",
     "text": [
      "Invalid date: 0305\n",
      "GEOB frame does not contain a mime type\n",
      "GEOB frame does not contain a valid mime type\n"
     ]
    },
    {
     "name": "stdout",
     "output_type": "stream",
     "text": [
      "/Users/onieto/Desktop/Harmonix/final_audio/0450_more.mp3\n"
     ]
    },
    {
     "name": "stderr",
     "output_type": "stream",
     "text": [
      "GEOB frame does not contain a mime type\n",
      "GEOB frame does not contain a valid mime type\n"
     ]
    },
    {
     "name": "stdout",
     "output_type": "stream",
     "text": [
      "/Users/onieto/Desktop/Harmonix/final_audio/0451_mrknowitall.mp3\n"
     ]
    },
    {
     "name": "stderr",
     "output_type": "stream",
     "text": [
      "GEOB frame does not contain a mime type\n",
      "GEOB frame does not contain a valid mime type\n"
     ]
    },
    {
     "name": "stdout",
     "output_type": "stream",
     "text": [
      "/Users/onieto/Desktop/Harmonix/final_audio/0452_myfirstkiss.mp3\n"
     ]
    },
    {
     "name": "stderr",
     "output_type": "stream",
     "text": [
      "Invalid date: 0802\n",
      "GEOB frame does not contain a mime type\n",
      "GEOB frame does not contain a valid mime type\n"
     ]
    },
    {
     "name": "stdout",
     "output_type": "stream",
     "text": [
      "/Users/onieto/Desktop/Harmonix/final_audio/0453_mygirl.mp3\n"
     ]
    },
    {
     "name": "stderr",
     "output_type": "stream",
     "text": [
      "Invalid date: 0708\n",
      "GEOB frame does not contain a mime type\n",
      "GEOB frame does not contain a valid mime type\n"
     ]
    },
    {
     "name": "stdout",
     "output_type": "stream",
     "text": [
      "/Users/onieto/Desktop/Harmonix/final_audio/0454_myohmy.mp3\n"
     ]
    },
    {
     "name": "stderr",
     "output_type": "stream",
     "text": [
      "Invalid date: 0305\n",
      "GEOB frame does not contain a mime type\n",
      "GEOB frame does not contain a valid mime type\n"
     ]
    },
    {
     "name": "stdout",
     "output_type": "stream",
     "text": [
      "/Users/onieto/Desktop/Harmonix/final_audio/0455_nevertearusapart.mp3\n"
     ]
    },
    {
     "name": "stderr",
     "output_type": "stream",
     "text": [
      "Invalid date: 0802\n",
      "GEOB frame does not contain a mime type\n",
      "GEOB frame does not contain a valid mime type\n"
     ]
    },
    {
     "name": "stdout",
     "output_type": "stream",
     "text": [
      "/Users/onieto/Desktop/Harmonix/final_audio/0456_nohands.mp3\n"
     ]
    },
    {
     "name": "stderr",
     "output_type": "stream",
     "text": [
      "GEOB frame does not contain a mime type\n",
      "GEOB frame does not contain a valid mime type\n"
     ]
    },
    {
     "name": "stdout",
     "output_type": "stream",
     "text": [
      "/Users/onieto/Desktop/Harmonix/final_audio/0457_nothing.mp3\n"
     ]
    },
    {
     "name": "stderr",
     "output_type": "stream",
     "text": [
      "GEOB frame does not contain a mime type\n",
      "GEOB frame does not contain a valid mime type\n"
     ]
    },
    {
     "name": "stdout",
     "output_type": "stream",
     "text": [
      "/Users/onieto/Desktop/Harmonix/final_audio/0458_notorious.mp3\n"
     ]
    },
    {
     "name": "stderr",
     "output_type": "stream",
     "text": [
      "Invalid date: 0702\n",
      "GEOB frame does not contain a mime type\n",
      "GEOB frame does not contain a valid mime type\n"
     ]
    },
    {
     "name": "stdout",
     "output_type": "stream",
     "text": [
      "/Users/onieto/Desktop/Harmonix/final_audio/0459_notoveryou.mp3\n"
     ]
    },
    {
     "name": "stderr",
     "output_type": "stream",
     "text": [
      "GEOB frame does not contain a mime type\n",
      "GEOB frame does not contain a valid mime type\n"
     ]
    },
    {
     "name": "stdout",
     "output_type": "stream",
     "text": [
      "/Users/onieto/Desktop/Harmonix/final_audio/0460_numb.mp3\n"
     ]
    },
    {
     "name": "stderr",
     "output_type": "stream",
     "text": [
      "GEOB frame does not contain a mime type\n",
      "GEOB frame does not contain a valid mime type\n"
     ]
    },
    {
     "name": "stdout",
     "output_type": "stream",
     "text": [
      "/Users/onieto/Desktop/Harmonix/final_audio/0461_obsession.mp3\n"
     ]
    },
    {
     "name": "stderr",
     "output_type": "stream",
     "text": [
      "GEOB frame does not contain a mime type\n",
      "GEOB frame does not contain a valid mime type\n"
     ]
    },
    {
     "name": "stdout",
     "output_type": "stream",
     "text": [
      "/Users/onieto/Desktop/Harmonix/final_audio/0462_oldalabama.mp3\n"
     ]
    },
    {
     "name": "stderr",
     "output_type": "stream",
     "text": [
      "Invalid date: 0611\n",
      "GEOB frame does not contain a mime type\n",
      "GEOB frame does not contain a valid mime type\n"
     ]
    },
    {
     "name": "stdout",
     "output_type": "stream",
     "text": [
      "/Users/onieto/Desktop/Harmonix/final_audio/0463_onemorenight.mp3\n"
     ]
    },
    {
     "name": "stderr",
     "output_type": "stream",
     "text": [
      "Invalid date: 0410\n",
      "GEOB frame does not contain a mime type\n",
      "GEOB frame does not contain a valid mime type\n"
     ]
    },
    {
     "name": "stdout",
     "output_type": "stream",
     "text": [
      "/Users/onieto/Desktop/Harmonix/final_audio/0464_oneofus.mp3\n"
     ]
    },
    {
     "name": "stderr",
     "output_type": "stream",
     "text": [
      "Invalid date: 0204\n",
      "GEOB frame does not contain a mime type\n",
      "GEOB frame does not contain a valid mime type\n"
     ]
    },
    {
     "name": "stdout",
     "output_type": "stream",
     "text": [
      "/Users/onieto/Desktop/Harmonix/final_audio/0465_onething.mp3\n"
     ]
    },
    {
     "name": "stderr",
     "output_type": "stream",
     "text": [
      "GEOB frame does not contain a mime type\n",
      "GEOB frame does not contain a valid mime type\n"
     ]
    },
    {
     "name": "stdout",
     "output_type": "stream",
     "text": [
      "/Users/onieto/Desktop/Harmonix/final_audio/0466_onthedarkside.mp3\n"
     ]
    },
    {
     "name": "stderr",
     "output_type": "stream",
     "text": [
      "GEOB frame does not contain a mime type\n",
      "GEOB frame does not contain a valid mime type\n"
     ]
    },
    {
     "name": "stdout",
     "output_type": "stream",
     "text": [
      "/Users/onieto/Desktop/Harmonix/final_audio/0467_onthefloor.mp3\n"
     ]
    },
    {
     "name": "stderr",
     "output_type": "stream",
     "text": [
      "Invalid date: 0502\n",
      "GEOB frame does not contain a mime type\n",
      "GEOB frame does not contain a valid mime type\n"
     ]
    },
    {
     "name": "stdout",
     "output_type": "stream",
     "text": [
      "/Users/onieto/Desktop/Harmonix/final_audio/0468_openarms.mp3\n"
     ]
    },
    {
     "name": "stderr",
     "output_type": "stream",
     "text": [
      "GEOB frame does not contain a mime type\n",
      "GEOB frame does not contain a valid mime type\n"
     ]
    },
    {
     "name": "stdout",
     "output_type": "stream",
     "text": [
      "/Users/onieto/Desktop/Harmonix/final_audio/0469_ordinaryworld.mp3\n"
     ]
    },
    {
     "name": "stderr",
     "output_type": "stream",
     "text": [
      "Invalid date: 0105\n",
      "GEOB frame does not contain a mime type\n",
      "GEOB frame does not contain a valid mime type\n"
     ]
    },
    {
     "name": "stdout",
     "output_type": "stream",
     "text": [
      "/Users/onieto/Desktop/Harmonix/final_audio/0470_ours.mp3\n"
     ]
    },
    {
     "name": "stderr",
     "output_type": "stream",
     "text": [
      "Invalid date: 0702\n",
      "GEOB frame does not contain a mime type\n",
      "GEOB frame does not contain a valid mime type\n"
     ]
    },
    {
     "name": "stdout",
     "output_type": "stream",
     "text": [
      "/Users/onieto/Desktop/Harmonix/final_audio/0471_paradise.mp3\n"
     ]
    },
    {
     "name": "stderr",
     "output_type": "stream",
     "text": [
      "Invalid date: 0708\n",
      "GEOB frame does not contain a mime type\n",
      "GEOB frame does not contain a valid mime type\n"
     ]
    },
    {
     "name": "stdout",
     "output_type": "stream",
     "text": [
      "/Users/onieto/Desktop/Harmonix/final_audio/0472_partofme.mp3\n"
     ]
    },
    {
     "name": "stderr",
     "output_type": "stream",
     "text": [
      "Invalid date: 0708\n",
      "GEOB frame does not contain a mime type\n",
      "GEOB frame does not contain a valid mime type\n"
     ]
    },
    {
     "name": "stdout",
     "output_type": "stream",
     "text": [
      "/Users/onieto/Desktop/Harmonix/final_audio/0473_payphone.mp3\n"
     ]
    },
    {
     "name": "stderr",
     "output_type": "stream",
     "text": [
      "Invalid date: 0802\n",
      "GEOB frame does not contain a mime type\n",
      "GEOB frame does not contain a valid mime type\n"
     ]
    },
    {
     "name": "stdout",
     "output_type": "stream",
     "text": [
      "/Users/onieto/Desktop/Harmonix/final_audio/0474_pleasedontgo.mp3\n"
     ]
    },
    {
     "name": "stderr",
     "output_type": "stream",
     "text": [
      "Invalid date: 0811\n",
      "GEOB frame does not contain a mime type\n",
      "GEOB frame does not contain a valid mime type\n"
     ]
    },
    {
     "name": "stdout",
     "output_type": "stream",
     "text": [
      "/Users/onieto/Desktop/Harmonix/final_audio/0475_poisonedwithlove.mp3\n"
     ]
    },
    {
     "name": "stderr",
     "output_type": "stream",
     "text": [
      "Invalid date: 0611\n",
      "GEOB frame does not contain a mime type\n",
      "GEOB frame does not contain a valid mime type\n"
     ]
    },
    {
     "name": "stdout",
     "output_type": "stream",
     "text": [
      "/Users/onieto/Desktop/Harmonix/final_audio/0476_pontoon.mp3\n"
     ]
    },
    {
     "name": "stderr",
     "output_type": "stream",
     "text": [
      "Invalid date: 0611\n",
      "GEOB frame does not contain a mime type\n",
      "GEOB frame does not contain a valid mime type\n"
     ]
    },
    {
     "name": "stdout",
     "output_type": "stream",
     "text": [
      "/Users/onieto/Desktop/Harmonix/final_audio/0477_poundthealarm.mp3\n"
     ]
    },
    {
     "name": "stderr",
     "output_type": "stream",
     "text": [
      "GEOB frame does not contain a mime type\n",
      "GEOB frame does not contain a valid mime type\n"
     ]
    },
    {
     "name": "stdout",
     "output_type": "stream",
     "text": [
      "/Users/onieto/Desktop/Harmonix/final_audio/0478_prayforyou.mp3\n"
     ]
    },
    {
     "name": "stderr",
     "output_type": "stream",
     "text": [
      "GEOB frame does not contain a mime type\n",
      "GEOB frame does not contain a valid mime type\n"
     ]
    },
    {
     "name": "stdout",
     "output_type": "stream",
     "text": [
      "/Users/onieto/Desktop/Harmonix/final_audio/0479_pricetag.mp3\n"
     ]
    },
    {
     "name": "stderr",
     "output_type": "stream",
     "text": [
      "Invalid date: 0708\n",
      "GEOB frame does not contain a mime type\n",
      "GEOB frame does not contain a valid mime type\n"
     ]
    },
    {
     "name": "stdout",
     "output_type": "stream",
     "text": [
      "/Users/onieto/Desktop/Harmonix/final_audio/0480_raiseyourglass.mp3\n"
     ]
    },
    {
     "name": "stderr",
     "output_type": "stream",
     "text": [
      "GEOB frame does not contain a mime type\n",
      "GEOB frame does not contain a valid mime type\n"
     ]
    },
    {
     "name": "stdout",
     "output_type": "stream",
     "text": [
      "/Users/onieto/Desktop/Harmonix/final_audio/0481_reallove.mp3\n"
     ]
    },
    {
     "name": "stderr",
     "output_type": "stream",
     "text": [
      "GEOB frame does not contain a mime type\n",
      "GEOB frame does not contain a valid mime type\n"
     ]
    },
    {
     "name": "stdout",
     "output_type": "stream",
     "text": [
      "/Users/onieto/Desktop/Harmonix/final_audio/0482_redsolocup.mp3\n"
     ]
    },
    {
     "name": "stderr",
     "output_type": "stream",
     "text": [
      "GEOB frame does not contain a mime type\n",
      "GEOB frame does not contain a valid mime type\n"
     ]
    },
    {
     "name": "stdout",
     "output_type": "stream",
     "text": [
      "/Users/onieto/Desktop/Harmonix/final_audio/0483_ridinsolo.mp3\n"
     ]
    },
    {
     "name": "stderr",
     "output_type": "stream",
     "text": [
      "GEOB frame does not contain a mime type\n",
      "GEOB frame does not contain a valid mime type\n"
     ]
    },
    {
     "name": "stdout",
     "output_type": "stream",
     "text": [
      "/Users/onieto/Desktop/Harmonix/final_audio/0484_rockthatbody.mp3\n"
     ]
    },
    {
     "name": "stderr",
     "output_type": "stream",
     "text": [
      "Invalid date: 0305\n",
      "GEOB frame does not contain a mime type\n",
      "GEOB frame does not contain a valid mime type\n"
     ]
    },
    {
     "name": "stdout",
     "output_type": "stream",
     "text": [
      "/Users/onieto/Desktop/Harmonix/final_audio/0485_rollinginthedeep.mp3\n"
     ]
    },
    {
     "name": "stderr",
     "output_type": "stream",
     "text": [
      "Invalid date: 0105\n",
      "GEOB frame does not contain a mime type\n",
      "GEOB frame does not contain a valid mime type\n"
     ]
    },
    {
     "name": "stdout",
     "output_type": "stream",
     "text": [
      "/Users/onieto/Desktop/Harmonix/final_audio/0486_rundatback.mp3\n"
     ]
    },
    {
     "name": "stderr",
     "output_type": "stream",
     "text": [
      "GEOB frame does not contain a mime type\n",
      "GEOB frame does not contain a valid mime type\n"
     ]
    },
    {
     "name": "stdout",
     "output_type": "stream",
     "text": [
      "/Users/onieto/Desktop/Harmonix/final_audio/0487_secrets.mp3\n"
     ]
    },
    {
     "name": "stderr",
     "output_type": "stream",
     "text": [
      "Invalid date: 0911\n",
      "GEOB frame does not contain a mime type\n",
      "GEOB frame does not contain a valid mime type\n"
     ]
    },
    {
     "name": "stdout",
     "output_type": "stream",
     "text": [
      "/Users/onieto/Desktop/Harmonix/final_audio/0488_september.mp3\n"
     ]
    },
    {
     "name": "stderr",
     "output_type": "stream",
     "text": [
      "GEOB frame does not contain a mime type\n",
      "GEOB frame does not contain a valid mime type\n"
     ]
    },
    {
     "name": "stdout",
     "output_type": "stream",
     "text": [
      "/Users/onieto/Desktop/Harmonix/final_audio/0489_shakeyourbody.mp3\n"
     ]
    },
    {
     "name": "stderr",
     "output_type": "stream",
     "text": [
      "Invalid date: 0908\n",
      "GEOB frame does not contain a mime type\n",
      "GEOB frame does not contain a valid mime type\n"
     ]
    },
    {
     "name": "stdout",
     "output_type": "stream",
     "text": [
      "/Users/onieto/Desktop/Harmonix/final_audio/0490_showme.mp3\n"
     ]
    },
    {
     "name": "stderr",
     "output_type": "stream",
     "text": [
      "Invalid date: 0811\n",
      "GEOB frame does not contain a mime type\n",
      "GEOB frame does not contain a valid mime type\n"
     ]
    },
    {
     "name": "stdout",
     "output_type": "stream",
     "text": [
      "/Users/onieto/Desktop/Harmonix/final_audio/0491_skyscraper.mp3\n"
     ]
    },
    {
     "name": "stderr",
     "output_type": "stream",
     "text": [
      "GEOB frame does not contain a mime type\n",
      "GEOB frame does not contain a valid mime type\n"
     ]
    },
    {
     "name": "stdout",
     "output_type": "stream",
     "text": [
      "/Users/onieto/Desktop/Harmonix/final_audio/0492_sm.mp3\n"
     ]
    },
    {
     "name": "stderr",
     "output_type": "stream",
     "text": [
      "Invalid date: 0702\n",
      "GEOB frame does not contain a mime type\n",
      "GEOB frame does not contain a valid mime type\n"
     ]
    },
    {
     "name": "stdout",
     "output_type": "stream",
     "text": [
      "/Users/onieto/Desktop/Harmonix/final_audio/0493_somebodysheartbreak.mp3\n"
     ]
    },
    {
     "name": "stderr",
     "output_type": "stream",
     "text": [
      "Invalid date: 0105\n",
      "GEOB frame does not contain a mime type\n",
      "GEOB frame does not contain a valid mime type\n"
     ]
    },
    {
     "name": "stdout",
     "output_type": "stream",
     "text": [
      "/Users/onieto/Desktop/Harmonix/final_audio/0494_somebodythatiusedtoknow.mp3\n"
     ]
    },
    {
     "name": "stderr",
     "output_type": "stream",
     "text": [
      "Invalid date: 0702\n",
      "GEOB frame does not contain a mime type\n",
      "GEOB frame does not contain a valid mime type\n"
     ]
    },
    {
     "name": "stdout",
     "output_type": "stream",
     "text": [
      "/Users/onieto/Desktop/Harmonix/final_audio/0495_someonelikeyou.mp3\n"
     ]
    },
    {
     "name": "stderr",
     "output_type": "stream",
     "text": [
      "GEOB frame does not contain a mime type\n",
      "GEOB frame does not contain a valid mime type\n"
     ]
    },
    {
     "name": "stdout",
     "output_type": "stream",
     "text": [
      "/Users/onieto/Desktop/Harmonix/final_audio/0496_sparksfly.mp3\n"
     ]
    },
    {
     "name": "stderr",
     "output_type": "stream",
     "text": [
      "GEOB frame does not contain a mime type\n",
      "GEOB frame does not contain a valid mime type\n"
     ]
    },
    {
     "name": "stdout",
     "output_type": "stream",
     "text": [
      "/Users/onieto/Desktop/Harmonix/final_audio/0497_speakers.mp3\n"
     ]
    },
    {
     "name": "stderr",
     "output_type": "stream",
     "text": [
      "Invalid date: 0105\n",
      "GEOB frame does not contain a mime type\n",
      "GEOB frame does not contain a valid mime type\n"
     ]
    },
    {
     "name": "stdout",
     "output_type": "stream",
     "text": [
      "/Users/onieto/Desktop/Harmonix/final_audio/0498_springsteen.mp3\n"
     ]
    },
    {
     "name": "stderr",
     "output_type": "stream",
     "text": [
      "Invalid date: 0908\n",
      "GEOB frame does not contain a mime type\n",
      "GEOB frame does not contain a valid mime type\n"
     ]
    },
    {
     "name": "stdout",
     "output_type": "stream",
     "text": [
      "/Users/onieto/Desktop/Harmonix/final_audio/0499_starbuckssmile.mp3\n"
     ]
    },
    {
     "name": "stderr",
     "output_type": "stream",
     "text": [
      "GEOB frame does not contain a mime type\n",
      "GEOB frame does not contain a valid mime type\n"
     ]
    },
    {
     "name": "stdout",
     "output_type": "stream",
     "text": [
      "/Users/onieto/Desktop/Harmonix/final_audio/0500_stay.mp3\n"
     ]
    },
    {
     "name": "stderr",
     "output_type": "stream",
     "text": [
      "Invalid date: 0611\n",
      "GEOB frame does not contain a mime type\n",
      "GEOB frame does not contain a valid mime type\n"
     ]
    },
    {
     "name": "stdout",
     "output_type": "stream",
     "text": [
      "/Users/onieto/Desktop/Harmonix/final_audio/0501_stayawhile.mp3\n"
     ]
    },
    {
     "name": "stderr",
     "output_type": "stream",
     "text": [
      "GEOB frame does not contain a mime type\n",
      "GEOB frame does not contain a valid mime type\n"
     ]
    },
    {
     "name": "stdout",
     "output_type": "stream",
     "text": [
      "/Users/onieto/Desktop/Harmonix/final_audio/0502_stronger.mp3\n"
     ]
    },
    {
     "name": "stderr",
     "output_type": "stream",
     "text": [
      "Invalid date: 0911\n",
      "GEOB frame does not contain a mime type\n",
      "GEOB frame does not contain a valid mime type\n"
     ]
    },
    {
     "name": "stdout",
     "output_type": "stream",
     "text": [
      "/Users/onieto/Desktop/Harmonix/final_audio/0503_stucklikeglue.mp3\n"
     ]
    },
    {
     "name": "stderr",
     "output_type": "stream",
     "text": [
      "Invalid date: 0911\n",
      "GEOB frame does not contain a mime type\n",
      "GEOB frame does not contain a valid mime type\n"
     ]
    },
    {
     "name": "stdout",
     "output_type": "stream",
     "text": [
      "/Users/onieto/Desktop/Harmonix/final_audio/0504_suspiciousminds.mp3\n"
     ]
    },
    {
     "name": "stderr",
     "output_type": "stream",
     "text": [
      "Invalid date: 0911\n",
      "GEOB frame does not contain a mime type\n",
      "GEOB frame does not contain a valid mime type\n"
     ]
    },
    {
     "name": "stdout",
     "output_type": "stream",
     "text": [
      "/Users/onieto/Desktop/Harmonix/final_audio/0505_takeitoff.mp3\n"
     ]
    },
    {
     "name": "stderr",
     "output_type": "stream",
     "text": [
      "Invalid date: 0305\n",
      "GEOB frame does not contain a mime type\n",
      "GEOB frame does not contain a valid mime type\n"
     ]
    },
    {
     "name": "stdout",
     "output_type": "stream",
     "text": [
      "/Users/onieto/Desktop/Harmonix/final_audio/0506_takemehometonight.mp3\n"
     ]
    },
    {
     "name": "stderr",
     "output_type": "stream",
     "text": [
      "GEOB frame does not contain a mime type\n",
      "GEOB frame does not contain a valid mime type\n"
     ]
    },
    {
     "name": "stdout",
     "output_type": "stream",
     "text": [
      "/Users/onieto/Desktop/Harmonix/final_audio/0507_teenagedream.mp3\n"
     ]
    },
    {
     "name": "stderr",
     "output_type": "stream",
     "text": [
      "GEOB frame does not contain a mime type\n",
      "GEOB frame does not contain a valid mime type\n"
     ]
    },
    {
     "name": "stdout",
     "output_type": "stream",
     "text": [
      "/Users/onieto/Desktop/Harmonix/final_audio/0508_tennesseeme.mp3\n"
     ]
    },
    {
     "name": "stderr",
     "output_type": "stream",
     "text": [
      "GEOB frame does not contain a mime type\n",
      "GEOB frame does not contain a valid mime type\n"
     ]
    },
    {
     "name": "stdout",
     "output_type": "stream",
     "text": [
      "/Users/onieto/Desktop/Harmonix/final_audio/0509_thelazysong.mp3\n"
     ]
    },
    {
     "name": "stderr",
     "output_type": "stream",
     "text": [
      "Invalid date: 0702\n",
      "GEOB frame does not contain a mime type\n",
      "GEOB frame does not contain a valid mime type\n"
     ]
    },
    {
     "name": "stdout",
     "output_type": "stream",
     "text": [
      "/Users/onieto/Desktop/Harmonix/final_audio/0510_theonethatgotaway.mp3\n"
     ]
    },
    {
     "name": "stderr",
     "output_type": "stream",
     "text": [
      "Invalid date: 0911\n",
      "GEOB frame does not contain a mime type\n",
      "GEOB frame does not contain a valid mime type\n"
     ]
    },
    {
     "name": "stdout",
     "output_type": "stream",
     "text": [
      "/Users/onieto/Desktop/Harmonix/final_audio/0511_theonlyexception.mp3\n"
     ]
    },
    {
     "name": "stderr",
     "output_type": "stream",
     "text": [
      "Invalid date: 0908\n",
      "GEOB frame does not contain a mime type\n",
      "GEOB frame does not contain a valid mime type\n"
     ]
    },
    {
     "name": "stdout",
     "output_type": "stream",
     "text": [
      "/Users/onieto/Desktop/Harmonix/final_audio/0512_theshowgoeson.mp3\n"
     ]
    },
    {
     "name": "stderr",
     "output_type": "stream",
     "text": [
      "Invalid date: 0305\n",
      "GEOB frame does not contain a mime type\n",
      "GEOB frame does not contain a valid mime type\n"
     ]
    },
    {
     "name": "stdout",
     "output_type": "stream",
     "text": [
      "/Users/onieto/Desktop/Harmonix/final_audio/0513_thetime.mp3\n"
     ]
    },
    {
     "name": "stderr",
     "output_type": "stream",
     "text": [
      "Invalid date: 0305\n",
      "GEOB frame does not contain a mime type\n",
      "GEOB frame does not contain a valid mime type\n"
     ]
    },
    {
     "name": "stdout",
     "output_type": "stream",
     "text": [
      "/Users/onieto/Desktop/Harmonix/final_audio/0514_thetimeofmylife.mp3\n"
     ]
    },
    {
     "name": "stderr",
     "output_type": "stream",
     "text": [
      "GEOB frame does not contain a mime type\n",
      "GEOB frame does not contain a valid mime type\n"
     ]
    },
    {
     "name": "stdout",
     "output_type": "stream",
     "text": [
      "/Users/onieto/Desktop/Harmonix/final_audio/0515_thisafternoon.mp3\n"
     ]
    },
    {
     "name": "stderr",
     "output_type": "stream",
     "text": [
      "Invalid date: 0802\n",
      "GEOB frame does not contain a mime type\n",
      "GEOB frame does not contain a valid mime type\n"
     ]
    },
    {
     "name": "stdout",
     "output_type": "stream",
     "text": [
      "/Users/onieto/Desktop/Harmonix/final_audio/0516_thisorthat.mp3\n"
     ]
    },
    {
     "name": "stderr",
     "output_type": "stream",
     "text": [
      "Invalid date: 0908\n",
      "GEOB frame does not contain a mime type\n",
      "GEOB frame does not contain a valid mime type\n"
     ]
    },
    {
     "name": "stdout",
     "output_type": "stream",
     "text": [
      "/Users/onieto/Desktop/Harmonix/final_audio/0517_tilltheworldends.mp3\n"
     ]
    },
    {
     "name": "stderr",
     "output_type": "stream",
     "text": [
      "Invalid date: 0305\n",
      "GEOB frame does not contain a mime type\n",
      "GEOB frame does not contain a valid mime type\n"
     ]
    },
    {
     "name": "stdout",
     "output_type": "stream",
     "text": [
      "/Users/onieto/Desktop/Harmonix/final_audio/0518_timeaftertime.mp3\n"
     ]
    },
    {
     "name": "stderr",
     "output_type": "stream",
     "text": [
      "Invalid date: 0708\n",
      "GEOB frame does not contain a mime type\n",
      "GEOB frame does not contain a valid mime type\n"
     ]
    },
    {
     "name": "stdout",
     "output_type": "stream",
     "text": [
      "/Users/onieto/Desktop/Harmonix/final_audio/0519_titanium.mp3\n"
     ]
    },
    {
     "name": "stderr",
     "output_type": "stream",
     "text": [
      "Invalid date: 0305\n",
      "GEOB frame does not contain a mime type\n",
      "GEOB frame does not contain a valid mime type\n"
     ]
    },
    {
     "name": "stdout",
     "output_type": "stream",
     "text": [
      "/Users/onieto/Desktop/Harmonix/final_audio/0520_tonight.mp3\n"
     ]
    },
    {
     "name": "stderr",
     "output_type": "stream",
     "text": [
      "Invalid date: 0708\n",
      "GEOB frame does not contain a mime type\n",
      "GEOB frame does not contain a valid mime type\n"
     ]
    },
    {
     "name": "stdout",
     "output_type": "stream",
     "text": [
      "/Users/onieto/Desktop/Harmonix/final_audio/0521_tooclose.mp3\n"
     ]
    },
    {
     "name": "stderr",
     "output_type": "stream",
     "text": [
      "Invalid date: 0105\n",
      "GEOB frame does not contain a mime type\n",
      "GEOB frame does not contain a valid mime type\n"
     ]
    },
    {
     "name": "stdout",
     "output_type": "stream",
     "text": [
      "/Users/onieto/Desktop/Harmonix/final_audio/0522_turnupthemusic.mp3\n"
     ]
    },
    {
     "name": "stderr",
     "output_type": "stream",
     "text": [
      "GEOB frame does not contain a mime type\n",
      "GEOB frame does not contain a valid mime type\n"
     ]
    },
    {
     "name": "stdout",
     "output_type": "stream",
     "text": [
      "/Users/onieto/Desktop/Harmonix/final_audio/0523_ucanttouchthis.mp3\n"
     ]
    },
    {
     "name": "stderr",
     "output_type": "stream",
     "text": [
      "GEOB frame does not contain a mime type\n",
      "GEOB frame does not contain a valid mime type\n"
     ]
    },
    {
     "name": "stdout",
     "output_type": "stream",
     "text": [
      "/Users/onieto/Desktop/Harmonix/final_audio/0524_undoit.mp3\n"
     ]
    },
    {
     "name": "stderr",
     "output_type": "stream",
     "text": [
      "Invalid date: 0305\n",
      "GEOB frame does not contain a mime type\n",
      "GEOB frame does not contain a valid mime type\n"
     ]
    },
    {
     "name": "stdout",
     "output_type": "stream",
     "text": [
      "/Users/onieto/Desktop/Harmonix/final_audio/0525_venus.mp3\n"
     ]
    },
    {
     "name": "stderr",
     "output_type": "stream",
     "text": [
      "Invalid date: 0802\n",
      "GEOB frame does not contain a mime type\n",
      "GEOB frame does not contain a valid mime type\n"
     ]
    },
    {
     "name": "stdout",
     "output_type": "stream",
     "text": [
      "/Users/onieto/Desktop/Harmonix/final_audio/0526_waitingoutsidethelines.mp3\n"
     ]
    },
    {
     "name": "stderr",
     "output_type": "stream",
     "text": [
      "Invalid date: 0708\n",
      "GEOB frame does not contain a mime type\n",
      "GEOB frame does not contain a valid mime type\n"
     ]
    },
    {
     "name": "stdout",
     "output_type": "stream",
     "text": [
      "/Users/onieto/Desktop/Harmonix/final_audio/0527_wantuback.mp3\n"
     ]
    },
    {
     "name": "stderr",
     "output_type": "stream",
     "text": [
      "Invalid date: 0105\n",
      "GEOB frame does not contain a mime type\n",
      "GEOB frame does not contain a valid mime type\n"
     ]
    },
    {
     "name": "stdout",
     "output_type": "stream",
     "text": [
      "/Users/onieto/Desktop/Harmonix/final_audio/0528_werunthenight.mp3\n"
     ]
    },
    {
     "name": "stderr",
     "output_type": "stream",
     "text": [
      "Invalid date: 0802\n",
      "GEOB frame does not contain a mime type\n",
      "GEOB frame does not contain a valid mime type\n"
     ]
    },
    {
     "name": "stdout",
     "output_type": "stream",
     "text": [
      "/Users/onieto/Desktop/Harmonix/final_audio/0529_werwhower.mp3\n"
     ]
    },
    {
     "name": "stderr",
     "output_type": "stream",
     "text": [
      "Invalid date: 0305\n",
      "GEOB frame does not contain a mime type\n",
      "GEOB frame does not contain a valid mime type\n"
     ]
    },
    {
     "name": "stdout",
     "output_type": "stream",
     "text": [
      "/Users/onieto/Desktop/Harmonix/final_audio/0530_whatthehell.mp3\n"
     ]
    },
    {
     "name": "stderr",
     "output_type": "stream",
     "text": [
      "Invalid date: 0811\n",
      "GEOB frame does not contain a mime type\n",
      "GEOB frame does not contain a valid mime type\n"
     ]
    },
    {
     "name": "stdout",
     "output_type": "stream",
     "text": [
      "/Users/onieto/Desktop/Harmonix/final_audio/0531_whenwestandtogether.mp3\n"
     ]
    },
    {
     "name": "stderr",
     "output_type": "stream",
     "text": [
      "GEOB frame does not contain a mime type\n",
      "GEOB frame does not contain a valid mime type\n"
     ]
    },
    {
     "name": "stdout",
     "output_type": "stream",
     "text": [
      "/Users/onieto/Desktop/Harmonix/final_audio/0532_whistle.mp3\n"
     ]
    },
    {
     "name": "stderr",
     "output_type": "stream",
     "text": [
      "Invalid date: 0908\n",
      "GEOB frame does not contain a mime type\n",
      "GEOB frame does not contain a valid mime type\n"
     ]
    },
    {
     "name": "stdout",
     "output_type": "stream",
     "text": [
      "/Users/onieto/Desktop/Harmonix/final_audio/0533_whosays.mp3\n"
     ]
    },
    {
     "name": "stderr",
     "output_type": "stream",
     "text": [
      "GEOB frame does not contain a mime type\n",
      "GEOB frame does not contain a valid mime type\n"
     ]
    },
    {
     "name": "stdout",
     "output_type": "stream",
     "text": [
      "/Users/onieto/Desktop/Harmonix/final_audio/0534_wideawake.mp3\n"
     ]
    },
    {
     "name": "stderr",
     "output_type": "stream",
     "text": [
      "Invalid date: 0811\n",
      "GEOB frame does not contain a mime type\n",
      "GEOB frame does not contain a valid mime type\n"
     ]
    },
    {
     "name": "stdout",
     "output_type": "stream",
     "text": [
      "/Users/onieto/Desktop/Harmonix/final_audio/0535_withoutyou.mp3\n"
     ]
    },
    {
     "name": "stderr",
     "output_type": "stream",
     "text": [
      "Invalid date: 0702\n",
      "GEOB frame does not contain a mime type\n",
      "GEOB frame does not contain a valid mime type\n"
     ]
    },
    {
     "name": "stdout",
     "output_type": "stream",
     "text": [
      "/Users/onieto/Desktop/Harmonix/final_audio/0536_workout.mp3\n"
     ]
    },
    {
     "name": "stderr",
     "output_type": "stream",
     "text": [
      "GEOB frame does not contain a mime type\n",
      "GEOB frame does not contain a valid mime type\n"
     ]
    },
    {
     "name": "stdout",
     "output_type": "stream",
     "text": [
      "/Users/onieto/Desktop/Harmonix/final_audio/0537_writteninthestars.mp3\n"
     ]
    },
    {
     "name": "stderr",
     "output_type": "stream",
     "text": [
      "Invalid date: 0712\n",
      "GEOB frame does not contain a mime type\n",
      "GEOB frame does not contain a valid mime type\n"
     ]
    },
    {
     "name": "stdout",
     "output_type": "stream",
     "text": [
      "/Users/onieto/Desktop/Harmonix/final_audio/0538_you.mp3\n"
     ]
    },
    {
     "name": "stderr",
     "output_type": "stream",
     "text": [
      "GEOB frame does not contain a mime type\n",
      "GEOB frame does not contain a valid mime type\n"
     ]
    },
    {
     "name": "stdout",
     "output_type": "stream",
     "text": [
      "/Users/onieto/Desktop/Harmonix/final_audio/0539_youandi.mp3\n"
     ]
    },
    {
     "name": "stderr",
     "output_type": "stream",
     "text": [
      "GEOB frame does not contain a mime type\n",
      "GEOB frame does not contain a valid mime type\n"
     ]
    },
    {
     "name": "stdout",
     "output_type": "stream",
     "text": [
      "/Users/onieto/Desktop/Harmonix/final_audio/0540_youandme.mp3\n"
     ]
    },
    {
     "name": "stderr",
     "output_type": "stream",
     "text": [
      "GEOB frame does not contain a mime type\n",
      "GEOB frame does not contain a valid mime type\n"
     ]
    },
    {
     "name": "stdout",
     "output_type": "stream",
     "text": [
      "/Users/onieto/Desktop/Harmonix/final_audio/0541_youdroppedabombonme.mp3\n"
     ]
    },
    {
     "name": "stderr",
     "output_type": "stream",
     "text": [
      "GEOB frame does not contain a mime type\n",
      "GEOB frame does not contain a valid mime type\n"
     ]
    },
    {
     "name": "stdout",
     "output_type": "stream",
     "text": [
      "/Users/onieto/Desktop/Harmonix/final_audio/0542_yougetwhatyougive.mp3\n"
     ]
    },
    {
     "name": "stderr",
     "output_type": "stream",
     "text": [
      "GEOB frame does not contain a mime type\n",
      "GEOB frame does not contain a valid mime type\n"
     ]
    },
    {
     "name": "stdout",
     "output_type": "stream",
     "text": [
      "/Users/onieto/Desktop/Harmonix/final_audio/0543_yougonnafly.mp3\n"
     ]
    },
    {
     "name": "stderr",
     "output_type": "stream",
     "text": [
      "GEOB frame does not contain a mime type\n",
      "GEOB frame does not contain a valid mime type\n"
     ]
    },
    {
     "name": "stdout",
     "output_type": "stream",
     "text": [
      "/Users/onieto/Desktop/Harmonix/final_audio/0544_yougottabe.mp3\n"
     ]
    },
    {
     "name": "stderr",
     "output_type": "stream",
     "text": [
      "GEOB frame does not contain a mime type\n",
      "GEOB frame does not contain a valid mime type\n"
     ]
    },
    {
     "name": "stdout",
     "output_type": "stream",
     "text": [
      "/Users/onieto/Desktop/Harmonix/final_audio/0545_youkeepmehangingon.mp3\n"
     ]
    },
    {
     "name": "stderr",
     "output_type": "stream",
     "text": [
      "GEOB frame does not contain a mime type\n",
      "GEOB frame does not contain a valid mime type\n"
     ]
    },
    {
     "name": "stdout",
     "output_type": "stream",
     "text": [
      "/Users/onieto/Desktop/Harmonix/final_audio/0546_18days.mp3\n"
     ]
    },
    {
     "name": "stderr",
     "output_type": "stream",
     "text": [
      "GEOB frame does not contain a mime type\n",
      "GEOB frame does not contain a valid mime type\n"
     ]
    },
    {
     "name": "stdout",
     "output_type": "stream",
     "text": [
      "/Users/onieto/Desktop/Harmonix/final_audio/0547_1901boflexdpassionpitremix.mp3\n"
     ]
    },
    {
     "name": "stderr",
     "output_type": "stream",
     "text": [
      "GEOB frame does not contain a mime type\n",
      "GEOB frame does not contain a valid mime type\n"
     ]
    },
    {
     "name": "stdout",
     "output_type": "stream",
     "text": [
      "/Users/onieto/Desktop/Harmonix/final_audio/0548_2getherextended.mp3\n"
     ]
    },
    {
     "name": "stderr",
     "output_type": "stream",
     "text": [
      "GEOB frame does not contain a mime type\n",
      "GEOB frame does not contain a valid mime type\n",
      "GEOB frame does not contain a mime type\n",
      "GEOB frame does not contain a valid mime type\n"
     ]
    },
    {
     "name": "stdout",
     "output_type": "stream",
     "text": [
      "/Users/onieto/Desktop/Harmonix/final_audio/0549_515.mp3\n"
     ]
    },
    {
     "name": "stderr",
     "output_type": "stream",
     "text": [
      "GEOB frame does not contain a mime type\n",
      "GEOB frame does not contain a valid mime type\n"
     ]
    },
    {
     "name": "stdout",
     "output_type": "stream",
     "text": [
      "/Users/onieto/Desktop/Harmonix/final_audio/0550_aboutyounow.mp3\n"
     ]
    },
    {
     "name": "stderr",
     "output_type": "stream",
     "text": [
      "GEOB frame does not contain a mime type\n",
      "GEOB frame does not contain a valid mime type\n"
     ]
    },
    {
     "name": "stdout",
     "output_type": "stream",
     "text": [
      "/Users/onieto/Desktop/Harmonix/final_audio/0551_accordingtoyou.mp3\n"
     ]
    },
    {
     "name": "stderr",
     "output_type": "stream",
     "text": [
      "GEOB frame does not contain a mime type\n",
      "GEOB frame does not contain a valid mime type\n"
     ]
    },
    {
     "name": "stdout",
     "output_type": "stream",
     "text": [
      "/Users/onieto/Desktop/Harmonix/final_audio/0552_addicted.mp3\n"
     ]
    },
    {
     "name": "stderr",
     "output_type": "stream",
     "text": [
      "Invalid date: 0702\n",
      "GEOB frame does not contain a mime type\n",
      "GEOB frame does not contain a valid mime type\n"
     ]
    },
    {
     "name": "stdout",
     "output_type": "stream",
     "text": [
      "/Users/onieto/Desktop/Harmonix/final_audio/0553_alivefeatthegoodnatured.mp3\n"
     ]
    },
    {
     "name": "stderr",
     "output_type": "stream",
     "text": [
      "GEOB frame does not contain a mime type\n",
      "GEOB frame does not contain a valid mime type\n"
     ]
    },
    {
     "name": "stdout",
     "output_type": "stream",
     "text": [
      "/Users/onieto/Desktop/Harmonix/final_audio/0554_allalright.mp3\n"
     ]
    },
    {
     "name": "stderr",
     "output_type": "stream",
     "text": [
      "Invalid date: 0306\n",
      "GEOB frame does not contain a mime type\n",
      "GEOB frame does not contain a valid mime type\n"
     ]
    },
    {
     "name": "stdout",
     "output_type": "stream",
     "text": [
      "/Users/onieto/Desktop/Harmonix/final_audio/0555_allaroundme.mp3\n"
     ]
    },
    {
     "name": "stderr",
     "output_type": "stream",
     "text": [
      "GEOB frame does not contain a mime type\n",
      "GEOB frame does not contain a valid mime type\n",
      "GEOB frame does not contain a mime type\n",
      "GEOB frame does not contain a valid mime type\n"
     ]
    },
    {
     "name": "stdout",
     "output_type": "stream",
     "text": [
      "/Users/onieto/Desktop/Harmonix/final_audio/0556_allaroundtheworld.mp3\n"
     ]
    },
    {
     "name": "stderr",
     "output_type": "stream",
     "text": [
      "GEOB frame does not contain a mime type\n",
      "GEOB frame does not contain a valid mime type\n"
     ]
    },
    {
     "name": "stdout",
     "output_type": "stream",
     "text": [
      "/Users/onieto/Desktop/Harmonix/final_audio/0557_alligator.mp3\n"
     ]
    },
    {
     "name": "stderr",
     "output_type": "stream",
     "text": [
      "GEOB frame does not contain a mime type\n",
      "GEOB frame does not contain a valid mime type\n",
      "GEOB frame does not contain a mime type\n",
      "GEOB frame does not contain a valid mime type\n"
     ]
    },
    {
     "name": "stdout",
     "output_type": "stream",
     "text": [
      "/Users/onieto/Desktop/Harmonix/final_audio/0558_allnightlong.mp3\n"
     ]
    },
    {
     "name": "stderr",
     "output_type": "stream",
     "text": [
      "GEOB frame does not contain a mime type\n",
      "GEOB frame does not contain a valid mime type\n"
     ]
    },
    {
     "name": "stdout",
     "output_type": "stream",
     "text": [
      "/Users/onieto/Desktop/Harmonix/final_audio/0559_alltherightmoves.mp3\n"
     ]
    },
    {
     "name": "stderr",
     "output_type": "stream",
     "text": [
      "GEOB frame does not contain a mime type\n",
      "GEOB frame does not contain a valid mime type\n"
     ]
    },
    {
     "name": "stdout",
     "output_type": "stream",
     "text": [
      "/Users/onieto/Desktop/Harmonix/final_audio/0560_almostlovenow.mp3\n"
     ]
    },
    {
     "name": "stderr",
     "output_type": "stream",
     "text": [
      "GEOB frame does not contain a mime type\n",
      "GEOB frame does not contain a valid mime type\n"
     ]
    },
    {
     "name": "stdout",
     "output_type": "stream",
     "text": [
      "/Users/onieto/Desktop/Harmonix/final_audio/0561_alorsondanse.mp3\n"
     ]
    },
    {
     "name": "stderr",
     "output_type": "stream",
     "text": [
      "Invalid date: 0311\n",
      "GEOB frame does not contain a mime type\n",
      "GEOB frame does not contain a valid mime type\n"
     ]
    },
    {
     "name": "stdout",
     "output_type": "stream",
     "text": [
      "/Users/onieto/Desktop/Harmonix/final_audio/0562_alreadygone.mp3\n"
     ]
    },
    {
     "name": "stderr",
     "output_type": "stream",
     "text": [
      "Invalid date: 0601\n",
      "GEOB frame does not contain a mime type\n",
      "GEOB frame does not contain a valid mime type\n",
      "Frame 'IPLS' is not yet supported, using raw Frame to parse\n"
     ]
    },
    {
     "name": "stdout",
     "output_type": "stream",
     "text": [
      "/Users/onieto/Desktop/Harmonix/final_audio/0564_americanboybenny.mp3\n"
     ]
    },
    {
     "name": "stderr",
     "output_type": "stream",
     "text": [
      "GEOB frame does not contain a mime type\n",
      "GEOB frame does not contain a valid mime type\n",
      "Frame 'IPLS' is not yet supported, using raw Frame to parse\n"
     ]
    },
    {
     "name": "stdout",
     "output_type": "stream",
     "text": [
      "/Users/onieto/Desktop/Harmonix/final_audio/0565_americanhoney.mp3\n"
     ]
    },
    {
     "name": "stderr",
     "output_type": "stream",
     "text": [
      "GEOB frame does not contain a mime type\n",
      "GEOB frame does not contain a valid mime type\n"
     ]
    },
    {
     "name": "stdout",
     "output_type": "stream",
     "text": [
      "/Users/onieto/Desktop/Harmonix/final_audio/0566_americanwoman.mp3\n"
     ]
    },
    {
     "name": "stderr",
     "output_type": "stream",
     "text": [
      "Invalid date: 0510\n",
      "GEOB frame does not contain a mime type\n",
      "GEOB frame does not contain a valid mime type\n"
     ]
    },
    {
     "name": "stdout",
     "output_type": "stream",
     "text": [
      "/Users/onieto/Desktop/Harmonix/final_audio/0567_anythingcouldhappen.mp3\n"
     ]
    },
    {
     "name": "stderr",
     "output_type": "stream",
     "text": [
      "GEOB frame does not contain a mime type\n",
      "GEOB frame does not contain a valid mime type\n"
     ]
    },
    {
     "name": "stdout",
     "output_type": "stream",
     "text": [
      "/Users/onieto/Desktop/Harmonix/final_audio/0568_apologize.mp3\n"
     ]
    },
    {
     "name": "stderr",
     "output_type": "stream",
     "text": [
      "GEOB frame does not contain a mime type\n",
      "GEOB frame does not contain a valid mime type\n"
     ]
    },
    {
     "name": "stdout",
     "output_type": "stream",
     "text": [
      "/Users/onieto/Desktop/Harmonix/final_audio/0569_arrow.mp3\n"
     ]
    },
    {
     "name": "stderr",
     "output_type": "stream",
     "text": [
      "GEOB frame does not contain a mime type\n",
      "GEOB frame does not contain a valid mime type\n",
      "GEOB frame does not contain a mime type\n",
      "GEOB frame does not contain a valid mime type\n"
     ]
    },
    {
     "name": "stdout",
     "output_type": "stream",
     "text": [
      "/Users/onieto/Desktop/Harmonix/final_audio/0570_aslongasyouloveme.mp3\n"
     ]
    },
    {
     "name": "stderr",
     "output_type": "stream",
     "text": [
      "Invalid date: 0510\n",
      "GEOB frame does not contain a mime type\n",
      "GEOB frame does not contain a valid mime type\n"
     ]
    },
    {
     "name": "stdout",
     "output_type": "stream",
     "text": [
      "/Users/onieto/Desktop/Harmonix/final_audio/0571_atlantis.mp3\n"
     ]
    },
    {
     "name": "stderr",
     "output_type": "stream",
     "text": [
      "Invalid date: 0110\n",
      "GEOB frame does not contain a mime type\n",
      "GEOB frame does not contain a valid mime type\n",
      "GEOB frame does not contain a mime type\n",
      "GEOB frame does not contain a valid mime type\n"
     ]
    },
    {
     "name": "stdout",
     "output_type": "stream",
     "text": [
      "/Users/onieto/Desktop/Harmonix/final_audio/0572_awake.mp3\n"
     ]
    },
    {
     "name": "stderr",
     "output_type": "stream",
     "text": [
      "GEOB frame does not contain a mime type\n",
      "GEOB frame does not contain a valid mime type\n"
     ]
    },
    {
     "name": "stdout",
     "output_type": "stream",
     "text": [
      "/Users/onieto/Desktop/Harmonix/final_audio/0573_babyludacris.mp3\n"
     ]
    },
    {
     "name": "stderr",
     "output_type": "stream",
     "text": [
      "GEOB frame does not contain a mime type\n",
      "GEOB frame does not contain a valid mime type\n"
     ]
    },
    {
     "name": "stdout",
     "output_type": "stream",
     "text": [
      "/Users/onieto/Desktop/Harmonix/final_audio/0574_badromanceappboyz.mp3\n"
     ]
    },
    {
     "name": "stderr",
     "output_type": "stream",
     "text": [
      "GEOB frame does not contain a mime type\n",
      "GEOB frame does not contain a valid mime type\n"
     ]
    },
    {
     "name": "stdout",
     "output_type": "stream",
     "text": [
      "/Users/onieto/Desktop/Harmonix/final_audio/0575_badromanceskrillexremix.mp3\n"
     ]
    },
    {
     "name": "stderr",
     "output_type": "stream",
     "text": [
      "GEOB frame does not contain a mime type\n",
      "GEOB frame does not contain a valid mime type\n"
     ]
    },
    {
     "name": "stdout",
     "output_type": "stream",
     "text": [
      "/Users/onieto/Desktop/Harmonix/final_audio/0576_barbrastreisand.mp3\n"
     ]
    },
    {
     "name": "stderr",
     "output_type": "stream",
     "text": [
      "Invalid date: 0311\n",
      "GEOB frame does not contain a mime type\n",
      "GEOB frame does not contain a valid mime type\n"
     ]
    },
    {
     "name": "stdout",
     "output_type": "stream",
     "text": [
      "/Users/onieto/Desktop/Harmonix/final_audio/0577_battlefieldmainversion.mp3\n"
     ]
    },
    {
     "name": "stderr",
     "output_type": "stream",
     "text": [
      "GEOB frame does not contain a mime type\n",
      "GEOB frame does not contain a valid mime type\n",
      "GEOB frame does not contain a mime type\n",
      "GEOB frame does not contain a valid mime type\n"
     ]
    },
    {
     "name": "stdout",
     "output_type": "stream",
     "text": [
      "/Users/onieto/Desktop/Harmonix/final_audio/0578_bealright.mp3\n"
     ]
    },
    {
     "name": "stderr",
     "output_type": "stream",
     "text": [
      "Invalid date: 0306\n",
      "GEOB frame does not contain a mime type\n",
      "GEOB frame does not contain a valid mime type\n"
     ]
    },
    {
     "name": "stdout",
     "output_type": "stream",
     "text": [
      "/Users/onieto/Desktop/Harmonix/final_audio/0579_beatitstudioversion.mp3\n"
     ]
    },
    {
     "name": "stderr",
     "output_type": "stream",
     "text": [
      "GEOB frame does not contain a mime type\n",
      "GEOB frame does not contain a valid mime type\n"
     ]
    },
    {
     "name": "stdout",
     "output_type": "stream",
     "text": [
      "/Users/onieto/Desktop/Harmonix/final_audio/0580_beautiful.mp3\n"
     ]
    },
    {
     "name": "stderr",
     "output_type": "stream",
     "text": [
      "GEOB frame does not contain a mime type\n",
      "GEOB frame does not contain a valid mime type\n"
     ]
    },
    {
     "name": "stdout",
     "output_type": "stream",
     "text": [
      "/Users/onieto/Desktop/Harmonix/final_audio/0581_beautifulcarlyrae.mp3\n"
     ]
    },
    {
     "name": "stderr",
     "output_type": "stream",
     "text": [
      "GEOB frame does not contain a mime type\n",
      "GEOB frame does not contain a valid mime type\n"
     ]
    },
    {
     "name": "stdout",
     "output_type": "stream",
     "text": [
      "/Users/onieto/Desktop/Harmonix/final_audio/0582_beautifulday.mp3\n"
     ]
    },
    {
     "name": "stderr",
     "output_type": "stream",
     "text": [
      "GEOB frame does not contain a mime type\n",
      "GEOB frame does not contain a valid mime type\n"
     ]
    },
    {
     "name": "stdout",
     "output_type": "stream",
     "text": [
      "/Users/onieto/Desktop/Harmonix/final_audio/0583_beautifulgirls.mp3\n"
     ]
    },
    {
     "name": "stderr",
     "output_type": "stream",
     "text": [
      "GEOB frame does not contain a mime type\n",
      "GEOB frame does not contain a valid mime type\n",
      "GEOB frame does not contain a mime type\n",
      "GEOB frame does not contain a valid mime type\n"
     ]
    },
    {
     "name": "stdout",
     "output_type": "stream",
     "text": [
      "/Users/onieto/Desktop/Harmonix/final_audio/0585_beautyandabeat.mp3\n"
     ]
    },
    {
     "name": "stderr",
     "output_type": "stream",
     "text": [
      "GEOB frame does not contain a mime type\n",
      "GEOB frame does not contain a valid mime type\n"
     ]
    },
    {
     "name": "stdout",
     "output_type": "stream",
     "text": [
      "/Users/onieto/Desktop/Harmonix/final_audio/0586_bed.mp3\n"
     ]
    },
    {
     "name": "stderr",
     "output_type": "stream",
     "text": [
      "GEOB frame does not contain a mime type\n",
      "GEOB frame does not contain a valid mime type\n"
     ]
    },
    {
     "name": "stdout",
     "output_type": "stream",
     "text": [
      "/Users/onieto/Desktop/Harmonix/final_audio/0587_bedrock.mp3\n"
     ]
    },
    {
     "name": "stderr",
     "output_type": "stream",
     "text": [
      "GEOB frame does not contain a mime type\n",
      "GEOB frame does not contain a valid mime type\n",
      "GEOB frame does not contain a mime type\n",
      "GEOB frame does not contain a valid mime type\n"
     ]
    },
    {
     "name": "stdout",
     "output_type": "stream",
     "text": [
      "/Users/onieto/Desktop/Harmonix/final_audio/0588_believe.mp3\n"
     ]
    },
    {
     "name": "stderr",
     "output_type": "stream",
     "text": [
      "Invalid date: 0311\n",
      "GEOB frame does not contain a mime type\n",
      "GEOB frame does not contain a valid mime type\n"
     ]
    },
    {
     "name": "stdout",
     "output_type": "stream",
     "text": [
      "/Users/onieto/Desktop/Harmonix/final_audio/0589_bestieverhad.mp3\n"
     ]
    },
    {
     "name": "stderr",
     "output_type": "stream",
     "text": [
      "GEOB frame does not contain a mime type\n",
      "GEOB frame does not contain a valid mime type\n"
     ]
    },
    {
     "name": "stdout",
     "output_type": "stream",
     "text": [
      "/Users/onieto/Desktop/Harmonix/final_audio/0590_betterintime.mp3\n"
     ]
    },
    {
     "name": "stderr",
     "output_type": "stream",
     "text": [
      "GEOB frame does not contain a mime type\n",
      "GEOB frame does not contain a valid mime type\n"
     ]
    },
    {
     "name": "stdout",
     "output_type": "stream",
     "text": [
      "/Users/onieto/Desktop/Harmonix/final_audio/0591_biggirlsdontcry.mp3\n"
     ]
    },
    {
     "name": "stderr",
     "output_type": "stream",
     "text": [
      "GEOB frame does not contain a mime type\n",
      "GEOB frame does not contain a valid mime type\n"
     ]
    },
    {
     "name": "stdout",
     "output_type": "stream",
     "text": [
      "/Users/onieto/Desktop/Harmonix/final_audio/0592_blameit.mp3\n"
     ]
    },
    {
     "name": "stderr",
     "output_type": "stream",
     "text": [
      "GEOB frame does not contain a mime type\n",
      "GEOB frame does not contain a valid mime type\n"
     ]
    },
    {
     "name": "stdout",
     "output_type": "stream",
     "text": [
      "/Users/onieto/Desktop/Harmonix/final_audio/0593_blameitradioedit.mp3\n"
     ]
    },
    {
     "name": "stderr",
     "output_type": "stream",
     "text": [
      "Invalid date: 0306\n",
      "GEOB frame does not contain a mime type\n",
      "GEOB frame does not contain a valid mime type\n"
     ]
    },
    {
     "name": "stdout",
     "output_type": "stream",
     "text": [
      "/Users/onieto/Desktop/Harmonix/final_audio/0594_bleedinglove.mp3\n"
     ]
    },
    {
     "name": "stderr",
     "output_type": "stream",
     "text": [
      "GEOB frame does not contain a mime type\n",
      "GEOB frame does not contain a valid mime type\n",
      "GEOB frame does not contain a mime type\n",
      "GEOB frame does not contain a valid mime type\n"
     ]
    },
    {
     "name": "stdout",
     "output_type": "stream",
     "text": [
      "/Users/onieto/Desktop/Harmonix/final_audio/0595_blonde.mp3\n"
     ]
    },
    {
     "name": "stderr",
     "output_type": "stream",
     "text": [
      "GEOB frame does not contain a mime type\n",
      "GEOB frame does not contain a valid mime type\n"
     ]
    },
    {
     "name": "stdout",
     "output_type": "stream",
     "text": [
      "/Users/onieto/Desktop/Harmonix/final_audio/0596_bonbon.mp3\n"
     ]
    },
    {
     "name": "stderr",
     "output_type": "stream",
     "text": [
      "GEOB frame does not contain a mime type\n",
      "GEOB frame does not contain a valid mime type\n"
     ]
    },
    {
     "name": "stdout",
     "output_type": "stream",
     "text": [
      "/Users/onieto/Desktop/Harmonix/final_audio/0597_boomboomguetta.mp3\n"
     ]
    },
    {
     "name": "stderr",
     "output_type": "stream",
     "text": [
      "GEOB frame does not contain a mime type\n",
      "GEOB frame does not contain a valid mime type\n"
     ]
    },
    {
     "name": "stdout",
     "output_type": "stream",
     "text": [
      "/Users/onieto/Desktop/Harmonix/final_audio/0598_boomboompow.mp3\n"
     ]
    },
    {
     "name": "stderr",
     "output_type": "stream",
     "text": [
      "GEOB frame does not contain a mime type\n",
      "GEOB frame does not contain a valid mime type\n",
      "GEOB frame does not contain a mime type\n",
      "GEOB frame does not contain a valid mime type\n"
     ]
    },
    {
     "name": "stdout",
     "output_type": "stream",
     "text": [
      "/Users/onieto/Desktop/Harmonix/final_audio/0599_boyfriend.mp3\n"
     ]
    },
    {
     "name": "stderr",
     "output_type": "stream",
     "text": [
      "GEOB frame does not contain a mime type\n",
      "GEOB frame does not contain a valid mime type\n"
     ]
    },
    {
     "name": "stdout",
     "output_type": "stream",
     "text": [
      "/Users/onieto/Desktop/Harmonix/final_audio/0600_breakeven.mp3\n"
     ]
    },
    {
     "name": "stderr",
     "output_type": "stream",
     "text": [
      "Invalid date: 0306\n",
      "GEOB frame does not contain a mime type\n",
      "GEOB frame does not contain a valid mime type\n"
     ]
    },
    {
     "name": "stdout",
     "output_type": "stream",
     "text": [
      "/Users/onieto/Desktop/Harmonix/final_audio/0602_breaktheice.mp3\n"
     ]
    },
    {
     "name": "stderr",
     "output_type": "stream",
     "text": [
      "Invalid date: 0601\n",
      "GEOB frame does not contain a mime type\n",
      "GEOB frame does not contain a valid mime type\n",
      "Frame 'IPLS' is not yet supported, using raw Frame to parse\n"
     ]
    },
    {
     "name": "stdout",
     "output_type": "stream",
     "text": [
      "/Users/onieto/Desktop/Harmonix/final_audio/0603_breaktheicejasonnevinsmix.mp3\n"
     ]
    },
    {
     "name": "stderr",
     "output_type": "stream",
     "text": [
      "Invalid date: 0601\n",
      "GEOB frame does not contain a mime type\n",
      "GEOB frame does not contain a valid mime type\n",
      "Frame 'IPLS' is not yet supported, using raw Frame to parse\n"
     ]
    },
    {
     "name": "stdout",
     "output_type": "stream",
     "text": [
      "/Users/onieto/Desktop/Harmonix/final_audio/0604_bustitbabypart2.mp3\n"
     ]
    },
    {
     "name": "stderr",
     "output_type": "stream",
     "text": [
      "Invalid date: 0110\n",
      "GEOB frame does not contain a mime type\n",
      "GEOB frame does not contain a valid mime type\n",
      "GEOB frame does not contain a mime type\n",
      "GEOB frame does not contain a valid mime type\n"
     ]
    },
    {
     "name": "stdout",
     "output_type": "stream",
     "text": [
      "/Users/onieto/Desktop/Harmonix/final_audio/0607_cantholdus.mp3\n"
     ]
    },
    {
     "name": "stderr",
     "output_type": "stream",
     "text": [
      "GEOB frame does not contain a mime type\n",
      "GEOB frame does not contain a valid mime type\n"
     ]
    },
    {
     "name": "stdout",
     "output_type": "stream",
     "text": [
      "/Users/onieto/Desktop/Harmonix/final_audio/0608_canttellmenothing.mp3\n"
     ]
    },
    {
     "name": "stderr",
     "output_type": "stream",
     "text": [
      "GEOB frame does not contain a mime type\n",
      "GEOB frame does not contain a valid mime type\n"
     ]
    },
    {
     "name": "stdout",
     "output_type": "stream",
     "text": [
      "/Users/onieto/Desktop/Harmonix/final_audio/0609_carryon.mp3\n"
     ]
    },
    {
     "name": "stderr",
     "output_type": "stream",
     "text": [
      "Invalid date: 0110\n",
      "GEOB frame does not contain a mime type\n",
      "GEOB frame does not contain a valid mime type\n",
      "GEOB frame does not contain a mime type\n",
      "GEOB frame does not contain a valid mime type\n"
     ]
    },
    {
     "name": "stdout",
     "output_type": "stream",
     "text": [
      "/Users/onieto/Desktop/Harmonix/final_audio/0610_castle.mp3\n"
     ]
    },
    {
     "name": "stderr",
     "output_type": "stream",
     "text": [
      "GEOB frame does not contain a mime type\n",
      "GEOB frame does not contain a valid mime type\n",
      "GEOB frame does not contain a mime type\n",
      "GEOB frame does not contain a valid mime type\n"
     ]
    },
    {
     "name": "stdout",
     "output_type": "stream",
     "text": [
      "/Users/onieto/Desktop/Harmonix/final_audio/0611_catchingfeelings.mp3\n"
     ]
    },
    {
     "name": "stderr",
     "output_type": "stream",
     "text": [
      "Invalid date: 0202\n",
      "GEOB frame does not contain a mime type\n",
      "GEOB frame does not contain a valid mime type\n"
     ]
    },
    {
     "name": "stdout",
     "output_type": "stream",
     "text": [
      "/Users/onieto/Desktop/Harmonix/final_audio/0613_celebrationbennybenassi.mp3\n"
     ]
    },
    {
     "name": "stderr",
     "output_type": "stream",
     "text": [
      "GEOB frame does not contain a mime type\n",
      "GEOB frame does not contain a valid mime type\n"
     ]
    },
    {
     "name": "stdout",
     "output_type": "stream",
     "text": [
      "/Users/onieto/Desktop/Harmonix/final_audio/0614_cinema.mp3\n"
     ]
    },
    {
     "name": "stderr",
     "output_type": "stream",
     "text": [
      "GEOB frame does not contain a mime type\n",
      "GEOB frame does not contain a valid mime type\n",
      "Frame 'IPLS' is not yet supported, using raw Frame to parse\n"
     ]
    },
    {
     "name": "stdout",
     "output_type": "stream",
     "text": [
      "/Users/onieto/Desktop/Harmonix/final_audio/0615_circus.mp3\n"
     ]
    },
    {
     "name": "stderr",
     "output_type": "stream",
     "text": [
      "GEOB frame does not contain a mime type\n",
      "GEOB frame does not contain a valid mime type\n",
      "GEOB frame does not contain a mime type\n",
      "GEOB frame does not contain a valid mime type\n"
     ]
    },
    {
     "name": "stdout",
     "output_type": "stream",
     "text": [
      "/Users/onieto/Desktop/Harmonix/final_audio/0616_citygirl.mp3\n"
     ]
    },
    {
     "name": "stderr",
     "output_type": "stream",
     "text": [
      "GEOB frame does not contain a mime type\n",
      "GEOB frame does not contain a valid mime type\n",
      "GEOB frame does not contain a mime type\n",
      "GEOB frame does not contain a valid mime type\n"
     ]
    },
    {
     "name": "stdout",
     "output_type": "stream",
     "text": [
      "/Users/onieto/Desktop/Harmonix/final_audio/0617_citylights.mp3\n"
     ]
    },
    {
     "name": "stderr",
     "output_type": "stream",
     "text": [
      "GEOB frame does not contain a mime type\n",
      "GEOB frame does not contain a valid mime type\n"
     ]
    },
    {
     "name": "stdout",
     "output_type": "stream",
     "text": [
      "/Users/onieto/Desktop/Harmonix/final_audio/0618_clocks.mp3\n"
     ]
    },
    {
     "name": "stderr",
     "output_type": "stream",
     "text": [
      "GEOB frame does not contain a mime type\n",
      "GEOB frame does not contain a valid mime type\n"
     ]
    },
    {
     "name": "stdout",
     "output_type": "stream",
     "text": [
      "/Users/onieto/Desktop/Harmonix/final_audio/0619_closer.mp3\n"
     ]
    },
    {
     "name": "stderr",
     "output_type": "stream",
     "text": [
      "GEOB frame does not contain a mime type\n",
      "GEOB frame does not contain a valid mime type\n"
     ]
    },
    {
     "name": "stdout",
     "output_type": "stream",
     "text": [
      "/Users/onieto/Desktop/Harmonix/final_audio/0620_closertands.mp3\n"
     ]
    },
    {
     "name": "stderr",
     "output_type": "stream",
     "text": [
      "GEOB frame does not contain a mime type\n",
      "GEOB frame does not contain a valid mime type\n"
     ]
    },
    {
     "name": "stdout",
     "output_type": "stream",
     "text": [
      "/Users/onieto/Desktop/Harmonix/final_audio/0621_clubcanthandleme.mp3\n"
     ]
    },
    {
     "name": "stderr",
     "output_type": "stream",
     "text": [
      "GEOB frame does not contain a mime type\n",
      "GEOB frame does not contain a valid mime type\n"
     ]
    },
    {
     "name": "stdout",
     "output_type": "stream",
     "text": [
      "/Users/onieto/Desktop/Harmonix/final_audio/0622_clumsy.mp3\n"
     ]
    },
    {
     "name": "stderr",
     "output_type": "stream",
     "text": [
      "GEOB frame does not contain a mime type\n",
      "GEOB frame does not contain a valid mime type\n"
     ]
    },
    {
     "name": "stdout",
     "output_type": "stream",
     "text": [
      "/Users/onieto/Desktop/Harmonix/final_audio/0623_comeongethigher.mp3\n"
     ]
    },
    {
     "name": "stderr",
     "output_type": "stream",
     "text": [
      "GEOB frame does not contain a mime type\n",
      "GEOB frame does not contain a valid mime type\n"
     ]
    },
    {
     "name": "stdout",
     "output_type": "stream",
     "text": [
      "/Users/onieto/Desktop/Harmonix/final_audio/0625_complicated.mp3\n"
     ]
    },
    {
     "name": "stderr",
     "output_type": "stream",
     "text": [
      "Invalid date: 0503\n",
      "GEOB frame does not contain a mime type\n",
      "GEOB frame does not contain a valid mime type\n"
     ]
    },
    {
     "name": "stdout",
     "output_type": "stream",
     "text": [
      "/Users/onieto/Desktop/Harmonix/final_audio/0626_coolerthanme.mp3\n"
     ]
    },
    {
     "name": "stderr",
     "output_type": "stream",
     "text": [
      "Invalid date: 0110\n",
      "GEOB frame does not contain a mime type\n",
      "GEOB frame does not contain a valid mime type\n",
      "GEOB frame does not contain a mime type\n",
      "GEOB frame does not contain a valid mime type\n"
     ]
    },
    {
     "name": "stdout",
     "output_type": "stream",
     "text": [
      "/Users/onieto/Desktop/Harmonix/final_audio/0627_cowboyboots.mp3\n"
     ]
    },
    {
     "name": "stderr",
     "output_type": "stream",
     "text": [
      "GEOB frame does not contain a mime type\n",
      "GEOB frame does not contain a valid mime type\n"
     ]
    },
    {
     "name": "stdout",
     "output_type": "stream",
     "text": [
      "/Users/onieto/Desktop/Harmonix/final_audio/0628_crankthatsouljaboy.mp3\n"
     ]
    },
    {
     "name": "stderr",
     "output_type": "stream",
     "text": [
      "GEOB frame does not contain a mime type\n",
      "GEOB frame does not contain a valid mime type\n"
     ]
    },
    {
     "name": "stdout",
     "output_type": "stream",
     "text": [
      "/Users/onieto/Desktop/Harmonix/final_audio/0629_crush.mp3\n"
     ]
    },
    {
     "name": "stderr",
     "output_type": "stream",
     "text": [
      "GEOB frame does not contain a mime type\n",
      "GEOB frame does not contain a valid mime type\n"
     ]
    },
    {
     "name": "stdout",
     "output_type": "stream",
     "text": [
      "/Users/onieto/Desktop/Harmonix/final_audio/0630_crushcrushcrush.mp3\n"
     ]
    },
    {
     "name": "stderr",
     "output_type": "stream",
     "text": [
      "GEOB frame does not contain a mime type\n",
      "GEOB frame does not contain a valid mime type\n"
     ]
    },
    {
     "name": "stdout",
     "output_type": "stream",
     "text": [
      "/Users/onieto/Desktop/Harmonix/final_audio/0631_curiosity.mp3\n"
     ]
    },
    {
     "name": "stderr",
     "output_type": "stream",
     "text": [
      "GEOB frame does not contain a mime type\n",
      "GEOB frame does not contain a valid mime type\n"
     ]
    },
    {
     "name": "stdout",
     "output_type": "stream",
     "text": [
      "/Users/onieto/Desktop/Harmonix/final_audio/0632_cyclone.mp3\n"
     ]
    },
    {
     "name": "stderr",
     "output_type": "stream",
     "text": [
      "GEOB frame does not contain a mime type\n",
      "GEOB frame does not contain a valid mime type\n"
     ]
    },
    {
     "name": "stdout",
     "output_type": "stream",
     "text": [
      "/Users/onieto/Desktop/Harmonix/final_audio/0633_dancingmachine.mp3\n"
     ]
    },
    {
     "name": "stderr",
     "output_type": "stream",
     "text": [
      "GEOB frame does not contain a mime type\n",
      "GEOB frame does not contain a valid mime type\n"
     ]
    },
    {
     "name": "stdout",
     "output_type": "stream",
     "text": [
      "/Users/onieto/Desktop/Harmonix/final_audio/0634_dangerous.mp3\n"
     ]
    },
    {
     "name": "stderr",
     "output_type": "stream",
     "text": [
      "GEOB frame does not contain a mime type\n",
      "GEOB frame does not contain a valid mime type\n"
     ]
    },
    {
     "name": "stdout",
     "output_type": "stream",
     "text": [
      "/Users/onieto/Desktop/Harmonix/final_audio/0635_daynnite.mp3\n"
     ]
    },
    {
     "name": "stderr",
     "output_type": "stream",
     "text": [
      "Invalid date: 0412\n",
      "GEOB frame does not contain a mime type\n",
      "GEOB frame does not contain a valid mime type\n"
     ]
    },
    {
     "name": "stdout",
     "output_type": "stream",
     "text": [
      "/Users/onieto/Desktop/Harmonix/final_audio/0636_daynnitecrookersremix.mp3\n"
     ]
    },
    {
     "name": "stderr",
     "output_type": "stream",
     "text": [
      "Invalid date: 0601\n",
      "GEOB frame does not contain a mime type\n",
      "GEOB frame does not contain a valid mime type\n",
      "Frame 'IPLS' is not yet supported, using raw Frame to parse\n"
     ]
    },
    {
     "name": "stdout",
     "output_type": "stream",
     "text": [
      "/Users/onieto/Desktop/Harmonix/final_audio/0637_daynniteremix.mp3\n"
     ]
    },
    {
     "name": "stderr",
     "output_type": "stream",
     "text": [
      "GEOB frame does not contain a mime type\n",
      "GEOB frame does not contain a valid mime type\n"
     ]
    },
    {
     "name": "stdout",
     "output_type": "stream",
     "text": [
      "/Users/onieto/Desktop/Harmonix/final_audio/0638_deadandgone.mp3\n"
     ]
    },
    {
     "name": "stderr",
     "output_type": "stream",
     "text": [
      "GEOB frame does not contain a mime type\n",
      "GEOB frame does not contain a valid mime type\n",
      "GEOB frame does not contain a mime type\n",
      "GEOB frame does not contain a valid mime type\n"
     ]
    },
    {
     "name": "stdout",
     "output_type": "stream",
     "text": [
      "/Users/onieto/Desktop/Harmonix/final_audio/0639_dieinyourarms.mp3\n"
     ]
    },
    {
     "name": "stderr",
     "output_type": "stream",
     "text": [
      "GEOB frame does not contain a mime type\n",
      "GEOB frame does not contain a valid mime type\n"
     ]
    },
    {
     "name": "stdout",
     "output_type": "stream",
     "text": [
      "/Users/onieto/Desktop/Harmonix/final_audio/0640_disturbia2.mp3\n"
     ]
    },
    {
     "name": "stderr",
     "output_type": "stream",
     "text": [
      "GEOB frame does not contain a mime type\n",
      "GEOB frame does not contain a valid mime type\n",
      "GEOB frame does not contain a mime type\n",
      "GEOB frame does not contain a valid mime type\n"
     ]
    },
    {
     "name": "stdout",
     "output_type": "stream",
     "text": [
      "/Users/onieto/Desktop/Harmonix/final_audio/0642_dontconfess.mp3\n"
     ]
    },
    {
     "name": "stderr",
     "output_type": "stream",
     "text": [
      "GEOB frame does not contain a mime type\n",
      "GEOB frame does not contain a valid mime type\n"
     ]
    },
    {
     "name": "stdout",
     "output_type": "stream",
     "text": [
      "/Users/onieto/Desktop/Harmonix/final_audio/0643_dontrush.mp3\n"
     ]
    },
    {
     "name": "stderr",
     "output_type": "stream",
     "text": [
      "Invalid date: 0510\n",
      "GEOB frame does not contain a mime type\n",
      "GEOB frame does not contain a valid mime type\n"
     ]
    },
    {
     "name": "stdout",
     "output_type": "stream",
     "text": [
      "/Users/onieto/Desktop/Harmonix/final_audio/0644_dontsayaword.mp3\n"
     ]
    },
    {
     "name": "stderr",
     "output_type": "stream",
     "text": [
      "GEOB frame does not contain a mime type\n",
      "GEOB frame does not contain a valid mime type\n"
     ]
    },
    {
     "name": "stdout",
     "output_type": "stream",
     "text": [
      "/Users/onieto/Desktop/Harmonix/final_audio/0645_dontstopthemusic.mp3\n"
     ]
    },
    {
     "name": "stderr",
     "output_type": "stream",
     "text": [
      "GEOB frame does not contain a mime type\n",
      "GEOB frame does not contain a valid mime type\n"
     ]
    },
    {
     "name": "stdout",
     "output_type": "stream",
     "text": [
      "/Users/onieto/Desktop/Harmonix/final_audio/0647_dontthinkidontthinkaboutit.mp3\n"
     ]
    },
    {
     "name": "stderr",
     "output_type": "stream",
     "text": [
      "GEOB frame does not contain a mime type\n",
      "GEOB frame does not contain a valid mime type\n"
     ]
    },
    {
     "name": "stdout",
     "output_type": "stream",
     "text": [
      "/Users/onieto/Desktop/Harmonix/final_audio/0648_donttrustme.mp3\n"
     ]
    },
    {
     "name": "stderr",
     "output_type": "stream",
     "text": [
      "Invalid date: 0311\n",
      "GEOB frame does not contain a mime type\n",
      "GEOB frame does not contain a valid mime type\n"
     ]
    },
    {
     "name": "stdout",
     "output_type": "stream",
     "text": [
      "/Users/onieto/Desktop/Harmonix/final_audio/0649_down.mp3\n"
     ]
    },
    {
     "name": "stderr",
     "output_type": "stream",
     "text": [
      "Invalid date: 0311\n",
      "GEOB frame does not contain a mime type\n",
      "GEOB frame does not contain a valid mime type\n"
     ]
    },
    {
     "name": "stdout",
     "output_type": "stream",
     "text": [
      "/Users/onieto/Desktop/Harmonix/final_audio/0650_downlilwayne.mp3\n"
     ]
    },
    {
     "name": "stderr",
     "output_type": "stream",
     "text": [
      "GEOB frame does not contain a mime type\n",
      "GEOB frame does not contain a valid mime type\n"
     ]
    },
    {
     "name": "stdout",
     "output_type": "stream",
     "text": [
      "/Users/onieto/Desktop/Harmonix/final_audio/0651_doyouremember.mp3\n"
     ]
    },
    {
     "name": "stderr",
     "output_type": "stream",
     "text": [
      "GEOB frame does not contain a mime type\n",
      "GEOB frame does not contain a valid mime type\n",
      "GEOB frame does not contain a mime type\n",
      "GEOB frame does not contain a valid mime type\n"
     ]
    },
    {
     "name": "stdout",
     "output_type": "stream",
     "text": [
      "/Users/onieto/Desktop/Harmonix/final_audio/0652_drovemewild.mp3\n"
     ]
    },
    {
     "name": "stderr",
     "output_type": "stream",
     "text": [
      "GEOB frame does not contain a mime type\n",
      "GEOB frame does not contain a valid mime type\n"
     ]
    },
    {
     "name": "stdout",
     "output_type": "stream",
     "text": [
      "/Users/onieto/Desktop/Harmonix/final_audio/0653_dynamite.mp3\n"
     ]
    },
    {
     "name": "stderr",
     "output_type": "stream",
     "text": [
      "GEOB frame does not contain a mime type\n",
      "GEOB frame does not contain a valid mime type\n"
     ]
    },
    {
     "name": "stdout",
     "output_type": "stream",
     "text": [
      "/Users/onieto/Desktop/Harmonix/final_audio/0654_dynamitemixinmarc.mp3\n"
     ]
    },
    {
     "name": "stderr",
     "output_type": "stream",
     "text": [
      "Invalid date: 0702\n",
      "GEOB frame does not contain a mime type\n",
      "GEOB frame does not contain a valid mime type\n"
     ]
    },
    {
     "name": "stdout",
     "output_type": "stream",
     "text": [
      "/Users/onieto/Desktop/Harmonix/final_audio/0655_earthquakey.mp3\n"
     ]
    },
    {
     "name": "stderr",
     "output_type": "stream",
     "text": [
      "Invalid date: 0601\n",
      "GEOB frame does not contain a mime type\n",
      "GEOB frame does not contain a valid mime type\n",
      "Frame 'IPLS' is not yet supported, using raw Frame to parse\n"
     ]
    },
    {
     "name": "stdout",
     "output_type": "stream",
     "text": [
      "/Users/onieto/Desktop/Harmonix/final_audio/0657_enursbonfire.mp3\n"
     ]
    },
    {
     "name": "stderr",
     "output_type": "stream",
     "text": [
      "GEOB frame does not contain a mime type\n",
      "GEOB frame does not contain a valid mime type\n"
     ]
    },
    {
     "name": "stdout",
     "output_type": "stream",
     "text": [
      "/Users/onieto/Desktop/Harmonix/final_audio/0658_evacuatethedancefloor.mp3\n"
     ]
    },
    {
     "name": "stderr",
     "output_type": "stream",
     "text": [
      "GEOB frame does not contain a mime type\n",
      "GEOB frame does not contain a valid mime type\n"
     ]
    },
    {
     "name": "stdout",
     "output_type": "stream",
     "text": [
      "/Users/onieto/Desktop/Harmonix/final_audio/0659_everybody.mp3\n"
     ]
    },
    {
     "name": "stderr",
     "output_type": "stream",
     "text": [
      "Invalid date: 0202\n",
      "GEOB frame does not contain a mime type\n",
      "GEOB frame does not contain a valid mime type\n"
     ]
    },
    {
     "name": "stdout",
     "output_type": "stream",
     "text": [
      "/Users/onieto/Desktop/Harmonix/final_audio/0660_everymorning.mp3\n"
     ]
    },
    {
     "name": "stderr",
     "output_type": "stream",
     "text": [
      "Invalid date: 0702\n",
      "GEOB frame does not contain a mime type\n",
      "GEOB frame does not contain a valid mime type\n",
      "GEOB frame does not contain a mime type\n",
      "GEOB frame does not contain a valid mime type\n"
     ]
    },
    {
     "name": "stdout",
     "output_type": "stream",
     "text": [
      "/Users/onieto/Desktop/Harmonix/final_audio/0661_everythingaboutyou.mp3\n"
     ]
    },
    {
     "name": "stderr",
     "output_type": "stream",
     "text": [
      "Invalid date: 0601\n",
      "GEOB frame does not contain a mime type\n",
      "GEOB frame does not contain a valid mime type\n",
      "Frame 'IPLS' is not yet supported, using raw Frame to parse\n"
     ]
    },
    {
     "name": "stdout",
     "output_type": "stream",
     "text": [
      "/Users/onieto/Desktop/Harmonix/final_audio/0662_everytimewetouch.mp3\n"
     ]
    },
    {
     "name": "stderr",
     "output_type": "stream",
     "text": [
      "Invalid date: 0510\n",
      "GEOB frame does not contain a mime type\n",
      "GEOB frame does not contain a valid mime type\n"
     ]
    },
    {
     "name": "stdout",
     "output_type": "stream",
     "text": [
      "/Users/onieto/Desktop/Harmonix/final_audio/0663_explosions.mp3\n"
     ]
    },
    {
     "name": "stderr",
     "output_type": "stream",
     "text": [
      "GEOB frame does not contain a mime type\n",
      "GEOB frame does not contain a valid mime type\n"
     ]
    },
    {
     "name": "stdout",
     "output_type": "stream",
     "text": [
      "/Users/onieto/Desktop/Harmonix/final_audio/0664_eyesextendedmix.mp3\n"
     ]
    },
    {
     "name": "stderr",
     "output_type": "stream",
     "text": [
      "GEOB frame does not contain a mime type\n",
      "GEOB frame does not contain a valid mime type\n",
      "GEOB frame does not contain a mime type\n",
      "GEOB frame does not contain a valid mime type\n"
     ]
    },
    {
     "name": "stdout",
     "output_type": "stream",
     "text": [
      "/Users/onieto/Desktop/Harmonix/final_audio/0665_fall.mp3\n"
     ]
    },
    {
     "name": "stderr",
     "output_type": "stream",
     "text": [
      "GEOB frame does not contain a mime type\n",
      "GEOB frame does not contain a valid mime type\n"
     ]
    },
    {
     "name": "stdout",
     "output_type": "stream",
     "text": [
      "/Users/onieto/Desktop/Harmonix/final_audio/0666_fallin.mp3\n"
     ]
    },
    {
     "name": "stderr",
     "output_type": "stream",
     "text": [
      "GEOB frame does not contain a mime type\n",
      "GEOB frame does not contain a valid mime type\n"
     ]
    },
    {
     "name": "stdout",
     "output_type": "stream",
     "text": [
      "/Users/onieto/Desktop/Harmonix/final_audio/0668_fallinganthem.mp3\n"
     ]
    },
    {
     "name": "stderr",
     "output_type": "stream",
     "text": [
      "GEOB frame does not contain a mime type\n",
      "GEOB frame does not contain a valid mime type\n"
     ]
    },
    {
     "name": "stdout",
     "output_type": "stream",
     "text": [
      "/Users/onieto/Desktop/Harmonix/final_audio/0669_fastforwardffwd.mp3\n"
     ]
    },
    {
     "name": "stderr",
     "output_type": "stream",
     "text": [
      "GEOB frame does not contain a mime type\n",
      "GEOB frame does not contain a valid mime type\n"
     ]
    },
    {
     "name": "stdout",
     "output_type": "stream",
     "text": [
      "/Users/onieto/Desktop/Harmonix/final_audio/0670_fearless.mp3\n"
     ]
    },
    {
     "name": "stderr",
     "output_type": "stream",
     "text": [
      "GEOB frame does not contain a mime type\n",
      "GEOB frame does not contain a valid mime type\n"
     ]
    },
    {
     "name": "stdout",
     "output_type": "stream",
     "text": [
      "/Users/onieto/Desktop/Harmonix/final_audio/0671_feedback.mp3\n"
     ]
    },
    {
     "name": "stderr",
     "output_type": "stream",
     "text": [
      "GEOB frame does not contain a mime type\n",
      "GEOB frame does not contain a valid mime type\n",
      "Frame 'IPLS' is not yet supported, using raw Frame to parse\n"
     ]
    },
    {
     "name": "stdout",
     "output_type": "stream",
     "text": [
      "/Users/onieto/Desktop/Harmonix/final_audio/0672_feelitinmybones.mp3\n"
     ]
    },
    {
     "name": "stderr",
     "output_type": "stream",
     "text": [
      "Invalid date: 0306\n",
      "GEOB frame does not contain a mime type\n",
      "GEOB frame does not contain a valid mime type\n"
     ]
    },
    {
     "name": "stdout",
     "output_type": "stream",
     "text": [
      "/Users/onieto/Desktop/Harmonix/final_audio/0673_feelsliketonight.mp3\n"
     ]
    },
    {
     "name": "stderr",
     "output_type": "stream",
     "text": [
      "Invalid date: 0702\n",
      "GEOB frame does not contain a mime type\n",
      "GEOB frame does not contain a valid mime type\n"
     ]
    },
    {
     "name": "stdout",
     "output_type": "stream",
     "text": [
      "/Users/onieto/Desktop/Harmonix/final_audio/0674_feelsocloseextendedmix.mp3\n"
     ]
    },
    {
     "name": "stderr",
     "output_type": "stream",
     "text": [
      "Invalid date: 0510\n",
      "GEOB frame does not contain a mime type\n",
      "GEOB frame does not contain a valid mime type\n"
     ]
    },
    {
     "name": "stdout",
     "output_type": "stream",
     "text": [
      "/Users/onieto/Desktop/Harmonix/final_audio/0676_figure8.mp3\n"
     ]
    },
    {
     "name": "stderr",
     "output_type": "stream",
     "text": [
      "Invalid date: 0109\n",
      "GEOB frame does not contain a mime type\n",
      "GEOB frame does not contain a valid mime type\n"
     ]
    },
    {
     "name": "stdout",
     "output_type": "stream",
     "text": [
      "/Users/onieto/Desktop/Harmonix/final_audio/0677_fireburning.mp3\n"
     ]
    },
    {
     "name": "stderr",
     "output_type": "stream",
     "text": [
      "GEOB frame does not contain a mime type\n",
      "GEOB frame does not contain a valid mime type\n"
     ]
    },
    {
     "name": "stdout",
     "output_type": "stream",
     "text": [
      "/Users/onieto/Desktop/Harmonix/final_audio/0678_fireflies.mp3\n"
     ]
    },
    {
     "name": "stderr",
     "output_type": "stream",
     "text": [
      "GEOB frame does not contain a mime type\n",
      "GEOB frame does not contain a valid mime type\n"
     ]
    },
    {
     "name": "stdout",
     "output_type": "stream",
     "text": [
      "/Users/onieto/Desktop/Harmonix/final_audio/0679_firsttime.mp3\n"
     ]
    },
    {
     "name": "stderr",
     "output_type": "stream",
     "text": [
      "GEOB frame does not contain a mime type\n",
      "GEOB frame does not contain a valid mime type\n",
      "GEOB frame does not contain a mime type\n",
      "GEOB frame does not contain a valid mime type\n"
     ]
    },
    {
     "name": "stdout",
     "output_type": "stream",
     "text": [
      "/Users/onieto/Desktop/Harmonix/final_audio/0680_fixaheart.mp3\n"
     ]
    },
    {
     "name": "stderr",
     "output_type": "stream",
     "text": [
      "GEOB frame does not contain a mime type\n",
      "GEOB frame does not contain a valid mime type\n"
     ]
    },
    {
     "name": "stdout",
     "output_type": "stream",
     "text": [
      "/Users/onieto/Desktop/Harmonix/final_audio/0681_flashinglights.mp3\n"
     ]
    },
    {
     "name": "stderr",
     "output_type": "stream",
     "text": [
      "GEOB frame does not contain a mime type\n",
      "GEOB frame does not contain a valid mime type\n"
     ]
    },
    {
     "name": "stdout",
     "output_type": "stream",
     "text": [
      "/Users/onieto/Desktop/Harmonix/final_audio/0682_forever.mp3\n"
     ]
    },
    {
     "name": "stderr",
     "output_type": "stream",
     "text": [
      "Invalid date: 0702\n",
      "GEOB frame does not contain a mime type\n",
      "GEOB frame does not contain a valid mime type\n"
     ]
    },
    {
     "name": "stdout",
     "output_type": "stream",
     "text": [
      "/Users/onieto/Desktop/Harmonix/final_audio/0683_foreverextendedmix.mp3\n"
     ]
    },
    {
     "name": "stderr",
     "output_type": "stream",
     "text": [
      "GEOB frame does not contain a mime type\n",
      "GEOB frame does not contain a valid mime type\n",
      "GEOB frame does not contain a mime type\n",
      "GEOB frame does not contain a valid mime type\n"
     ]
    },
    {
     "name": "stdout",
     "output_type": "stream",
     "text": [
      "/Users/onieto/Desktop/Harmonix/final_audio/0685_forgottolaugh.mp3\n"
     ]
    },
    {
     "name": "stderr",
     "output_type": "stream",
     "text": [
      "GEOB frame does not contain a mime type\n",
      "GEOB frame does not contain a valid mime type\n",
      "GEOB frame does not contain a mime type\n",
      "GEOB frame does not contain a valid mime type\n"
     ]
    },
    {
     "name": "stdout",
     "output_type": "stream",
     "text": [
      "/Users/onieto/Desktop/Harmonix/final_audio/0686_fortheloveofadaughter.mp3\n"
     ]
    },
    {
     "name": "stderr",
     "output_type": "stream",
     "text": [
      "GEOB frame does not contain a mime type\n",
      "GEOB frame does not contain a valid mime type\n"
     ]
    },
    {
     "name": "stdout",
     "output_type": "stream",
     "text": [
      "/Users/onieto/Desktop/Harmonix/final_audio/0687_getouttamyway.mp3\n"
     ]
    },
    {
     "name": "stderr",
     "output_type": "stream",
     "text": [
      "GEOB frame does not contain a mime type\n",
      "GEOB frame does not contain a valid mime type\n"
     ]
    },
    {
     "name": "stdout",
     "output_type": "stream",
     "text": [
      "/Users/onieto/Desktop/Harmonix/final_audio/0688_getthepartystarted.mp3\n"
     ]
    },
    {
     "name": "stderr",
     "output_type": "stream",
     "text": [
      "GEOB frame does not contain a mime type\n",
      "GEOB frame does not contain a valid mime type\n"
     ]
    },
    {
     "name": "stdout",
     "output_type": "stream",
     "text": [
      "/Users/onieto/Desktop/Harmonix/final_audio/0689_gettinoveryou.mp3\n"
     ]
    },
    {
     "name": "stderr",
     "output_type": "stream",
     "text": [
      "GEOB frame does not contain a mime type\n",
      "GEOB frame does not contain a valid mime type\n"
     ]
    },
    {
     "name": "stdout",
     "output_type": "stream",
     "text": [
      "/Users/onieto/Desktop/Harmonix/final_audio/0690_givemeeverything.mp3\n"
     ]
    },
    {
     "name": "stderr",
     "output_type": "stream",
     "text": [
      "GEOB frame does not contain a mime type\n",
      "GEOB frame does not contain a valid mime type\n"
     ]
    },
    {
     "name": "stdout",
     "output_type": "stream",
     "text": [
      "/Users/onieto/Desktop/Harmonix/final_audio/0691_givesyouhell.mp3\n"
     ]
    },
    {
     "name": "stderr",
     "output_type": "stream",
     "text": [
      "GEOB frame does not contain a mime type\n",
      "GEOB frame does not contain a valid mime type\n",
      "GEOB frame does not contain a mime type\n",
      "GEOB frame does not contain a valid mime type\n"
     ]
    },
    {
     "name": "stdout",
     "output_type": "stream",
     "text": [
      "/Users/onieto/Desktop/Harmonix/final_audio/0692_giveyourheartabreakdos.mp3\n"
     ]
    },
    {
     "name": "stderr",
     "output_type": "stream",
     "text": [
      "Invalid date: 0110\n",
      "GEOB frame does not contain a mime type\n",
      "GEOB frame does not contain a valid mime type\n",
      "GEOB frame does not contain a mime type\n",
      "GEOB frame does not contain a valid mime type\n"
     ]
    },
    {
     "name": "stdout",
     "output_type": "stream",
     "text": [
      "/Users/onieto/Desktop/Harmonix/final_audio/0693_gold.mp3\n"
     ]
    },
    {
     "name": "stderr",
     "output_type": "stream",
     "text": [
      "GEOB frame does not contain a mime type\n",
      "GEOB frame does not contain a valid mime type\n",
      "GEOB frame does not contain a mime type\n",
      "GEOB frame does not contain a valid mime type\n"
     ]
    },
    {
     "name": "stdout",
     "output_type": "stream",
     "text": [
      "/Users/onieto/Desktop/Harmonix/final_audio/0695_goodbyegoodbye.mp3\n"
     ]
    },
    {
     "name": "stderr",
     "output_type": "stream",
     "text": [
      "Invalid date: 0311\n",
      "GEOB frame does not contain a mime type\n",
      "GEOB frame does not contain a valid mime type\n"
     ]
    },
    {
     "name": "stdout",
     "output_type": "stream",
     "text": [
      "/Users/onieto/Desktop/Harmonix/final_audio/0696_goodgirlsgobad.mp3\n"
     ]
    },
    {
     "name": "stderr",
     "output_type": "stream",
     "text": [
      "Invalid date: 0702\n",
      "GEOB frame does not contain a mime type\n",
      "GEOB frame does not contain a valid mime type\n"
     ]
    },
    {
     "name": "stdout",
     "output_type": "stream",
     "text": [
      "/Users/onieto/Desktop/Harmonix/final_audio/0697_goodlife.mp3\n"
     ]
    },
    {
     "name": "stderr",
     "output_type": "stream",
     "text": [
      "GEOB frame does not contain a mime type\n",
      "GEOB frame does not contain a valid mime type\n"
     ]
    },
    {
     "name": "stdout",
     "output_type": "stream",
     "text": [
      "/Users/onieto/Desktop/Harmonix/final_audio/0698_goodtime.mp3\n"
     ]
    },
    {
     "name": "stderr",
     "output_type": "stream",
     "text": [
      "GEOB frame does not contain a mime type\n",
      "GEOB frame does not contain a valid mime type\n"
     ]
    },
    {
     "name": "stdout",
     "output_type": "stream",
     "text": [
      "/Users/onieto/Desktop/Harmonix/final_audio/0699_gotmoney.mp3\n"
     ]
    },
    {
     "name": "stderr",
     "output_type": "stream",
     "text": [
      "GEOB frame does not contain a mime type\n",
      "GEOB frame does not contain a valid mime type\n"
     ]
    },
    {
     "name": "stdout",
     "output_type": "stream",
     "text": [
      "/Users/onieto/Desktop/Harmonix/final_audio/0700_gottabesomebody.mp3\n"
     ]
    },
    {
     "name": "stderr",
     "output_type": "stream",
     "text": [
      "Invalid date: 0702\n",
      "GEOB frame does not contain a mime type\n",
      "GEOB frame does not contain a valid mime type\n",
      "GEOB frame does not contain a mime type\n",
      "GEOB frame does not contain a valid mime type\n"
     ]
    },
    {
     "name": "stdout",
     "output_type": "stream",
     "text": [
      "/Users/onieto/Desktop/Harmonix/final_audio/0701_gottabeyou.mp3\n"
     ]
    },
    {
     "name": "stderr",
     "output_type": "stream",
     "text": [
      "GEOB frame does not contain a mime type\n",
      "GEOB frame does not contain a valid mime type\n"
     ]
    },
    {
     "name": "stdout",
     "output_type": "stream",
     "text": [
      "/Users/onieto/Desktop/Harmonix/final_audio/0702_greenlight.mp3\n"
     ]
    },
    {
     "name": "stderr",
     "output_type": "stream",
     "text": [
      "GEOB frame does not contain a mime type\n",
      "GEOB frame does not contain a valid mime type\n"
     ]
    },
    {
     "name": "stdout",
     "output_type": "stream",
     "text": [
      "/Users/onieto/Desktop/Harmonix/final_audio/0704_guitarstringweddingring.mp3\n"
     ]
    },
    {
     "name": "stderr",
     "output_type": "stream",
     "text": [
      "Invalid date: 0311\n",
      "GEOB frame does not contain a mime type\n",
      "GEOB frame does not contain a valid mime type\n"
     ]
    },
    {
     "name": "stdout",
     "output_type": "stream",
     "text": [
      "/Users/onieto/Desktop/Harmonix/final_audio/0705_haditall.mp3\n"
     ]
    },
    {
     "name": "stderr",
     "output_type": "stream",
     "text": [
      "Invalid date: 0510\n",
      "GEOB frame does not contain a mime type\n",
      "GEOB frame does not contain a valid mime type\n"
     ]
    },
    {
     "name": "stdout",
     "output_type": "stream",
     "text": [
      "/Users/onieto/Desktop/Harmonix/final_audio/0706_halcyon.mp3\n"
     ]
    },
    {
     "name": "stderr",
     "output_type": "stream",
     "text": [
      "GEOB frame does not contain a mime type\n",
      "GEOB frame does not contain a valid mime type\n"
     ]
    },
    {
     "name": "stdout",
     "output_type": "stream",
     "text": [
      "/Users/onieto/Desktop/Harmonix/final_audio/0707_halfwaygone.mp3\n"
     ]
    },
    {
     "name": "stderr",
     "output_type": "stream",
     "text": [
      "GEOB frame does not contain a mime type\n",
      "GEOB frame does not contain a valid mime type\n"
     ]
    },
    {
     "name": "stdout",
     "output_type": "stream",
     "text": [
      "/Users/onieto/Desktop/Harmonix/final_audio/0708_haloradioedit.mp3\n"
     ]
    },
    {
     "name": "stderr",
     "output_type": "stream",
     "text": [
      "Invalid date: 0510\n",
      "GEOB frame does not contain a mime type\n",
      "GEOB frame does not contain a valid mime type\n"
     ]
    },
    {
     "name": "stdout",
     "output_type": "stream",
     "text": [
      "/Users/onieto/Desktop/Harmonix/final_audio/0709_hangingon.mp3\n"
     ]
    },
    {
     "name": "stderr",
     "output_type": "stream",
     "text": [
      "GEOB frame does not contain a mime type\n",
      "GEOB frame does not contain a valid mime type\n"
     ]
    },
    {
     "name": "stdout",
     "output_type": "stream",
     "text": [
      "/Users/onieto/Desktop/Harmonix/final_audio/0710_hardjeezy.mp3\n"
     ]
    },
    {
     "name": "stderr",
     "output_type": "stream",
     "text": [
      "GEOB frame does not contain a mime type\n",
      "GEOB frame does not contain a valid mime type\n"
     ]
    },
    {
     "name": "stdout",
     "output_type": "stream",
     "text": [
      "/Users/onieto/Desktop/Harmonix/final_audio/0711_heartheartheartbreak.mp3\n"
     ]
    },
    {
     "name": "stderr",
     "output_type": "stream",
     "text": [
      "GEOB frame does not contain a mime type\n",
      "GEOB frame does not contain a valid mime type\n"
     ]
    },
    {
     "name": "stdout",
     "output_type": "stream",
     "text": [
      "/Users/onieto/Desktop/Harmonix/final_audio/0712_heartless.mp3\n"
     ]
    },
    {
     "name": "stderr",
     "output_type": "stream",
     "text": [
      "GEOB frame does not contain a mime type\n",
      "GEOB frame does not contain a valid mime type\n"
     ]
    },
    {
     "name": "stdout",
     "output_type": "stream",
     "text": [
      "/Users/onieto/Desktop/Harmonix/final_audio/0713_heartofgoldnow.mp3\n"
     ]
    },
    {
     "name": "stderr",
     "output_type": "stream",
     "text": [
      "GEOB frame does not contain a mime type\n",
      "GEOB frame does not contain a valid mime type\n"
     ]
    },
    {
     "name": "stdout",
     "output_type": "stream",
     "text": [
      "/Users/onieto/Desktop/Harmonix/final_audio/0714_hell.mp3\n"
     ]
    },
    {
     "name": "stderr",
     "output_type": "stream",
     "text": [
      "GEOB frame does not contain a mime type\n",
      "GEOB frame does not contain a valid mime type\n"
     ]
    },
    {
     "name": "stdout",
     "output_type": "stream",
     "text": [
      "/Users/onieto/Desktop/Harmonix/final_audio/0715_hellodadalife.mp3\n"
     ]
    },
    {
     "name": "stderr",
     "output_type": "stream",
     "text": [
      "GEOB frame does not contain a mime type\n",
      "GEOB frame does not contain a valid mime type\n"
     ]
    },
    {
     "name": "stdout",
     "output_type": "stream",
     "text": [
      "/Users/onieto/Desktop/Harmonix/final_audio/0716_heroheroine.mp3\n"
     ]
    },
    {
     "name": "stderr",
     "output_type": "stream",
     "text": [
      "GEOB frame does not contain a mime type\n",
      "GEOB frame does not contain a valid mime type\n"
     ]
    },
    {
     "name": "stdout",
     "output_type": "stream",
     "text": [
      "/Users/onieto/Desktop/Harmonix/final_audio/0717_heysoulsister.mp3\n"
     ]
    },
    {
     "name": "stderr",
     "output_type": "stream",
     "text": [
      "GEOB frame does not contain a mime type\n",
      "GEOB frame does not contain a valid mime type\n"
     ]
    },
    {
     "name": "stdout",
     "output_type": "stream",
     "text": [
      "/Users/onieto/Desktop/Harmonix/final_audio/0718_heytheredelilah.mp3\n"
     ]
    },
    {
     "name": "stderr",
     "output_type": "stream",
     "text": [
      "GEOB frame does not contain a mime type\n",
      "GEOB frame does not contain a valid mime type\n"
     ]
    },
    {
     "name": "stdout",
     "output_type": "stream",
     "text": [
      "/Users/onieto/Desktop/Harmonix/final_audio/0719_hipsdontlie.mp3\n"
     ]
    },
    {
     "name": "stderr",
     "output_type": "stream",
     "text": [
      "GEOB frame does not contain a mime type\n",
      "GEOB frame does not contain a valid mime type\n",
      "GEOB frame does not contain a mime type\n",
      "GEOB frame does not contain a valid mime type\n"
     ]
    },
    {
     "name": "stdout",
     "output_type": "stream",
     "text": [
      "/Users/onieto/Desktop/Harmonix/final_audio/0721_holdup.mp3\n"
     ]
    },
    {
     "name": "stderr",
     "output_type": "stream",
     "text": [
      "Invalid date: 0311\n",
      "GEOB frame does not contain a mime type\n",
      "GEOB frame does not contain a valid mime type\n"
     ]
    },
    {
     "name": "stdout",
     "output_type": "stream",
     "text": [
      "/Users/onieto/Desktop/Harmonix/final_audio/0723_hotelroomservice.mp3\n"
     ]
    },
    {
     "name": "stderr",
     "output_type": "stream",
     "text": [
      "Invalid date: 0202\n",
      "GEOB frame does not contain a mime type\n",
      "GEOB frame does not contain a valid mime type\n"
     ]
    },
    {
     "name": "stdout",
     "output_type": "stream",
     "text": [
      "/Users/onieto/Desktop/Harmonix/final_audio/0724_hotmessdj.mp3\n"
     ]
    },
    {
     "name": "stderr",
     "output_type": "stream",
     "text": [
      "GEOB frame does not contain a mime type\n",
      "GEOB frame does not contain a valid mime type\n"
     ]
    },
    {
     "name": "stdout",
     "output_type": "stream",
     "text": [
      "/Users/onieto/Desktop/Harmonix/final_audio/0725_hotncold.mp3\n"
     ]
    },
    {
     "name": "stderr",
     "output_type": "stream",
     "text": [
      "Invalid date: 0202\n",
      "GEOB frame does not contain a mime type\n",
      "GEOB frame does not contain a valid mime type\n"
     ]
    },
    {
     "name": "stdout",
     "output_type": "stream",
     "text": [
      "/Users/onieto/Desktop/Harmonix/final_audio/0726_hotplay.mp3\n"
     ]
    },
    {
     "name": "stderr",
     "output_type": "stream",
     "text": [
      "GEOB frame does not contain a mime type\n",
      "GEOB frame does not contain a valid mime type\n",
      "GEOB frame does not contain a mime type\n",
      "GEOB frame does not contain a valid mime type\n"
     ]
    },
    {
     "name": "stdout",
     "output_type": "stream",
     "text": [
      "/Users/onieto/Desktop/Harmonix/final_audio/0727_howcomeyoudontwantme.mp3\n"
     ]
    },
    {
     "name": "stderr",
     "output_type": "stream",
     "text": [
      "GEOB frame does not contain a mime type\n",
      "GEOB frame does not contain a valid mime type\n"
     ]
    },
    {
     "name": "stdout",
     "output_type": "stream",
     "text": [
      "/Users/onieto/Desktop/Harmonix/final_audio/0728_howyouremindme.mp3\n"
     ]
    },
    {
     "name": "stderr",
     "output_type": "stream",
     "text": [
      "GEOB frame does not contain a mime type\n",
      "GEOB frame does not contain a valid mime type\n",
      "GEOB frame does not contain a mime type\n",
      "GEOB frame does not contain a valid mime type\n"
     ]
    },
    {
     "name": "stdout",
     "output_type": "stream",
     "text": [
      "/Users/onieto/Desktop/Harmonix/final_audio/0729_hurricane.mp3\n"
     ]
    },
    {
     "name": "stderr",
     "output_type": "stream",
     "text": [
      "GEOB frame does not contain a mime type\n",
      "GEOB frame does not contain a valid mime type\n"
     ]
    },
    {
     "name": "stdout",
     "output_type": "stream",
     "text": [
      "/Users/onieto/Desktop/Harmonix/final_audio/0730_hurtssogood.mp3\n"
     ]
    },
    {
     "name": "stderr",
     "output_type": "stream",
     "text": [
      "GEOB frame does not contain a mime type\n",
      "GEOB frame does not contain a valid mime type\n",
      "GEOB frame does not contain a mime type\n",
      "GEOB frame does not contain a valid mime type\n"
     ]
    },
    {
     "name": "stdout",
     "output_type": "stream",
     "text": [
      "/Users/onieto/Desktop/Harmonix/final_audio/0731_icouldntbeyourfriend.mp3\n"
     ]
    },
    {
     "name": "stderr",
     "output_type": "stream",
     "text": [
      "GEOB frame does not contain a mime type\n",
      "GEOB frame does not contain a valid mime type\n"
     ]
    },
    {
     "name": "stdout",
     "output_type": "stream",
     "text": [
      "/Users/onieto/Desktop/Harmonix/final_audio/0732_idontwannabeinlove.mp3\n"
     ]
    },
    {
     "name": "stderr",
     "output_type": "stream",
     "text": [
      "GEOB frame does not contain a mime type\n",
      "GEOB frame does not contain a valid mime type\n"
     ]
    },
    {
     "name": "stdout",
     "output_type": "stream",
     "text": [
      "/Users/onieto/Desktop/Harmonix/final_audio/0733_ifihadyou.mp3\n"
     ]
    },
    {
     "name": "stderr",
     "output_type": "stream",
     "text": [
      "GEOB frame does not contain a mime type\n",
      "GEOB frame does not contain a valid mime type\n"
     ]
    },
    {
     "name": "stdout",
     "output_type": "stream",
     "text": [
      "/Users/onieto/Desktop/Harmonix/final_audio/0734_iftodaywasyourlastday.mp3\n"
     ]
    },
    {
     "name": "stderr",
     "output_type": "stream",
     "text": [
      "Invalid date: 0412\n",
      "GEOB frame does not contain a mime type\n",
      "GEOB frame does not contain a valid mime type\n"
     ]
    },
    {
     "name": "stdout",
     "output_type": "stream",
     "text": [
      "/Users/onieto/Desktop/Harmonix/final_audio/0735_ifuseeamy.mp3\n"
     ]
    },
    {
     "name": "stderr",
     "output_type": "stream",
     "text": [
      "Invalid date: 0311\n",
      "GEOB frame does not contain a mime type\n",
      "GEOB frame does not contain a valid mime type\n"
     ]
    },
    {
     "name": "stdout",
     "output_type": "stream",
     "text": [
      "/Users/onieto/Desktop/Harmonix/final_audio/0736_igotafeeling.mp3\n"
     ]
    },
    {
     "name": "stderr",
     "output_type": "stream",
     "text": [
      "GEOB frame does not contain a mime type\n",
      "GEOB frame does not contain a valid mime type\n"
     ]
    },
    {
     "name": "stdout",
     "output_type": "stream",
     "text": [
      "/Users/onieto/Desktop/Harmonix/final_audio/0737_ihatethispart.mp3\n"
     ]
    },
    {
     "name": "stderr",
     "output_type": "stream",
     "text": [
      "GEOB frame does not contain a mime type\n",
      "GEOB frame does not contain a valid mime type\n",
      "GEOB frame does not contain a mime type\n",
      "GEOB frame does not contain a valid mime type\n"
     ]
    },
    {
     "name": "stdout",
     "output_type": "stream",
     "text": [
      "/Users/onieto/Desktop/Harmonix/final_audio/0738_ihearnoises.mp3\n"
     ]
    },
    {
     "name": "stderr",
     "output_type": "stream",
     "text": [
      "GEOB frame does not contain a mime type\n",
      "GEOB frame does not contain a valid mime type\n"
     ]
    },
    {
     "name": "stdout",
     "output_type": "stream",
     "text": [
      "/Users/onieto/Desktop/Harmonix/final_audio/0739_ikissedagirl.mp3\n"
     ]
    },
    {
     "name": "stderr",
     "output_type": "stream",
     "text": [
      "Invalid date: 0601\n",
      "GEOB frame does not contain a mime type\n",
      "GEOB frame does not contain a valid mime type\n",
      "Frame 'IPLS' is not yet supported, using raw Frame to parse\n"
     ]
    },
    {
     "name": "stdout",
     "output_type": "stream",
     "text": [
      "/Users/onieto/Desktop/Harmonix/final_audio/0740_ikissedagirljasonnevins.mp3\n"
     ]
    },
    {
     "name": "stderr",
     "output_type": "stream",
     "text": [
      "Invalid date: 0510\n",
      "GEOB frame does not contain a mime type\n",
      "GEOB frame does not contain a valid mime type\n"
     ]
    },
    {
     "name": "stdout",
     "output_type": "stream",
     "text": [
      "/Users/onieto/Desktop/Harmonix/final_audio/0741_iknowyoucare.mp3\n"
     ]
    },
    {
     "name": "stderr",
     "output_type": "stream",
     "text": [
      "GEOB frame does not contain a mime type\n",
      "GEOB frame does not contain a valid mime type\n"
     ]
    },
    {
     "name": "stdout",
     "output_type": "stream",
     "text": [
      "/Users/onieto/Desktop/Harmonix/final_audio/0742_iknowyouwantme2.mp3\n"
     ]
    },
    {
     "name": "stderr",
     "output_type": "stream",
     "text": [
      "GEOB frame does not contain a mime type\n",
      "GEOB frame does not contain a valid mime type\n"
     ]
    },
    {
     "name": "stdout",
     "output_type": "stream",
     "text": [
      "/Users/onieto/Desktop/Harmonix/final_audio/0743_iminloveiwannadoit.mp3\n"
     ]
    },
    {
     "name": "stderr",
     "output_type": "stream",
     "text": [
      "GEOB frame does not contain a mime type\n",
      "GEOB frame does not contain a valid mime type\n"
     ]
    },
    {
     "name": "stdout",
     "output_type": "stream",
     "text": [
      "/Users/onieto/Desktop/Harmonix/final_audio/0744_immabe.mp3\n"
     ]
    },
    {
     "name": "stderr",
     "output_type": "stream",
     "text": [
      "GEOB frame does not contain a mime type\n",
      "GEOB frame does not contain a valid mime type\n"
     ]
    },
    {
     "name": "stdout",
     "output_type": "stream",
     "text": [
      "/Users/onieto/Desktop/Harmonix/final_audio/0745_immabewolf.mp3\n"
     ]
    },
    {
     "name": "stderr",
     "output_type": "stream",
     "text": [
      "GEOB frame does not contain a mime type\n",
      "GEOB frame does not contain a valid mime type\n",
      "GEOB frame does not contain a mime type\n",
      "GEOB frame does not contain a valid mime type\n"
     ]
    },
    {
     "name": "stdout",
     "output_type": "stream",
     "text": [
      "/Users/onieto/Desktop/Harmonix/final_audio/0746_imnotyourhero.mp3\n"
     ]
    },
    {
     "name": "stderr",
     "output_type": "stream",
     "text": [
      "GEOB frame does not contain a mime type\n",
      "GEOB frame does not contain a valid mime type\n"
     ]
    },
    {
     "name": "stdout",
     "output_type": "stream",
     "text": [
      "/Users/onieto/Desktop/Harmonix/final_audio/0747_imreal.mp3\n"
     ]
    },
    {
     "name": "stderr",
     "output_type": "stream",
     "text": [
      "GEOB frame does not contain a mime type\n",
      "GEOB frame does not contain a valid mime type\n"
     ]
    },
    {
     "name": "stdout",
     "output_type": "stream",
     "text": [
      "/Users/onieto/Desktop/Harmonix/final_audio/0748_imyours.mp3\n"
     ]
    },
    {
     "name": "stderr",
     "output_type": "stream",
     "text": [
      "GEOB frame does not contain a mime type\n",
      "GEOB frame does not contain a valid mime type\n"
     ]
    },
    {
     "name": "stdout",
     "output_type": "stream",
     "text": [
      "/Users/onieto/Desktop/Harmonix/final_audio/0749_indestructible2.mp3\n"
     ]
    },
    {
     "name": "stderr",
     "output_type": "stream",
     "text": [
      "Invalid date: 0510\n",
      "GEOB frame does not contain a mime type\n",
      "GEOB frame does not contain a valid mime type\n"
     ]
    },
    {
     "name": "stdout",
     "output_type": "stream",
     "text": [
      "/Users/onieto/Desktop/Harmonix/final_audio/0750_ineedyourlove.mp3\n"
     ]
    },
    {
     "name": "stderr",
     "output_type": "stream",
     "text": [
      "Invalid date: 0306\n",
      "GEOB frame does not contain a mime type\n",
      "GEOB frame does not contain a valid mime type\n"
     ]
    },
    {
     "name": "stdout",
     "output_type": "stream",
     "text": [
      "/Users/onieto/Desktop/Harmonix/final_audio/0751_inlovewithagirl.mp3\n"
     ]
    },
    {
     "name": "stderr",
     "output_type": "stream",
     "text": [
      "GEOB frame does not contain a mime type\n",
      "GEOB frame does not contain a valid mime type\n"
     ]
    },
    {
     "name": "stdout",
     "output_type": "stream",
     "text": [
      "/Users/onieto/Desktop/Harmonix/final_audio/0752_inmyhead.mp3\n"
     ]
    },
    {
     "name": "stderr",
     "output_type": "stream",
     "text": [
      "GEOB frame does not contain a mime type\n",
      "GEOB frame does not contain a valid mime type\n",
      "GEOB frame does not contain a mime type\n",
      "GEOB frame does not contain a valid mime type\n"
     ]
    },
    {
     "name": "stdout",
     "output_type": "stream",
     "text": [
      "/Users/onieto/Desktop/Harmonix/final_audio/0753_inreallife.mp3\n"
     ]
    },
    {
     "name": "stderr",
     "output_type": "stream",
     "text": [
      "GEOB frame does not contain a mime type\n",
      "GEOB frame does not contain a valid mime type\n"
     ]
    },
    {
     "name": "stdout",
     "output_type": "stream",
     "text": [
      "/Users/onieto/Desktop/Harmonix/final_audio/0755_intothenight.mp3\n"
     ]
    },
    {
     "name": "stderr",
     "output_type": "stream",
     "text": [
      "GEOB frame does not contain a mime type\n",
      "GEOB frame does not contain a valid mime type\n"
     ]
    },
    {
     "name": "stdout",
     "output_type": "stream",
     "text": [
      "/Users/onieto/Desktop/Harmonix/final_audio/0756_istillmissyou.mp3\n"
     ]
    },
    {
     "name": "stderr",
     "output_type": "stream",
     "text": [
      "GEOB frame does not contain a mime type\n",
      "GEOB frame does not contain a valid mime type\n"
     ]
    },
    {
     "name": "stdout",
     "output_type": "stream",
     "text": [
      "/Users/onieto/Desktop/Harmonix/final_audio/0758_itgetsbetter.mp3\n"
     ]
    },
    {
     "name": "stderr",
     "output_type": "stream",
     "text": [
      "GEOB frame does not contain a mime type\n",
      "GEOB frame does not contain a valid mime type\n"
     ]
    },
    {
     "name": "stdout",
     "output_type": "stream",
     "text": [
      "/Users/onieto/Desktop/Harmonix/final_audio/0759_itgirljasonnevins.mp3\n"
     ]
    },
    {
     "name": "stderr",
     "output_type": "stream",
     "text": [
      "GEOB frame does not contain a mime type\n",
      "GEOB frame does not contain a valid mime type\n"
     ]
    },
    {
     "name": "stdout",
     "output_type": "stream",
     "text": [
      "/Users/onieto/Desktop/Harmonix/final_audio/0760_iwannarock.mp3\n"
     ]
    },
    {
     "name": "stderr",
     "output_type": "stream",
     "text": [
      "Invalid date: 0702\n",
      "GEOB frame does not contain a mime type\n",
      "GEOB frame does not contain a valid mime type\n",
      "GEOB frame does not contain a mime type\n",
      "GEOB frame does not contain a valid mime type\n"
     ]
    },
    {
     "name": "stdout",
     "output_type": "stream",
     "text": [
      "/Users/onieto/Desktop/Harmonix/final_audio/0761_iwant.mp3\n"
     ]
    },
    {
     "name": "stderr",
     "output_type": "stream",
     "text": [
      "GEOB frame does not contain a mime type\n",
      "GEOB frame does not contain a valid mime type\n"
     ]
    },
    {
     "name": "stdout",
     "output_type": "stream",
     "text": [
      "/Users/onieto/Desktop/Harmonix/final_audio/0762_iwantitthatway.mp3\n"
     ]
    },
    {
     "name": "stderr",
     "output_type": "stream",
     "text": [
      "GEOB frame does not contain a mime type\n",
      "GEOB frame does not contain a valid mime type\n",
      "GEOB frame does not contain a mime type\n",
      "GEOB frame does not contain a valid mime type\n"
     ]
    },
    {
     "name": "stdout",
     "output_type": "stream",
     "text": [
      "/Users/onieto/Desktop/Harmonix/final_audio/0763_iwasafool.mp3\n"
     ]
    },
    {
     "name": "stderr",
     "output_type": "stream",
     "text": [
      "Invalid date: 0702\n",
      "GEOB frame does not contain a mime type\n",
      "GEOB frame does not contain a valid mime type\n",
      "GEOB frame does not contain a mime type\n",
      "GEOB frame does not contain a valid mime type\n"
     ]
    },
    {
     "name": "stdout",
     "output_type": "stream",
     "text": [
      "/Users/onieto/Desktop/Harmonix/final_audio/0764_iwish.mp3\n"
     ]
    },
    {
     "name": "stderr",
     "output_type": "stream",
     "text": [
      "Invalid date: 0110\n",
      "GEOB frame does not contain a mime type\n",
      "GEOB frame does not contain a valid mime type\n",
      "GEOB frame does not contain a mime type\n",
      "GEOB frame does not contain a valid mime type\n"
     ]
    },
    {
     "name": "stdout",
     "output_type": "stream",
     "text": [
      "/Users/onieto/Desktop/Harmonix/final_audio/0765_jimmyiovine.mp3\n"
     ]
    },
    {
     "name": "stderr",
     "output_type": "stream",
     "text": [
      "GEOB frame does not contain a mime type\n",
      "GEOB frame does not contain a valid mime type\n"
     ]
    },
    {
     "name": "stdout",
     "output_type": "stream",
     "text": [
      "/Users/onieto/Desktop/Harmonix/final_audio/0766_justdance.mp3\n"
     ]
    },
    {
     "name": "stderr",
     "output_type": "stream",
     "text": [
      "GEOB frame does not contain a mime type\n",
      "GEOB frame does not contain a valid mime type\n"
     ]
    },
    {
     "name": "stdout",
     "output_type": "stream",
     "text": [
      "/Users/onieto/Desktop/Harmonix/final_audio/0767_justfine.mp3\n"
     ]
    },
    {
     "name": "stderr",
     "output_type": "stream",
     "text": [
      "GEOB frame does not contain a mime type\n",
      "GEOB frame does not contain a valid mime type\n"
     ]
    },
    {
     "name": "stdout",
     "output_type": "stream",
     "text": [
      "/Users/onieto/Desktop/Harmonix/final_audio/0768_keepsgettinbetter.mp3\n"
     ]
    },
    {
     "name": "stderr",
     "output_type": "stream",
     "text": [
      "GEOB frame does not contain a mime type\n",
      "GEOB frame does not contain a valid mime type\n"
     ]
    },
    {
     "name": "stdout",
     "output_type": "stream",
     "text": [
      "/Users/onieto/Desktop/Harmonix/final_audio/0769_killa.mp3\n"
     ]
    },
    {
     "name": "stderr",
     "output_type": "stream",
     "text": [
      "Invalid date: 0712\n",
      "GEOB frame does not contain a mime type\n",
      "GEOB frame does not contain a valid mime type\n"
     ]
    },
    {
     "name": "stdout",
     "output_type": "stream",
     "text": [
      "/Users/onieto/Desktop/Harmonix/final_audio/0770_kingofmycastle.mp3\n"
     ]
    },
    {
     "name": "stderr",
     "output_type": "stream",
     "text": [
      "Invalid date: 0306\n",
      "GEOB frame does not contain a mime type\n",
      "GEOB frame does not contain a valid mime type\n"
     ]
    },
    {
     "name": "stdout",
     "output_type": "stream",
     "text": [
      "/Users/onieto/Desktop/Harmonix/final_audio/0771_kisskissmainversion.mp3\n"
     ]
    },
    {
     "name": "stderr",
     "output_type": "stream",
     "text": [
      "GEOB frame does not contain a mime type\n",
      "GEOB frame does not contain a valid mime type\n",
      "Frame 'IPLS' is not yet supported, using raw Frame to parse\n"
     ]
    },
    {
     "name": "stdout",
     "output_type": "stream",
     "text": [
      "/Users/onieto/Desktop/Harmonix/final_audio/0772_kissmebackcrytonight.mp3\n"
     ]
    },
    {
     "name": "stderr",
     "output_type": "stream",
     "text": [
      "GEOB frame does not contain a mime type\n",
      "GEOB frame does not contain a valid mime type\n"
     ]
    },
    {
     "name": "stdout",
     "output_type": "stream",
     "text": [
      "/Users/onieto/Desktop/Harmonix/final_audio/0773_kissmethruthephone.mp3\n"
     ]
    },
    {
     "name": "stderr",
     "output_type": "stream",
     "text": [
      "Invalid date: 0311\n",
      "GEOB frame does not contain a mime type\n",
      "GEOB frame does not contain a valid mime type\n"
     ]
    },
    {
     "name": "stdout",
     "output_type": "stream",
     "text": [
      "/Users/onieto/Desktop/Harmonix/final_audio/0774_knockyoudown.mp3\n"
     ]
    },
    {
     "name": "stderr",
     "output_type": "stream",
     "text": [
      "GEOB frame does not contain a mime type\n",
      "GEOB frame does not contain a valid mime type\n"
     ]
    },
    {
     "name": "stdout",
     "output_type": "stream",
     "text": [
      "/Users/onieto/Desktop/Harmonix/final_audio/0775_knockyoudownbimbojones.mp3\n"
     ]
    },
    {
     "name": "stderr",
     "output_type": "stream",
     "text": [
      "Invalid date: 0601\n",
      "GEOB frame does not contain a mime type\n",
      "GEOB frame does not contain a valid mime type\n",
      "Frame 'IPLS' is not yet supported, using raw Frame to parse\n"
     ]
    },
    {
     "name": "stdout",
     "output_type": "stream",
     "text": [
      "/Users/onieto/Desktop/Harmonix/final_audio/0776_krazy.mp3\n"
     ]
    },
    {
     "name": "stderr",
     "output_type": "stream",
     "text": [
      "Invalid date: 0702\n",
      "GEOB frame does not contain a mime type\n",
      "GEOB frame does not contain a valid mime type\n"
     ]
    },
    {
     "name": "stdout",
     "output_type": "stream",
     "text": [
      "/Users/onieto/Desktop/Harmonix/final_audio/0777_lebump.mp3\n"
     ]
    },
    {
     "name": "stderr",
     "output_type": "stream",
     "text": [
      "GEOB frame does not contain a mime type\n",
      "GEOB frame does not contain a valid mime type\n"
     ]
    },
    {
     "name": "stdout",
     "output_type": "stream",
     "text": [
      "/Users/onieto/Desktop/Harmonix/final_audio/0778_letitrock.mp3\n"
     ]
    },
    {
     "name": "stderr",
     "output_type": "stream",
     "text": [
      "GEOB frame does not contain a mime type\n",
      "GEOB frame does not contain a valid mime type\n"
     ]
    },
    {
     "name": "stdout",
     "output_type": "stream",
     "text": [
      "/Users/onieto/Desktop/Harmonix/final_audio/0779_letitrockfilthy.mp3\n"
     ]
    },
    {
     "name": "stderr",
     "output_type": "stream",
     "text": [
      "GEOB frame does not contain a mime type\n",
      "GEOB frame does not contain a valid mime type\n",
      "Frame 'IPLS' is not yet supported, using raw Frame to parse\n"
     ]
    },
    {
     "name": "stdout",
     "output_type": "stream",
     "text": [
      "/Users/onieto/Desktop/Harmonix/final_audio/0780_letmebereal.mp3\n"
     ]
    },
    {
     "name": "stderr",
     "output_type": "stream",
     "text": [
      "GEOB frame does not contain a mime type\n",
      "GEOB frame does not contain a valid mime type\n"
     ]
    },
    {
     "name": "stdout",
     "output_type": "stream",
     "text": [
      "/Users/onieto/Desktop/Harmonix/final_audio/0781_lettinggoduttylove.mp3\n"
     ]
    },
    {
     "name": "stderr",
     "output_type": "stream",
     "text": [
      "GEOB frame does not contain a mime type\n",
      "GEOB frame does not contain a valid mime type\n"
     ]
    },
    {
     "name": "stdout",
     "output_type": "stream",
     "text": [
      "/Users/onieto/Desktop/Harmonix/final_audio/0782_lifeafteryou.mp3\n"
     ]
    },
    {
     "name": "stderr",
     "output_type": "stream",
     "text": [
      "GEOB frame does not contain a mime type\n",
      "GEOB frame does not contain a valid mime type\n"
     ]
    },
    {
     "name": "stdout",
     "output_type": "stream",
     "text": [
      "/Users/onieto/Desktop/Harmonix/final_audio/0783_lighton.mp3\n"
     ]
    },
    {
     "name": "stderr",
     "output_type": "stream",
     "text": [
      "GEOB frame does not contain a mime type\n",
      "GEOB frame does not contain a valid mime type\n",
      "GEOB frame does not contain a mime type\n",
      "GEOB frame does not contain a valid mime type\n"
     ]
    },
    {
     "name": "stdout",
     "output_type": "stream",
     "text": [
      "/Users/onieto/Desktop/Harmonix/final_audio/0784_lightweight.mp3\n"
     ]
    },
    {
     "name": "stderr",
     "output_type": "stream",
     "text": [
      "GEOB frame does not contain a mime type\n",
      "GEOB frame does not contain a valid mime type\n"
     ]
    },
    {
     "name": "stdout",
     "output_type": "stream",
     "text": [
      "/Users/onieto/Desktop/Harmonix/final_audio/0785_littleliesnow.mp3\n"
     ]
    },
    {
     "name": "stderr",
     "output_type": "stream",
     "text": [
      "GEOB frame does not contain a mime type\n",
      "GEOB frame does not contain a valid mime type\n"
     ]
    },
    {
     "name": "stdout",
     "output_type": "stream",
     "text": [
      "/Users/onieto/Desktop/Harmonix/final_audio/0786_livelikeweredying.mp3\n"
     ]
    },
    {
     "name": "stderr",
     "output_type": "stream",
     "text": [
      "Invalid date: 0601\n",
      "GEOB frame does not contain a mime type\n",
      "GEOB frame does not contain a valid mime type\n",
      "Frame 'IPLS' is not yet supported, using raw Frame to parse\n"
     ]
    },
    {
     "name": "stdout",
     "output_type": "stream",
     "text": [
      "/Users/onieto/Desktop/Harmonix/final_audio/0787_liveyourlife.mp3\n"
     ]
    },
    {
     "name": "stderr",
     "output_type": "stream",
     "text": [
      "GEOB frame does not contain a mime type\n",
      "GEOB frame does not contain a valid mime type\n",
      "GEOB frame does not contain a mime type\n",
      "GEOB frame does not contain a valid mime type\n"
     ]
    },
    {
     "name": "stdout",
     "output_type": "stream",
     "text": [
      "/Users/onieto/Desktop/Harmonix/final_audio/0789_livingroom.mp3\n"
     ]
    },
    {
     "name": "stderr",
     "output_type": "stream",
     "text": [
      "GEOB frame does not contain a mime type\n",
      "GEOB frame does not contain a valid mime type\n"
     ]
    },
    {
     "name": "stdout",
     "output_type": "stream",
     "text": [
      "/Users/onieto/Desktop/Harmonix/final_audio/0790_locapeople.mp3\n"
     ]
    },
    {
     "name": "stderr",
     "output_type": "stream",
     "text": [
      "Invalid date: 0306\n",
      "GEOB frame does not contain a mime type\n",
      "GEOB frame does not contain a valid mime type\n"
     ]
    },
    {
     "name": "stdout",
     "output_type": "stream",
     "text": [
      "/Users/onieto/Desktop/Harmonix/final_audio/0791_lollipop.mp3\n"
     ]
    },
    {
     "name": "stderr",
     "output_type": "stream",
     "text": [
      "Invalid date: 0809\n",
      "GEOB frame does not contain a mime type\n",
      "GEOB frame does not contain a valid mime type\n"
     ]
    },
    {
     "name": "stdout",
     "output_type": "stream",
     "text": [
      "/Users/onieto/Desktop/Harmonix/final_audio/0792_lovedrunk.mp3\n"
     ]
    },
    {
     "name": "stderr",
     "output_type": "stream",
     "text": [
      "Invalid date: 0311\n",
      "GEOB frame does not contain a mime type\n",
      "GEOB frame does not contain a valid mime type\n"
     ]
    },
    {
     "name": "stdout",
     "output_type": "stream",
     "text": [
      "/Users/onieto/Desktop/Harmonix/final_audio/0793_lovegame.mp3\n"
     ]
    },
    {
     "name": "stderr",
     "output_type": "stream",
     "text": [
      "GEOB frame does not contain a mime type\n",
      "GEOB frame does not contain a valid mime type\n"
     ]
    },
    {
     "name": "stdout",
     "output_type": "stream",
     "text": [
      "/Users/onieto/Desktop/Harmonix/final_audio/0794_lovegamedave.mp3\n"
     ]
    },
    {
     "name": "stderr",
     "output_type": "stream",
     "text": [
      "Invalid date: 0601\n",
      "GEOB frame does not contain a mime type\n",
      "GEOB frame does not contain a valid mime type\n",
      "Frame 'IPLS' is not yet supported, using raw Frame to parse\n"
     ]
    },
    {
     "name": "stdout",
     "output_type": "stream",
     "text": [
      "/Users/onieto/Desktop/Harmonix/final_audio/0796_loveinthisclub.mp3\n"
     ]
    },
    {
     "name": "stderr",
     "output_type": "stream",
     "text": [
      "GEOB frame does not contain a mime type\n",
      "GEOB frame does not contain a valid mime type\n",
      "Frame 'IPLS' is not yet supported, using raw Frame to parse\n"
     ]
    },
    {
     "name": "stdout",
     "output_type": "stream",
     "text": [
      "/Users/onieto/Desktop/Harmonix/final_audio/0797_loveisgone.mp3\n"
     ]
    },
    {
     "name": "stderr",
     "output_type": "stream",
     "text": [
      "GEOB frame does not contain a mime type\n",
      "GEOB frame does not contain a valid mime type\n"
     ]
    },
    {
     "name": "stdout",
     "output_type": "stream",
     "text": [
      "/Users/onieto/Desktop/Harmonix/final_audio/0798_lovelikethis.mp3\n"
     ]
    },
    {
     "name": "stderr",
     "output_type": "stream",
     "text": [
      "GEOB frame does not contain a mime type\n",
      "GEOB frame does not contain a valid mime type\n"
     ]
    },
    {
     "name": "stdout",
     "output_type": "stream",
     "text": [
      "/Users/onieto/Desktop/Harmonix/final_audio/0799_lovesexmagic.mp3\n"
     ]
    },
    {
     "name": "stderr",
     "output_type": "stream",
     "text": [
      "GEOB frame does not contain a mime type\n",
      "GEOB frame does not contain a valid mime type\n"
     ]
    },
    {
     "name": "stdout",
     "output_type": "stream",
     "text": [
      "/Users/onieto/Desktop/Harmonix/final_audio/0800_lovesexmagicjason.mp3\n"
     ]
    },
    {
     "name": "stderr",
     "output_type": "stream",
     "text": [
      "GEOB frame does not contain a mime type\n",
      "GEOB frame does not contain a valid mime type\n"
     ]
    },
    {
     "name": "stdout",
     "output_type": "stream",
     "text": [
      "/Users/onieto/Desktop/Harmonix/final_audio/0801_lovesong.mp3\n"
     ]
    },
    {
     "name": "stderr",
     "output_type": "stream",
     "text": [
      "GEOB frame does not contain a mime type\n",
      "GEOB frame does not contain a valid mime type\n"
     ]
    },
    {
     "name": "stdout",
     "output_type": "stream",
     "text": [
      "/Users/onieto/Desktop/Harmonix/final_audio/0802_lovestoned.mp3\n"
     ]
    },
    {
     "name": "stderr",
     "output_type": "stream",
     "text": [
      "GEOB frame does not contain a mime type\n",
      "GEOB frame does not contain a valid mime type\n"
     ]
    },
    {
     "name": "stdout",
     "output_type": "stream",
     "text": [
      "/Users/onieto/Desktop/Harmonix/final_audio/0803_lovestory.mp3\n"
     ]
    },
    {
     "name": "stderr",
     "output_type": "stream",
     "text": [
      "GEOB frame does not contain a mime type\n",
      "GEOB frame does not contain a valid mime type\n",
      "GEOB frame does not contain a mime type\n",
      "GEOB frame does not contain a valid mime type\n"
     ]
    },
    {
     "name": "stdout",
     "output_type": "stream",
     "text": [
      "/Users/onieto/Desktop/Harmonix/final_audio/0805_lovetheysay.mp3\n"
     ]
    },
    {
     "name": "stderr",
     "output_type": "stream",
     "text": [
      "GEOB frame does not contain a mime type\n",
      "GEOB frame does not contain a valid mime type\n"
     ]
    },
    {
     "name": "stdout",
     "output_type": "stream",
     "text": [
      "/Users/onieto/Desktop/Harmonix/final_audio/0806_mad.mp3\n"
     ]
    },
    {
     "name": "stderr",
     "output_type": "stream",
     "text": [
      "GEOB frame does not contain a mime type\n",
      "GEOB frame does not contain a valid mime type\n"
     ]
    },
    {
     "name": "stdout",
     "output_type": "stream",
     "text": [
      "/Users/onieto/Desktop/Harmonix/final_audio/0807_makemebetter.mp3\n"
     ]
    },
    {
     "name": "stderr",
     "output_type": "stream",
     "text": [
      "Invalid date: 0110\n",
      "GEOB frame does not contain a mime type\n",
      "GEOB frame does not contain a valid mime type\n",
      "GEOB frame does not contain a mime type\n",
      "GEOB frame does not contain a valid mime type\n"
     ]
    },
    {
     "name": "stdout",
     "output_type": "stream",
     "text": [
      "/Users/onieto/Desktop/Harmonix/final_audio/0808_makethemoney.mp3\n"
     ]
    },
    {
     "name": "stderr",
     "output_type": "stream",
     "text": [
      "GEOB frame does not contain a mime type\n",
      "GEOB frame does not contain a valid mime type\n"
     ]
    },
    {
     "name": "stdout",
     "output_type": "stream",
     "text": [
      "/Users/onieto/Desktop/Harmonix/final_audio/0810_memoriesextended.mp3\n"
     ]
    },
    {
     "name": "stderr",
     "output_type": "stream",
     "text": [
      "GEOB frame does not contain a mime type\n",
      "GEOB frame does not contain a valid mime type\n"
     ]
    },
    {
     "name": "stdout",
     "output_type": "stream",
     "text": [
      "/Users/onieto/Desktop/Harmonix/final_audio/0811_miami2ibiza.mp3\n"
     ]
    },
    {
     "name": "stderr",
     "output_type": "stream",
     "text": [
      "GEOB frame does not contain a mime type\n",
      "GEOB frame does not contain a valid mime type\n"
     ]
    },
    {
     "name": "stdout",
     "output_type": "stream",
     "text": [
      "/Users/onieto/Desktop/Harmonix/final_audio/0812_miserybimbo.mp3\n"
     ]
    },
    {
     "name": "stderr",
     "output_type": "stream",
     "text": [
      "Invalid date: 0309\n",
      "GEOB frame does not contain a mime type\n",
      "GEOB frame does not contain a valid mime type\n"
     ]
    },
    {
     "name": "stdout",
     "output_type": "stream",
     "text": [
      "/Users/onieto/Desktop/Harmonix/final_audio/0813_missindependent.mp3\n"
     ]
    },
    {
     "name": "stderr",
     "output_type": "stream",
     "text": [
      "GEOB frame does not contain a mime type\n",
      "GEOB frame does not contain a valid mime type\n",
      "GEOB frame does not contain a mime type\n",
      "GEOB frame does not contain a valid mime type\n"
     ]
    },
    {
     "name": "stdout",
     "output_type": "stream",
     "text": [
      "/Users/onieto/Desktop/Harmonix/final_audio/0814_mistake.mp3\n"
     ]
    },
    {
     "name": "stderr",
     "output_type": "stream",
     "text": [
      "GEOB frame does not contain a mime type\n",
      "GEOB frame does not contain a valid mime type\n",
      "GEOB frame does not contain a mime type\n",
      "GEOB frame does not contain a valid mime type\n"
     ]
    },
    {
     "name": "stdout",
     "output_type": "stream",
     "text": [
      "/Users/onieto/Desktop/Harmonix/final_audio/0815_mondaymondaymonday.mp3\n"
     ]
    },
    {
     "name": "stderr",
     "output_type": "stream",
     "text": [
      "Invalid date: 0702\n",
      "GEOB frame does not contain a mime type\n",
      "GEOB frame does not contain a valid mime type\n",
      "GEOB frame does not contain a mime type\n",
      "GEOB frame does not contain a valid mime type\n"
     ]
    },
    {
     "name": "stdout",
     "output_type": "stream",
     "text": [
      "/Users/onieto/Desktop/Harmonix/final_audio/0817_morethanthis.mp3\n"
     ]
    },
    {
     "name": "stderr",
     "output_type": "stream",
     "text": [
      "Invalid date: 0702\n",
      "GEOB frame does not contain a mime type\n",
      "GEOB frame does not contain a valid mime type\n"
     ]
    },
    {
     "name": "stdout",
     "output_type": "stream",
     "text": [
      "/Users/onieto/Desktop/Harmonix/final_audio/0818_mrsaxobeatext.mp3\n"
     ]
    },
    {
     "name": "stderr",
     "output_type": "stream",
     "text": [
      "Invalid date: 0510\n",
      "GEOB frame does not contain a mime type\n",
      "GEOB frame does not contain a valid mime type\n"
     ]
    },
    {
     "name": "stdout",
     "output_type": "stream",
     "text": [
      "/Users/onieto/Desktop/Harmonix/final_audio/0819_myblood.mp3\n"
     ]
    },
    {
     "name": "stderr",
     "output_type": "stream",
     "text": [
      "GEOB frame does not contain a mime type\n",
      "GEOB frame does not contain a valid mime type\n"
     ]
    },
    {
     "name": "stdout",
     "output_type": "stream",
     "text": [
      "/Users/onieto/Desktop/Harmonix/final_audio/0820_mychickbad.mp3\n"
     ]
    },
    {
     "name": "stderr",
     "output_type": "stream",
     "text": [
      "Invalid date: 0702\n",
      "GEOB frame does not contain a mime type\n",
      "GEOB frame does not contain a valid mime type\n"
     ]
    },
    {
     "name": "stdout",
     "output_type": "stream",
     "text": [
      "/Users/onieto/Desktop/Harmonix/final_audio/0821_myfeelingsforyou.mp3\n"
     ]
    },
    {
     "name": "stderr",
     "output_type": "stream",
     "text": [
      "GEOB frame does not contain a mime type\n",
      "GEOB frame does not contain a valid mime type\n"
     ]
    },
    {
     "name": "stdout",
     "output_type": "stream",
     "text": [
      "/Users/onieto/Desktop/Harmonix/final_audio/0823_mylifewouldsuckwithoutyou.mp3\n"
     ]
    },
    {
     "name": "stderr",
     "output_type": "stream",
     "text": [
      "GEOB frame does not contain a mime type\n",
      "GEOB frame does not contain a valid mime type\n"
     ]
    },
    {
     "name": "stdout",
     "output_type": "stream",
     "text": [
      "/Users/onieto/Desktop/Harmonix/final_audio/0824_mylifewouldsuckwithoutyous.mp3\n"
     ]
    },
    {
     "name": "stderr",
     "output_type": "stream",
     "text": [
      "GEOB frame does not contain a mime type\n",
      "GEOB frame does not contain a valid mime type\n",
      "GEOB frame does not contain a mime type\n",
      "GEOB frame does not contain a valid mime type\n"
     ]
    },
    {
     "name": "stdout",
     "output_type": "stream",
     "text": [
      "/Users/onieto/Desktop/Harmonix/final_audio/0825_myloveislikeastar.mp3\n"
     ]
    },
    {
     "name": "stderr",
     "output_type": "stream",
     "text": [
      "Invalid date: 0110\n",
      "GEOB frame does not contain a mime type\n",
      "GEOB frame does not contain a valid mime type\n",
      "GEOB frame does not contain a mime type\n",
      "GEOB frame does not contain a valid mime type\n"
     ]
    },
    {
     "name": "stdout",
     "output_type": "stream",
     "text": [
      "/Users/onieto/Desktop/Harmonix/final_audio/0826_myohmy.mp3\n"
     ]
    },
    {
     "name": "stderr",
     "output_type": "stream",
     "text": [
      "GEOB frame does not contain a mime type\n",
      "GEOB frame does not contain a valid mime type\n"
     ]
    },
    {
     "name": "stdout",
     "output_type": "stream",
     "text": [
      "/Users/onieto/Desktop/Harmonix/final_audio/0827_needyounow.mp3\n"
     ]
    },
    {
     "name": "stderr",
     "output_type": "stream",
     "text": [
      "Invalid date: 0110\n",
      "GEOB frame does not contain a mime type\n",
      "GEOB frame does not contain a valid mime type\n",
      "GEOB frame does not contain a mime type\n",
      "GEOB frame does not contain a valid mime type\n"
     ]
    },
    {
     "name": "stdout",
     "output_type": "stream",
     "text": [
      "/Users/onieto/Desktop/Harmonix/final_audio/0828_neoncathedral.mp3\n"
     ]
    },
    {
     "name": "stderr",
     "output_type": "stream",
     "text": [
      "GEOB frame does not contain a mime type\n",
      "GEOB frame does not contain a valid mime type\n"
     ]
    },
    {
     "name": "stdout",
     "output_type": "stream",
     "text": [
      "/Users/onieto/Desktop/Harmonix/final_audio/0829_nevertoolate.mp3\n"
     ]
    },
    {
     "name": "stderr",
     "output_type": "stream",
     "text": [
      "GEOB frame does not contain a mime type\n",
      "GEOB frame does not contain a valid mime type\n"
     ]
    },
    {
     "name": "stdout",
     "output_type": "stream",
     "text": [
      "/Users/onieto/Desktop/Harmonix/final_audio/0830_nightwatch.mp3\n"
     ]
    },
    {
     "name": "stderr",
     "output_type": "stream",
     "text": [
      "Invalid date: 0306\n",
      "GEOB frame does not contain a mime type\n",
      "GEOB frame does not contain a valid mime type\n"
     ]
    },
    {
     "name": "stdout",
     "output_type": "stream",
     "text": [
      "/Users/onieto/Desktop/Harmonix/final_audio/0831_noair.mp3\n"
     ]
    },
    {
     "name": "stderr",
     "output_type": "stream",
     "text": [
      "GEOB frame does not contain a mime type\n",
      "GEOB frame does not contain a valid mime type\n"
     ]
    },
    {
     "name": "stdout",
     "output_type": "stream",
     "text": [
      "/Users/onieto/Desktop/Harmonix/final_audio/0832_noone.mp3\n"
     ]
    },
    {
     "name": "stderr",
     "output_type": "stream",
     "text": [
      "GEOB frame does not contain a mime type\n",
      "GEOB frame does not contain a valid mime type\n"
     ]
    },
    {
     "name": "stdout",
     "output_type": "stream",
     "text": [
      "/Users/onieto/Desktop/Harmonix/final_audio/0833_northshore.mp3\n"
     ]
    },
    {
     "name": "stderr",
     "output_type": "stream",
     "text": [
      "Invalid date: 0311\n",
      "GEOB frame does not contain a mime type\n",
      "GEOB frame does not contain a valid mime type\n"
     ]
    },
    {
     "name": "stdout",
     "output_type": "stream",
     "text": [
      "/Users/onieto/Desktop/Harmonix/final_audio/0834_nosurprise.mp3\n"
     ]
    },
    {
     "name": "stderr",
     "output_type": "stream",
     "text": [
      "GEOB frame does not contain a mime type\n",
      "GEOB frame does not contain a valid mime type\n"
     ]
    },
    {
     "name": "stdout",
     "output_type": "stream",
     "text": [
      "/Users/onieto/Desktop/Harmonix/final_audio/0835_notetogod.mp3\n"
     ]
    },
    {
     "name": "stderr",
     "output_type": "stream",
     "text": [
      "GEOB frame does not contain a mime type\n",
      "GEOB frame does not contain a valid mime type\n"
     ]
    },
    {
     "name": "stdout",
     "output_type": "stream",
     "text": [
      "/Users/onieto/Desktop/Harmonix/final_audio/0836_notmyselftonight.mp3\n"
     ]
    },
    {
     "name": "stderr",
     "output_type": "stream",
     "text": [
      "GEOB frame does not contain a mime type\n",
      "GEOB frame does not contain a valid mime type\n",
      "GEOB frame does not contain a mime type\n",
      "GEOB frame does not contain a valid mime type\n"
     ]
    },
    {
     "name": "stdout",
     "output_type": "stream",
     "text": [
      "/Users/onieto/Desktop/Harmonix/final_audio/0837_nottonight.mp3\n"
     ]
    },
    {
     "name": "stderr",
     "output_type": "stream",
     "text": [
      "GEOB frame does not contain a mime type\n",
      "GEOB frame does not contain a valid mime type\n",
      "GEOB frame does not contain a mime type\n",
      "GEOB frame does not contain a valid mime type\n"
     ]
    },
    {
     "name": "stdout",
     "output_type": "stream",
     "text": [
      "/Users/onieto/Desktop/Harmonix/final_audio/0838_nowimallmessedup.mp3\n"
     ]
    },
    {
     "name": "stderr",
     "output_type": "stream",
     "text": [
      "GEOB frame does not contain a mime type\n",
      "GEOB frame does not contain a valid mime type\n"
     ]
    },
    {
     "name": "stdout",
     "output_type": "stream",
     "text": [
      "/Users/onieto/Desktop/Harmonix/final_audio/0839_nowyouseeit.mp3\n"
     ]
    },
    {
     "name": "stderr",
     "output_type": "stream",
     "text": [
      "Invalid date: 0311\n",
      "GEOB frame does not contain a mime type\n",
      "GEOB frame does not contain a valid mime type\n"
     ]
    },
    {
     "name": "stdout",
     "output_type": "stream",
     "text": [
      "/Users/onieto/Desktop/Harmonix/final_audio/0840_obsessed.mp3\n"
     ]
    },
    {
     "name": "stderr",
     "output_type": "stream",
     "text": [
      "GEOB frame does not contain a mime type\n",
      "GEOB frame does not contain a valid mime type\n"
     ]
    },
    {
     "name": "stdout",
     "output_type": "stream",
     "text": [
      "/Users/onieto/Desktop/Harmonix/final_audio/0841_obsessedcahill.mp3\n"
     ]
    },
    {
     "name": "stderr",
     "output_type": "stream",
     "text": [
      "GEOB frame does not contain a mime type\n",
      "GEOB frame does not contain a valid mime type\n"
     ]
    },
    {
     "name": "stdout",
     "output_type": "stream",
     "text": [
      "/Users/onieto/Desktop/Harmonix/final_audio/0842_obsessionstatic.mp3\n"
     ]
    },
    {
     "name": "stderr",
     "output_type": "stream",
     "text": [
      "GEOB frame does not contain a mime type\n",
      "GEOB frame does not contain a valid mime type\n"
     ]
    },
    {
     "name": "stdout",
     "output_type": "stream",
     "text": [
      "/Users/onieto/Desktop/Harmonix/final_audio/0843_omgalmighty.mp3\n"
     ]
    },
    {
     "name": "stderr",
     "output_type": "stream",
     "text": [
      "GEOB frame does not contain a mime type\n",
      "GEOB frame does not contain a valid mime type\n"
     ]
    },
    {
     "name": "stdout",
     "output_type": "stream",
     "text": [
      "/Users/onieto/Desktop/Harmonix/final_audio/0844_ondirecting.mp3\n"
     ]
    },
    {
     "name": "stderr",
     "output_type": "stream",
     "text": [
      "GEOB frame does not contain a mime type\n",
      "GEOB frame does not contain a valid mime type\n"
     ]
    },
    {
     "name": "stdout",
     "output_type": "stream",
     "text": [
      "/Users/onieto/Desktop/Harmonix/final_audio/0845_onefoot.mp3\n"
     ]
    },
    {
     "name": "stderr",
     "output_type": "stream",
     "text": [
      "GEOB frame does not contain a mime type\n",
      "GEOB frame does not contain a valid mime type\n",
      "GEOB frame does not contain a mime type\n",
      "GEOB frame does not contain a valid mime type\n"
     ]
    },
    {
     "name": "stdout",
     "output_type": "stream",
     "text": [
      "/Users/onieto/Desktop/Harmonix/final_audio/0846_onelove.mp3\n"
     ]
    },
    {
     "name": "stderr",
     "output_type": "stream",
     "text": [
      "GEOB frame does not contain a mime type\n",
      "GEOB frame does not contain a valid mime type\n"
     ]
    },
    {
     "name": "stdout",
     "output_type": "stream",
     "text": [
      "/Users/onieto/Desktop/Harmonix/final_audio/0847_onestepatatime.mp3\n"
     ]
    },
    {
     "name": "stderr",
     "output_type": "stream",
     "text": [
      "Invalid date: 0702\n",
      "GEOB frame does not contain a mime type\n",
      "GEOB frame does not contain a valid mime type\n",
      "GEOB frame does not contain a mime type\n",
      "GEOB frame does not contain a valid mime type\n"
     ]
    },
    {
     "name": "stdout",
     "output_type": "stream",
     "text": [
      "/Users/onieto/Desktop/Harmonix/final_audio/0848_onething.mp3\n"
     ]
    },
    {
     "name": "stderr",
     "output_type": "stream",
     "text": [
      "Invalid date: 0510\n",
      "GEOB frame does not contain a mime type\n",
      "GEOB frame does not contain a valid mime type\n"
     ]
    },
    {
     "name": "stdout",
     "output_type": "stream",
     "text": [
      "/Users/onieto/Desktop/Harmonix/final_audio/0849_onlyyou.mp3\n"
     ]
    },
    {
     "name": "stderr",
     "output_type": "stream",
     "text": [
      "Invalid date: 0311\n",
      "GEOB frame does not contain a mime type\n",
      "GEOB frame does not contain a valid mime type\n"
     ]
    },
    {
     "name": "stdout",
     "output_type": "stream",
     "text": [
      "/Users/onieto/Desktop/Harmonix/final_audio/0850_onlyyoucanlovemethisway.mp3\n"
     ]
    },
    {
     "name": "stderr",
     "output_type": "stream",
     "text": [
      "Invalid date: 0601\n",
      "GEOB frame does not contain a mime type\n",
      "GEOB frame does not contain a valid mime type\n",
      "Frame 'IPLS' is not yet supported, using raw Frame to parse\n"
     ]
    },
    {
     "name": "stdout",
     "output_type": "stream",
     "text": [
      "/Users/onieto/Desktop/Harmonix/final_audio/0851_openurmind.mp3\n"
     ]
    },
    {
     "name": "stderr",
     "output_type": "stream",
     "text": [
      "Invalid date: 0306\n",
      "GEOB frame does not contain a mime type\n",
      "GEOB frame does not contain a valid mime type\n"
     ]
    },
    {
     "name": "stdout",
     "output_type": "stream",
     "text": [
      "/Users/onieto/Desktop/Harmonix/final_audio/0852_oursong.mp3\n"
     ]
    },
    {
     "name": "stderr",
     "output_type": "stream",
     "text": [
      "GEOB frame does not contain a mime type\n",
      "GEOB frame does not contain a valid mime type\n"
     ]
    },
    {
     "name": "stdout",
     "output_type": "stream",
     "text": [
      "/Users/onieto/Desktop/Harmonix/final_audio/0853_outonthetown.mp3\n"
     ]
    },
    {
     "name": "stderr",
     "output_type": "stream",
     "text": [
      "GEOB frame does not contain a mime type\n",
      "GEOB frame does not contain a valid mime type\n"
     ]
    },
    {
     "name": "stdout",
     "output_type": "stream",
     "text": [
      "/Users/onieto/Desktop/Harmonix/final_audio/0854_overmyheadcablecar.mp3\n"
     ]
    },
    {
     "name": "stderr",
     "output_type": "stream",
     "text": [
      "GEOB frame does not contain a mime type\n",
      "GEOB frame does not contain a valid mime type\n"
     ]
    },
    {
     "name": "stdout",
     "output_type": "stream",
     "text": [
      "/Users/onieto/Desktop/Harmonix/final_audio/0855_overyou.mp3\n"
     ]
    },
    {
     "name": "stderr",
     "output_type": "stream",
     "text": [
      "GEOB frame does not contain a mime type\n",
      "GEOB frame does not contain a valid mime type\n"
     ]
    },
    {
     "name": "stdout",
     "output_type": "stream",
     "text": [
      "/Users/onieto/Desktop/Harmonix/final_audio/0856_paperbackhead.mp3\n"
     ]
    },
    {
     "name": "stderr",
     "output_type": "stream",
     "text": [
      "GEOB frame does not contain a mime type\n",
      "GEOB frame does not contain a valid mime type\n"
     ]
    },
    {
     "name": "stdout",
     "output_type": "stream",
     "text": [
      "/Users/onieto/Desktop/Harmonix/final_audio/0857_paralyzer.mp3\n"
     ]
    },
    {
     "name": "stderr",
     "output_type": "stream",
     "text": [
      "GEOB frame does not contain a mime type\n",
      "GEOB frame does not contain a valid mime type\n"
     ]
    },
    {
     "name": "stdout",
     "output_type": "stream",
     "text": [
      "/Users/onieto/Desktop/Harmonix/final_audio/0858_peoplearepeople.mp3\n"
     ]
    },
    {
     "name": "stderr",
     "output_type": "stream",
     "text": [
      "GEOB frame does not contain a mime type\n",
      "GEOB frame does not contain a valid mime type\n"
     ]
    },
    {
     "name": "stdout",
     "output_type": "stream",
     "text": [
      "/Users/onieto/Desktop/Harmonix/final_audio/0859_picturesofyou.mp3\n"
     ]
    },
    {
     "name": "stderr",
     "output_type": "stream",
     "text": [
      "GEOB frame does not contain a mime type\n",
      "GEOB frame does not contain a valid mime type\n"
     ]
    },
    {
     "name": "stdout",
     "output_type": "stream",
     "text": [
      "/Users/onieto/Desktop/Harmonix/final_audio/0860_pieceofme.mp3\n"
     ]
    },
    {
     "name": "stderr",
     "output_type": "stream",
     "text": [
      "GEOB frame does not contain a mime type\n",
      "GEOB frame does not contain a valid mime type\n"
     ]
    },
    {
     "name": "stdout",
     "output_type": "stream",
     "text": [
      "/Users/onieto/Desktop/Harmonix/final_audio/0861_pingmebaby.mp3\n"
     ]
    },
    {
     "name": "stderr",
     "output_type": "stream",
     "text": [
      "GEOB frame does not contain a mime type\n",
      "GEOB frame does not contain a valid mime type\n",
      "Frame 'IPLS' is not yet supported, using raw Frame to parse\n"
     ]
    },
    {
     "name": "stdout",
     "output_type": "stream",
     "text": [
      "/Users/onieto/Desktop/Harmonix/final_audio/0862_pleasedontleaveme.mp3\n"
     ]
    },
    {
     "name": "stderr",
     "output_type": "stream",
     "text": [
      "GEOB frame does not contain a mime type\n",
      "GEOB frame does not contain a valid mime type\n"
     ]
    },
    {
     "name": "stdout",
     "output_type": "stream",
     "text": [
      "/Users/onieto/Desktop/Harmonix/final_audio/0863_pleasedontleavemedigi.mp3\n"
     ]
    },
    {
     "name": "stderr",
     "output_type": "stream",
     "text": [
      "GEOB frame does not contain a mime type\n",
      "GEOB frame does not contain a valid mime type\n"
     ]
    },
    {
     "name": "stdout",
     "output_type": "stream",
     "text": [
      "/Users/onieto/Desktop/Harmonix/final_audio/0864_pleasedontleavememain.mp3\n"
     ]
    },
    {
     "name": "stderr",
     "output_type": "stream",
     "text": [
      "GEOB frame does not contain a mime type\n",
      "GEOB frame does not contain a valid mime type\n"
     ]
    },
    {
     "name": "stdout",
     "output_type": "stream",
     "text": [
      "/Users/onieto/Desktop/Harmonix/final_audio/0865_pocketfulofsunshine.mp3\n"
     ]
    },
    {
     "name": "stderr",
     "output_type": "stream",
     "text": [
      "GEOB frame does not contain a mime type\n",
      "GEOB frame does not contain a valid mime type\n",
      "Frame 'IPLS' is not yet supported, using raw Frame to parse\n"
     ]
    },
    {
     "name": "stdout",
     "output_type": "stream",
     "text": [
      "/Users/onieto/Desktop/Harmonix/final_audio/0866_pokerfacedave.mp3\n"
     ]
    },
    {
     "name": "stderr",
     "output_type": "stream",
     "text": [
      "GEOB frame does not contain a mime type\n",
      "GEOB frame does not contain a valid mime type\n"
     ]
    },
    {
     "name": "stdout",
     "output_type": "stream",
     "text": [
      "/Users/onieto/Desktop/Harmonix/final_audio/0867_pokerfacedos.mp3\n"
     ]
    },
    {
     "name": "stderr",
     "output_type": "stream",
     "text": [
      "GEOB frame does not contain a mime type\n",
      "GEOB frame does not contain a valid mime type\n"
     ]
    },
    {
     "name": "stdout",
     "output_type": "stream",
     "text": [
      "/Users/onieto/Desktop/Harmonix/final_audio/0868_puton.mp3\n"
     ]
    },
    {
     "name": "stderr",
     "output_type": "stream",
     "text": [
      "Invalid date: 0702\n",
      "GEOB frame does not contain a mime type\n",
      "GEOB frame does not contain a valid mime type\n"
     ]
    },
    {
     "name": "stdout",
     "output_type": "stream",
     "text": [
      "/Users/onieto/Desktop/Harmonix/final_audio/0869_raiseyourweapon.mp3\n"
     ]
    },
    {
     "name": "stderr",
     "output_type": "stream",
     "text": [
      "GEOB frame does not contain a mime type\n",
      "GEOB frame does not contain a valid mime type\n"
     ]
    },
    {
     "name": "stdout",
     "output_type": "stream",
     "text": [
      "/Users/onieto/Desktop/Harmonix/final_audio/0870_ratedr.mp3\n"
     ]
    },
    {
     "name": "stderr",
     "output_type": "stream",
     "text": [
      "Invalid date: 0503\n",
      "GEOB frame does not contain a mime type\n",
      "GEOB frame does not contain a valid mime type\n"
     ]
    },
    {
     "name": "stdout",
     "output_type": "stream",
     "text": [
      "/Users/onieto/Desktop/Harmonix/final_audio/0872_readyfortheweekend.mp3\n"
     ]
    },
    {
     "name": "stderr",
     "output_type": "stream",
     "text": [
      "GEOB frame does not contain a mime type\n",
      "GEOB frame does not contain a valid mime type\n",
      "GEOB frame does not contain a mime type\n",
      "GEOB frame does not contain a valid mime type\n"
     ]
    },
    {
     "name": "stdout",
     "output_type": "stream",
     "text": [
      "/Users/onieto/Desktop/Harmonix/final_audio/0873_readyornot.mp3\n"
     ]
    },
    {
     "name": "stderr",
     "output_type": "stream",
     "text": [
      "Invalid date: 0306\n",
      "GEOB frame does not contain a mime type\n",
      "GEOB frame does not contain a valid mime type\n"
     ]
    },
    {
     "name": "stdout",
     "output_type": "stream",
     "text": [
      "/Users/onieto/Desktop/Harmonix/final_audio/0874_realize.mp3\n"
     ]
    },
    {
     "name": "stderr",
     "output_type": "stream",
     "text": [
      "GEOB frame does not contain a mime type\n",
      "GEOB frame does not contain a valid mime type\n"
     ]
    },
    {
     "name": "stdout",
     "output_type": "stream",
     "text": [
      "/Users/onieto/Desktop/Harmonix/final_audio/0875_redbelt.mp3\n"
     ]
    },
    {
     "name": "stderr",
     "output_type": "stream",
     "text": [
      "GEOB frame does not contain a mime type\n",
      "GEOB frame does not contain a valid mime type\n"
     ]
    },
    {
     "name": "stdout",
     "output_type": "stream",
     "text": [
      "/Users/onieto/Desktop/Harmonix/final_audio/0876_rehab.mp3\n"
     ]
    },
    {
     "name": "stderr",
     "output_type": "stream",
     "text": [
      "GEOB frame does not contain a mime type\n",
      "GEOB frame does not contain a valid mime type\n"
     ]
    },
    {
     "name": "stdout",
     "output_type": "stream",
     "text": [
      "/Users/onieto/Desktop/Harmonix/final_audio/0877_releasemenow.mp3\n"
     ]
    },
    {
     "name": "stderr",
     "output_type": "stream",
     "text": [
      "GEOB frame does not contain a mime type\n",
      "GEOB frame does not contain a valid mime type\n"
     ]
    },
    {
     "name": "stdout",
     "output_type": "stream",
     "text": [
      "/Users/onieto/Desktop/Harmonix/final_audio/0878_replay.mp3\n"
     ]
    },
    {
     "name": "stderr",
     "output_type": "stream",
     "text": [
      "GEOB frame does not contain a mime type\n",
      "GEOB frame does not contain a valid mime type\n"
     ]
    },
    {
     "name": "stdout",
     "output_type": "stream",
     "text": [
      "/Users/onieto/Desktop/Harmonix/final_audio/0879_ridinsoloian.mp3\n"
     ]
    },
    {
     "name": "stderr",
     "output_type": "stream",
     "text": [
      "GEOB frame does not contain a mime type\n",
      "GEOB frame does not contain a valid mime type\n",
      "GEOB frame does not contain a mime type\n",
      "GEOB frame does not contain a valid mime type\n"
     ]
    },
    {
     "name": "stdout",
     "output_type": "stream",
     "text": [
      "/Users/onieto/Desktop/Harmonix/final_audio/0880_righthere.mp3\n"
     ]
    },
    {
     "name": "stderr",
     "output_type": "stream",
     "text": [
      "GEOB frame does not contain a mime type\n",
      "GEOB frame does not contain a valid mime type\n"
     ]
    },
    {
     "name": "stdout",
     "output_type": "stream",
     "text": [
      "/Users/onieto/Desktop/Harmonix/final_audio/0881_rightround.mp3\n"
     ]
    },
    {
     "name": "stderr",
     "output_type": "stream",
     "text": [
      "GEOB frame does not contain a mime type\n",
      "GEOB frame does not contain a valid mime type\n"
     ]
    },
    {
     "name": "stdout",
     "output_type": "stream",
     "text": [
      "/Users/onieto/Desktop/Harmonix/final_audio/0882_rightroundbenny.mp3\n"
     ]
    },
    {
     "name": "stderr",
     "output_type": "stream",
     "text": [
      "GEOB frame does not contain a mime type\n",
      "GEOB frame does not contain a valid mime type\n",
      "GEOB frame does not contain a mime type\n",
      "GEOB frame does not contain a valid mime type\n"
     ]
    },
    {
     "name": "stdout",
     "output_type": "stream",
     "text": [
      "/Users/onieto/Desktop/Harmonix/final_audio/0883_rocksatmywindow.mp3\n"
     ]
    },
    {
     "name": "stderr",
     "output_type": "stream",
     "text": [
      "GEOB frame does not contain a mime type\n",
      "GEOB frame does not contain a valid mime type\n"
     ]
    },
    {
     "name": "stdout",
     "output_type": "stream",
     "text": [
      "/Users/onieto/Desktop/Harmonix/final_audio/0884_rockstar.mp3\n"
     ]
    },
    {
     "name": "stderr",
     "output_type": "stream",
     "text": [
      "GEOB frame does not contain a mime type\n",
      "GEOB frame does not contain a valid mime type\n"
     ]
    },
    {
     "name": "stdout",
     "output_type": "stream",
     "text": [
      "/Users/onieto/Desktop/Harmonix/final_audio/0886_rudeboy.mp3\n"
     ]
    },
    {
     "name": "stderr",
     "output_type": "stream",
     "text": [
      "GEOB frame does not contain a mime type\n",
      "GEOB frame does not contain a valid mime type\n",
      "Frame 'IPLS' is not yet supported, using raw Frame to parse\n"
     ]
    },
    {
     "name": "stdout",
     "output_type": "stream",
     "text": [
      "/Users/onieto/Desktop/Harmonix/final_audio/0888_russianroulettejump.mp3\n"
     ]
    },
    {
     "name": "stderr",
     "output_type": "stream",
     "text": [
      "GEOB frame does not contain a mime type\n",
      "GEOB frame does not contain a valid mime type\n",
      "GEOB frame does not contain a mime type\n",
      "GEOB frame does not contain a valid mime type\n"
     ]
    },
    {
     "name": "stdout",
     "output_type": "stream",
     "text": [
      "/Users/onieto/Desktop/Harmonix/final_audio/0889_samelove.mp3\n"
     ]
    },
    {
     "name": "stderr",
     "output_type": "stream",
     "text": [
      "Invalid date: 0702\n",
      "GEOB frame does not contain a mime type\n",
      "GEOB frame does not contain a valid mime type\n",
      "GEOB frame does not contain a mime type\n",
      "GEOB frame does not contain a valid mime type\n"
     ]
    },
    {
     "name": "stdout",
     "output_type": "stream",
     "text": [
      "/Users/onieto/Desktop/Harmonix/final_audio/0890_samemistakes.mp3\n"
     ]
    },
    {
     "name": "stderr",
     "output_type": "stream",
     "text": [
      "Invalid date: 0702\n",
      "GEOB frame does not contain a mime type\n",
      "GEOB frame does not contain a valid mime type\n"
     ]
    },
    {
     "name": "stdout",
     "output_type": "stream",
     "text": [
      "/Users/onieto/Desktop/Harmonix/final_audio/0891_savetheworld.mp3\n"
     ]
    },
    {
     "name": "stderr",
     "output_type": "stream",
     "text": [
      "Invalid date: 0702\n",
      "GEOB frame does not contain a mime type\n",
      "GEOB frame does not contain a valid mime type\n",
      "GEOB frame does not contain a mime type\n",
      "GEOB frame does not contain a valid mime type\n"
     ]
    },
    {
     "name": "stdout",
     "output_type": "stream",
     "text": [
      "/Users/onieto/Desktop/Harmonix/final_audio/0892_saveyoutonight.mp3\n"
     ]
    },
    {
     "name": "stderr",
     "output_type": "stream",
     "text": [
      "Invalid date: 0306\n",
      "GEOB frame does not contain a mime type\n",
      "GEOB frame does not contain a valid mime type\n"
     ]
    },
    {
     "name": "stdout",
     "output_type": "stream",
     "text": [
      "/Users/onieto/Desktop/Harmonix/final_audio/0893_say.mp3\n"
     ]
    },
    {
     "name": "stderr",
     "output_type": "stream",
     "text": [
      "Invalid date: 0311\n",
      "GEOB frame does not contain a mime type\n",
      "GEOB frame does not contain a valid mime type\n"
     ]
    },
    {
     "name": "stdout",
     "output_type": "stream",
     "text": [
      "/Users/onieto/Desktop/Harmonix/final_audio/0894_sayheyiloveyou.mp3\n"
     ]
    },
    {
     "name": "stderr",
     "output_type": "stream",
     "text": [
      "Invalid date: 0702\n",
      "GEOB frame does not contain a mime type\n",
      "GEOB frame does not contain a valid mime type\n"
     ]
    },
    {
     "name": "stdout",
     "output_type": "stream",
     "text": [
      "/Users/onieto/Desktop/Harmonix/final_audio/0895_scarymonsters.mp3\n"
     ]
    },
    {
     "name": "stderr",
     "output_type": "stream",
     "text": [
      "GEOB frame does not contain a mime type\n",
      "GEOB frame does not contain a valid mime type\n"
     ]
    },
    {
     "name": "stdout",
     "output_type": "stream",
     "text": [
      "/Users/onieto/Desktop/Harmonix/final_audio/0897_sentimentaltune.mp3\n"
     ]
    },
    {
     "name": "stderr",
     "output_type": "stream",
     "text": [
      "GEOB frame does not contain a mime type\n",
      "GEOB frame does not contain a valid mime type\n"
     ]
    },
    {
     "name": "stdout",
     "output_type": "stream",
     "text": [
      "/Users/onieto/Desktop/Harmonix/final_audio/0898_sexyback.mp3\n"
     ]
    },
    {
     "name": "stderr",
     "output_type": "stream",
     "text": [
      "Invalid date: 0306\n",
      "GEOB frame does not contain a mime type\n",
      "GEOB frame does not contain a valid mime type\n"
     ]
    },
    {
     "name": "stdout",
     "output_type": "stream",
     "text": [
      "/Users/onieto/Desktop/Harmonix/final_audio/0899_sexycani.mp3\n"
     ]
    },
    {
     "name": "stderr",
     "output_type": "stream",
     "text": [
      "Invalid date: 0311\n",
      "GEOB frame does not contain a mime type\n",
      "GEOB frame does not contain a valid mime type\n"
     ]
    },
    {
     "name": "stdout",
     "output_type": "stream",
     "text": [
      "/Users/onieto/Desktop/Harmonix/final_audio/0900_sexychickakon.mp3\n"
     ]
    },
    {
     "name": "stderr",
     "output_type": "stream",
     "text": [
      "GEOB frame does not contain a mime type\n",
      "GEOB frame does not contain a valid mime type\n"
     ]
    },
    {
     "name": "stdout",
     "output_type": "stream",
     "text": [
      "/Users/onieto/Desktop/Harmonix/final_audio/0901_sexydj.mp3\n"
     ]
    },
    {
     "name": "stderr",
     "output_type": "stream",
     "text": [
      "Invalid date: 0306\n",
      "GEOB frame does not contain a mime type\n",
      "GEOB frame does not contain a valid mime type\n"
     ]
    },
    {
     "name": "stdout",
     "output_type": "stream",
     "text": [
      "/Users/onieto/Desktop/Harmonix/final_audio/0902_shakeitradiomix.mp3\n"
     ]
    },
    {
     "name": "stderr",
     "output_type": "stream",
     "text": [
      "GEOB frame does not contain a mime type\n",
      "GEOB frame does not contain a valid mime type\n"
     ]
    },
    {
     "name": "stdout",
     "output_type": "stream",
     "text": [
      "/Users/onieto/Desktop/Harmonix/final_audio/0903_shakethatbubblenow.mp3\n"
     ]
    },
    {
     "name": "stderr",
     "output_type": "stream",
     "text": [
      "Invalid date: 0311\n",
      "GEOB frame does not contain a mime type\n",
      "GEOB frame does not contain a valid mime type\n"
     ]
    },
    {
     "name": "stdout",
     "output_type": "stream",
     "text": [
      "/Users/onieto/Desktop/Harmonix/final_audio/0904_shewolf.mp3\n"
     ]
    },
    {
     "name": "stderr",
     "output_type": "stream",
     "text": [
      "GEOB frame does not contain a mime type\n",
      "GEOB frame does not contain a valid mime type\n",
      "GEOB frame does not contain a mime type\n",
      "GEOB frame does not contain a valid mime type\n"
     ]
    },
    {
     "name": "stdout",
     "output_type": "stream",
     "text": [
      "/Users/onieto/Desktop/Harmonix/final_audio/0905_shocktoyoursystem.mp3\n"
     ]
    },
    {
     "name": "stderr",
     "output_type": "stream",
     "text": [
      "GEOB frame does not contain a mime type\n",
      "GEOB frame does not contain a valid mime type\n"
     ]
    },
    {
     "name": "stdout",
     "output_type": "stream",
     "text": [
      "/Users/onieto/Desktop/Harmonix/final_audio/0906_shutupanddrive.mp3\n"
     ]
    },
    {
     "name": "stderr",
     "output_type": "stream",
     "text": [
      "GEOB frame does not contain a mime type\n",
      "GEOB frame does not contain a valid mime type\n",
      "GEOB frame does not contain a mime type\n",
      "GEOB frame does not contain a valid mime type\n"
     ]
    },
    {
     "name": "stdout",
     "output_type": "stream",
     "text": [
      "/Users/onieto/Desktop/Harmonix/final_audio/0907_skyscraper.mp3\n"
     ]
    },
    {
     "name": "stderr",
     "output_type": "stream",
     "text": [
      "GEOB frame does not contain a mime type\n",
      "GEOB frame does not contain a valid mime type\n"
     ]
    },
    {
     "name": "stdout",
     "output_type": "stream",
     "text": [
      "/Users/onieto/Desktop/Harmonix/final_audio/0908_sober.mp3\n"
     ]
    },
    {
     "name": "stderr",
     "output_type": "stream",
     "text": [
      "GEOB frame does not contain a mime type\n",
      "GEOB frame does not contain a valid mime type\n"
     ]
    },
    {
     "name": "stdout",
     "output_type": "stream",
     "text": [
      "/Users/onieto/Desktop/Harmonix/final_audio/0909_sofineed.mp3\n"
     ]
    },
    {
     "name": "stderr",
     "output_type": "stream",
     "text": [
      "GEOB frame does not contain a mime type\n",
      "GEOB frame does not contain a valid mime type\n"
     ]
    },
    {
     "name": "stdout",
     "output_type": "stream",
     "text": [
      "/Users/onieto/Desktop/Harmonix/final_audio/0910_solo.mp3\n"
     ]
    },
    {
     "name": "stderr",
     "output_type": "stream",
     "text": [
      "GEOB frame does not contain a mime type\n",
      "GEOB frame does not contain a valid mime type\n"
     ]
    },
    {
     "name": "stdout",
     "output_type": "stream",
     "text": [
      "/Users/onieto/Desktop/Harmonix/final_audio/0911_someday.mp3\n"
     ]
    },
    {
     "name": "stderr",
     "output_type": "stream",
     "text": [
      "GEOB frame does not contain a mime type\n",
      "GEOB frame does not contain a valid mime type\n"
     ]
    },
    {
     "name": "stdout",
     "output_type": "stream",
     "text": [
      "/Users/onieto/Desktop/Harmonix/final_audio/0912_somenights.mp3\n"
     ]
    },
    {
     "name": "stderr",
     "output_type": "stream",
     "text": [
      "Invalid date: 0702\n",
      "GEOB frame does not contain a mime type\n",
      "GEOB frame does not contain a valid mime type\n"
     ]
    },
    {
     "name": "stdout",
     "output_type": "stream",
     "text": [
      "/Users/onieto/Desktop/Harmonix/final_audio/0913_somuchlove.mp3\n"
     ]
    },
    {
     "name": "stderr",
     "output_type": "stream",
     "text": [
      "GEOB frame does not contain a mime type\n",
      "GEOB frame does not contain a valid mime type\n"
     ]
    },
    {
     "name": "stdout",
     "output_type": "stream",
     "text": [
      "/Users/onieto/Desktop/Harmonix/final_audio/0914_soobviousnow.mp3\n"
     ]
    },
    {
     "name": "stderr",
     "output_type": "stream",
     "text": [
      "Invalid date: 0102\n",
      "GEOB frame does not contain a mime type\n",
      "GEOB frame does not contain a valid mime type\n"
     ]
    },
    {
     "name": "stdout",
     "output_type": "stream",
     "text": [
      "/Users/onieto/Desktop/Harmonix/final_audio/0915_sosletthemusicplay.mp3\n"
     ]
    },
    {
     "name": "stderr",
     "output_type": "stream",
     "text": [
      "GEOB frame does not contain a mime type\n",
      "GEOB frame does not contain a valid mime type\n"
     ]
    },
    {
     "name": "stdout",
     "output_type": "stream",
     "text": [
      "/Users/onieto/Desktop/Harmonix/final_audio/0916_sowhat.mp3\n"
     ]
    },
    {
     "name": "stderr",
     "output_type": "stream",
     "text": [
      "GEOB frame does not contain a mime type\n",
      "GEOB frame does not contain a valid mime type\n"
     ]
    },
    {
     "name": "stdout",
     "output_type": "stream",
     "text": [
      "/Users/onieto/Desktop/Harmonix/final_audio/0917_spacemanties.mp3\n"
     ]
    },
    {
     "name": "stderr",
     "output_type": "stream",
     "text": [
      "GEOB frame does not contain a mime type\n",
      "GEOB frame does not contain a valid mime type\n",
      "Frame 'IPLS' is not yet supported, using raw Frame to parse\n"
     ]
    },
    {
     "name": "stdout",
     "output_type": "stream",
     "text": [
      "/Users/onieto/Desktop/Harmonix/final_audio/0918_starstrukk.mp3\n"
     ]
    },
    {
     "name": "stderr",
     "output_type": "stream",
     "text": [
      "GEOB frame does not contain a mime type\n",
      "GEOB frame does not contain a valid mime type\n"
     ]
    },
    {
     "name": "stdout",
     "output_type": "stream",
     "text": [
      "/Users/onieto/Desktop/Harmonix/final_audio/0919_stereolove.mp3\n"
     ]
    },
    {
     "name": "stderr",
     "output_type": "stream",
     "text": [
      "GEOB frame does not contain a mime type\n",
      "GEOB frame does not contain a valid mime type\n"
     ]
    },
    {
     "name": "stdout",
     "output_type": "stream",
     "text": [
      "/Users/onieto/Desktop/Harmonix/final_audio/0920_stopandstare.mp3\n"
     ]
    },
    {
     "name": "stderr",
     "output_type": "stream",
     "text": [
      "GEOB frame does not contain a mime type\n",
      "GEOB frame does not contain a valid mime type\n"
     ]
    },
    {
     "name": "stdout",
     "output_type": "stream",
     "text": [
      "/Users/onieto/Desktop/Harmonix/final_audio/0921_stronger.mp3\n"
     ]
    },
    {
     "name": "stderr",
     "output_type": "stream",
     "text": [
      "Invalid date: 0502\n",
      "GEOB frame does not contain a mime type\n",
      "GEOB frame does not contain a valid mime type\n"
     ]
    },
    {
     "name": "stdout",
     "output_type": "stream",
     "text": [
      "/Users/onieto/Desktop/Harmonix/final_audio/0922_suffocate.mp3\n"
     ]
    },
    {
     "name": "stderr",
     "output_type": "stream",
     "text": [
      "Invalid date: 0702\n",
      "GEOB frame does not contain a mime type\n",
      "GEOB frame does not contain a valid mime type\n"
     ]
    },
    {
     "name": "stdout",
     "output_type": "stream",
     "text": [
      "/Users/onieto/Desktop/Harmonix/final_audio/0923_sunandmoon.mp3\n"
     ]
    },
    {
     "name": "stderr",
     "output_type": "stream",
     "text": [
      "Invalid date: 0702\n",
      "GEOB frame does not contain a mime type\n",
      "GEOB frame does not contain a valid mime type\n"
     ]
    },
    {
     "name": "stdout",
     "output_type": "stream",
     "text": [
      "/Users/onieto/Desktop/Harmonix/final_audio/0924_sunisup.mp3\n"
     ]
    },
    {
     "name": "stderr",
     "output_type": "stream",
     "text": [
      "Invalid date: 0503\n",
      "GEOB frame does not contain a mime type\n",
      "GEOB frame does not contain a valid mime type\n"
     ]
    },
    {
     "name": "stdout",
     "output_type": "stream",
     "text": [
      "/Users/onieto/Desktop/Harmonix/final_audio/0925_sweetdisposition.mp3\n"
     ]
    },
    {
     "name": "stderr",
     "output_type": "stream",
     "text": [
      "GEOB frame does not contain a mime type\n",
      "GEOB frame does not contain a valid mime type\n"
     ]
    },
    {
     "name": "stdout",
     "output_type": "stream",
     "text": [
      "/Users/onieto/Desktop/Harmonix/final_audio/0926_sweetthing.mp3\n"
     ]
    },
    {
     "name": "stderr",
     "output_type": "stream",
     "text": [
      "GEOB frame does not contain a mime type\n",
      "GEOB frame does not contain a valid mime type\n"
     ]
    },
    {
     "name": "stdout",
     "output_type": "stream",
     "text": [
      "/Users/onieto/Desktop/Harmonix/final_audio/0927_swing.mp3\n"
     ]
    },
    {
     "name": "stderr",
     "output_type": "stream",
     "text": [
      "Invalid date: 0601\n",
      "GEOB frame does not contain a mime type\n",
      "GEOB frame does not contain a valid mime type\n",
      "Frame 'IPLS' is not yet supported, using raw Frame to parse\n"
     ]
    },
    {
     "name": "stdout",
     "output_type": "stream",
     "text": [
      "/Users/onieto/Desktop/Harmonix/final_audio/0928_takeabow.mp3\n"
     ]
    },
    {
     "name": "stderr",
     "output_type": "stream",
     "text": [
      "GEOB frame does not contain a mime type\n",
      "GEOB frame does not contain a valid mime type\n"
     ]
    },
    {
     "name": "stdout",
     "output_type": "stream",
     "text": [
      "/Users/onieto/Desktop/Harmonix/final_audio/0929_takeovercontrolext.mp3\n"
     ]
    },
    {
     "name": "stderr",
     "output_type": "stream",
     "text": [
      "Invalid date: 0710\n",
      "GEOB frame does not contain a mime type\n",
      "GEOB frame does not contain a valid mime type\n"
     ]
    },
    {
     "name": "stdout",
     "output_type": "stream",
     "text": [
      "/Users/onieto/Desktop/Harmonix/final_audio/0930_takeyourtime.mp3\n"
     ]
    },
    {
     "name": "stderr",
     "output_type": "stream",
     "text": [
      "GEOB frame does not contain a mime type\n",
      "GEOB frame does not contain a valid mime type\n"
     ]
    },
    {
     "name": "stdout",
     "output_type": "stream",
     "text": [
      "/Users/onieto/Desktop/Harmonix/final_audio/0931_takeyouthere.mp3\n"
     ]
    },
    {
     "name": "stderr",
     "output_type": "stream",
     "text": [
      "GEOB frame does not contain a mime type\n",
      "GEOB frame does not contain a valid mime type\n"
     ]
    },
    {
     "name": "stdout",
     "output_type": "stream",
     "text": [
      "/Users/onieto/Desktop/Harmonix/final_audio/0932_tattoo.mp3\n"
     ]
    },
    {
     "name": "stderr",
     "output_type": "stream",
     "text": [
      "GEOB frame does not contain a mime type\n",
      "GEOB frame does not contain a valid mime type\n"
     ]
    },
    {
     "name": "stdout",
     "output_type": "stream",
     "text": [
      "/Users/onieto/Desktop/Harmonix/final_audio/0933_teardropsonmyguitar.mp3\n"
     ]
    },
    {
     "name": "stderr",
     "output_type": "stream",
     "text": [
      "GEOB frame does not contain a mime type\n",
      "GEOB frame does not contain a valid mime type\n"
     ]
    },
    {
     "name": "stdout",
     "output_type": "stream",
     "text": [
      "/Users/onieto/Desktop/Harmonix/final_audio/0934_teenagedreamkaskade.mp3\n"
     ]
    },
    {
     "name": "stderr",
     "output_type": "stream",
     "text": [
      "Invalid date: 0306\n",
      "GEOB frame does not contain a mime type\n",
      "GEOB frame does not contain a valid mime type\n"
     ]
    },
    {
     "name": "stdout",
     "output_type": "stream",
     "text": [
      "/Users/onieto/Desktop/Harmonix/final_audio/0936_tequieroacoustic.mp3\n"
     ]
    },
    {
     "name": "stderr",
     "output_type": "stream",
     "text": [
      "GEOB frame does not contain a mime type\n",
      "GEOB frame does not contain a valid mime type\n"
     ]
    },
    {
     "name": "stdout",
     "output_type": "stream",
     "text": [
      "/Users/onieto/Desktop/Harmonix/final_audio/0937_thatsnotmyname.mp3\n"
     ]
    },
    {
     "name": "stderr",
     "output_type": "stream",
     "text": [
      "GEOB frame does not contain a mime type\n",
      "GEOB frame does not contain a valid mime type\n"
     ]
    },
    {
     "name": "stdout",
     "output_type": "stream",
     "text": [
      "/Users/onieto/Desktop/Harmonix/final_audio/0938_thebusiness.mp3\n"
     ]
    },
    {
     "name": "stderr",
     "output_type": "stream",
     "text": [
      "GEOB frame does not contain a mime type\n",
      "GEOB frame does not contain a valid mime type\n"
     ]
    },
    {
     "name": "stdout",
     "output_type": "stream",
     "text": [
      "/Users/onieto/Desktop/Harmonix/final_audio/0939_thecure.mp3\n"
     ]
    },
    {
     "name": "stderr",
     "output_type": "stream",
     "text": [
      "GEOB frame does not contain a mime type\n",
      "GEOB frame does not contain a valid mime type\n"
     ]
    },
    {
     "name": "stdout",
     "output_type": "stream",
     "text": [
      "/Users/onieto/Desktop/Harmonix/final_audio/0940_thehousethatbuiltme.mp3\n"
     ]
    },
    {
     "name": "stderr",
     "output_type": "stream",
     "text": [
      "GEOB frame does not contain a mime type\n",
      "GEOB frame does not contain a valid mime type\n"
     ]
    },
    {
     "name": "stdout",
     "output_type": "stream",
     "text": [
      "/Users/onieto/Desktop/Harmonix/final_audio/0941_theocean.mp3\n"
     ]
    },
    {
     "name": "stderr",
     "output_type": "stream",
     "text": [
      "Invalid date: 0601\n",
      "GEOB frame does not contain a mime type\n",
      "GEOB frame does not contain a valid mime type\n",
      "Frame 'IPLS' is not yet supported, using raw Frame to parse\n"
     ]
    },
    {
     "name": "stdout",
     "output_type": "stream",
     "text": [
      "/Users/onieto/Desktop/Harmonix/final_audio/0943_thetheayer.mp3\n"
     ]
    },
    {
     "name": "stderr",
     "output_type": "stream",
     "text": [
      "GEOB frame does not contain a mime type\n",
      "GEOB frame does not contain a valid mime type\n"
     ]
    },
    {
     "name": "stdout",
     "output_type": "stream",
     "text": [
      "/Users/onieto/Desktop/Harmonix/final_audio/0945_thewayiareradio.mp3\n"
     ]
    },
    {
     "name": "stderr",
     "output_type": "stream",
     "text": [
      "GEOB frame does not contain a mime type\n",
      "GEOB frame does not contain a valid mime type\n"
     ]
    },
    {
     "name": "stdout",
     "output_type": "stream",
     "text": [
      "/Users/onieto/Desktop/Harmonix/final_audio/0946_thinkingofyou.mp3\n"
     ]
    },
    {
     "name": "stderr",
     "output_type": "stream",
     "text": [
      "GEOB frame does not contain a mime type\n",
      "GEOB frame does not contain a valid mime type\n"
     ]
    },
    {
     "name": "stdout",
     "output_type": "stream",
     "text": [
      "/Users/onieto/Desktop/Harmonix/final_audio/0947_thiskiss.mp3\n"
     ]
    },
    {
     "name": "stderr",
     "output_type": "stream",
     "text": [
      "GEOB frame does not contain a mime type\n",
      "GEOB frame does not contain a valid mime type\n"
     ]
    },
    {
     "name": "stdout",
     "output_type": "stream",
     "text": [
      "/Users/onieto/Desktop/Harmonix/final_audio/0948_thislove.mp3\n"
     ]
    },
    {
     "name": "stderr",
     "output_type": "stream",
     "text": [
      "Invalid date: 0311\n",
      "GEOB frame does not contain a mime type\n",
      "GEOB frame does not contain a valid mime type\n"
     ]
    },
    {
     "name": "stdout",
     "output_type": "stream",
     "text": [
      "/Users/onieto/Desktop/Harmonix/final_audio/0949_throwitinthebag.mp3\n"
     ]
    },
    {
     "name": "stderr",
     "output_type": "stream",
     "text": [
      "Invalid date: 0702\n",
      "GEOB frame does not contain a mime type\n",
      "GEOB frame does not contain a valid mime type\n"
     ]
    },
    {
     "name": "stdout",
     "output_type": "stream",
     "text": [
      "/Users/onieto/Desktop/Harmonix/final_audio/0950_throwyourhandsup.mp3\n"
     ]
    },
    {
     "name": "stderr",
     "output_type": "stream",
     "text": [
      "GEOB frame does not contain a mime type\n",
      "GEOB frame does not contain a valid mime type\n"
     ]
    },
    {
     "name": "stdout",
     "output_type": "stream",
     "text": [
      "/Users/onieto/Desktop/Harmonix/final_audio/0951_thunder.mp3\n"
     ]
    },
    {
     "name": "stderr",
     "output_type": "stream",
     "text": [
      "GEOB frame does not contain a mime type\n",
      "GEOB frame does not contain a valid mime type\n"
     ]
    },
    {
     "name": "stdout",
     "output_type": "stream",
     "text": [
      "/Users/onieto/Desktop/Harmonix/final_audio/0952_tiktok.mp3\n"
     ]
    },
    {
     "name": "stderr",
     "output_type": "stream",
     "text": [
      "GEOB frame does not contain a mime type\n",
      "GEOB frame does not contain a valid mime type\n"
     ]
    },
    {
     "name": "stdout",
     "output_type": "stream",
     "text": [
      "/Users/onieto/Desktop/Harmonix/final_audio/0953_tilltheworldends2.mp3\n"
     ]
    },
    {
     "name": "stderr",
     "output_type": "stream",
     "text": [
      "GEOB frame does not contain a mime type\n",
      "GEOB frame does not contain a valid mime type\n"
     ]
    },
    {
     "name": "stdout",
     "output_type": "stream",
     "text": [
      "/Users/onieto/Desktop/Harmonix/final_audio/0954_timeaftertimevan.mp3\n"
     ]
    },
    {
     "name": "stderr",
     "output_type": "stream",
     "text": [
      "GEOB frame does not contain a mime type\n",
      "GEOB frame does not contain a valid mime type\n"
     ]
    },
    {
     "name": "stdout",
     "output_type": "stream",
     "text": [
      "/Users/onieto/Desktop/Harmonix/final_audio/0955_tinylittlebows.mp3\n"
     ]
    },
    {
     "name": "stderr",
     "output_type": "stream",
     "text": [
      "GEOB frame does not contain a mime type\n",
      "GEOB frame does not contain a valid mime type\n"
     ]
    },
    {
     "name": "stdout",
     "output_type": "stream",
     "text": [
      "/Users/onieto/Desktop/Harmonix/final_audio/0956_tonightimgettingoveryou.mp3\n"
     ]
    },
    {
     "name": "stderr",
     "output_type": "stream",
     "text": [
      "GEOB frame does not contain a mime type\n",
      "GEOB frame does not contain a valid mime type\n"
     ]
    },
    {
     "name": "stdout",
     "output_type": "stream",
     "text": [
      "/Users/onieto/Desktop/Harmonix/final_audio/0958_turnmeup.mp3\n"
     ]
    },
    {
     "name": "stderr",
     "output_type": "stream",
     "text": [
      "GEOB frame does not contain a mime type\n",
      "GEOB frame does not contain a valid mime type\n"
     ]
    },
    {
     "name": "stdout",
     "output_type": "stream",
     "text": [
      "/Users/onieto/Desktop/Harmonix/final_audio/0959_turnthisclubaround.mp3\n"
     ]
    },
    {
     "name": "stderr",
     "output_type": "stream",
     "text": [
      "GEOB frame does not contain a mime type\n",
      "GEOB frame does not contain a valid mime type\n"
     ]
    },
    {
     "name": "stdout",
     "output_type": "stream",
     "text": [
      "/Users/onieto/Desktop/Harmonix/final_audio/0960_umbrella.mp3\n"
     ]
    },
    {
     "name": "stderr",
     "output_type": "stream",
     "text": [
      "GEOB frame does not contain a mime type\n",
      "GEOB frame does not contain a valid mime type\n"
     ]
    },
    {
     "name": "stdout",
     "output_type": "stream",
     "text": [
      "/Users/onieto/Desktop/Harmonix/final_audio/0961_unfaithfulfemme.mp3\n"
     ]
    },
    {
     "name": "stderr",
     "output_type": "stream",
     "text": [
      "Invalid date: 0601\n",
      "GEOB frame does not contain a mime type\n",
      "GEOB frame does not contain a valid mime type\n",
      "Frame 'IPLS' is not yet supported, using raw Frame to parse\n"
     ]
    },
    {
     "name": "stdout",
     "output_type": "stream",
     "text": [
      "/Users/onieto/Desktop/Harmonix/final_audio/0962_usagainsttheworldjason.mp3\n"
     ]
    },
    {
     "name": "stderr",
     "output_type": "stream",
     "text": [
      "Invalid date: 0311\n",
      "GEOB frame does not contain a mime type\n",
      "GEOB frame does not contain a valid mime type\n"
     ]
    },
    {
     "name": "stdout",
     "output_type": "stream",
     "text": [
      "/Users/onieto/Desktop/Harmonix/final_audio/0964_wakingupinvegas.mp3\n"
     ]
    },
    {
     "name": "stderr",
     "output_type": "stream",
     "text": [
      "GEOB frame does not contain a mime type\n",
      "GEOB frame does not contain a valid mime type\n",
      "Frame 'IPLS' is not yet supported, using raw Frame to parse\n"
     ]
    },
    {
     "name": "stdout",
     "output_type": "stream",
     "text": [
      "/Users/onieto/Desktop/Harmonix/final_audio/0965_wakingupinvegascalvin.mp3\n"
     ]
    },
    {
     "name": "stderr",
     "output_type": "stream",
     "text": [
      "GEOB frame does not contain a mime type\n",
      "GEOB frame does not contain a valid mime type\n"
     ]
    },
    {
     "name": "stdout",
     "output_type": "stream",
     "text": [
      "/Users/onieto/Desktop/Harmonix/final_audio/0966_wakingupinvegascalvinh.mp3\n"
     ]
    },
    {
     "name": "stderr",
     "output_type": "stream",
     "text": [
      "GEOB frame does not contain a mime type\n",
      "GEOB frame does not contain a valid mime type\n",
      "Frame 'IPLS' is not yet supported, using raw Frame to parse\n"
     ]
    },
    {
     "name": "stdout",
     "output_type": "stream",
     "text": [
      "/Users/onieto/Desktop/Harmonix/final_audio/0967_walkingonadream.mp3\n"
     ]
    },
    {
     "name": "stderr",
     "output_type": "stream",
     "text": [
      "GEOB frame does not contain a mime type\n",
      "GEOB frame does not contain a valid mime type\n"
     ]
    },
    {
     "name": "stdout",
     "output_type": "stream",
     "text": [
      "/Users/onieto/Desktop/Harmonix/final_audio/0968_walltowall.mp3\n"
     ]
    },
    {
     "name": "stderr",
     "output_type": "stream",
     "text": [
      "GEOB frame does not contain a mime type\n",
      "GEOB frame does not contain a valid mime type\n"
     ]
    },
    {
     "name": "stdout",
     "output_type": "stream",
     "text": [
      "/Users/onieto/Desktop/Harmonix/final_audio/0969_webelongtogether.mp3\n"
     ]
    },
    {
     "name": "stderr",
     "output_type": "stream",
     "text": [
      "GEOB frame does not contain a mime type\n",
      "GEOB frame does not contain a valid mime type\n"
     ]
    },
    {
     "name": "stdout",
     "output_type": "stream",
     "text": [
      "/Users/onieto/Desktop/Harmonix/final_audio/0970_whataboutnow.mp3\n"
     ]
    },
    {
     "name": "stderr",
     "output_type": "stream",
     "text": [
      "GEOB frame does not contain a mime type\n",
      "GEOB frame does not contain a valid mime type\n"
     ]
    },
    {
     "name": "stdout",
     "output_type": "stream",
     "text": [
      "/Users/onieto/Desktop/Harmonix/final_audio/0971_whatayawantfromme.mp3\n"
     ]
    },
    {
     "name": "stderr",
     "output_type": "stream",
     "text": [
      "Invalid date: 0311\n",
      "GEOB frame does not contain a mime type\n",
      "GEOB frame does not contain a valid mime type\n"
     ]
    },
    {
     "name": "stdout",
     "output_type": "stream",
     "text": [
      "/Users/onieto/Desktop/Harmonix/final_audio/0972_whatchasay.mp3\n"
     ]
    },
    {
     "name": "stderr",
     "output_type": "stream",
     "text": [
      "GEOB frame does not contain a mime type\n",
      "GEOB frame does not contain a valid mime type\n"
     ]
    },
    {
     "name": "stdout",
     "output_type": "stream",
     "text": [
      "/Users/onieto/Desktop/Harmonix/final_audio/0973_whateverittakes.mp3\n"
     ]
    },
    {
     "name": "stderr",
     "output_type": "stream",
     "text": [
      "GEOB frame does not contain a mime type\n",
      "GEOB frame does not contain a valid mime type\n"
     ]
    },
    {
     "name": "stdout",
     "output_type": "stream",
     "text": [
      "/Users/onieto/Desktop/Harmonix/final_audio/0974_whateveryoulike.mp3\n"
     ]
    },
    {
     "name": "stderr",
     "output_type": "stream",
     "text": [
      "Invalid date: 0702\n",
      "GEOB frame does not contain a mime type\n",
      "GEOB frame does not contain a valid mime type\n"
     ]
    },
    {
     "name": "stdout",
     "output_type": "stream",
     "text": [
      "/Users/onieto/Desktop/Harmonix/final_audio/0975_whathappensinvegas.mp3\n"
     ]
    },
    {
     "name": "stderr",
     "output_type": "stream",
     "text": [
      "GEOB frame does not contain a mime type\n",
      "GEOB frame does not contain a valid mime type\n"
     ]
    },
    {
     "name": "stdout",
     "output_type": "stream",
     "text": [
      "/Users/onieto/Desktop/Harmonix/final_audio/0977_wheelsnow.mp3\n"
     ]
    },
    {
     "name": "stderr",
     "output_type": "stream",
     "text": [
      "Invalid date: 0902\n",
      "GEOB frame does not contain a mime type\n",
      "GEOB frame does not contain a valid mime type\n"
     ]
    },
    {
     "name": "stdout",
     "output_type": "stream",
     "text": [
      "/Users/onieto/Desktop/Harmonix/final_audio/0978_whenigrowup.mp3\n"
     ]
    },
    {
     "name": "stderr",
     "output_type": "stream",
     "text": [
      "GEOB frame does not contain a mime type\n",
      "GEOB frame does not contain a valid mime type\n"
     ]
    },
    {
     "name": "stdout",
     "output_type": "stream",
     "text": [
      "/Users/onieto/Desktop/Harmonix/final_audio/0979_whenlovetakesover.mp3\n"
     ]
    },
    {
     "name": "stderr",
     "output_type": "stream",
     "text": [
      "Invalid date: 0601\n",
      "GEOB frame does not contain a mime type\n",
      "GEOB frame does not contain a valid mime type\n",
      "Frame 'IPLS' is not yet supported, using raw Frame to parse\n"
     ]
    },
    {
     "name": "stdout",
     "output_type": "stream",
     "text": [
      "/Users/onieto/Desktop/Harmonix/final_audio/0980_whenyouleave.mp3\n"
     ]
    },
    {
     "name": "stderr",
     "output_type": "stream",
     "text": [
      "GEOB frame does not contain a mime type\n",
      "GEOB frame does not contain a valid mime type\n"
     ]
    },
    {
     "name": "stdout",
     "output_type": "stream",
     "text": [
      "/Users/onieto/Desktop/Harmonix/final_audio/0981_whenyouregone.mp3\n"
     ]
    },
    {
     "name": "stderr",
     "output_type": "stream",
     "text": [
      "GEOB frame does not contain a mime type\n",
      "GEOB frame does not contain a valid mime type\n"
     ]
    },
    {
     "name": "stdout",
     "output_type": "stream",
     "text": [
      "/Users/onieto/Desktop/Harmonix/final_audio/0982_whoknewdos.mp3\n"
     ]
    },
    {
     "name": "stderr",
     "output_type": "stream",
     "text": [
      "GEOB frame does not contain a mime type\n",
      "GEOB frame does not contain a valid mime type\n"
     ]
    },
    {
     "name": "stdout",
     "output_type": "stream",
     "text": [
      "/Users/onieto/Desktop/Harmonix/final_audio/0983_whyamitheone.mp3\n"
     ]
    },
    {
     "name": "stderr",
     "output_type": "stream",
     "text": [
      "GEOB frame does not contain a mime type\n",
      "GEOB frame does not contain a valid mime type\n"
     ]
    },
    {
     "name": "stdout",
     "output_type": "stream",
     "text": [
      "/Users/onieto/Desktop/Harmonix/final_audio/0986_winner.mp3\n"
     ]
    },
    {
     "name": "stderr",
     "output_type": "stream",
     "text": [
      "Invalid date: 0306\n",
      "GEOB frame does not contain a mime type\n",
      "GEOB frame does not contain a valid mime type\n"
     ]
    },
    {
     "name": "stdout",
     "output_type": "stream",
     "text": [
      "/Users/onieto/Desktop/Harmonix/final_audio/0987_withyou.mp3\n"
     ]
    },
    {
     "name": "stderr",
     "output_type": "stream",
     "text": [
      "Invalid date: 0601\n",
      "GEOB frame does not contain a mime type\n",
      "GEOB frame does not contain a valid mime type\n",
      "Frame 'IPLS' is not yet supported, using raw Frame to parse\n"
     ]
    },
    {
     "name": "stdout",
     "output_type": "stream",
     "text": [
      "/Users/onieto/Desktop/Harmonix/final_audio/0988_withyoukovas.mp3\n"
     ]
    },
    {
     "name": "stderr",
     "output_type": "stream",
     "text": [
      "GEOB frame does not contain a mime type\n",
      "GEOB frame does not contain a valid mime type\n"
     ]
    },
    {
     "name": "stdout",
     "output_type": "stream",
     "text": [
      "/Users/onieto/Desktop/Harmonix/final_audio/0989_womanizer.mp3\n"
     ]
    },
    {
     "name": "stderr",
     "output_type": "stream",
     "text": [
      "GEOB frame does not contain a mime type\n",
      "GEOB frame does not contain a valid mime type\n"
     ]
    },
    {
     "name": "stdout",
     "output_type": "stream",
     "text": [
      "/Users/onieto/Desktop/Harmonix/final_audio/0991_worryaboutyounow.mp3\n"
     ]
    },
    {
     "name": "stderr",
     "output_type": "stream",
     "text": [
      "GEOB frame does not contain a mime type\n",
      "GEOB frame does not contain a valid mime type\n"
     ]
    },
    {
     "name": "stdout",
     "output_type": "stream",
     "text": [
      "/Users/onieto/Desktop/Harmonix/final_audio/0992_wrongthinwhiteduke.mp3\n"
     ]
    },
    {
     "name": "stderr",
     "output_type": "stream",
     "text": [
      "GEOB frame does not contain a mime type\n",
      "GEOB frame does not contain a valid mime type\n"
     ]
    },
    {
     "name": "stdout",
     "output_type": "stream",
     "text": [
      "/Users/onieto/Desktop/Harmonix/final_audio/0993_youandidanny.mp3\n"
     ]
    },
    {
     "name": "stderr",
     "output_type": "stream",
     "text": [
      "Invalid date: 0311\n",
      "GEOB frame does not contain a mime type\n",
      "GEOB frame does not contain a valid mime type\n"
     ]
    },
    {
     "name": "stdout",
     "output_type": "stream",
     "text": [
      "/Users/onieto/Desktop/Harmonix/final_audio/0994_youbelongwithme.mp3\n"
     ]
    },
    {
     "name": "stderr",
     "output_type": "stream",
     "text": [
      "GEOB frame does not contain a mime type\n",
      "GEOB frame does not contain a valid mime type\n"
     ]
    },
    {
     "name": "stdout",
     "output_type": "stream",
     "text": [
      "/Users/onieto/Desktop/Harmonix/final_audio/0995_youfoundme.mp3\n"
     ]
    },
    {
     "name": "stderr",
     "output_type": "stream",
     "text": [
      "Invalid date: 0306\n",
      "GEOB frame does not contain a mime type\n",
      "GEOB frame does not contain a valid mime type\n"
     ]
    },
    {
     "name": "stdout",
     "output_type": "stream",
     "text": [
      "/Users/onieto/Desktop/Harmonix/final_audio/0998_youregonnamissthis.mp3\n"
     ]
    },
    {
     "name": "stderr",
     "output_type": "stream",
     "text": [
      "GEOB frame does not contain a mime type\n",
      "GEOB frame does not contain a valid mime type\n"
     ]
    },
    {
     "name": "stdout",
     "output_type": "stream",
     "text": [
      "/Users/onieto/Desktop/Harmonix/final_audio/0999_yourheartisamuscle.mp3\n"
     ]
    },
    {
     "name": "stderr",
     "output_type": "stream",
     "text": [
      "GEOB frame does not contain a mime type\n",
      "GEOB frame does not contain a valid mime type\n"
     ]
    },
    {
     "name": "stdout",
     "output_type": "stream",
     "text": [
      "/Users/onieto/Desktop/Harmonix/final_audio/1000_yourloveismydrug.mp3\n"
     ]
    },
    {
     "name": "stderr",
     "output_type": "stream",
     "text": [
      "GEOB frame does not contain a mime type\n",
      "GEOB frame does not contain a valid mime type\n"
     ]
    },
    {
     "name": "stdout",
     "output_type": "stream",
     "text": [
      "/Users/onieto/Desktop/Harmonix/final_audio/1001_yourloveismydrugdave.mp3\n"
     ]
    }
   ],
   "source": [
    "for mp3_file in tqdm(MP3_FILES):\n",
    "    out_file = \"{}{}\".format(JAMS_OUTPUT, os.path.basename(mp3_file).replace(\".mp3\", \".jams\"))\n",
    "    print(mp3_file)\n",
    "    jam = create_jams(mp3_file)\n",
    "    jam.save(out_file)"
   ]
  },
  {
   "cell_type": "code",
   "execution_count": 7,
   "metadata": {},
   "outputs": [
    {
     "data": {
      "text/plain": [
       "'/Users/onieto/Desktop/Harmonix/final_audio/0004_abc.mp3'"
      ]
     },
     "execution_count": 7,
     "metadata": {},
     "output_type": "execute_result"
    }
   ],
   "source": [
    "MP3_FILES[0]"
   ]
  },
  {
   "cell_type": "code",
   "execution_count": 14,
   "metadata": {},
   "outputs": [],
   "source": [
    "import librosa\n",
    "\n"
   ]
  },
  {
   "cell_type": "code",
   "execution_count": 15,
   "metadata": {},
   "outputs": [
    {
     "data": {
      "text/plain": [
       "array([ 0.06965986,  0.30185941,  0.69659864,  0.90557823,  1.021678  ,\n",
       "        1.36997732,  1.60217687,  1.69505669,  2.04335601,  2.36843537,\n",
       "        2.5077551 ,  2.92571429,  3.27401361,  3.62231293,  3.80807256,\n",
       "        4.15637188,  4.29569161,  4.59755102,  4.96907029,  5.13160998,\n",
       "        5.61922902,  5.92108844,  6.26938776,  6.43192744,  6.7570068 ,\n",
       "        6.91954649,  7.24462585,  7.56970522,  7.75546485,  7.91800454,\n",
       "        8.2430839 ,  8.54494331,  8.87002268,  9.03256236,  9.19510204,\n",
       "        9.38086168,  9.49696145,  9.82204082, 10.14712018, 10.30965986,\n",
       "       10.47219955, 10.65795918, 10.79727891, 10.98303855, 11.09913832,\n",
       "       11.42421769, 11.58675737, 11.74929705, 11.91183673, 12.05115646,\n",
       "       12.37623583, 12.70131519, 12.86385488, 13.02639456, 13.2121542 ,\n",
       "       13.35147392, 13.65333333, 13.9784127 , 14.14095238, 14.30349206,\n",
       "       14.46603175, 14.62857143, 14.81433107, 14.93043084, 15.11619048,\n",
       "       15.2555102 , 15.41804989, 15.58058957, 15.76634921, 15.90566893,\n",
       "       16.20752834, 16.39328798, 16.55582766, 16.69514739, 16.85768707,\n",
       "       17.02022676, 17.15954649, 17.34530612, 17.4614059 , 17.64716553,\n",
       "       17.78648526, 17.94902494, 18.13478458, 18.29732426, 18.43664399,\n",
       "       18.62240363, 18.7385034 , 19.06358277, 19.22612245, 19.7137415 ,\n",
       "       20.01560091, 20.2245805 , 20.36390023, 20.52643991, 20.68897959,\n",
       "       20.87473923, 20.990839  , 21.29269841, 21.47845805, 21.64099773,\n",
       "       21.78031746, 21.9660771 , 22.26793651, 22.56979592, 22.77877551,\n",
       "       22.91809524, 23.08063492, 23.54503401, 23.84689342, 24.19519274,\n",
       "       24.33451247, 24.52027211, 24.68281179, 24.82213152, 25.12399093,\n",
       "       25.44907029, 25.63482993, 25.79736961, 26.09922902, 26.40108844,\n",
       "       26.77260771, 26.91192744, 27.07446712, 27.26022676, 27.37632653,\n",
       "       27.56208617, 27.7014059 , 28.02648526, 28.18902494, 28.37478458,\n",
       "       28.67664399, 28.9785034 , 29.32680272, 29.46612245, 29.60544218,\n",
       "       29.79120181, 29.93052154])"
      ]
     },
     "execution_count": 15,
     "metadata": {},
     "output_type": "execute_result"
    }
   ],
   "source": []
  },
  {
   "cell_type": "code",
   "execution_count": 12,
   "metadata": {},
   "outputs": [
    {
     "data": {
      "text/plain": [
       "array([   3,   13,   30,   39,   44,   59,   69,   73,   88,  102,  108,\n",
       "        126,  141,  156,  164,  179,  185,  198,  214,  221,  242,  256,\n",
       "        270,  277,  291,  298,  312,  326,  334,  341,  355,  368,  382,\n",
       "        389,  396,  404,  409,  423,  437,  444,  451,  459,  465,  473,\n",
       "        478,  492,  499,  506,  513,  520,  533,  547,  554,  561,  569,\n",
       "        575,  588,  602,  609,  616,  624,  630,  638,  643,  651,  657,\n",
       "        664,  671,  679,  685,  698,  713,  719,  726,  733,  739,  747,\n",
       "        752,  760,  766,  773,  781,  788,  794,  807,  821,  828,  849,\n",
       "        862,  871,  877,  884,  891,  899,  904,  917,  932,  938,  946,\n",
       "        959,  972,  981,  987,  994, 1015, 1027, 1042, 1048, 1056, 1063,\n",
       "       1069, 1082, 1096, 1124, 1137, 1153, 1159, 1167, 1174, 1180, 1187,\n",
       "       1193, 1207, 1214, 1235, 1248, 1263, 1269, 1276, 1283, 1289, 1296,\n",
       "       1302, 1311, 1318, 1324, 1343, 1356, 1372, 1379, 1385, 1392, 1399,\n",
       "       1407, 1412, 1420, 1426, 1432, 1434, 1454, 1467, 1481, 1488, 1508,\n",
       "       1522, 1536, 1542, 1562, 1577, 1591, 1598, 1618, 1631, 1645, 1658,\n",
       "       1673, 1687, 1700, 1707, 1714, 1727, 1735, 1741, 1754, 1761, 1763,\n",
       "       1781, 1795, 1809, 1816, 1823, 1829, 1836, 1850, 1864, 1871, 1878,\n",
       "       1891, 1904, 1919, 1924, 1945, 1958, 1972, 1980, 2000, 2014, 2028,\n",
       "       2035, 2056, 2069, 2084, 2091, 2098, 2105, 2111, 2125, 2131, 2138,\n",
       "       2152, 2165, 2180, 2187, 2193, 2201, 2207, 2214, 2220, 2234, 2241,\n",
       "       2247, 2262, 2275, 2284, 2290, 2297, 2303, 2312, 2317, 2324, 2331,\n",
       "       2339, 2351, 2359, 2386, 2400, 2408, 2415, 2428, 2435, 2442, 2456,\n",
       "       2462, 2469, 2476, 2483, 2496, 2503, 2510, 2525, 2532, 2538, 2552,\n",
       "       2559, 2573, 2579, 2587, 2593, 2601, 2606, 2614, 2620, 2635, 2642,\n",
       "       2648, 2662, 2669, 2676, 2690, 2703, 2711, 2717, 2724, 2731, 2745,\n",
       "       2758, 2773, 2780, 2787, 2794, 2800, 2808, 2813, 2828, 2835, 2842,\n",
       "       2848, 2855, 2864, 2869, 2884, 2891, 2897, 2905, 2911, 2919, 2924,\n",
       "       2933, 2939, 2946, 2960, 2967, 2979, 2995, 3001, 3008, 3022, 3035,\n",
       "       3050, 3058, 3063, 3077, 3085, 3091, 3107, 3114, 3120, 3134, 3146,\n",
       "       3156, 3161, 3176, 3190, 3202, 3218, 3225, 3231, 3238, 3245, 3252,\n",
       "       3257, 3273, 3280, 3299, 3308, 3313, 3322, 3328, 3334, 3342, 3349,\n",
       "       3355, 3368, 3376, 3383, 3390, 3411, 3424, 3439, 3446, 3453, 3460,\n",
       "       3466, 3474, 3480, 3488, 3495, 3500, 3509, 3521, 3535, 3550, 3556,\n",
       "       3563, 3570, 3577, 3584, 3590, 3598, 3605, 3612, 3619, 3632, 3645,\n",
       "       3660, 3666, 3687, 3701, 3715, 3722, 3743, 3756, 3771, 3778, 3799,\n",
       "       3812, 3826, 3840, 3855, 3868, 3883, 3889, 3896, 3910, 3923, 3931,\n",
       "       3937, 3945, 3963, 3978, 3993, 3999, 4007, 4020, 4034, 4049, 4056,\n",
       "       4076, 4090, 4104, 4111, 4118, 4132, 4145, 4159, 4166, 4187, 4201,\n",
       "       4215, 4222, 4242, 4256, 4270, 4278, 4299, 4312, 4326, 4333, 4353,\n",
       "       4367, 4381, 4387, 4395, 4407, 4422, 4436, 4442, 4463, 4476, 4490,\n",
       "       4497, 4518, 4531, 4546, 4552, 4560, 4573, 4587, 4600, 4612, 4622,\n",
       "       4628, 4634, 4638, 4648, 4667, 4673, 4680, 4694, 4708, 4722, 4729,\n",
       "       4735, 4742, 4747, 4755, 4769, 4775, 4781, 4788, 4794, 4800, 4815,\n",
       "       4828, 4835, 4849, 4856, 4861, 4869, 4875, 4882, 4888, 4895, 4901,\n",
       "       4908, 4915, 4921, 4928, 4935, 4942, 4949, 4955, 4962, 4967, 4976,\n",
       "       4982, 4989, 4996, 5006, 5009, 5029, 5043, 5056, 5063, 5076, 5083,\n",
       "       5089, 5096, 5103, 5109, 5116, 5122, 5136, 5150, 5155, 5157, 5170,\n",
       "       5176, 5183, 5191, 5197, 5203, 5210, 5216, 5223, 5231, 5243, 5257,\n",
       "       5264, 5270, 5278, 5285, 5292, 5298, 5304, 5313, 5325, 5333, 5339,\n",
       "       5351, 5360, 5366, 5374, 5379, 5387, 5401, 5406, 5414, 5420, 5428,\n",
       "       5433, 5441, 5460, 5469, 5474, 5483, 5488, 5496, 5509, 5515, 5522,\n",
       "       5528, 5530, 5536, 5542, 5549, 5551, 5556, 5568, 5577, 5582, 5590,\n",
       "       5596, 5603, 5617, 5623, 5630, 5636, 5644, 5650, 5657, 5664, 5677,\n",
       "       5686, 5691, 5699, 5705, 5711, 5718, 5725, 5731, 5738, 5745, 5752,\n",
       "       5758, 5764, 5772, 5785, 5793, 5798, 5812, 5819, 5833, 5838, 5846,\n",
       "       5853, 5859, 5866, 5872, 5893, 5907, 5920, 5927, 5934, 5948, 5960,\n",
       "       5973, 5980, 5987, 6014, 6029, 6035, 6042, 6054, 6067, 6082, 6089,\n",
       "       6096, 6109, 6122, 6137, 6144, 6151, 6165, 6177, 6192, 6199, 6219,\n",
       "       6232, 6247, 6254, 6262, 6275, 6286, 6289, 6302, 6309, 6330, 6343,\n",
       "       6358, 6365, 6386, 6398, 6412, 6424, 6434, 6439, 6453, 6460, 6466,\n",
       "       6480, 6493, 6506, 6515, 6521, 6529, 6534, 6543, 6548, 6556, 6562,\n",
       "       6569, 6575, 6583, 6589, 6603, 6609, 6617, 6644, 6658, 6665, 6672,\n",
       "       6685, 6698, 6713, 6720, 6739, 6741, 6754, 6769, 6775, 6796, 6808,\n",
       "       6817, 6824, 6830, 6851, 6864, 6879, 6886, 6906, 6914, 6919, 6927,\n",
       "       6934, 6940, 6962, 6974, 6989, 6996, 7017, 7029, 7043, 7056, 7063,\n",
       "       7070, 7078, 7084, 7091, 7097, 7111, 7125, 7139, 7148, 7153, 7161,\n",
       "       7166, 7174, 7181, 7189, 7194, 7202, 7208, 7216, 7222, 7235, 7243,\n",
       "       7249, 7264, 7277, 7285, 7292, 7298, 7319, 7326, 7332, 7346, 7353,\n",
       "       7372, 7387, 7395, 7401, 7408, 7415, 7429, 7441, 7457, 7463, 7484,\n",
       "       7497, 7513, 7519, 7527, 7540, 7552, 7561, 7568, 7574, 7609, 7616,\n",
       "       7623, 7629, 7649, 7651, 7663, 7666, 7678, 7685, 7691, 7699, 7704,\n",
       "       7712, 7718, 7727, 7732, 7741, 7746, 7755, 7760, 7774, 7783])"
      ]
     },
     "execution_count": 12,
     "metadata": {},
     "output_type": "execute_result"
    }
   ],
   "source": [
    "x"
   ]
  },
  {
   "cell_type": "code",
   "execution_count": null,
   "metadata": {},
   "outputs": [],
   "source": []
  }
 ],
 "metadata": {
  "kernelspec": {
   "display_name": "Python 3",
   "language": "python",
   "name": "python3"
  },
  "language_info": {
   "codemirror_mode": {
    "name": "ipython",
    "version": 3
   },
   "file_extension": ".py",
   "mimetype": "text/x-python",
   "name": "python",
   "nbconvert_exporter": "python",
   "pygments_lexer": "ipython3",
   "version": "3.7.3"
  },
  "widgets": {
   "state": {
    "92bc10f28c164e73a6c5947671357711": {
     "views": [
      {
       "cell_index": 3
      }
     ]
    }
   },
   "version": "1.2.0"
  }
 },
 "nbformat": 4,
 "nbformat_minor": 2
}
