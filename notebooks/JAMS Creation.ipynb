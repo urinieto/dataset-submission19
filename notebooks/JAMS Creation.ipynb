{
 "cells": [
  {
   "cell_type": "markdown",
   "metadata": {},
   "source": [
    "# JAMS Creation #\n",
    "\n",
    "This notebook creates the JAMS data given the mp3 files (containing metadata in their ID3 tags) and the actual raw annotations."
   ]
  },
  {
   "cell_type": "code",
   "execution_count": 3,
   "metadata": {},
   "outputs": [],
   "source": [
    "import eyed3\n",
    "import glob\n",
    "import jams\n",
    "import os\n",
    "import pandas as pd\n",
    "from tqdm import tqdm_notebook as tqdm\n",
    "import pickle\n",
    "import librosa\n",
    "\n",
    "DATASET_PATH = \"../dataset/\"\n",
    "BEAT_DOWNBEAT_RAW_ANN_PATH = DATASET_PATH + \"beats/\"\n",
    "SEGMENT_RAW_ANN_PATH = DATASET_PATH + \"segments/\"\n",
    "MP3_FILES = glob.glob(\"/Users/onieto/Desktop/Harmonix/final_audio/*.mp3\")\n",
    "MBIDS_TSV = \"../dataset/new_mbid_mappings.tsv\"\n",
    "JAMS_OUTPUT = \"./jams/\"\n",
    "ROUND_PRECISION = 3\n",
    "DUR_ONSETS = 30\n",
    "\n",
    "if not os.path.exists(JAMS_OUTPUT):\n",
    "    os.makedirs(JAMS_OUTPUT)\n",
    "MBIDS_DF = pd.read_csv(MBIDS_TSV, sep=\"\\t\")"
   ]
  },
  {
   "cell_type": "code",
   "execution_count": 20,
   "metadata": {},
   "outputs": [
    {
     "name": "stdout",
     "output_type": "stream",
     "text": [
      "0408655f-189f-371b-9c41-ec861e1a7810\n"
     ]
    },
    {
     "data": {
      "text/html": [
       "<div>\n",
       "<style scoped>\n",
       "    .dataframe tbody tr th:only-of-type {\n",
       "        vertical-align: middle;\n",
       "    }\n",
       "\n",
       "    .dataframe tbody tr th {\n",
       "        vertical-align: top;\n",
       "    }\n",
       "\n",
       "    .dataframe thead th {\n",
       "        text-align: right;\n",
       "    }\n",
       "</style>\n",
       "<table border=\"1\" class=\"dataframe\">\n",
       "  <thead>\n",
       "    <tr style=\"text-align: right;\">\n",
       "      <th></th>\n",
       "      <th>Unnamed: 0</th>\n",
       "      <th>trackname</th>\n",
       "      <th>mbid</th>\n",
       "    </tr>\n",
       "  </thead>\n",
       "  <tbody>\n",
       "    <tr>\n",
       "      <th>0</th>\n",
       "      <td>0</td>\n",
       "      <td>0001_12step</td>\n",
       "      <td>0408655f-189f-371b-9c41-ec861e1a7810</td>\n",
       "    </tr>\n",
       "    <tr>\n",
       "      <th>1</th>\n",
       "      <td>1</td>\n",
       "      <td>0003_6foot7foot</td>\n",
       "      <td>83347ae2-5def-378a-a3f5-96ec56c25ab7</td>\n",
       "    </tr>\n",
       "    <tr>\n",
       "      <th>2</th>\n",
       "      <td>2</td>\n",
       "      <td>0004_abc</td>\n",
       "      <td>1068e183-db62-4f47-8f7d-15c9ce56e79a</td>\n",
       "    </tr>\n",
       "    <tr>\n",
       "      <th>3</th>\n",
       "      <td>3</td>\n",
       "      <td>0005_again</td>\n",
       "      <td>09aed1ac-4094-3337-86ef-8303531d57f1</td>\n",
       "    </tr>\n",
       "    <tr>\n",
       "      <th>4</th>\n",
       "      <td>4</td>\n",
       "      <td>0006_aint2proud2beg</td>\n",
       "      <td>09723bc0-b3e9-4f86-a563-c80d25df049e</td>\n",
       "    </tr>\n",
       "  </tbody>\n",
       "</table>\n",
       "</div>"
      ],
      "text/plain": [
       "   Unnamed: 0            trackname                                  mbid\n",
       "0           0          0001_12step  0408655f-189f-371b-9c41-ec861e1a7810\n",
       "1           1      0003_6foot7foot  83347ae2-5def-378a-a3f5-96ec56c25ab7\n",
       "2           2             0004_abc  1068e183-db62-4f47-8f7d-15c9ce56e79a\n",
       "3           3           0005_again  09aed1ac-4094-3337-86ef-8303531d57f1\n",
       "4           4  0006_aint2proud2beg  09723bc0-b3e9-4f86-a563-c80d25df049e"
      ]
     },
     "execution_count": 20,
     "metadata": {},
     "output_type": "execute_result"
    }
   ],
   "source": [
    "print(MBIDS_DF[MBIDS_DF[\"trackname\"] == \"0001_12step\"][\"mbid\"][0])\n",
    "MBIDS_DF.head()"
   ]
  },
  {
   "cell_type": "code",
   "execution_count": 25,
   "metadata": {},
   "outputs": [],
   "source": [
    "def add_ann_metadata(ann):\n",
    "    \"\"\"Adds annotation metadata\"\"\"\n",
    "    ann.annotation_metadata.curator.name = \"Oriol Nieto\"\n",
    "    ann.annotation_metadata.curator.email = \"onieto@pandora.com\"\n",
    "    ann.annotation_metadata.version = \"1.0\"\n",
    "    ann.annotation_metadata.corpus = \"DATASET\"  # TODO: FINAL NAME!\n",
    "    \n",
    "def add_metadata(jam, mp3_info, file_name):\n",
    "    \"\"\"Add metadata to the JAMS object.\"\"\"\n",
    "    id_name = os.path.basename(file_name).replace(\".mp3\", \"\")\n",
    "    print(id_name)\n",
    "    print(mp3_info)\n",
    "    jam.file_metadata.duration = round(mp3_info.info.time_secs, ROUND_PRECISION)\n",
    "    jam.file_metadata.artist = mp3_info.tag.artist\n",
    "    jam.file_metadata.release = mp3_info.tag.album\n",
    "    jam.file_metadata.title = mp3_info.tag.title\n",
    "    \n",
    "    jam.file_metadata.identifiers = {\n",
    "        \"Acoustid Id\": mp3_info.tag.user_text_frames.get(u\"Acoustid Id\").text}\n",
    "    \n",
    "    jam.file_metadata.identifiers[\"MusicBrainz Id\"] = \\\n",
    "        mp3_info.tag.unique_file_ids.get(\"http://musicbrainz.org\").uniq_id.decode('ascii')\n",
    "    try:\n",
    "        # Not all of the tracks have an associated release\n",
    "        jam.file_metadata.identifiers[\"MusicBrainz Release Track Id\"] = \\\n",
    "            mp3_info.tag.user_text_frames.get(u\"MusicBrainz Release Track Id\").text\n",
    "    except AttributeError:\n",
    "        pass\n",
    "    \n",
    "def add_beats_and_downbeats(jam, beat_dnbeat_txt):\n",
    "    \"\"\"Add beat and downbeat annotations to the JAMS object.\"\"\"\n",
    "    with open(beat_dnbeat_txt, \"r\") as f:\n",
    "        beat_dnbeat_data = f.readlines()\n",
    "    \n",
    "    # Create annotation\n",
    "    ann = jams.Annotation(namespace='beat', time=0, \n",
    "                          duration=jam.file_metadata.duration)\n",
    "    \n",
    "    # Add annotations\n",
    "    for beat_row in beat_dnbeat_data:\n",
    "        time, beat_pos, bar_num = beat_row.split('\\t')\n",
    "        ann.append(time=round(float(time), ROUND_PRECISION), \n",
    "                   duration=0.0, \n",
    "                   confidence=1, \n",
    "                   value=int(beat_pos))\n",
    "    \n",
    "    # TODO: Add Annotation Metadata\n",
    "    add_ann_metadata(ann)\n",
    "    \n",
    "    # Add annotation to \n",
    "    jam.annotations.append(ann)\n",
    "    \n",
    "    \n",
    "def add_segmentation(jam, segmentation_txt):\n",
    "    \"\"\"Add segmentation annotations to the JAMS object.\"\"\"\n",
    "    with open(segmentation_txt, \"r\") as f:\n",
    "        segment_data = f.readlines()\n",
    "    \n",
    "    # Create annotation\n",
    "    ann = jams.Annotation(namespace='segment_open', time=0, \n",
    "                          duration=jam.file_metadata.duration)\n",
    "    \n",
    "    # Add annotations\n",
    "    for start, end in zip(segment_data[:-1], segment_data[1:]):\n",
    "        start_time, start_label = start.replace('\\n', '').split(' ')\n",
    "        end_time, _ = end.replace('\\n', '').split(' ')\n",
    "        ann.append(time=round(float(start_time), ROUND_PRECISION), \n",
    "                   duration=round(float(end_time) - float(start_time), ROUND_PRECISION), \n",
    "                   confidence=1, \n",
    "                   value=start_label)\n",
    "    \n",
    "    # TODO: Add Annotation Metadata\n",
    "    add_ann_metadata(ann)\n",
    "    \n",
    "    # Add annotation to \n",
    "    jam.annotations.append(ann)\n",
    "    \n",
    "def add_onsets(jam, mp3_file, dur=DUR_ONSETS):\n",
    "    \"\"\"Add onsets estimations to the JAMS object.\"\"\"\n",
    "    # Estimate onsets\n",
    "    hop = 512\n",
    "    y, sr = librosa.load(mp3_file, duration=dur)\n",
    "    onset_frames = librosa.onset.onset_detect(y, sr=sr, hop_length=hop)\n",
    "    onset_times = librosa.frames_to_time(onset_frames, sr=sr, hop_length=hop)\n",
    "    \n",
    "    # Create annotation\n",
    "    ann = jams.Annotation(namespace='onset', time=0, \n",
    "                          duration=jam.file_metadata.duration)\n",
    "    \n",
    "    # Add annotations\n",
    "    for onset_time in onset_times:\n",
    "        ann.append(time=round(float(onset_time), ROUND_PRECISION), \n",
    "                   duration=0, \n",
    "                   confidence=1, \n",
    "                   value=0)\n",
    "    \n",
    "    # Add Annotation Metadata\n",
    "    add_ann_metadata(ann)\n",
    "    ann.annotation_metadata.annotation_tools = \"librosa {}\".format(librosa.version.version)\n",
    "    \n",
    "    # Add annotation to \n",
    "    jam.annotations.append(ann)\n",
    "\n",
    "def create_jams(mp3_file):\n",
    "    \"\"\"Creates the JAMS object\"\"\"\n",
    "    beat_dnbeat_txt = \"{}{}\".format(\n",
    "        BEAT_DOWNBEAT_RAW_ANN_PATH, \n",
    "        os.path.basename(mp3_file).replace(\".mp3\", \".txt\"))\n",
    "    segment_txt = \"{}{}\".format(\n",
    "        SEGMENT_RAW_ANN_PATH, \n",
    "        os.path.basename(mp3_file).replace(\".mp3\", \".txt\"))\n",
    "    \n",
    "    # Read ID3 tags\n",
    "    mp3_info = eyed3.load(mp3_file)\n",
    "    \n",
    "    # Create empty JAMS object and add file metadata\n",
    "    jam = jams.JAMS()\n",
    "    add_metadata(jam, mp3_info, mp3_file)\n",
    "    \n",
    "    # Add annotations\n",
    "    add_beats_and_downbeats(jam, beat_dnbeat_txt)\n",
    "    add_segmentation(jam, segment_txt)\n",
    "    add_onsets(jam, mp3_file)\n",
    "    \n",
    "    # Add the beats info\n",
    "    return jam"
   ]
  },
  {
   "cell_type": "code",
   "execution_count": 27,
   "metadata": {},
   "outputs": [
    {
     "data": {
      "application/vnd.jupyter.widget-view+json": {
       "model_id": "5dc2d4f8716641ae9313027250e23493",
       "version_major": 2,
       "version_minor": 0
      },
      "text/plain": [
       "HBox(children=(IntProgress(value=0, max=912), HTML(value='')))"
      ]
     },
     "metadata": {},
     "output_type": "display_data"
    },
    {
     "name": "stderr",
     "output_type": "stream",
     "text": [
      "GEOB frame does not contain a mime type\n",
      "GEOB frame does not contain a valid mime type\n"
     ]
    },
    {
     "name": "stdout",
     "output_type": "stream",
     "text": [
      "/Users/onieto/Desktop/Harmonix/final_audio/0001_12step.mp3\n",
      "0001_12step\n",
      "<eyed3.mp3.Mp3AudioFile object at 0x115fae2e8>\n",
      "\n"
     ]
    },
    {
     "ename": "AttributeError",
     "evalue": "'NoneType' object has no attribute 'text'",
     "output_type": "error",
     "traceback": [
      "\u001b[0;31m---------------------------------------------------------------------------\u001b[0m",
      "\u001b[0;31mAttributeError\u001b[0m                            Traceback (most recent call last)",
      "\u001b[0;32m<ipython-input-27-6dab2c96f08b>\u001b[0m in \u001b[0;36m<module>\u001b[0;34m\u001b[0m\n\u001b[1;32m      2\u001b[0m     \u001b[0mout_file\u001b[0m \u001b[0;34m=\u001b[0m \u001b[0;34m\"{}{}\"\u001b[0m\u001b[0;34m.\u001b[0m\u001b[0mformat\u001b[0m\u001b[0;34m(\u001b[0m\u001b[0mJAMS_OUTPUT\u001b[0m\u001b[0;34m,\u001b[0m \u001b[0mos\u001b[0m\u001b[0;34m.\u001b[0m\u001b[0mpath\u001b[0m\u001b[0;34m.\u001b[0m\u001b[0mbasename\u001b[0m\u001b[0;34m(\u001b[0m\u001b[0mmp3_file\u001b[0m\u001b[0;34m)\u001b[0m\u001b[0;34m.\u001b[0m\u001b[0mreplace\u001b[0m\u001b[0;34m(\u001b[0m\u001b[0;34m\".mp3\"\u001b[0m\u001b[0;34m,\u001b[0m \u001b[0;34m\".jams\"\u001b[0m\u001b[0;34m)\u001b[0m\u001b[0;34m)\u001b[0m\u001b[0;34m\u001b[0m\u001b[0;34m\u001b[0m\u001b[0m\n\u001b[1;32m      3\u001b[0m     \u001b[0mprint\u001b[0m\u001b[0;34m(\u001b[0m\u001b[0mmp3_file\u001b[0m\u001b[0;34m)\u001b[0m\u001b[0;34m\u001b[0m\u001b[0;34m\u001b[0m\u001b[0m\n\u001b[0;32m----> 4\u001b[0;31m     \u001b[0mjam\u001b[0m \u001b[0;34m=\u001b[0m \u001b[0mcreate_jams\u001b[0m\u001b[0;34m(\u001b[0m\u001b[0mmp3_file\u001b[0m\u001b[0;34m)\u001b[0m\u001b[0;34m\u001b[0m\u001b[0;34m\u001b[0m\u001b[0m\n\u001b[0m\u001b[1;32m      5\u001b[0m     \u001b[0mjam\u001b[0m\u001b[0;34m.\u001b[0m\u001b[0msave\u001b[0m\u001b[0;34m(\u001b[0m\u001b[0mout_file\u001b[0m\u001b[0;34m)\u001b[0m\u001b[0;34m\u001b[0m\u001b[0;34m\u001b[0m\u001b[0m\n\u001b[1;32m      6\u001b[0m     \u001b[0;32mbreak\u001b[0m\u001b[0;34m\u001b[0m\u001b[0;34m\u001b[0m\u001b[0m\n",
      "\u001b[0;32m<ipython-input-25-8e761ea39083>\u001b[0m in \u001b[0;36mcreate_jams\u001b[0;34m(mp3_file)\u001b[0m\n\u001b[1;32m    116\u001b[0m     \u001b[0;31m# Create empty JAMS object and add file metadata\u001b[0m\u001b[0;34m\u001b[0m\u001b[0;34m\u001b[0m\u001b[0;34m\u001b[0m\u001b[0m\n\u001b[1;32m    117\u001b[0m     \u001b[0mjam\u001b[0m \u001b[0;34m=\u001b[0m \u001b[0mjams\u001b[0m\u001b[0;34m.\u001b[0m\u001b[0mJAMS\u001b[0m\u001b[0;34m(\u001b[0m\u001b[0;34m)\u001b[0m\u001b[0;34m\u001b[0m\u001b[0;34m\u001b[0m\u001b[0m\n\u001b[0;32m--> 118\u001b[0;31m     \u001b[0madd_metadata\u001b[0m\u001b[0;34m(\u001b[0m\u001b[0mjam\u001b[0m\u001b[0;34m,\u001b[0m \u001b[0mmp3_info\u001b[0m\u001b[0;34m,\u001b[0m \u001b[0mmp3_file\u001b[0m\u001b[0;34m)\u001b[0m\u001b[0;34m\u001b[0m\u001b[0;34m\u001b[0m\u001b[0m\n\u001b[0m\u001b[1;32m    119\u001b[0m \u001b[0;34m\u001b[0m\u001b[0m\n\u001b[1;32m    120\u001b[0m     \u001b[0;31m# Add annotations\u001b[0m\u001b[0;34m\u001b[0m\u001b[0;34m\u001b[0m\u001b[0;34m\u001b[0m\u001b[0m\n",
      "\u001b[0;32m<ipython-input-25-8e761ea39083>\u001b[0m in \u001b[0;36madd_metadata\u001b[0;34m(jam, mp3_info, file_name)\u001b[0m\n\u001b[1;32m     17\u001b[0m \u001b[0;34m\u001b[0m\u001b[0m\n\u001b[1;32m     18\u001b[0m     jam.file_metadata.identifiers = {\n\u001b[0;32m---> 19\u001b[0;31m         \"Acoustid Id\": mp3_info.tag.user_text_frames.get(u\"Acoustid Id\").text}\n\u001b[0m\u001b[1;32m     20\u001b[0m \u001b[0;34m\u001b[0m\u001b[0m\n\u001b[1;32m     21\u001b[0m     \u001b[0mjam\u001b[0m\u001b[0;34m.\u001b[0m\u001b[0mfile_metadata\u001b[0m\u001b[0;34m.\u001b[0m\u001b[0midentifiers\u001b[0m\u001b[0;34m[\u001b[0m\u001b[0;34m\"MusicBrainz Id\"\u001b[0m\u001b[0;34m]\u001b[0m \u001b[0;34m=\u001b[0m\u001b[0;31m \u001b[0m\u001b[0;31m\\\u001b[0m\u001b[0;34m\u001b[0m\u001b[0;34m\u001b[0m\u001b[0m\n",
      "\u001b[0;31mAttributeError\u001b[0m: 'NoneType' object has no attribute 'text'"
     ]
    }
   ],
   "source": [
    "for mp3_file in tqdm(MP3_FILES):\n",
    "    out_file = \"{}{}\".format(JAMS_OUTPUT, os.path.basename(mp3_file).replace(\".mp3\", \".jams\"))\n",
    "    print(mp3_file)\n",
    "    jam = create_jams(mp3_file)\n",
    "    jam.save(out_file)\n",
    "    break"
   ]
  },
  {
   "cell_type": "code",
   "execution_count": 7,
   "metadata": {},
   "outputs": [
    {
     "data": {
      "text/plain": [
       "'/Users/onieto/Desktop/Harmonix/final_audio/0004_abc.mp3'"
      ]
     },
     "execution_count": 7,
     "metadata": {},
     "output_type": "execute_result"
    }
   ],
   "source": [
    "MP3_FILES[0]"
   ]
  },
  {
   "cell_type": "code",
   "execution_count": 14,
   "metadata": {},
   "outputs": [],
   "source": [
    "import librosa\n",
    "\n"
   ]
  },
  {
   "cell_type": "code",
   "execution_count": 15,
   "metadata": {},
   "outputs": [
    {
     "data": {
      "text/plain": [
       "array([ 0.06965986,  0.30185941,  0.69659864,  0.90557823,  1.021678  ,\n",
       "        1.36997732,  1.60217687,  1.69505669,  2.04335601,  2.36843537,\n",
       "        2.5077551 ,  2.92571429,  3.27401361,  3.62231293,  3.80807256,\n",
       "        4.15637188,  4.29569161,  4.59755102,  4.96907029,  5.13160998,\n",
       "        5.61922902,  5.92108844,  6.26938776,  6.43192744,  6.7570068 ,\n",
       "        6.91954649,  7.24462585,  7.56970522,  7.75546485,  7.91800454,\n",
       "        8.2430839 ,  8.54494331,  8.87002268,  9.03256236,  9.19510204,\n",
       "        9.38086168,  9.49696145,  9.82204082, 10.14712018, 10.30965986,\n",
       "       10.47219955, 10.65795918, 10.79727891, 10.98303855, 11.09913832,\n",
       "       11.42421769, 11.58675737, 11.74929705, 11.91183673, 12.05115646,\n",
       "       12.37623583, 12.70131519, 12.86385488, 13.02639456, 13.2121542 ,\n",
       "       13.35147392, 13.65333333, 13.9784127 , 14.14095238, 14.30349206,\n",
       "       14.46603175, 14.62857143, 14.81433107, 14.93043084, 15.11619048,\n",
       "       15.2555102 , 15.41804989, 15.58058957, 15.76634921, 15.90566893,\n",
       "       16.20752834, 16.39328798, 16.55582766, 16.69514739, 16.85768707,\n",
       "       17.02022676, 17.15954649, 17.34530612, 17.4614059 , 17.64716553,\n",
       "       17.78648526, 17.94902494, 18.13478458, 18.29732426, 18.43664399,\n",
       "       18.62240363, 18.7385034 , 19.06358277, 19.22612245, 19.7137415 ,\n",
       "       20.01560091, 20.2245805 , 20.36390023, 20.52643991, 20.68897959,\n",
       "       20.87473923, 20.990839  , 21.29269841, 21.47845805, 21.64099773,\n",
       "       21.78031746, 21.9660771 , 22.26793651, 22.56979592, 22.77877551,\n",
       "       22.91809524, 23.08063492, 23.54503401, 23.84689342, 24.19519274,\n",
       "       24.33451247, 24.52027211, 24.68281179, 24.82213152, 25.12399093,\n",
       "       25.44907029, 25.63482993, 25.79736961, 26.09922902, 26.40108844,\n",
       "       26.77260771, 26.91192744, 27.07446712, 27.26022676, 27.37632653,\n",
       "       27.56208617, 27.7014059 , 28.02648526, 28.18902494, 28.37478458,\n",
       "       28.67664399, 28.9785034 , 29.32680272, 29.46612245, 29.60544218,\n",
       "       29.79120181, 29.93052154])"
      ]
     },
     "execution_count": 15,
     "metadata": {},
     "output_type": "execute_result"
    }
   ],
   "source": []
  },
  {
   "cell_type": "code",
   "execution_count": 12,
   "metadata": {},
   "outputs": [
    {
     "data": {
      "text/plain": [
       "array([   3,   13,   30,   39,   44,   59,   69,   73,   88,  102,  108,\n",
       "        126,  141,  156,  164,  179,  185,  198,  214,  221,  242,  256,\n",
       "        270,  277,  291,  298,  312,  326,  334,  341,  355,  368,  382,\n",
       "        389,  396,  404,  409,  423,  437,  444,  451,  459,  465,  473,\n",
       "        478,  492,  499,  506,  513,  520,  533,  547,  554,  561,  569,\n",
       "        575,  588,  602,  609,  616,  624,  630,  638,  643,  651,  657,\n",
       "        664,  671,  679,  685,  698,  713,  719,  726,  733,  739,  747,\n",
       "        752,  760,  766,  773,  781,  788,  794,  807,  821,  828,  849,\n",
       "        862,  871,  877,  884,  891,  899,  904,  917,  932,  938,  946,\n",
       "        959,  972,  981,  987,  994, 1015, 1027, 1042, 1048, 1056, 1063,\n",
       "       1069, 1082, 1096, 1124, 1137, 1153, 1159, 1167, 1174, 1180, 1187,\n",
       "       1193, 1207, 1214, 1235, 1248, 1263, 1269, 1276, 1283, 1289, 1296,\n",
       "       1302, 1311, 1318, 1324, 1343, 1356, 1372, 1379, 1385, 1392, 1399,\n",
       "       1407, 1412, 1420, 1426, 1432, 1434, 1454, 1467, 1481, 1488, 1508,\n",
       "       1522, 1536, 1542, 1562, 1577, 1591, 1598, 1618, 1631, 1645, 1658,\n",
       "       1673, 1687, 1700, 1707, 1714, 1727, 1735, 1741, 1754, 1761, 1763,\n",
       "       1781, 1795, 1809, 1816, 1823, 1829, 1836, 1850, 1864, 1871, 1878,\n",
       "       1891, 1904, 1919, 1924, 1945, 1958, 1972, 1980, 2000, 2014, 2028,\n",
       "       2035, 2056, 2069, 2084, 2091, 2098, 2105, 2111, 2125, 2131, 2138,\n",
       "       2152, 2165, 2180, 2187, 2193, 2201, 2207, 2214, 2220, 2234, 2241,\n",
       "       2247, 2262, 2275, 2284, 2290, 2297, 2303, 2312, 2317, 2324, 2331,\n",
       "       2339, 2351, 2359, 2386, 2400, 2408, 2415, 2428, 2435, 2442, 2456,\n",
       "       2462, 2469, 2476, 2483, 2496, 2503, 2510, 2525, 2532, 2538, 2552,\n",
       "       2559, 2573, 2579, 2587, 2593, 2601, 2606, 2614, 2620, 2635, 2642,\n",
       "       2648, 2662, 2669, 2676, 2690, 2703, 2711, 2717, 2724, 2731, 2745,\n",
       "       2758, 2773, 2780, 2787, 2794, 2800, 2808, 2813, 2828, 2835, 2842,\n",
       "       2848, 2855, 2864, 2869, 2884, 2891, 2897, 2905, 2911, 2919, 2924,\n",
       "       2933, 2939, 2946, 2960, 2967, 2979, 2995, 3001, 3008, 3022, 3035,\n",
       "       3050, 3058, 3063, 3077, 3085, 3091, 3107, 3114, 3120, 3134, 3146,\n",
       "       3156, 3161, 3176, 3190, 3202, 3218, 3225, 3231, 3238, 3245, 3252,\n",
       "       3257, 3273, 3280, 3299, 3308, 3313, 3322, 3328, 3334, 3342, 3349,\n",
       "       3355, 3368, 3376, 3383, 3390, 3411, 3424, 3439, 3446, 3453, 3460,\n",
       "       3466, 3474, 3480, 3488, 3495, 3500, 3509, 3521, 3535, 3550, 3556,\n",
       "       3563, 3570, 3577, 3584, 3590, 3598, 3605, 3612, 3619, 3632, 3645,\n",
       "       3660, 3666, 3687, 3701, 3715, 3722, 3743, 3756, 3771, 3778, 3799,\n",
       "       3812, 3826, 3840, 3855, 3868, 3883, 3889, 3896, 3910, 3923, 3931,\n",
       "       3937, 3945, 3963, 3978, 3993, 3999, 4007, 4020, 4034, 4049, 4056,\n",
       "       4076, 4090, 4104, 4111, 4118, 4132, 4145, 4159, 4166, 4187, 4201,\n",
       "       4215, 4222, 4242, 4256, 4270, 4278, 4299, 4312, 4326, 4333, 4353,\n",
       "       4367, 4381, 4387, 4395, 4407, 4422, 4436, 4442, 4463, 4476, 4490,\n",
       "       4497, 4518, 4531, 4546, 4552, 4560, 4573, 4587, 4600, 4612, 4622,\n",
       "       4628, 4634, 4638, 4648, 4667, 4673, 4680, 4694, 4708, 4722, 4729,\n",
       "       4735, 4742, 4747, 4755, 4769, 4775, 4781, 4788, 4794, 4800, 4815,\n",
       "       4828, 4835, 4849, 4856, 4861, 4869, 4875, 4882, 4888, 4895, 4901,\n",
       "       4908, 4915, 4921, 4928, 4935, 4942, 4949, 4955, 4962, 4967, 4976,\n",
       "       4982, 4989, 4996, 5006, 5009, 5029, 5043, 5056, 5063, 5076, 5083,\n",
       "       5089, 5096, 5103, 5109, 5116, 5122, 5136, 5150, 5155, 5157, 5170,\n",
       "       5176, 5183, 5191, 5197, 5203, 5210, 5216, 5223, 5231, 5243, 5257,\n",
       "       5264, 5270, 5278, 5285, 5292, 5298, 5304, 5313, 5325, 5333, 5339,\n",
       "       5351, 5360, 5366, 5374, 5379, 5387, 5401, 5406, 5414, 5420, 5428,\n",
       "       5433, 5441, 5460, 5469, 5474, 5483, 5488, 5496, 5509, 5515, 5522,\n",
       "       5528, 5530, 5536, 5542, 5549, 5551, 5556, 5568, 5577, 5582, 5590,\n",
       "       5596, 5603, 5617, 5623, 5630, 5636, 5644, 5650, 5657, 5664, 5677,\n",
       "       5686, 5691, 5699, 5705, 5711, 5718, 5725, 5731, 5738, 5745, 5752,\n",
       "       5758, 5764, 5772, 5785, 5793, 5798, 5812, 5819, 5833, 5838, 5846,\n",
       "       5853, 5859, 5866, 5872, 5893, 5907, 5920, 5927, 5934, 5948, 5960,\n",
       "       5973, 5980, 5987, 6014, 6029, 6035, 6042, 6054, 6067, 6082, 6089,\n",
       "       6096, 6109, 6122, 6137, 6144, 6151, 6165, 6177, 6192, 6199, 6219,\n",
       "       6232, 6247, 6254, 6262, 6275, 6286, 6289, 6302, 6309, 6330, 6343,\n",
       "       6358, 6365, 6386, 6398, 6412, 6424, 6434, 6439, 6453, 6460, 6466,\n",
       "       6480, 6493, 6506, 6515, 6521, 6529, 6534, 6543, 6548, 6556, 6562,\n",
       "       6569, 6575, 6583, 6589, 6603, 6609, 6617, 6644, 6658, 6665, 6672,\n",
       "       6685, 6698, 6713, 6720, 6739, 6741, 6754, 6769, 6775, 6796, 6808,\n",
       "       6817, 6824, 6830, 6851, 6864, 6879, 6886, 6906, 6914, 6919, 6927,\n",
       "       6934, 6940, 6962, 6974, 6989, 6996, 7017, 7029, 7043, 7056, 7063,\n",
       "       7070, 7078, 7084, 7091, 7097, 7111, 7125, 7139, 7148, 7153, 7161,\n",
       "       7166, 7174, 7181, 7189, 7194, 7202, 7208, 7216, 7222, 7235, 7243,\n",
       "       7249, 7264, 7277, 7285, 7292, 7298, 7319, 7326, 7332, 7346, 7353,\n",
       "       7372, 7387, 7395, 7401, 7408, 7415, 7429, 7441, 7457, 7463, 7484,\n",
       "       7497, 7513, 7519, 7527, 7540, 7552, 7561, 7568, 7574, 7609, 7616,\n",
       "       7623, 7629, 7649, 7651, 7663, 7666, 7678, 7685, 7691, 7699, 7704,\n",
       "       7712, 7718, 7727, 7732, 7741, 7746, 7755, 7760, 7774, 7783])"
      ]
     },
     "execution_count": 12,
     "metadata": {},
     "output_type": "execute_result"
    }
   ],
   "source": [
    "x"
   ]
  },
  {
   "cell_type": "code",
   "execution_count": null,
   "metadata": {},
   "outputs": [],
   "source": []
  }
 ],
 "metadata": {
  "kernelspec": {
   "display_name": "Python 3",
   "language": "python",
   "name": "python3"
  },
  "language_info": {
   "codemirror_mode": {
    "name": "ipython",
    "version": 3
   },
   "file_extension": ".py",
   "mimetype": "text/x-python",
   "name": "python",
   "nbconvert_exporter": "python",
   "pygments_lexer": "ipython3",
   "version": "3.7.3"
  },
  "widgets": {
   "state": {
    "92bc10f28c164e73a6c5947671357711": {
     "views": [
      {
       "cell_index": 3
      }
     ]
    }
   },
   "version": "1.2.0"
  }
 },
 "nbformat": 4,
 "nbformat_minor": 2
}
