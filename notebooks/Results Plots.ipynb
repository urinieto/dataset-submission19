{
 "cells": [
  {
   "cell_type": "code",
   "execution_count": 1,
   "metadata": {
    "collapsed": true
   },
   "outputs": [],
   "source": [
    "import matplotlib.pyplot as plt\n",
    "import seaborn as sns\n",
    "import pandas as pd\n",
    "\n",
    "sns.set_style(\"darkgrid\")\n",
    "\n",
    "%matplotlib inline\n",
    "\n",
    "SEGMENTATION_RESULTS_ESTB = \"/Users/onieto/dev/dataset-submission19/results/results_boundsEsf_labelsEfmc2d_annotatorE0_2dfmc_offsetE4_annot_beatsEFalse_bound_norm_featsEinf_dirichletEFalse_featureEcqt_framesyncEFalse_hierEFalse_kE4_k_nearestE0.04_label_norm_featsEinf_label_norm_floorE0.1_label_norm_min_dbE-80_m_embedd.csv\"\n",
    "SEGMENTATION_RESULTS_ANNB = \"/Users/onieto/dev/dataset-submission19/results/results_boundsEsf_labelsEfmc2d_annotatorE0_2dfmc_offsetE4_annot_beatsETrue_bound_norm_featsEinf_dirichletEFalse_featureEcqt_framesyncEFalse_hierEFalse_kE4_k_nearestE0.04_label_norm_featsEinf_label_norm_floorE0.1_label_norm_min_dbE-80_m_embedd.csv\""
   ]
  },
  {
   "cell_type": "code",
   "execution_count": 2,
   "metadata": {
    "collapsed": false
   },
   "outputs": [
    {
     "data": {
      "text/plain": [
       "Unnamed: 0        357.000000\n",
       "D                   0.548158\n",
       "DevE2R              2.150658\n",
       "DevR2E              2.544098\n",
       "DevtE2R             4.452379\n",
       "DevtR2E             3.088859\n",
       "HitRate_0.5F        0.213181\n",
       "HitRate_0.5P        0.215732\n",
       "HitRate_0.5R        0.220679\n",
       "HitRate_3F          0.528711\n",
       "HitRate_3P          0.539814\n",
       "HitRate_3R          0.541801\n",
       "HitRate_t0.5F       0.154221\n",
       "HitRate_t0.5P       0.154908\n",
       "HitRate_t0.5R       0.163358\n",
       "HitRate_t3F         0.495953\n",
       "HitRate_t3P         0.508828\n",
       "HitRate_t3R         0.514538\n",
       "HitRate_w0.5F       0.213205\n",
       "HitRate_w3F         0.531135\n",
       "HitRate_wt0.5F      0.153420\n",
       "HitRate_wt3F        0.498368\n",
       "PWF                 0.548984\n",
       "PWP                 0.531100\n",
       "PWR                 0.602521\n",
       "Sf                  0.603960\n",
       "So                  0.642657\n",
       "Su                  0.583932\n",
       "ds_name           590.156643\n",
       "dtype: float64"
      ]
     },
     "execution_count": 2,
     "metadata": {},
     "output_type": "execute_result"
    }
   ],
   "source": [
    "est_df = pd.read_csv(SEGMENTATION_RESULTS_ESTB)\n",
    "est_df.mean()"
   ]
  },
  {
   "cell_type": "code",
   "execution_count": 3,
   "metadata": {
    "collapsed": false
   },
   "outputs": [
    {
     "data": {
      "text/plain": [
       "Unnamed: 0        357.000000\n",
       "D                   0.575142\n",
       "DevE2R              1.949161\n",
       "DevR2E              2.656713\n",
       "DevtE2R             3.527972\n",
       "DevtR2E             3.336014\n",
       "HitRate_0.5F        0.273484\n",
       "HitRate_0.5P        0.272270\n",
       "HitRate_0.5R        0.286089\n",
       "HitRate_3F          0.593747\n",
       "HitRate_3P          0.593201\n",
       "HitRate_3R          0.617562\n",
       "HitRate_t0.5F       0.201574\n",
       "HitRate_t0.5P       0.199770\n",
       "HitRate_t0.5R       0.215389\n",
       "HitRate_t3F         0.562199\n",
       "HitRate_t3P         0.563221\n",
       "HitRate_t3R         0.592823\n",
       "HitRate_w0.5F       0.271570\n",
       "HitRate_w3F         0.590745\n",
       "HitRate_wt0.5F      0.199327\n",
       "HitRate_wt3F        0.558988\n",
       "PWF                 0.547332\n",
       "PWP                 0.531303\n",
       "PWR                 0.597305\n",
       "Sf                  0.601901\n",
       "So                  0.635685\n",
       "Su                  0.585865\n",
       "ds_name           590.156643\n",
       "dtype: float64"
      ]
     },
     "execution_count": 3,
     "metadata": {},
     "output_type": "execute_result"
    }
   ],
   "source": [
    "ann_df = pd.read_csv(\"/Users/onieto/dev/dataset-submission19/results/results_boundsEsf_labelsEfmc2d_annotatorE0_2dfmc_offsetE4_annot_beatsETrue_bound_norm_featsEinf_dirichletEFalse_featureEcqt_framesyncEFalse_hierEFalse_kE4_k_nearestE0.04_label_norm_featsEinf_label_norm_floorE0.1_label_norm_min_dbE-80_m_embedde.csv\")\n",
    "ann_df.mean()"
   ]
  },
  {
   "cell_type": "code",
   "execution_count": 17,
   "metadata": {
    "collapsed": false
   },
   "outputs": [
    {
     "data": {
      "image/png": "[encoded data removed]",
      "text/plain": [
       "<Figure size 432x288 with 1 Axes>"
      ]
     },
     "metadata": {},
     "output_type": "display_data"
    }
   ],
   "source": [
    "fig, ax = plt.subplots()\n",
    "\n",
    "c1 = \"turquoise\"\n",
    "box1 = ax.boxplot((est_df[\"HitRate_0.5F\"], \n",
    "             est_df[\"HitRate_3F\"],\n",
    "             est_df[\"PWF\"], \n",
    "             est_df[\"Sf\"]),\n",
    "            positions=[1, 4, 7, 10],\n",
    "            notch=True, patch_artist=True,\n",
    "            boxprops=dict(facecolor=c1, color=\"purple\"),\n",
    "            capprops=dict(color=c1),\n",
    "            whiskerprops=dict(color=c1),\n",
    "            flierprops=dict(color=c1, markeredgecolor=c1),\n",
    "            medianprops=dict(color=c1))\n",
    "\n",
    "c2 = \"purple\"\n",
    "box2 = ax.boxplot((ann_df[\"HitRate_0.5F\"], \n",
    "             ann_df[\"HitRate_3F\"],\n",
    "             ann_df[\"PWF\"], \n",
    "             ann_df[\"Sf\"]),\n",
    "            positions=[2, 5, 8, 11],\n",
    "            notch=True, patch_artist=True,\n",
    "            boxprops=dict(facecolor=c2, color=c2),\n",
    "            capprops=dict(color=c2),\n",
    "            whiskerprops=dict(color=c2),\n",
    "            flierprops=dict(color=c2, markeredgecolor=c2),\n",
    "            medianprops=dict(color=c2))\n",
    "for item in ['boxes', 'whiskers', 'fliers', 'medians', 'caps']:\n",
    "    plt.setp(box2[item], color=c2)\n",
    "plt.setp(box2[\"boxes\"], facecolor=c2)\n",
    "plt.setp(box2[\"fliers\"], markeredgecolor=c2)\n",
    "\n",
    "ax.legend([box1[\"boxes\"][0], box2[\"boxes\"][0]], \n",
    "          ['Estimated Beats', 'Annotated Beats'], loc='lower right')\n",
    "\n",
    "plt.xticks([1.5, 4.5, 7.5, 10.5], [\"Hit Rate@0.5\", \"Hit Rate@3\", \"Pairwise Clust.\", \"Entropy Scores\"])\n",
    "plt.xlim(0, 12)\n",
    "plt.ylim(-0.05, 1)\n",
    "\n",
    "plt.ylabel(\"F-measures\")\n",
    "plt.tight_layout()\n",
    "plt.savefig(\"../paper/figs/segment_results.pdf\")"
   ]
  },
  {
   "cell_type": "code",
   "execution_count": null,
   "metadata": {
    "collapsed": true
   },
   "outputs": [],
   "source": []
  }
 ],
 "metadata": {
  "kernelspec": {
   "display_name": "Python 2",
   "language": "python",
   "name": "python2"
  },
  "language_info": {
   "codemirror_mode": {
    "name": "ipython",
    "version": 2
   },
   "file_extension": ".py",
   "mimetype": "text/x-python",
   "name": "python",
   "nbconvert_exporter": "python",
   "pygments_lexer": "ipython2",
   "version": "2.7.13"
  }
 },
 "nbformat": 4,
 "nbformat_minor": 2
}
