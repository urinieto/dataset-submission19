{
 "cells": [
  {
   "cell_type": "code",
   "execution_count": 14,
   "metadata": {
    "collapsed": true
   },
   "outputs": [],
   "source": [
    "import matplotlib.pyplot as plt\n",
    "import seaborn as sns\n",
    "import pandas as pd\n",
    "\n",
    "sns.set_style(\"darkgrid\")\n",
    "\n",
    "%matplotlib inline\n",
    "\n",
    "SEGMENTATION_RESULTS = \"../results/results_boundsEsf_labelsEfmc2d_annotatorE0_2dfmc_offsetE4_annot_beatsEFalse_bound_norm_featsEinf_dirichletEFalse_featureEcqt_framesyncEFalse_hierEFalse_kE4_k_nearestE0.04_label_norm_featsEinf_label_norm_floorE0.1_label_norm_min_dbE-80_m_embedd.csv\""
   ]
  },
  {
   "cell_type": "code",
   "execution_count": 17,
   "metadata": {
    "collapsed": false
   },
   "outputs": [
    {
     "data": {
      "text/plain": [
       "Unnamed: 0        206.547008\n",
       "D                   0.035755\n",
       "DevE2R              1.797635\n",
       "DevR2E              2.351652\n",
       "DevtE2R             3.867510\n",
       "DevtR2E             3.086886\n",
       "HitRate_0.5F        0.107842\n",
       "HitRate_0.5P        0.105776\n",
       "HitRate_0.5R        0.125575\n",
       "HitRate_3F          0.132205\n",
       "HitRate_3P          0.139479\n",
       "HitRate_3R          0.169471\n",
       "HitRate_t0.5F       0.122192\n",
       "HitRate_t0.5P       0.120504\n",
       "HitRate_t0.5R       0.140624\n",
       "HitRate_t3F         0.149516\n",
       "HitRate_t3P         0.157099\n",
       "HitRate_t3R         0.193292\n",
       "HitRate_w0.5F       0.104991\n",
       "HitRate_w3F         0.130011\n",
       "HitRate_wt0.5F      0.119550\n",
       "HitRate_wt3F        0.146898\n",
       "PWF                 0.124893\n",
       "PWP                 0.156252\n",
       "PWR                 0.147650\n",
       "Sf                  0.102230\n",
       "So                  0.130572\n",
       "Su                  0.114361\n",
       "ds_name           248.647012\n",
       "dtype: float64"
      ]
     },
     "execution_count": 17,
     "metadata": {},
     "output_type": "execute_result"
    }
   ],
   "source": [
    "df = pd.read_csv(SEGMENTATION_RESULTS)\n",
    "df.std()"
   ]
  },
  {
   "cell_type": "code",
   "execution_count": 27,
   "metadata": {
    "collapsed": false
   },
   "outputs": [
    {
     "data": {
      "image/png": "[encoded data removed]",
      "text/plain": [
       "<Figure size 432x288 with 1 Axes>"
      ]
     },
     "metadata": {},
     "output_type": "display_data"
    }
   ],
   "source": [
    "plt.boxplot((df[\"HitRate_0.5F\"], df[\"HitRate_3F\"], df[\"PWF\"], df[\"Sf\"]), \n",
    "            labels=[\"HR_0.5\", \"HR_3\", \"PWF\", \"Entropy\"])\n",
    "plt.ylabel(\"F-measures\")\n",
    "plt.tight_layout()\n",
    "plt.savefig(\"../paper/figs/segment_results.pdf\")"
   ]
  },
  {
   "cell_type": "code",
   "execution_count": null,
   "metadata": {
    "collapsed": true
   },
   "outputs": [],
   "source": []
  }
 ],
 "metadata": {
  "kernelspec": {
   "display_name": "Python 2",
   "language": "python",
   "name": "python2"
  },
  "language_info": {
   "codemirror_mode": {
    "name": "ipython",
    "version": 2
   },
   "file_extension": ".py",
   "mimetype": "text/x-python",
   "name": "python",
   "nbconvert_exporter": "python",
   "pygments_lexer": "ipython2",
   "version": "2.7.13"
  }
 },
 "nbformat": 4,
 "nbformat_minor": 2
}
