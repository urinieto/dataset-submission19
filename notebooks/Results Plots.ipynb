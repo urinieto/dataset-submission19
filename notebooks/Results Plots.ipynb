{
 "cells": [
  {
   "cell_type": "code",
   "execution_count": 1,
   "metadata": {},
   "outputs": [],
   "source": [
    "import matplotlib.pyplot as plt\n",
    "import seaborn as sns\n",
    "import pandas as pd\n",
    "\n",
    "sns.set_style(\"darkgrid\")\n",
    "\n",
    "%matplotlib inline\n",
    "\n",
    "# SEGMENTATION_RESULTS_ESTB = \"/Users/onieto/dev/dataset-submission19/results/results_boundsEsf_labelsEfmc2d_annotatorE0_2dfmc_offsetE4_annot_beatsEFalse_bound_norm_featsEinf_dirichletEFalse_featureEcqt_framesyncEFalse_hierEFalse_kE4_k_nearestE0.04_label_norm_featsEinf_label_norm_floorE0.1_label_norm_min_dbE-80_m_embedd.csv\"\n",
    "SEGMENTATION_RESULTS_KWSKI = \"../results/results_boundsEsf_labelsEfmc2d_annotatorE0_2dfmc_offsetE4_annot_beatsEFalse_bound_norm_featsEinf_dirichletEFalse_featureEcqt_framesyncEFalse_hierEFalse_kE4_k_nearestE0.04_label_norm_featsEinf_label_norm_floorE0.1_label_norm_min_dbE-80_m_embedde.csv\"\n",
    "SEGMENTATION_RESULTS_ANNB = \"../results/results_boundsEsf_labelsEfmc2d_annotatorE0_2dfmc_offsetE4_annot_beatsETrue_bound_norm_featsEinf_dirichletEFalse_featureEcqt_framesyncEFalse_hierEFalse_kE4_k_nearestE0.04_label_norm_featsEinf_label_norm_floorE0.1_label_norm_min_dbE-80_m_embedde.csv\"\n",
    "SEGMENTATION_RESULTS_LIBROSA = \"../results/librosa_est.csv\""
   ]
  },
  {
   "cell_type": "code",
   "execution_count": 2,
   "metadata": {},
   "outputs": [
    {
     "data": {
      "text/plain": [
       "Unnamed: 0        357.000000\n",
       "D                   0.555115\n",
       "DevE2R              2.062448\n",
       "DevR2E              2.181189\n",
       "DevtE2R             4.134615\n",
       "DevtR2E             2.920420\n",
       "HitRate_0.5F        0.261858\n",
       "HitRate_0.5P        0.251533\n",
       "HitRate_0.5R        0.285322\n",
       "HitRate_3F          0.599686\n",
       "HitRate_3P          0.578345\n",
       "HitRate_3R          0.649797\n",
       "HitRate_t0.5F       0.202306\n",
       "HitRate_t0.5P       0.192508\n",
       "HitRate_t0.5R       0.226821\n",
       "HitRate_t3F         0.556429\n",
       "HitRate_t3P         0.535212\n",
       "HitRate_t3R         0.615182\n",
       "HitRate_w0.5F       0.255453\n",
       "HitRate_w3F         0.586279\n",
       "HitRate_wt0.5F      0.196086\n",
       "HitRate_wt3F        0.542350\n",
       "PWF                 0.548670\n",
       "PWP                 0.520257\n",
       "PWR                 0.615478\n",
       "Sf                  0.597126\n",
       "So                  0.645068\n",
       "Su                  0.570189\n",
       "ds_name           590.156643\n",
       "dtype: float64"
      ]
     },
     "execution_count": 2,
     "metadata": {},
     "output_type": "execute_result"
    }
   ],
   "source": [
    "kwski_df = pd.read_csv(SEGMENTATION_RESULTS_KWSKI)\n",
    "kwski_df.mean()"
   ]
  },
  {
   "cell_type": "code",
   "execution_count": 3,
   "metadata": {},
   "outputs": [
    {
     "data": {
      "text/plain": [
       "Unnamed: 0        357.000000\n",
       "D                   0.548158\n",
       "DevE2R              2.150658\n",
       "DevR2E              2.544098\n",
       "DevtE2R             4.452379\n",
       "DevtR2E             3.088859\n",
       "HitRate_0.5F        0.213181\n",
       "HitRate_0.5P        0.215732\n",
       "HitRate_0.5R        0.220679\n",
       "HitRate_3F          0.528711\n",
       "HitRate_3P          0.539814\n",
       "HitRate_3R          0.541801\n",
       "HitRate_t0.5F       0.154221\n",
       "HitRate_t0.5P       0.154908\n",
       "HitRate_t0.5R       0.163358\n",
       "HitRate_t3F         0.495953\n",
       "HitRate_t3P         0.508828\n",
       "HitRate_t3R         0.514538\n",
       "HitRate_w0.5F       0.213205\n",
       "HitRate_w3F         0.531135\n",
       "HitRate_wt0.5F      0.153420\n",
       "HitRate_wt3F        0.498368\n",
       "PWF                 0.548984\n",
       "PWP                 0.531100\n",
       "PWR                 0.602521\n",
       "Sf                  0.603960\n",
       "So                  0.642657\n",
       "Su                  0.583932\n",
       "ds_name           590.156643\n",
       "dtype: float64"
      ]
     },
     "execution_count": 3,
     "metadata": {},
     "output_type": "execute_result"
    }
   ],
   "source": [
    "librosa_df = pd.read_csv(SEGMENTATION_RESULTS_LIBROSA)\n",
    "librosa_df.mean()"
   ]
  },
  {
   "cell_type": "code",
   "execution_count": 4,
   "metadata": {},
   "outputs": [
    {
     "data": {
      "text/plain": [
       "Unnamed: 0        357.000000\n",
       "D                   0.575142\n",
       "DevE2R              1.949161\n",
       "DevR2E              2.656713\n",
       "DevtE2R             3.527972\n",
       "DevtR2E             3.336014\n",
       "HitRate_0.5F        0.273484\n",
       "HitRate_0.5P        0.272270\n",
       "HitRate_0.5R        0.286089\n",
       "HitRate_3F          0.593747\n",
       "HitRate_3P          0.593201\n",
       "HitRate_3R          0.617562\n",
       "HitRate_t0.5F       0.201574\n",
       "HitRate_t0.5P       0.199770\n",
       "HitRate_t0.5R       0.215389\n",
       "HitRate_t3F         0.562199\n",
       "HitRate_t3P         0.563221\n",
       "HitRate_t3R         0.592823\n",
       "HitRate_w0.5F       0.271570\n",
       "HitRate_w3F         0.590745\n",
       "HitRate_wt0.5F      0.199327\n",
       "HitRate_wt3F        0.558988\n",
       "PWF                 0.547332\n",
       "PWP                 0.531303\n",
       "PWR                 0.597305\n",
       "Sf                  0.601901\n",
       "So                  0.635685\n",
       "Su                  0.585865\n",
       "ds_name           590.156643\n",
       "dtype: float64"
      ]
     },
     "execution_count": 4,
     "metadata": {},
     "output_type": "execute_result"
    }
   ],
   "source": [
    "ann_df = pd.read_csv(SEGMENTATION_RESULTS_ANNB)\n",
    "ann_df.mean()"
   ]
  },
  {
   "cell_type": "code",
   "execution_count": 17,
   "metadata": {},
   "outputs": [
    {
     "data": {
      "image/png": "[encoded data removed]",
      "text/plain": [
       "<Figure size 432x288 with 1 Axes>"
      ]
     },
     "metadata": {
      "needs_background": "light"
     },
     "output_type": "display_data"
    }
   ],
   "source": [
    "fig, ax = plt.subplots()\n",
    "\n",
    "c1 = \"turquoise\"\n",
    "box1 = ax.boxplot((librosa_df[\"HitRate_0.5F\"], \n",
    "             librosa_df[\"HitRate_3F\"],\n",
    "             librosa_df[\"PWF\"], \n",
    "             librosa_df[\"Sf\"]),\n",
    "            positions=[1, 5, 9, 13],\n",
    "            notch=True, patch_artist=True,\n",
    "            boxprops=dict(facecolor=c1, color=\"purple\"),\n",
    "            capprops=dict(color=c1),\n",
    "            whiskerprops=dict(color=c1),\n",
    "            flierprops=dict(color=c1, markeredgecolor=c1),\n",
    "            medianprops=dict(color=c1))\n",
    "\n",
    "c2 = \"orchid\"\n",
    "box2 = ax.boxplot((kwski_df[\"HitRate_0.5F\"], \n",
    "             kwski_df[\"HitRate_3F\"],\n",
    "             kwski_df[\"PWF\"], \n",
    "             kwski_df[\"Sf\"]),\n",
    "            positions=[2, 6, 10, 14],\n",
    "            notch=True, patch_artist=True,\n",
    "            boxprops=dict(facecolor=c2, color=\"purple\"),\n",
    "            capprops=dict(color=c2),\n",
    "            whiskerprops=dict(color=c2),\n",
    "            flierprops=dict(color=c2, markeredgecolor=c2),\n",
    "            medianprops=dict(color=c2))\n",
    "\n",
    "c3 = \"purple\"\n",
    "box3 = ax.boxplot((ann_df[\"HitRate_0.5F\"], \n",
    "             ann_df[\"HitRate_3F\"],\n",
    "             ann_df[\"PWF\"], \n",
    "             ann_df[\"Sf\"]),\n",
    "            positions=[3, 7, 11, 15],\n",
    "            notch=True, patch_artist=True,\n",
    "            boxprops=dict(facecolor=c3, color=c3),\n",
    "            capprops=dict(color=c3),\n",
    "            whiskerprops=dict(color=c3),\n",
    "            flierprops=dict(color=c3, markeredgecolor=c3),\n",
    "            medianprops=dict(color=c3))\n",
    "for item in ['boxes', 'whiskers', 'fliers', 'medians', 'caps']:\n",
    "    plt.setp(box3[item], color=c3)\n",
    "plt.setp(box3[\"boxes\"], facecolor=c3)\n",
    "plt.setp(box3[\"fliers\"], markeredgecolor=c3)\n",
    "\n",
    "ax.legend([box1[\"boxes\"][0], box2[\"boxes\"][0], box3[\"boxes\"][0]], \n",
    "          ['Librosa Beats', 'Korzeniowski Beats', 'Annotated Beats'], \n",
    "          loc='lower right')\n",
    "\n",
    "plt.xticks([2, 6, 10, 14], [\"Hit Rate@0.5\", \"Hit Rate@3\", \"Pairwise Clust.\", \"Entropy Scores\"])\n",
    "plt.xlim(0, 16)\n",
    "plt.ylim(-0.05, 1)\n",
    "\n",
    "plt.ylabel(\"F-measures\")\n",
    "plt.tight_layout()\n",
    "plt.savefig(\"../paper/figs/segment_results.pdf\")"
   ]
  },
  {
   "cell_type": "code",
   "execution_count": null,
   "metadata": {
    "collapsed": true
   },
   "outputs": [],
   "source": []
  }
 ],
 "metadata": {
  "kernelspec": {
   "display_name": "Python 3",
   "language": "python",
   "name": "python3"
  },
  "language_info": {
   "codemirror_mode": {
    "name": "ipython",
    "version": 3
   },
   "file_extension": ".py",
   "mimetype": "text/x-python",
   "name": "python",
   "nbconvert_exporter": "python",
   "pygments_lexer": "ipython3",
   "version": "3.7.0"
  }
 },
 "nbformat": 4,
 "nbformat_minor": 2
}
